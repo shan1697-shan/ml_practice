{
 "cells": [
  {
   "cell_type": "markdown",
   "metadata": {},
   "source": [
    "___\n",
    "\n",
    "<a href='http://www.pieriandata.com'> <img src='../Pierian_Data_Logo.png' /></a>\n",
    "___\n",
    "# Plotly and Cufflinks"
   ]
  },
  {
   "cell_type": "markdown",
   "metadata": {},
   "source": [
    "Plotly is a library that allows you to create interactive plots that you can use in dashboards or websites (you can save them as html files or static images).\n",
    "\n",
    "## Installation\n",
    "\n",
    "In order for this all to work, you'll need to install plotly and cufflinks to call plots directly off of a pandas dataframe. These libraries are not currently available through **conda** but are available through **pip**. Install the libraries at your command line/terminal using:\n",
    "\n",
    "    pip install plotly\n",
    "    pip install cufflinks\n",
    "\n",
    "** NOTE: Make sure you only have one installation of Python on your computer when you do this, otherwise the installation may not work. **\n",
    "\n",
    "## Imports and Set-up"
   ]
  },
  {
   "cell_type": "code",
   "execution_count": 1,
   "metadata": {},
   "outputs": [],
   "source": [
    "import pandas as pd\n",
    "import numpy as np\n",
    "%matplotlib inline"
   ]
  },
  {
   "cell_type": "code",
   "execution_count": 2,
   "metadata": {},
   "outputs": [
    {
     "name": "stdout",
     "output_type": "stream",
     "text": [
      "5.10.0\n"
     ]
    }
   ],
   "source": [
    "from plotly import __version__\n",
    "from plotly.offline import download_plotlyjs, init_notebook_mode, plot, iplot\n",
    "\n",
    "print(__version__) # requires version >= 1.9.0"
   ]
  },
  {
   "cell_type": "code",
   "execution_count": 3,
   "metadata": {},
   "outputs": [],
   "source": [
    "import cufflinks as cf"
   ]
  },
  {
   "cell_type": "code",
   "execution_count": 4,
   "metadata": {},
   "outputs": [
    {
     "data": {
      "text/html": [
       "        <script type=\"text/javascript\">\n",
       "        window.PlotlyConfig = {MathJaxConfig: 'local'};\n",
       "        if (window.MathJax && window.MathJax.Hub && window.MathJax.Hub.Config) {window.MathJax.Hub.Config({SVG: {font: \"STIX-Web\"}});}\n",
       "        if (typeof require !== 'undefined') {\n",
       "        require.undef(\"plotly\");\n",
       "        requirejs.config({\n",
       "            paths: {\n",
       "                'plotly': ['https://cdn.plot.ly/plotly-2.14.0.min']\n",
       "            }\n",
       "        });\n",
       "        require(['plotly'], function(Plotly) {\n",
       "            window._Plotly = Plotly;\n",
       "        });\n",
       "        }\n",
       "        </script>\n",
       "        "
      ]
     },
     "metadata": {},
     "output_type": "display_data"
    }
   ],
   "source": [
    "# For Notebooks\n",
    "init_notebook_mode(connected=True)"
   ]
  },
  {
   "cell_type": "code",
   "execution_count": 5,
   "metadata": {},
   "outputs": [
    {
     "data": {
      "text/html": [
       "        <script type=\"text/javascript\">\n",
       "        window.PlotlyConfig = {MathJaxConfig: 'local'};\n",
       "        if (window.MathJax && window.MathJax.Hub && window.MathJax.Hub.Config) {window.MathJax.Hub.Config({SVG: {font: \"STIX-Web\"}});}\n",
       "        if (typeof require !== 'undefined') {\n",
       "        require.undef(\"plotly\");\n",
       "        requirejs.config({\n",
       "            paths: {\n",
       "                'plotly': ['https://cdn.plot.ly/plotly-2.14.0.min']\n",
       "            }\n",
       "        });\n",
       "        require(['plotly'], function(Plotly) {\n",
       "            window._Plotly = Plotly;\n",
       "        });\n",
       "        }\n",
       "        </script>\n",
       "        "
      ]
     },
     "metadata": {},
     "output_type": "display_data"
    }
   ],
   "source": [
    "# For offline use\n",
    "cf.go_offline()"
   ]
  },
  {
   "cell_type": "markdown",
   "metadata": {},
   "source": [
    "### Fake Data"
   ]
  },
  {
   "cell_type": "code",
   "execution_count": 6,
   "metadata": {},
   "outputs": [],
   "source": [
    "df = pd.DataFrame(np.random.randn(100,4),columns='A B C D'.split())"
   ]
  },
  {
   "cell_type": "code",
   "execution_count": 7,
   "metadata": {},
   "outputs": [
    {
     "data": {
      "text/html": [
       "<div>\n",
       "<style scoped>\n",
       "    .dataframe tbody tr th:only-of-type {\n",
       "        vertical-align: middle;\n",
       "    }\n",
       "\n",
       "    .dataframe tbody tr th {\n",
       "        vertical-align: top;\n",
       "    }\n",
       "\n",
       "    .dataframe thead th {\n",
       "        text-align: right;\n",
       "    }\n",
       "</style>\n",
       "<table border=\"1\" class=\"dataframe\">\n",
       "  <thead>\n",
       "    <tr style=\"text-align: right;\">\n",
       "      <th></th>\n",
       "      <th>A</th>\n",
       "      <th>B</th>\n",
       "      <th>C</th>\n",
       "      <th>D</th>\n",
       "    </tr>\n",
       "  </thead>\n",
       "  <tbody>\n",
       "    <tr>\n",
       "      <th>0</th>\n",
       "      <td>-0.074560</td>\n",
       "      <td>0.206959</td>\n",
       "      <td>-1.081270</td>\n",
       "      <td>-0.853046</td>\n",
       "    </tr>\n",
       "    <tr>\n",
       "      <th>1</th>\n",
       "      <td>0.106846</td>\n",
       "      <td>2.226714</td>\n",
       "      <td>1.499425</td>\n",
       "      <td>-0.977721</td>\n",
       "    </tr>\n",
       "    <tr>\n",
       "      <th>2</th>\n",
       "      <td>0.051744</td>\n",
       "      <td>2.060671</td>\n",
       "      <td>-0.311979</td>\n",
       "      <td>0.367120</td>\n",
       "    </tr>\n",
       "    <tr>\n",
       "      <th>3</th>\n",
       "      <td>1.883458</td>\n",
       "      <td>-0.477514</td>\n",
       "      <td>-0.570045</td>\n",
       "      <td>0.786307</td>\n",
       "    </tr>\n",
       "    <tr>\n",
       "      <th>4</th>\n",
       "      <td>-0.739487</td>\n",
       "      <td>-0.826600</td>\n",
       "      <td>-0.807024</td>\n",
       "      <td>-1.025386</td>\n",
       "    </tr>\n",
       "  </tbody>\n",
       "</table>\n",
       "</div>"
      ],
      "text/plain": [
       "          A         B         C         D\n",
       "0 -0.074560  0.206959 -1.081270 -0.853046\n",
       "1  0.106846  2.226714  1.499425 -0.977721\n",
       "2  0.051744  2.060671 -0.311979  0.367120\n",
       "3  1.883458 -0.477514 -0.570045  0.786307\n",
       "4 -0.739487 -0.826600 -0.807024 -1.025386"
      ]
     },
     "execution_count": 7,
     "metadata": {},
     "output_type": "execute_result"
    }
   ],
   "source": [
    "df.head()"
   ]
  },
  {
   "cell_type": "code",
   "execution_count": 8,
   "metadata": {},
   "outputs": [],
   "source": [
    "df2 = pd.DataFrame({'Category':['A','B','C'],'Values':[32,43,50]})"
   ]
  },
  {
   "cell_type": "code",
   "execution_count": 9,
   "metadata": {},
   "outputs": [
    {
     "data": {
      "text/html": [
       "<div>\n",
       "<style scoped>\n",
       "    .dataframe tbody tr th:only-of-type {\n",
       "        vertical-align: middle;\n",
       "    }\n",
       "\n",
       "    .dataframe tbody tr th {\n",
       "        vertical-align: top;\n",
       "    }\n",
       "\n",
       "    .dataframe thead th {\n",
       "        text-align: right;\n",
       "    }\n",
       "</style>\n",
       "<table border=\"1\" class=\"dataframe\">\n",
       "  <thead>\n",
       "    <tr style=\"text-align: right;\">\n",
       "      <th></th>\n",
       "      <th>Category</th>\n",
       "      <th>Values</th>\n",
       "    </tr>\n",
       "  </thead>\n",
       "  <tbody>\n",
       "    <tr>\n",
       "      <th>0</th>\n",
       "      <td>A</td>\n",
       "      <td>32</td>\n",
       "    </tr>\n",
       "    <tr>\n",
       "      <th>1</th>\n",
       "      <td>B</td>\n",
       "      <td>43</td>\n",
       "    </tr>\n",
       "    <tr>\n",
       "      <th>2</th>\n",
       "      <td>C</td>\n",
       "      <td>50</td>\n",
       "    </tr>\n",
       "  </tbody>\n",
       "</table>\n",
       "</div>"
      ],
      "text/plain": [
       "  Category  Values\n",
       "0        A      32\n",
       "1        B      43\n",
       "2        C      50"
      ]
     },
     "execution_count": 9,
     "metadata": {},
     "output_type": "execute_result"
    }
   ],
   "source": [
    "df2.head()"
   ]
  },
  {
   "cell_type": "markdown",
   "metadata": {},
   "source": [
    "## Using Cufflinks and iplot()\n",
    "\n",
    "* scatter\n",
    "* bar\n",
    "* box\n",
    "* spread\n",
    "* ratio\n",
    "* heatmap\n",
    "* surface\n",
    "* histogram\n",
    "* bubble"
   ]
  },
  {
   "cell_type": "markdown",
   "metadata": {},
   "source": [
    "## Scatter"
   ]
  },
  {
   "cell_type": "code",
   "execution_count": 18,
   "metadata": {},
   "outputs": [
    {
     "data": {
      "application/vnd.plotly.v1+json": {
       "config": {
        "linkText": "Export to plot.ly",
        "plotlyServerURL": "https://plot.ly",
        "showLink": true
       },
       "data": [
        {
         "line": {
          "color": "rgba(255, 153, 51, 1.0)",
          "dash": "solid",
          "shape": "linear",
          "width": 1.3
         },
         "marker": {
          "size": 10,
          "symbol": "circle"
         },
         "mode": "markers",
         "name": "B",
         "text": "",
         "type": "scatter",
         "x": [
          -0.07455973164460492,
          0.10684607028138204,
          0.05174438274182425,
          1.8834582400552635,
          -0.7394873566653477,
          -0.20509986347008477,
          -0.03414545421950641,
          -0.6213525131646722,
          0.571263033821104,
          1.180464181279357,
          -0.203734605785186,
          0.7347661916372418,
          0.2859474736202656,
          0.04076517450424396,
          -0.9575891661839521,
          -1.4309383761629788,
          2.2550368651025283,
          -0.9940639812563287,
          0.799337873179283,
          -1.257878293181983,
          0.4179499111762863,
          0.3002148423464334,
          -1.1504058019430792,
          0.08143088735081103,
          0.48039194150290004,
          -0.6650657342765216,
          1.1156620567673445,
          1.6819828126747252,
          0.3100427456611766,
          -0.35556202725992564,
          0.5734972173901176,
          0.32590737332398945,
          0.26434526538445485,
          -0.28767952859901297,
          0.46220729582394343,
          -0.5818941295153186,
          1.285059720736958,
          1.5048915259613318,
          -0.6639248043990625,
          0.7636007895359088,
          -0.6463548675362586,
          0.4119553800931602,
          -0.41800965879757407,
          -0.9291745756491012,
          0.5941812800033995,
          0.6495415877446266,
          0.1446736681969964,
          0.26828186676311594,
          0.13889888661810415,
          -0.6067198644564883,
          -0.5830985850290649,
          -0.44261895162747866,
          -0.16593121692532206,
          1.5766366939770549,
          -0.9488282786185461,
          -0.47334557392170873,
          -2.9681775620277215,
          -0.25029734336535486,
          -1.1711717647996238,
          -0.6639685633213962,
          -1.5666336819385447,
          -0.8675551693083899,
          0.9365429397079991,
          0.15072665081471726,
          1.1852234520751472,
          -0.08290956220307087,
          -1.1017174229562567,
          -0.5198271089769748,
          0.37018057099191115,
          0.6484073753005931,
          -0.1590182089390411,
          -1.2123900485249766,
          -0.2362259963300999,
          -0.9316538839457773,
          -0.7702588740652273,
          1.4701363779831127,
          1.7874391009354653,
          0.24616432107668124,
          -1.182643305480476,
          0.35443322915141356,
          -0.4842531774514151,
          -0.44909134669233536,
          -0.5668275896818619,
          0.4175639632896596,
          -1.2611360990304046,
          -0.008206696883240246,
          -0.10979708777038237,
          0.49243560590286795,
          0.8213310947530663,
          -0.267726403403628,
          -1.2515625109561188,
          0.630999102938369,
          0.1713145260658875,
          -1.3560217445320064,
          -1.1258620552644414,
          1.095337440779493,
          1.7240614552766635,
          0.18149760823613265,
          -0.33113981029074463,
          -0.7243911418227783
         ],
         "y": [
          0.20695886201338964,
          2.2267140798834366,
          2.0606705606804248,
          -0.47751358803428084,
          -0.8265999208195308,
          0.3683847538936354,
          -0.9215058882049292,
          0.2010981971926559,
          -2.612024672660992,
          1.994860248642683,
          0.6474845780135272,
          -1.4695376336420343,
          0.25329507946952484,
          -0.8847748430992944,
          0.01108872266051941,
          -1.1635524981707588,
          -0.16334248185299458,
          0.37081708914041467,
          -0.3744953167142966,
          0.25997366036222974,
          0.6587716974050809,
          -1.153664670868084,
          -1.697491236131132,
          0.7995087387377215,
          1.051287349057648,
          0.26519966512043014,
          0.16665172934102204,
          -0.9207235935854554,
          0.19392919045612925,
          0.30514185806513633,
          1.153170562731266,
          0.6444165797703777,
          0.10095403561272143,
          -1.3779799142755011,
          1.0886785013466902,
          0.4207240802224743,
          1.1386223070602004,
          -0.41875441978934674,
          1.1045931338539758,
          0.6514247563808732,
          -1.5404052766834295,
          -0.07015676241255123,
          0.34211903144043065,
          -0.18534612927812716,
          -1.8520443646410083,
          1.4319920389190104,
          1.1387925527034235,
          0.2698880956788044,
          0.1878047757021268,
          1.7741986146424833,
          0.22768156026066996,
          -0.20014286651396568,
          2.059179137491171,
          0.35223369637447816,
          0.05263010640213276,
          1.7322067881044543,
          -0.7745478394440942,
          2.0680320286556824,
          -0.6321155047266144,
          1.2659416243146926,
          0.4722821822143342,
          1.642169097988724,
          -1.7521377798815267,
          0.3727959530975647,
          -1.965263310446799,
          -1.0712504506589524,
          0.5342752099185382,
          -1.1298074723535294,
          -0.5580156206841335,
          0.823614953289078,
          -0.5479781763338187,
          -1.6514759368126157,
          -0.2328958270228804,
          1.4625741873716016,
          0.3342124737309676,
          1.3772224066244865,
          0.20175951418821808,
          0.2501868306006938,
          0.32303507776168344,
          0.5721589323589801,
          -1.3176653867942356,
          0.2393598296204175,
          0.929162936792238,
          0.43767400300848264,
          -0.08169926569148139,
          0.4789983045336972,
          -0.5059754539470817,
          0.46797344213078973,
          -0.7757631159400264,
          -1.4756298170780817,
          1.1509293631614974,
          0.6429496420266005,
          -0.4212609077669692,
          -0.4359617643911458,
          0.6020198623608694,
          -1.0543687019171408,
          -1.2676827628690235,
          0.14146548854024957,
          -0.5593082511505357,
          0.3558988051040138
         ]
        }
       ],
       "layout": {
        "legend": {
         "bgcolor": "#F5F6F9",
         "font": {
          "color": "#4D5663"
         }
        },
        "paper_bgcolor": "#F5F6F9",
        "plot_bgcolor": "#F5F6F9",
        "template": {
         "data": {
          "bar": [
           {
            "error_x": {
             "color": "#2a3f5f"
            },
            "error_y": {
             "color": "#2a3f5f"
            },
            "marker": {
             "line": {
              "color": "#E5ECF6",
              "width": 0.5
             },
             "pattern": {
              "fillmode": "overlay",
              "size": 10,
              "solidity": 0.2
             }
            },
            "type": "bar"
           }
          ],
          "barpolar": [
           {
            "marker": {
             "line": {
              "color": "#E5ECF6",
              "width": 0.5
             },
             "pattern": {
              "fillmode": "overlay",
              "size": 10,
              "solidity": 0.2
             }
            },
            "type": "barpolar"
           }
          ],
          "carpet": [
           {
            "aaxis": {
             "endlinecolor": "#2a3f5f",
             "gridcolor": "white",
             "linecolor": "white",
             "minorgridcolor": "white",
             "startlinecolor": "#2a3f5f"
            },
            "baxis": {
             "endlinecolor": "#2a3f5f",
             "gridcolor": "white",
             "linecolor": "white",
             "minorgridcolor": "white",
             "startlinecolor": "#2a3f5f"
            },
            "type": "carpet"
           }
          ],
          "choropleth": [
           {
            "colorbar": {
             "outlinewidth": 0,
             "ticks": ""
            },
            "type": "choropleth"
           }
          ],
          "contour": [
           {
            "colorbar": {
             "outlinewidth": 0,
             "ticks": ""
            },
            "colorscale": [
             [
              0,
              "#0d0887"
             ],
             [
              0.1111111111111111,
              "#46039f"
             ],
             [
              0.2222222222222222,
              "#7201a8"
             ],
             [
              0.3333333333333333,
              "#9c179e"
             ],
             [
              0.4444444444444444,
              "#bd3786"
             ],
             [
              0.5555555555555556,
              "#d8576b"
             ],
             [
              0.6666666666666666,
              "#ed7953"
             ],
             [
              0.7777777777777778,
              "#fb9f3a"
             ],
             [
              0.8888888888888888,
              "#fdca26"
             ],
             [
              1,
              "#f0f921"
             ]
            ],
            "type": "contour"
           }
          ],
          "contourcarpet": [
           {
            "colorbar": {
             "outlinewidth": 0,
             "ticks": ""
            },
            "type": "contourcarpet"
           }
          ],
          "heatmap": [
           {
            "colorbar": {
             "outlinewidth": 0,
             "ticks": ""
            },
            "colorscale": [
             [
              0,
              "#0d0887"
             ],
             [
              0.1111111111111111,
              "#46039f"
             ],
             [
              0.2222222222222222,
              "#7201a8"
             ],
             [
              0.3333333333333333,
              "#9c179e"
             ],
             [
              0.4444444444444444,
              "#bd3786"
             ],
             [
              0.5555555555555556,
              "#d8576b"
             ],
             [
              0.6666666666666666,
              "#ed7953"
             ],
             [
              0.7777777777777778,
              "#fb9f3a"
             ],
             [
              0.8888888888888888,
              "#fdca26"
             ],
             [
              1,
              "#f0f921"
             ]
            ],
            "type": "heatmap"
           }
          ],
          "heatmapgl": [
           {
            "colorbar": {
             "outlinewidth": 0,
             "ticks": ""
            },
            "colorscale": [
             [
              0,
              "#0d0887"
             ],
             [
              0.1111111111111111,
              "#46039f"
             ],
             [
              0.2222222222222222,
              "#7201a8"
             ],
             [
              0.3333333333333333,
              "#9c179e"
             ],
             [
              0.4444444444444444,
              "#bd3786"
             ],
             [
              0.5555555555555556,
              "#d8576b"
             ],
             [
              0.6666666666666666,
              "#ed7953"
             ],
             [
              0.7777777777777778,
              "#fb9f3a"
             ],
             [
              0.8888888888888888,
              "#fdca26"
             ],
             [
              1,
              "#f0f921"
             ]
            ],
            "type": "heatmapgl"
           }
          ],
          "histogram": [
           {
            "marker": {
             "pattern": {
              "fillmode": "overlay",
              "size": 10,
              "solidity": 0.2
             }
            },
            "type": "histogram"
           }
          ],
          "histogram2d": [
           {
            "colorbar": {
             "outlinewidth": 0,
             "ticks": ""
            },
            "colorscale": [
             [
              0,
              "#0d0887"
             ],
             [
              0.1111111111111111,
              "#46039f"
             ],
             [
              0.2222222222222222,
              "#7201a8"
             ],
             [
              0.3333333333333333,
              "#9c179e"
             ],
             [
              0.4444444444444444,
              "#bd3786"
             ],
             [
              0.5555555555555556,
              "#d8576b"
             ],
             [
              0.6666666666666666,
              "#ed7953"
             ],
             [
              0.7777777777777778,
              "#fb9f3a"
             ],
             [
              0.8888888888888888,
              "#fdca26"
             ],
             [
              1,
              "#f0f921"
             ]
            ],
            "type": "histogram2d"
           }
          ],
          "histogram2dcontour": [
           {
            "colorbar": {
             "outlinewidth": 0,
             "ticks": ""
            },
            "colorscale": [
             [
              0,
              "#0d0887"
             ],
             [
              0.1111111111111111,
              "#46039f"
             ],
             [
              0.2222222222222222,
              "#7201a8"
             ],
             [
              0.3333333333333333,
              "#9c179e"
             ],
             [
              0.4444444444444444,
              "#bd3786"
             ],
             [
              0.5555555555555556,
              "#d8576b"
             ],
             [
              0.6666666666666666,
              "#ed7953"
             ],
             [
              0.7777777777777778,
              "#fb9f3a"
             ],
             [
              0.8888888888888888,
              "#fdca26"
             ],
             [
              1,
              "#f0f921"
             ]
            ],
            "type": "histogram2dcontour"
           }
          ],
          "mesh3d": [
           {
            "colorbar": {
             "outlinewidth": 0,
             "ticks": ""
            },
            "type": "mesh3d"
           }
          ],
          "parcoords": [
           {
            "line": {
             "colorbar": {
              "outlinewidth": 0,
              "ticks": ""
             }
            },
            "type": "parcoords"
           }
          ],
          "pie": [
           {
            "automargin": true,
            "type": "pie"
           }
          ],
          "scatter": [
           {
            "fillpattern": {
             "fillmode": "overlay",
             "size": 10,
             "solidity": 0.2
            },
            "type": "scatter"
           }
          ],
          "scatter3d": [
           {
            "line": {
             "colorbar": {
              "outlinewidth": 0,
              "ticks": ""
             }
            },
            "marker": {
             "colorbar": {
              "outlinewidth": 0,
              "ticks": ""
             }
            },
            "type": "scatter3d"
           }
          ],
          "scattercarpet": [
           {
            "marker": {
             "colorbar": {
              "outlinewidth": 0,
              "ticks": ""
             }
            },
            "type": "scattercarpet"
           }
          ],
          "scattergeo": [
           {
            "marker": {
             "colorbar": {
              "outlinewidth": 0,
              "ticks": ""
             }
            },
            "type": "scattergeo"
           }
          ],
          "scattergl": [
           {
            "marker": {
             "colorbar": {
              "outlinewidth": 0,
              "ticks": ""
             }
            },
            "type": "scattergl"
           }
          ],
          "scattermapbox": [
           {
            "marker": {
             "colorbar": {
              "outlinewidth": 0,
              "ticks": ""
             }
            },
            "type": "scattermapbox"
           }
          ],
          "scatterpolar": [
           {
            "marker": {
             "colorbar": {
              "outlinewidth": 0,
              "ticks": ""
             }
            },
            "type": "scatterpolar"
           }
          ],
          "scatterpolargl": [
           {
            "marker": {
             "colorbar": {
              "outlinewidth": 0,
              "ticks": ""
             }
            },
            "type": "scatterpolargl"
           }
          ],
          "scatterternary": [
           {
            "marker": {
             "colorbar": {
              "outlinewidth": 0,
              "ticks": ""
             }
            },
            "type": "scatterternary"
           }
          ],
          "surface": [
           {
            "colorbar": {
             "outlinewidth": 0,
             "ticks": ""
            },
            "colorscale": [
             [
              0,
              "#0d0887"
             ],
             [
              0.1111111111111111,
              "#46039f"
             ],
             [
              0.2222222222222222,
              "#7201a8"
             ],
             [
              0.3333333333333333,
              "#9c179e"
             ],
             [
              0.4444444444444444,
              "#bd3786"
             ],
             [
              0.5555555555555556,
              "#d8576b"
             ],
             [
              0.6666666666666666,
              "#ed7953"
             ],
             [
              0.7777777777777778,
              "#fb9f3a"
             ],
             [
              0.8888888888888888,
              "#fdca26"
             ],
             [
              1,
              "#f0f921"
             ]
            ],
            "type": "surface"
           }
          ],
          "table": [
           {
            "cells": {
             "fill": {
              "color": "#EBF0F8"
             },
             "line": {
              "color": "white"
             }
            },
            "header": {
             "fill": {
              "color": "#C8D4E3"
             },
             "line": {
              "color": "white"
             }
            },
            "type": "table"
           }
          ]
         },
         "layout": {
          "annotationdefaults": {
           "arrowcolor": "#2a3f5f",
           "arrowhead": 0,
           "arrowwidth": 1
          },
          "autotypenumbers": "strict",
          "coloraxis": {
           "colorbar": {
            "outlinewidth": 0,
            "ticks": ""
           }
          },
          "colorscale": {
           "diverging": [
            [
             0,
             "#8e0152"
            ],
            [
             0.1,
             "#c51b7d"
            ],
            [
             0.2,
             "#de77ae"
            ],
            [
             0.3,
             "#f1b6da"
            ],
            [
             0.4,
             "#fde0ef"
            ],
            [
             0.5,
             "#f7f7f7"
            ],
            [
             0.6,
             "#e6f5d0"
            ],
            [
             0.7,
             "#b8e186"
            ],
            [
             0.8,
             "#7fbc41"
            ],
            [
             0.9,
             "#4d9221"
            ],
            [
             1,
             "#276419"
            ]
           ],
           "sequential": [
            [
             0,
             "#0d0887"
            ],
            [
             0.1111111111111111,
             "#46039f"
            ],
            [
             0.2222222222222222,
             "#7201a8"
            ],
            [
             0.3333333333333333,
             "#9c179e"
            ],
            [
             0.4444444444444444,
             "#bd3786"
            ],
            [
             0.5555555555555556,
             "#d8576b"
            ],
            [
             0.6666666666666666,
             "#ed7953"
            ],
            [
             0.7777777777777778,
             "#fb9f3a"
            ],
            [
             0.8888888888888888,
             "#fdca26"
            ],
            [
             1,
             "#f0f921"
            ]
           ],
           "sequentialminus": [
            [
             0,
             "#0d0887"
            ],
            [
             0.1111111111111111,
             "#46039f"
            ],
            [
             0.2222222222222222,
             "#7201a8"
            ],
            [
             0.3333333333333333,
             "#9c179e"
            ],
            [
             0.4444444444444444,
             "#bd3786"
            ],
            [
             0.5555555555555556,
             "#d8576b"
            ],
            [
             0.6666666666666666,
             "#ed7953"
            ],
            [
             0.7777777777777778,
             "#fb9f3a"
            ],
            [
             0.8888888888888888,
             "#fdca26"
            ],
            [
             1,
             "#f0f921"
            ]
           ]
          },
          "colorway": [
           "#636efa",
           "#EF553B",
           "#00cc96",
           "#ab63fa",
           "#FFA15A",
           "#19d3f3",
           "#FF6692",
           "#B6E880",
           "#FF97FF",
           "#FECB52"
          ],
          "font": {
           "color": "#2a3f5f"
          },
          "geo": {
           "bgcolor": "white",
           "lakecolor": "white",
           "landcolor": "#E5ECF6",
           "showlakes": true,
           "showland": true,
           "subunitcolor": "white"
          },
          "hoverlabel": {
           "align": "left"
          },
          "hovermode": "closest",
          "mapbox": {
           "style": "light"
          },
          "paper_bgcolor": "white",
          "plot_bgcolor": "#E5ECF6",
          "polar": {
           "angularaxis": {
            "gridcolor": "white",
            "linecolor": "white",
            "ticks": ""
           },
           "bgcolor": "#E5ECF6",
           "radialaxis": {
            "gridcolor": "white",
            "linecolor": "white",
            "ticks": ""
           }
          },
          "scene": {
           "xaxis": {
            "backgroundcolor": "#E5ECF6",
            "gridcolor": "white",
            "gridwidth": 2,
            "linecolor": "white",
            "showbackground": true,
            "ticks": "",
            "zerolinecolor": "white"
           },
           "yaxis": {
            "backgroundcolor": "#E5ECF6",
            "gridcolor": "white",
            "gridwidth": 2,
            "linecolor": "white",
            "showbackground": true,
            "ticks": "",
            "zerolinecolor": "white"
           },
           "zaxis": {
            "backgroundcolor": "#E5ECF6",
            "gridcolor": "white",
            "gridwidth": 2,
            "linecolor": "white",
            "showbackground": true,
            "ticks": "",
            "zerolinecolor": "white"
           }
          },
          "shapedefaults": {
           "line": {
            "color": "#2a3f5f"
           }
          },
          "ternary": {
           "aaxis": {
            "gridcolor": "white",
            "linecolor": "white",
            "ticks": ""
           },
           "baxis": {
            "gridcolor": "white",
            "linecolor": "white",
            "ticks": ""
           },
           "bgcolor": "#E5ECF6",
           "caxis": {
            "gridcolor": "white",
            "linecolor": "white",
            "ticks": ""
           }
          },
          "title": {
           "x": 0.05
          },
          "xaxis": {
           "automargin": true,
           "gridcolor": "white",
           "linecolor": "white",
           "ticks": "",
           "title": {
            "standoff": 15
           },
           "zerolinecolor": "white",
           "zerolinewidth": 2
          },
          "yaxis": {
           "automargin": true,
           "gridcolor": "white",
           "linecolor": "white",
           "ticks": "",
           "title": {
            "standoff": 15
           },
           "zerolinecolor": "white",
           "zerolinewidth": 2
          }
         }
        },
        "title": {
         "font": {
          "color": "#4D5663"
         }
        },
        "xaxis": {
         "gridcolor": "#E1E5ED",
         "showgrid": true,
         "tickfont": {
          "color": "#4D5663"
         },
         "title": {
          "font": {
           "color": "#4D5663"
          },
          "text": ""
         },
         "zerolinecolor": "#E1E5ED"
        },
        "yaxis": {
         "gridcolor": "#E1E5ED",
         "showgrid": true,
         "tickfont": {
          "color": "#4D5663"
         },
         "title": {
          "font": {
           "color": "#4D5663"
          },
          "text": ""
         },
         "zerolinecolor": "#E1E5ED"
        }
       }
      },
      "text/html": [
       "<div>                            <div id=\"c51f5134-7a3a-4f06-b064-8f2683224d8e\" class=\"plotly-graph-div\" style=\"height:525px; width:100%;\"></div>            <script type=\"text/javascript\">                require([\"plotly\"], function(Plotly) {                    window.PLOTLYENV=window.PLOTLYENV || {};\n",
       "                    window.PLOTLYENV.BASE_URL='https://plot.ly';                                    if (document.getElementById(\"c51f5134-7a3a-4f06-b064-8f2683224d8e\")) {                    Plotly.newPlot(                        \"c51f5134-7a3a-4f06-b064-8f2683224d8e\",                        [{\"line\":{\"color\":\"rgba(255, 153, 51, 1.0)\",\"dash\":\"solid\",\"shape\":\"linear\",\"width\":1.3},\"marker\":{\"size\":10,\"symbol\":\"circle\"},\"mode\":\"markers\",\"name\":\"B\",\"text\":\"\",\"x\":[-0.07455973164460492,0.10684607028138204,0.05174438274182425,1.8834582400552635,-0.7394873566653477,-0.20509986347008477,-0.03414545421950641,-0.6213525131646722,0.571263033821104,1.180464181279357,-0.203734605785186,0.7347661916372418,0.2859474736202656,0.04076517450424396,-0.9575891661839521,-1.4309383761629788,2.2550368651025283,-0.9940639812563287,0.799337873179283,-1.257878293181983,0.4179499111762863,0.3002148423464334,-1.1504058019430792,0.08143088735081103,0.48039194150290004,-0.6650657342765216,1.1156620567673445,1.6819828126747252,0.3100427456611766,-0.35556202725992564,0.5734972173901176,0.32590737332398945,0.26434526538445485,-0.28767952859901297,0.46220729582394343,-0.5818941295153186,1.285059720736958,1.5048915259613318,-0.6639248043990625,0.7636007895359088,-0.6463548675362586,0.4119553800931602,-0.41800965879757407,-0.9291745756491012,0.5941812800033995,0.6495415877446266,0.1446736681969964,0.26828186676311594,0.13889888661810415,-0.6067198644564883,-0.5830985850290649,-0.44261895162747866,-0.16593121692532206,1.5766366939770549,-0.9488282786185461,-0.47334557392170873,-2.9681775620277215,-0.25029734336535486,-1.1711717647996238,-0.6639685633213962,-1.5666336819385447,-0.8675551693083899,0.9365429397079991,0.15072665081471726,1.1852234520751472,-0.08290956220307087,-1.1017174229562567,-0.5198271089769748,0.37018057099191115,0.6484073753005931,-0.1590182089390411,-1.2123900485249766,-0.2362259963300999,-0.9316538839457773,-0.7702588740652273,1.4701363779831127,1.7874391009354653,0.24616432107668124,-1.182643305480476,0.35443322915141356,-0.4842531774514151,-0.44909134669233536,-0.5668275896818619,0.4175639632896596,-1.2611360990304046,-0.008206696883240246,-0.10979708777038237,0.49243560590286795,0.8213310947530663,-0.267726403403628,-1.2515625109561188,0.630999102938369,0.1713145260658875,-1.3560217445320064,-1.1258620552644414,1.095337440779493,1.7240614552766635,0.18149760823613265,-0.33113981029074463,-0.7243911418227783],\"y\":[0.20695886201338964,2.2267140798834366,2.0606705606804248,-0.47751358803428084,-0.8265999208195308,0.3683847538936354,-0.9215058882049292,0.2010981971926559,-2.612024672660992,1.994860248642683,0.6474845780135272,-1.4695376336420343,0.25329507946952484,-0.8847748430992944,0.01108872266051941,-1.1635524981707588,-0.16334248185299458,0.37081708914041467,-0.3744953167142966,0.25997366036222974,0.6587716974050809,-1.153664670868084,-1.697491236131132,0.7995087387377215,1.051287349057648,0.26519966512043014,0.16665172934102204,-0.9207235935854554,0.19392919045612925,0.30514185806513633,1.153170562731266,0.6444165797703777,0.10095403561272143,-1.3779799142755011,1.0886785013466902,0.4207240802224743,1.1386223070602004,-0.41875441978934674,1.1045931338539758,0.6514247563808732,-1.5404052766834295,-0.07015676241255123,0.34211903144043065,-0.18534612927812716,-1.8520443646410083,1.4319920389190104,1.1387925527034235,0.2698880956788044,0.1878047757021268,1.7741986146424833,0.22768156026066996,-0.20014286651396568,2.059179137491171,0.35223369637447816,0.05263010640213276,1.7322067881044543,-0.7745478394440942,2.0680320286556824,-0.6321155047266144,1.2659416243146926,0.4722821822143342,1.642169097988724,-1.7521377798815267,0.3727959530975647,-1.965263310446799,-1.0712504506589524,0.5342752099185382,-1.1298074723535294,-0.5580156206841335,0.823614953289078,-0.5479781763338187,-1.6514759368126157,-0.2328958270228804,1.4625741873716016,0.3342124737309676,1.3772224066244865,0.20175951418821808,0.2501868306006938,0.32303507776168344,0.5721589323589801,-1.3176653867942356,0.2393598296204175,0.929162936792238,0.43767400300848264,-0.08169926569148139,0.4789983045336972,-0.5059754539470817,0.46797344213078973,-0.7757631159400264,-1.4756298170780817,1.1509293631614974,0.6429496420266005,-0.4212609077669692,-0.4359617643911458,0.6020198623608694,-1.0543687019171408,-1.2676827628690235,0.14146548854024957,-0.5593082511505357,0.3558988051040138],\"type\":\"scatter\"}],                        {\"legend\":{\"bgcolor\":\"#F5F6F9\",\"font\":{\"color\":\"#4D5663\"}},\"paper_bgcolor\":\"#F5F6F9\",\"plot_bgcolor\":\"#F5F6F9\",\"template\":{\"data\":{\"barpolar\":[{\"marker\":{\"line\":{\"color\":\"#E5ECF6\",\"width\":0.5},\"pattern\":{\"fillmode\":\"overlay\",\"size\":10,\"solidity\":0.2}},\"type\":\"barpolar\"}],\"bar\":[{\"error_x\":{\"color\":\"#2a3f5f\"},\"error_y\":{\"color\":\"#2a3f5f\"},\"marker\":{\"line\":{\"color\":\"#E5ECF6\",\"width\":0.5},\"pattern\":{\"fillmode\":\"overlay\",\"size\":10,\"solidity\":0.2}},\"type\":\"bar\"}],\"carpet\":[{\"aaxis\":{\"endlinecolor\":\"#2a3f5f\",\"gridcolor\":\"white\",\"linecolor\":\"white\",\"minorgridcolor\":\"white\",\"startlinecolor\":\"#2a3f5f\"},\"baxis\":{\"endlinecolor\":\"#2a3f5f\",\"gridcolor\":\"white\",\"linecolor\":\"white\",\"minorgridcolor\":\"white\",\"startlinecolor\":\"#2a3f5f\"},\"type\":\"carpet\"}],\"choropleth\":[{\"colorbar\":{\"outlinewidth\":0,\"ticks\":\"\"},\"type\":\"choropleth\"}],\"contourcarpet\":[{\"colorbar\":{\"outlinewidth\":0,\"ticks\":\"\"},\"type\":\"contourcarpet\"}],\"contour\":[{\"colorbar\":{\"outlinewidth\":0,\"ticks\":\"\"},\"colorscale\":[[0.0,\"#0d0887\"],[0.1111111111111111,\"#46039f\"],[0.2222222222222222,\"#7201a8\"],[0.3333333333333333,\"#9c179e\"],[0.4444444444444444,\"#bd3786\"],[0.5555555555555556,\"#d8576b\"],[0.6666666666666666,\"#ed7953\"],[0.7777777777777778,\"#fb9f3a\"],[0.8888888888888888,\"#fdca26\"],[1.0,\"#f0f921\"]],\"type\":\"contour\"}],\"heatmapgl\":[{\"colorbar\":{\"outlinewidth\":0,\"ticks\":\"\"},\"colorscale\":[[0.0,\"#0d0887\"],[0.1111111111111111,\"#46039f\"],[0.2222222222222222,\"#7201a8\"],[0.3333333333333333,\"#9c179e\"],[0.4444444444444444,\"#bd3786\"],[0.5555555555555556,\"#d8576b\"],[0.6666666666666666,\"#ed7953\"],[0.7777777777777778,\"#fb9f3a\"],[0.8888888888888888,\"#fdca26\"],[1.0,\"#f0f921\"]],\"type\":\"heatmapgl\"}],\"heatmap\":[{\"colorbar\":{\"outlinewidth\":0,\"ticks\":\"\"},\"colorscale\":[[0.0,\"#0d0887\"],[0.1111111111111111,\"#46039f\"],[0.2222222222222222,\"#7201a8\"],[0.3333333333333333,\"#9c179e\"],[0.4444444444444444,\"#bd3786\"],[0.5555555555555556,\"#d8576b\"],[0.6666666666666666,\"#ed7953\"],[0.7777777777777778,\"#fb9f3a\"],[0.8888888888888888,\"#fdca26\"],[1.0,\"#f0f921\"]],\"type\":\"heatmap\"}],\"histogram2dcontour\":[{\"colorbar\":{\"outlinewidth\":0,\"ticks\":\"\"},\"colorscale\":[[0.0,\"#0d0887\"],[0.1111111111111111,\"#46039f\"],[0.2222222222222222,\"#7201a8\"],[0.3333333333333333,\"#9c179e\"],[0.4444444444444444,\"#bd3786\"],[0.5555555555555556,\"#d8576b\"],[0.6666666666666666,\"#ed7953\"],[0.7777777777777778,\"#fb9f3a\"],[0.8888888888888888,\"#fdca26\"],[1.0,\"#f0f921\"]],\"type\":\"histogram2dcontour\"}],\"histogram2d\":[{\"colorbar\":{\"outlinewidth\":0,\"ticks\":\"\"},\"colorscale\":[[0.0,\"#0d0887\"],[0.1111111111111111,\"#46039f\"],[0.2222222222222222,\"#7201a8\"],[0.3333333333333333,\"#9c179e\"],[0.4444444444444444,\"#bd3786\"],[0.5555555555555556,\"#d8576b\"],[0.6666666666666666,\"#ed7953\"],[0.7777777777777778,\"#fb9f3a\"],[0.8888888888888888,\"#fdca26\"],[1.0,\"#f0f921\"]],\"type\":\"histogram2d\"}],\"histogram\":[{\"marker\":{\"pattern\":{\"fillmode\":\"overlay\",\"size\":10,\"solidity\":0.2}},\"type\":\"histogram\"}],\"mesh3d\":[{\"colorbar\":{\"outlinewidth\":0,\"ticks\":\"\"},\"type\":\"mesh3d\"}],\"parcoords\":[{\"line\":{\"colorbar\":{\"outlinewidth\":0,\"ticks\":\"\"}},\"type\":\"parcoords\"}],\"pie\":[{\"automargin\":true,\"type\":\"pie\"}],\"scatter3d\":[{\"line\":{\"colorbar\":{\"outlinewidth\":0,\"ticks\":\"\"}},\"marker\":{\"colorbar\":{\"outlinewidth\":0,\"ticks\":\"\"}},\"type\":\"scatter3d\"}],\"scattercarpet\":[{\"marker\":{\"colorbar\":{\"outlinewidth\":0,\"ticks\":\"\"}},\"type\":\"scattercarpet\"}],\"scattergeo\":[{\"marker\":{\"colorbar\":{\"outlinewidth\":0,\"ticks\":\"\"}},\"type\":\"scattergeo\"}],\"scattergl\":[{\"marker\":{\"colorbar\":{\"outlinewidth\":0,\"ticks\":\"\"}},\"type\":\"scattergl\"}],\"scattermapbox\":[{\"marker\":{\"colorbar\":{\"outlinewidth\":0,\"ticks\":\"\"}},\"type\":\"scattermapbox\"}],\"scatterpolargl\":[{\"marker\":{\"colorbar\":{\"outlinewidth\":0,\"ticks\":\"\"}},\"type\":\"scatterpolargl\"}],\"scatterpolar\":[{\"marker\":{\"colorbar\":{\"outlinewidth\":0,\"ticks\":\"\"}},\"type\":\"scatterpolar\"}],\"scatter\":[{\"fillpattern\":{\"fillmode\":\"overlay\",\"size\":10,\"solidity\":0.2},\"type\":\"scatter\"}],\"scatterternary\":[{\"marker\":{\"colorbar\":{\"outlinewidth\":0,\"ticks\":\"\"}},\"type\":\"scatterternary\"}],\"surface\":[{\"colorbar\":{\"outlinewidth\":0,\"ticks\":\"\"},\"colorscale\":[[0.0,\"#0d0887\"],[0.1111111111111111,\"#46039f\"],[0.2222222222222222,\"#7201a8\"],[0.3333333333333333,\"#9c179e\"],[0.4444444444444444,\"#bd3786\"],[0.5555555555555556,\"#d8576b\"],[0.6666666666666666,\"#ed7953\"],[0.7777777777777778,\"#fb9f3a\"],[0.8888888888888888,\"#fdca26\"],[1.0,\"#f0f921\"]],\"type\":\"surface\"}],\"table\":[{\"cells\":{\"fill\":{\"color\":\"#EBF0F8\"},\"line\":{\"color\":\"white\"}},\"header\":{\"fill\":{\"color\":\"#C8D4E3\"},\"line\":{\"color\":\"white\"}},\"type\":\"table\"}]},\"layout\":{\"annotationdefaults\":{\"arrowcolor\":\"#2a3f5f\",\"arrowhead\":0,\"arrowwidth\":1},\"autotypenumbers\":\"strict\",\"coloraxis\":{\"colorbar\":{\"outlinewidth\":0,\"ticks\":\"\"}},\"colorscale\":{\"diverging\":[[0,\"#8e0152\"],[0.1,\"#c51b7d\"],[0.2,\"#de77ae\"],[0.3,\"#f1b6da\"],[0.4,\"#fde0ef\"],[0.5,\"#f7f7f7\"],[0.6,\"#e6f5d0\"],[0.7,\"#b8e186\"],[0.8,\"#7fbc41\"],[0.9,\"#4d9221\"],[1,\"#276419\"]],\"sequential\":[[0.0,\"#0d0887\"],[0.1111111111111111,\"#46039f\"],[0.2222222222222222,\"#7201a8\"],[0.3333333333333333,\"#9c179e\"],[0.4444444444444444,\"#bd3786\"],[0.5555555555555556,\"#d8576b\"],[0.6666666666666666,\"#ed7953\"],[0.7777777777777778,\"#fb9f3a\"],[0.8888888888888888,\"#fdca26\"],[1.0,\"#f0f921\"]],\"sequentialminus\":[[0.0,\"#0d0887\"],[0.1111111111111111,\"#46039f\"],[0.2222222222222222,\"#7201a8\"],[0.3333333333333333,\"#9c179e\"],[0.4444444444444444,\"#bd3786\"],[0.5555555555555556,\"#d8576b\"],[0.6666666666666666,\"#ed7953\"],[0.7777777777777778,\"#fb9f3a\"],[0.8888888888888888,\"#fdca26\"],[1.0,\"#f0f921\"]]},\"colorway\":[\"#636efa\",\"#EF553B\",\"#00cc96\",\"#ab63fa\",\"#FFA15A\",\"#19d3f3\",\"#FF6692\",\"#B6E880\",\"#FF97FF\",\"#FECB52\"],\"font\":{\"color\":\"#2a3f5f\"},\"geo\":{\"bgcolor\":\"white\",\"lakecolor\":\"white\",\"landcolor\":\"#E5ECF6\",\"showlakes\":true,\"showland\":true,\"subunitcolor\":\"white\"},\"hoverlabel\":{\"align\":\"left\"},\"hovermode\":\"closest\",\"mapbox\":{\"style\":\"light\"},\"paper_bgcolor\":\"white\",\"plot_bgcolor\":\"#E5ECF6\",\"polar\":{\"angularaxis\":{\"gridcolor\":\"white\",\"linecolor\":\"white\",\"ticks\":\"\"},\"bgcolor\":\"#E5ECF6\",\"radialaxis\":{\"gridcolor\":\"white\",\"linecolor\":\"white\",\"ticks\":\"\"}},\"scene\":{\"xaxis\":{\"backgroundcolor\":\"#E5ECF6\",\"gridcolor\":\"white\",\"gridwidth\":2,\"linecolor\":\"white\",\"showbackground\":true,\"ticks\":\"\",\"zerolinecolor\":\"white\"},\"yaxis\":{\"backgroundcolor\":\"#E5ECF6\",\"gridcolor\":\"white\",\"gridwidth\":2,\"linecolor\":\"white\",\"showbackground\":true,\"ticks\":\"\",\"zerolinecolor\":\"white\"},\"zaxis\":{\"backgroundcolor\":\"#E5ECF6\",\"gridcolor\":\"white\",\"gridwidth\":2,\"linecolor\":\"white\",\"showbackground\":true,\"ticks\":\"\",\"zerolinecolor\":\"white\"}},\"shapedefaults\":{\"line\":{\"color\":\"#2a3f5f\"}},\"ternary\":{\"aaxis\":{\"gridcolor\":\"white\",\"linecolor\":\"white\",\"ticks\":\"\"},\"baxis\":{\"gridcolor\":\"white\",\"linecolor\":\"white\",\"ticks\":\"\"},\"bgcolor\":\"#E5ECF6\",\"caxis\":{\"gridcolor\":\"white\",\"linecolor\":\"white\",\"ticks\":\"\"}},\"title\":{\"x\":0.05},\"xaxis\":{\"automargin\":true,\"gridcolor\":\"white\",\"linecolor\":\"white\",\"ticks\":\"\",\"title\":{\"standoff\":15},\"zerolinecolor\":\"white\",\"zerolinewidth\":2},\"yaxis\":{\"automargin\":true,\"gridcolor\":\"white\",\"linecolor\":\"white\",\"ticks\":\"\",\"title\":{\"standoff\":15},\"zerolinecolor\":\"white\",\"zerolinewidth\":2}}},\"title\":{\"font\":{\"color\":\"#4D5663\"}},\"xaxis\":{\"gridcolor\":\"#E1E5ED\",\"showgrid\":true,\"tickfont\":{\"color\":\"#4D5663\"},\"title\":{\"font\":{\"color\":\"#4D5663\"},\"text\":\"\"},\"zerolinecolor\":\"#E1E5ED\"},\"yaxis\":{\"gridcolor\":\"#E1E5ED\",\"showgrid\":true,\"tickfont\":{\"color\":\"#4D5663\"},\"title\":{\"font\":{\"color\":\"#4D5663\"},\"text\":\"\"},\"zerolinecolor\":\"#E1E5ED\"}},                        {\"showLink\": true, \"linkText\": \"Export to plot.ly\", \"plotlyServerURL\": \"https://plot.ly\", \"responsive\": true}                    ).then(function(){\n",
       "                            \n",
       "var gd = document.getElementById('c51f5134-7a3a-4f06-b064-8f2683224d8e');\n",
       "var x = new MutationObserver(function (mutations, observer) {{\n",
       "        var display = window.getComputedStyle(gd).display;\n",
       "        if (!display || display === 'none') {{\n",
       "            console.log([gd, 'removed!']);\n",
       "            Plotly.purge(gd);\n",
       "            observer.disconnect();\n",
       "        }}\n",
       "}});\n",
       "\n",
       "// Listen for the removal of the full notebook cells\n",
       "var notebookContainer = gd.closest('#notebook-container');\n",
       "if (notebookContainer) {{\n",
       "    x.observe(notebookContainer, {childList: true});\n",
       "}}\n",
       "\n",
       "// Listen for the clearing of the current output cell\n",
       "var outputEl = gd.closest('.output');\n",
       "if (outputEl) {{\n",
       "    x.observe(outputEl, {childList: true});\n",
       "}}\n",
       "\n",
       "                        })                };                });            </script>        </div>"
      ]
     },
     "metadata": {},
     "output_type": "display_data"
    }
   ],
   "source": [
    "df.iplot(kind='scatter',x='A',y='B',mode='markers',size=10)"
   ]
  },
  {
   "cell_type": "markdown",
   "metadata": {},
   "source": [
    "## Bar Plots"
   ]
  },
  {
   "cell_type": "code",
   "execution_count": 11,
   "metadata": {},
   "outputs": [
    {
     "data": {
      "application/vnd.plotly.v1+json": {
       "config": {
        "linkText": "Export to plot.ly",
        "plotlyServerURL": "https://plot.ly",
        "showLink": true
       },
       "data": [
        {
         "marker": {
          "color": "rgba(255, 153, 51, 0.6)",
          "line": {
           "color": "rgba(255, 153, 51, 1.0)",
           "width": 1
          }
         },
         "name": "Values",
         "orientation": "v",
         "text": "",
         "type": "bar",
         "x": [
          "A",
          "B",
          "C"
         ],
         "y": [
          32,
          43,
          50
         ]
        }
       ],
       "layout": {
        "legend": {
         "bgcolor": "#F5F6F9",
         "font": {
          "color": "#4D5663"
         }
        },
        "paper_bgcolor": "#F5F6F9",
        "plot_bgcolor": "#F5F6F9",
        "template": {
         "data": {
          "bar": [
           {
            "error_x": {
             "color": "#2a3f5f"
            },
            "error_y": {
             "color": "#2a3f5f"
            },
            "marker": {
             "line": {
              "color": "#E5ECF6",
              "width": 0.5
             },
             "pattern": {
              "fillmode": "overlay",
              "size": 10,
              "solidity": 0.2
             }
            },
            "type": "bar"
           }
          ],
          "barpolar": [
           {
            "marker": {
             "line": {
              "color": "#E5ECF6",
              "width": 0.5
             },
             "pattern": {
              "fillmode": "overlay",
              "size": 10,
              "solidity": 0.2
             }
            },
            "type": "barpolar"
           }
          ],
          "carpet": [
           {
            "aaxis": {
             "endlinecolor": "#2a3f5f",
             "gridcolor": "white",
             "linecolor": "white",
             "minorgridcolor": "white",
             "startlinecolor": "#2a3f5f"
            },
            "baxis": {
             "endlinecolor": "#2a3f5f",
             "gridcolor": "white",
             "linecolor": "white",
             "minorgridcolor": "white",
             "startlinecolor": "#2a3f5f"
            },
            "type": "carpet"
           }
          ],
          "choropleth": [
           {
            "colorbar": {
             "outlinewidth": 0,
             "ticks": ""
            },
            "type": "choropleth"
           }
          ],
          "contour": [
           {
            "colorbar": {
             "outlinewidth": 0,
             "ticks": ""
            },
            "colorscale": [
             [
              0,
              "#0d0887"
             ],
             [
              0.1111111111111111,
              "#46039f"
             ],
             [
              0.2222222222222222,
              "#7201a8"
             ],
             [
              0.3333333333333333,
              "#9c179e"
             ],
             [
              0.4444444444444444,
              "#bd3786"
             ],
             [
              0.5555555555555556,
              "#d8576b"
             ],
             [
              0.6666666666666666,
              "#ed7953"
             ],
             [
              0.7777777777777778,
              "#fb9f3a"
             ],
             [
              0.8888888888888888,
              "#fdca26"
             ],
             [
              1,
              "#f0f921"
             ]
            ],
            "type": "contour"
           }
          ],
          "contourcarpet": [
           {
            "colorbar": {
             "outlinewidth": 0,
             "ticks": ""
            },
            "type": "contourcarpet"
           }
          ],
          "heatmap": [
           {
            "colorbar": {
             "outlinewidth": 0,
             "ticks": ""
            },
            "colorscale": [
             [
              0,
              "#0d0887"
             ],
             [
              0.1111111111111111,
              "#46039f"
             ],
             [
              0.2222222222222222,
              "#7201a8"
             ],
             [
              0.3333333333333333,
              "#9c179e"
             ],
             [
              0.4444444444444444,
              "#bd3786"
             ],
             [
              0.5555555555555556,
              "#d8576b"
             ],
             [
              0.6666666666666666,
              "#ed7953"
             ],
             [
              0.7777777777777778,
              "#fb9f3a"
             ],
             [
              0.8888888888888888,
              "#fdca26"
             ],
             [
              1,
              "#f0f921"
             ]
            ],
            "type": "heatmap"
           }
          ],
          "heatmapgl": [
           {
            "colorbar": {
             "outlinewidth": 0,
             "ticks": ""
            },
            "colorscale": [
             [
              0,
              "#0d0887"
             ],
             [
              0.1111111111111111,
              "#46039f"
             ],
             [
              0.2222222222222222,
              "#7201a8"
             ],
             [
              0.3333333333333333,
              "#9c179e"
             ],
             [
              0.4444444444444444,
              "#bd3786"
             ],
             [
              0.5555555555555556,
              "#d8576b"
             ],
             [
              0.6666666666666666,
              "#ed7953"
             ],
             [
              0.7777777777777778,
              "#fb9f3a"
             ],
             [
              0.8888888888888888,
              "#fdca26"
             ],
             [
              1,
              "#f0f921"
             ]
            ],
            "type": "heatmapgl"
           }
          ],
          "histogram": [
           {
            "marker": {
             "pattern": {
              "fillmode": "overlay",
              "size": 10,
              "solidity": 0.2
             }
            },
            "type": "histogram"
           }
          ],
          "histogram2d": [
           {
            "colorbar": {
             "outlinewidth": 0,
             "ticks": ""
            },
            "colorscale": [
             [
              0,
              "#0d0887"
             ],
             [
              0.1111111111111111,
              "#46039f"
             ],
             [
              0.2222222222222222,
              "#7201a8"
             ],
             [
              0.3333333333333333,
              "#9c179e"
             ],
             [
              0.4444444444444444,
              "#bd3786"
             ],
             [
              0.5555555555555556,
              "#d8576b"
             ],
             [
              0.6666666666666666,
              "#ed7953"
             ],
             [
              0.7777777777777778,
              "#fb9f3a"
             ],
             [
              0.8888888888888888,
              "#fdca26"
             ],
             [
              1,
              "#f0f921"
             ]
            ],
            "type": "histogram2d"
           }
          ],
          "histogram2dcontour": [
           {
            "colorbar": {
             "outlinewidth": 0,
             "ticks": ""
            },
            "colorscale": [
             [
              0,
              "#0d0887"
             ],
             [
              0.1111111111111111,
              "#46039f"
             ],
             [
              0.2222222222222222,
              "#7201a8"
             ],
             [
              0.3333333333333333,
              "#9c179e"
             ],
             [
              0.4444444444444444,
              "#bd3786"
             ],
             [
              0.5555555555555556,
              "#d8576b"
             ],
             [
              0.6666666666666666,
              "#ed7953"
             ],
             [
              0.7777777777777778,
              "#fb9f3a"
             ],
             [
              0.8888888888888888,
              "#fdca26"
             ],
             [
              1,
              "#f0f921"
             ]
            ],
            "type": "histogram2dcontour"
           }
          ],
          "mesh3d": [
           {
            "colorbar": {
             "outlinewidth": 0,
             "ticks": ""
            },
            "type": "mesh3d"
           }
          ],
          "parcoords": [
           {
            "line": {
             "colorbar": {
              "outlinewidth": 0,
              "ticks": ""
             }
            },
            "type": "parcoords"
           }
          ],
          "pie": [
           {
            "automargin": true,
            "type": "pie"
           }
          ],
          "scatter": [
           {
            "fillpattern": {
             "fillmode": "overlay",
             "size": 10,
             "solidity": 0.2
            },
            "type": "scatter"
           }
          ],
          "scatter3d": [
           {
            "line": {
             "colorbar": {
              "outlinewidth": 0,
              "ticks": ""
             }
            },
            "marker": {
             "colorbar": {
              "outlinewidth": 0,
              "ticks": ""
             }
            },
            "type": "scatter3d"
           }
          ],
          "scattercarpet": [
           {
            "marker": {
             "colorbar": {
              "outlinewidth": 0,
              "ticks": ""
             }
            },
            "type": "scattercarpet"
           }
          ],
          "scattergeo": [
           {
            "marker": {
             "colorbar": {
              "outlinewidth": 0,
              "ticks": ""
             }
            },
            "type": "scattergeo"
           }
          ],
          "scattergl": [
           {
            "marker": {
             "colorbar": {
              "outlinewidth": 0,
              "ticks": ""
             }
            },
            "type": "scattergl"
           }
          ],
          "scattermapbox": [
           {
            "marker": {
             "colorbar": {
              "outlinewidth": 0,
              "ticks": ""
             }
            },
            "type": "scattermapbox"
           }
          ],
          "scatterpolar": [
           {
            "marker": {
             "colorbar": {
              "outlinewidth": 0,
              "ticks": ""
             }
            },
            "type": "scatterpolar"
           }
          ],
          "scatterpolargl": [
           {
            "marker": {
             "colorbar": {
              "outlinewidth": 0,
              "ticks": ""
             }
            },
            "type": "scatterpolargl"
           }
          ],
          "scatterternary": [
           {
            "marker": {
             "colorbar": {
              "outlinewidth": 0,
              "ticks": ""
             }
            },
            "type": "scatterternary"
           }
          ],
          "surface": [
           {
            "colorbar": {
             "outlinewidth": 0,
             "ticks": ""
            },
            "colorscale": [
             [
              0,
              "#0d0887"
             ],
             [
              0.1111111111111111,
              "#46039f"
             ],
             [
              0.2222222222222222,
              "#7201a8"
             ],
             [
              0.3333333333333333,
              "#9c179e"
             ],
             [
              0.4444444444444444,
              "#bd3786"
             ],
             [
              0.5555555555555556,
              "#d8576b"
             ],
             [
              0.6666666666666666,
              "#ed7953"
             ],
             [
              0.7777777777777778,
              "#fb9f3a"
             ],
             [
              0.8888888888888888,
              "#fdca26"
             ],
             [
              1,
              "#f0f921"
             ]
            ],
            "type": "surface"
           }
          ],
          "table": [
           {
            "cells": {
             "fill": {
              "color": "#EBF0F8"
             },
             "line": {
              "color": "white"
             }
            },
            "header": {
             "fill": {
              "color": "#C8D4E3"
             },
             "line": {
              "color": "white"
             }
            },
            "type": "table"
           }
          ]
         },
         "layout": {
          "annotationdefaults": {
           "arrowcolor": "#2a3f5f",
           "arrowhead": 0,
           "arrowwidth": 1
          },
          "autotypenumbers": "strict",
          "coloraxis": {
           "colorbar": {
            "outlinewidth": 0,
            "ticks": ""
           }
          },
          "colorscale": {
           "diverging": [
            [
             0,
             "#8e0152"
            ],
            [
             0.1,
             "#c51b7d"
            ],
            [
             0.2,
             "#de77ae"
            ],
            [
             0.3,
             "#f1b6da"
            ],
            [
             0.4,
             "#fde0ef"
            ],
            [
             0.5,
             "#f7f7f7"
            ],
            [
             0.6,
             "#e6f5d0"
            ],
            [
             0.7,
             "#b8e186"
            ],
            [
             0.8,
             "#7fbc41"
            ],
            [
             0.9,
             "#4d9221"
            ],
            [
             1,
             "#276419"
            ]
           ],
           "sequential": [
            [
             0,
             "#0d0887"
            ],
            [
             0.1111111111111111,
             "#46039f"
            ],
            [
             0.2222222222222222,
             "#7201a8"
            ],
            [
             0.3333333333333333,
             "#9c179e"
            ],
            [
             0.4444444444444444,
             "#bd3786"
            ],
            [
             0.5555555555555556,
             "#d8576b"
            ],
            [
             0.6666666666666666,
             "#ed7953"
            ],
            [
             0.7777777777777778,
             "#fb9f3a"
            ],
            [
             0.8888888888888888,
             "#fdca26"
            ],
            [
             1,
             "#f0f921"
            ]
           ],
           "sequentialminus": [
            [
             0,
             "#0d0887"
            ],
            [
             0.1111111111111111,
             "#46039f"
            ],
            [
             0.2222222222222222,
             "#7201a8"
            ],
            [
             0.3333333333333333,
             "#9c179e"
            ],
            [
             0.4444444444444444,
             "#bd3786"
            ],
            [
             0.5555555555555556,
             "#d8576b"
            ],
            [
             0.6666666666666666,
             "#ed7953"
            ],
            [
             0.7777777777777778,
             "#fb9f3a"
            ],
            [
             0.8888888888888888,
             "#fdca26"
            ],
            [
             1,
             "#f0f921"
            ]
           ]
          },
          "colorway": [
           "#636efa",
           "#EF553B",
           "#00cc96",
           "#ab63fa",
           "#FFA15A",
           "#19d3f3",
           "#FF6692",
           "#B6E880",
           "#FF97FF",
           "#FECB52"
          ],
          "font": {
           "color": "#2a3f5f"
          },
          "geo": {
           "bgcolor": "white",
           "lakecolor": "white",
           "landcolor": "#E5ECF6",
           "showlakes": true,
           "showland": true,
           "subunitcolor": "white"
          },
          "hoverlabel": {
           "align": "left"
          },
          "hovermode": "closest",
          "mapbox": {
           "style": "light"
          },
          "paper_bgcolor": "white",
          "plot_bgcolor": "#E5ECF6",
          "polar": {
           "angularaxis": {
            "gridcolor": "white",
            "linecolor": "white",
            "ticks": ""
           },
           "bgcolor": "#E5ECF6",
           "radialaxis": {
            "gridcolor": "white",
            "linecolor": "white",
            "ticks": ""
           }
          },
          "scene": {
           "xaxis": {
            "backgroundcolor": "#E5ECF6",
            "gridcolor": "white",
            "gridwidth": 2,
            "linecolor": "white",
            "showbackground": true,
            "ticks": "",
            "zerolinecolor": "white"
           },
           "yaxis": {
            "backgroundcolor": "#E5ECF6",
            "gridcolor": "white",
            "gridwidth": 2,
            "linecolor": "white",
            "showbackground": true,
            "ticks": "",
            "zerolinecolor": "white"
           },
           "zaxis": {
            "backgroundcolor": "#E5ECF6",
            "gridcolor": "white",
            "gridwidth": 2,
            "linecolor": "white",
            "showbackground": true,
            "ticks": "",
            "zerolinecolor": "white"
           }
          },
          "shapedefaults": {
           "line": {
            "color": "#2a3f5f"
           }
          },
          "ternary": {
           "aaxis": {
            "gridcolor": "white",
            "linecolor": "white",
            "ticks": ""
           },
           "baxis": {
            "gridcolor": "white",
            "linecolor": "white",
            "ticks": ""
           },
           "bgcolor": "#E5ECF6",
           "caxis": {
            "gridcolor": "white",
            "linecolor": "white",
            "ticks": ""
           }
          },
          "title": {
           "x": 0.05
          },
          "xaxis": {
           "automargin": true,
           "gridcolor": "white",
           "linecolor": "white",
           "ticks": "",
           "title": {
            "standoff": 15
           },
           "zerolinecolor": "white",
           "zerolinewidth": 2
          },
          "yaxis": {
           "automargin": true,
           "gridcolor": "white",
           "linecolor": "white",
           "ticks": "",
           "title": {
            "standoff": 15
           },
           "zerolinecolor": "white",
           "zerolinewidth": 2
          }
         }
        },
        "title": {
         "font": {
          "color": "#4D5663"
         }
        },
        "xaxis": {
         "gridcolor": "#E1E5ED",
         "showgrid": true,
         "tickfont": {
          "color": "#4D5663"
         },
         "title": {
          "font": {
           "color": "#4D5663"
          },
          "text": ""
         },
         "zerolinecolor": "#E1E5ED"
        },
        "yaxis": {
         "gridcolor": "#E1E5ED",
         "showgrid": true,
         "tickfont": {
          "color": "#4D5663"
         },
         "title": {
          "font": {
           "color": "#4D5663"
          },
          "text": ""
         },
         "zerolinecolor": "#E1E5ED"
        }
       }
      },
      "text/html": [
       "<div>                            <div id=\"654f0768-cdc4-451b-bcf7-58d169b9ef3c\" class=\"plotly-graph-div\" style=\"height:525px; width:100%;\"></div>            <script type=\"text/javascript\">                require([\"plotly\"], function(Plotly) {                    window.PLOTLYENV=window.PLOTLYENV || {};\n",
       "                    window.PLOTLYENV.BASE_URL='https://plot.ly';                                    if (document.getElementById(\"654f0768-cdc4-451b-bcf7-58d169b9ef3c\")) {                    Plotly.newPlot(                        \"654f0768-cdc4-451b-bcf7-58d169b9ef3c\",                        [{\"marker\":{\"color\":\"rgba(255, 153, 51, 0.6)\",\"line\":{\"color\":\"rgba(255, 153, 51, 1.0)\",\"width\":1}},\"name\":\"Values\",\"orientation\":\"v\",\"text\":\"\",\"x\":[\"A\",\"B\",\"C\"],\"y\":[32,43,50],\"type\":\"bar\"}],                        {\"legend\":{\"bgcolor\":\"#F5F6F9\",\"font\":{\"color\":\"#4D5663\"}},\"paper_bgcolor\":\"#F5F6F9\",\"plot_bgcolor\":\"#F5F6F9\",\"template\":{\"data\":{\"barpolar\":[{\"marker\":{\"line\":{\"color\":\"#E5ECF6\",\"width\":0.5},\"pattern\":{\"fillmode\":\"overlay\",\"size\":10,\"solidity\":0.2}},\"type\":\"barpolar\"}],\"bar\":[{\"error_x\":{\"color\":\"#2a3f5f\"},\"error_y\":{\"color\":\"#2a3f5f\"},\"marker\":{\"line\":{\"color\":\"#E5ECF6\",\"width\":0.5},\"pattern\":{\"fillmode\":\"overlay\",\"size\":10,\"solidity\":0.2}},\"type\":\"bar\"}],\"carpet\":[{\"aaxis\":{\"endlinecolor\":\"#2a3f5f\",\"gridcolor\":\"white\",\"linecolor\":\"white\",\"minorgridcolor\":\"white\",\"startlinecolor\":\"#2a3f5f\"},\"baxis\":{\"endlinecolor\":\"#2a3f5f\",\"gridcolor\":\"white\",\"linecolor\":\"white\",\"minorgridcolor\":\"white\",\"startlinecolor\":\"#2a3f5f\"},\"type\":\"carpet\"}],\"choropleth\":[{\"colorbar\":{\"outlinewidth\":0,\"ticks\":\"\"},\"type\":\"choropleth\"}],\"contourcarpet\":[{\"colorbar\":{\"outlinewidth\":0,\"ticks\":\"\"},\"type\":\"contourcarpet\"}],\"contour\":[{\"colorbar\":{\"outlinewidth\":0,\"ticks\":\"\"},\"colorscale\":[[0.0,\"#0d0887\"],[0.1111111111111111,\"#46039f\"],[0.2222222222222222,\"#7201a8\"],[0.3333333333333333,\"#9c179e\"],[0.4444444444444444,\"#bd3786\"],[0.5555555555555556,\"#d8576b\"],[0.6666666666666666,\"#ed7953\"],[0.7777777777777778,\"#fb9f3a\"],[0.8888888888888888,\"#fdca26\"],[1.0,\"#f0f921\"]],\"type\":\"contour\"}],\"heatmapgl\":[{\"colorbar\":{\"outlinewidth\":0,\"ticks\":\"\"},\"colorscale\":[[0.0,\"#0d0887\"],[0.1111111111111111,\"#46039f\"],[0.2222222222222222,\"#7201a8\"],[0.3333333333333333,\"#9c179e\"],[0.4444444444444444,\"#bd3786\"],[0.5555555555555556,\"#d8576b\"],[0.6666666666666666,\"#ed7953\"],[0.7777777777777778,\"#fb9f3a\"],[0.8888888888888888,\"#fdca26\"],[1.0,\"#f0f921\"]],\"type\":\"heatmapgl\"}],\"heatmap\":[{\"colorbar\":{\"outlinewidth\":0,\"ticks\":\"\"},\"colorscale\":[[0.0,\"#0d0887\"],[0.1111111111111111,\"#46039f\"],[0.2222222222222222,\"#7201a8\"],[0.3333333333333333,\"#9c179e\"],[0.4444444444444444,\"#bd3786\"],[0.5555555555555556,\"#d8576b\"],[0.6666666666666666,\"#ed7953\"],[0.7777777777777778,\"#fb9f3a\"],[0.8888888888888888,\"#fdca26\"],[1.0,\"#f0f921\"]],\"type\":\"heatmap\"}],\"histogram2dcontour\":[{\"colorbar\":{\"outlinewidth\":0,\"ticks\":\"\"},\"colorscale\":[[0.0,\"#0d0887\"],[0.1111111111111111,\"#46039f\"],[0.2222222222222222,\"#7201a8\"],[0.3333333333333333,\"#9c179e\"],[0.4444444444444444,\"#bd3786\"],[0.5555555555555556,\"#d8576b\"],[0.6666666666666666,\"#ed7953\"],[0.7777777777777778,\"#fb9f3a\"],[0.8888888888888888,\"#fdca26\"],[1.0,\"#f0f921\"]],\"type\":\"histogram2dcontour\"}],\"histogram2d\":[{\"colorbar\":{\"outlinewidth\":0,\"ticks\":\"\"},\"colorscale\":[[0.0,\"#0d0887\"],[0.1111111111111111,\"#46039f\"],[0.2222222222222222,\"#7201a8\"],[0.3333333333333333,\"#9c179e\"],[0.4444444444444444,\"#bd3786\"],[0.5555555555555556,\"#d8576b\"],[0.6666666666666666,\"#ed7953\"],[0.7777777777777778,\"#fb9f3a\"],[0.8888888888888888,\"#fdca26\"],[1.0,\"#f0f921\"]],\"type\":\"histogram2d\"}],\"histogram\":[{\"marker\":{\"pattern\":{\"fillmode\":\"overlay\",\"size\":10,\"solidity\":0.2}},\"type\":\"histogram\"}],\"mesh3d\":[{\"colorbar\":{\"outlinewidth\":0,\"ticks\":\"\"},\"type\":\"mesh3d\"}],\"parcoords\":[{\"line\":{\"colorbar\":{\"outlinewidth\":0,\"ticks\":\"\"}},\"type\":\"parcoords\"}],\"pie\":[{\"automargin\":true,\"type\":\"pie\"}],\"scatter3d\":[{\"line\":{\"colorbar\":{\"outlinewidth\":0,\"ticks\":\"\"}},\"marker\":{\"colorbar\":{\"outlinewidth\":0,\"ticks\":\"\"}},\"type\":\"scatter3d\"}],\"scattercarpet\":[{\"marker\":{\"colorbar\":{\"outlinewidth\":0,\"ticks\":\"\"}},\"type\":\"scattercarpet\"}],\"scattergeo\":[{\"marker\":{\"colorbar\":{\"outlinewidth\":0,\"ticks\":\"\"}},\"type\":\"scattergeo\"}],\"scattergl\":[{\"marker\":{\"colorbar\":{\"outlinewidth\":0,\"ticks\":\"\"}},\"type\":\"scattergl\"}],\"scattermapbox\":[{\"marker\":{\"colorbar\":{\"outlinewidth\":0,\"ticks\":\"\"}},\"type\":\"scattermapbox\"}],\"scatterpolargl\":[{\"marker\":{\"colorbar\":{\"outlinewidth\":0,\"ticks\":\"\"}},\"type\":\"scatterpolargl\"}],\"scatterpolar\":[{\"marker\":{\"colorbar\":{\"outlinewidth\":0,\"ticks\":\"\"}},\"type\":\"scatterpolar\"}],\"scatter\":[{\"fillpattern\":{\"fillmode\":\"overlay\",\"size\":10,\"solidity\":0.2},\"type\":\"scatter\"}],\"scatterternary\":[{\"marker\":{\"colorbar\":{\"outlinewidth\":0,\"ticks\":\"\"}},\"type\":\"scatterternary\"}],\"surface\":[{\"colorbar\":{\"outlinewidth\":0,\"ticks\":\"\"},\"colorscale\":[[0.0,\"#0d0887\"],[0.1111111111111111,\"#46039f\"],[0.2222222222222222,\"#7201a8\"],[0.3333333333333333,\"#9c179e\"],[0.4444444444444444,\"#bd3786\"],[0.5555555555555556,\"#d8576b\"],[0.6666666666666666,\"#ed7953\"],[0.7777777777777778,\"#fb9f3a\"],[0.8888888888888888,\"#fdca26\"],[1.0,\"#f0f921\"]],\"type\":\"surface\"}],\"table\":[{\"cells\":{\"fill\":{\"color\":\"#EBF0F8\"},\"line\":{\"color\":\"white\"}},\"header\":{\"fill\":{\"color\":\"#C8D4E3\"},\"line\":{\"color\":\"white\"}},\"type\":\"table\"}]},\"layout\":{\"annotationdefaults\":{\"arrowcolor\":\"#2a3f5f\",\"arrowhead\":0,\"arrowwidth\":1},\"autotypenumbers\":\"strict\",\"coloraxis\":{\"colorbar\":{\"outlinewidth\":0,\"ticks\":\"\"}},\"colorscale\":{\"diverging\":[[0,\"#8e0152\"],[0.1,\"#c51b7d\"],[0.2,\"#de77ae\"],[0.3,\"#f1b6da\"],[0.4,\"#fde0ef\"],[0.5,\"#f7f7f7\"],[0.6,\"#e6f5d0\"],[0.7,\"#b8e186\"],[0.8,\"#7fbc41\"],[0.9,\"#4d9221\"],[1,\"#276419\"]],\"sequential\":[[0.0,\"#0d0887\"],[0.1111111111111111,\"#46039f\"],[0.2222222222222222,\"#7201a8\"],[0.3333333333333333,\"#9c179e\"],[0.4444444444444444,\"#bd3786\"],[0.5555555555555556,\"#d8576b\"],[0.6666666666666666,\"#ed7953\"],[0.7777777777777778,\"#fb9f3a\"],[0.8888888888888888,\"#fdca26\"],[1.0,\"#f0f921\"]],\"sequentialminus\":[[0.0,\"#0d0887\"],[0.1111111111111111,\"#46039f\"],[0.2222222222222222,\"#7201a8\"],[0.3333333333333333,\"#9c179e\"],[0.4444444444444444,\"#bd3786\"],[0.5555555555555556,\"#d8576b\"],[0.6666666666666666,\"#ed7953\"],[0.7777777777777778,\"#fb9f3a\"],[0.8888888888888888,\"#fdca26\"],[1.0,\"#f0f921\"]]},\"colorway\":[\"#636efa\",\"#EF553B\",\"#00cc96\",\"#ab63fa\",\"#FFA15A\",\"#19d3f3\",\"#FF6692\",\"#B6E880\",\"#FF97FF\",\"#FECB52\"],\"font\":{\"color\":\"#2a3f5f\"},\"geo\":{\"bgcolor\":\"white\",\"lakecolor\":\"white\",\"landcolor\":\"#E5ECF6\",\"showlakes\":true,\"showland\":true,\"subunitcolor\":\"white\"},\"hoverlabel\":{\"align\":\"left\"},\"hovermode\":\"closest\",\"mapbox\":{\"style\":\"light\"},\"paper_bgcolor\":\"white\",\"plot_bgcolor\":\"#E5ECF6\",\"polar\":{\"angularaxis\":{\"gridcolor\":\"white\",\"linecolor\":\"white\",\"ticks\":\"\"},\"bgcolor\":\"#E5ECF6\",\"radialaxis\":{\"gridcolor\":\"white\",\"linecolor\":\"white\",\"ticks\":\"\"}},\"scene\":{\"xaxis\":{\"backgroundcolor\":\"#E5ECF6\",\"gridcolor\":\"white\",\"gridwidth\":2,\"linecolor\":\"white\",\"showbackground\":true,\"ticks\":\"\",\"zerolinecolor\":\"white\"},\"yaxis\":{\"backgroundcolor\":\"#E5ECF6\",\"gridcolor\":\"white\",\"gridwidth\":2,\"linecolor\":\"white\",\"showbackground\":true,\"ticks\":\"\",\"zerolinecolor\":\"white\"},\"zaxis\":{\"backgroundcolor\":\"#E5ECF6\",\"gridcolor\":\"white\",\"gridwidth\":2,\"linecolor\":\"white\",\"showbackground\":true,\"ticks\":\"\",\"zerolinecolor\":\"white\"}},\"shapedefaults\":{\"line\":{\"color\":\"#2a3f5f\"}},\"ternary\":{\"aaxis\":{\"gridcolor\":\"white\",\"linecolor\":\"white\",\"ticks\":\"\"},\"baxis\":{\"gridcolor\":\"white\",\"linecolor\":\"white\",\"ticks\":\"\"},\"bgcolor\":\"#E5ECF6\",\"caxis\":{\"gridcolor\":\"white\",\"linecolor\":\"white\",\"ticks\":\"\"}},\"title\":{\"x\":0.05},\"xaxis\":{\"automargin\":true,\"gridcolor\":\"white\",\"linecolor\":\"white\",\"ticks\":\"\",\"title\":{\"standoff\":15},\"zerolinecolor\":\"white\",\"zerolinewidth\":2},\"yaxis\":{\"automargin\":true,\"gridcolor\":\"white\",\"linecolor\":\"white\",\"ticks\":\"\",\"title\":{\"standoff\":15},\"zerolinecolor\":\"white\",\"zerolinewidth\":2}}},\"title\":{\"font\":{\"color\":\"#4D5663\"}},\"xaxis\":{\"gridcolor\":\"#E1E5ED\",\"showgrid\":true,\"tickfont\":{\"color\":\"#4D5663\"},\"title\":{\"font\":{\"color\":\"#4D5663\"},\"text\":\"\"},\"zerolinecolor\":\"#E1E5ED\"},\"yaxis\":{\"gridcolor\":\"#E1E5ED\",\"showgrid\":true,\"tickfont\":{\"color\":\"#4D5663\"},\"title\":{\"font\":{\"color\":\"#4D5663\"},\"text\":\"\"},\"zerolinecolor\":\"#E1E5ED\"}},                        {\"showLink\": true, \"linkText\": \"Export to plot.ly\", \"plotlyServerURL\": \"https://plot.ly\", \"responsive\": true}                    ).then(function(){\n",
       "                            \n",
       "var gd = document.getElementById('654f0768-cdc4-451b-bcf7-58d169b9ef3c');\n",
       "var x = new MutationObserver(function (mutations, observer) {{\n",
       "        var display = window.getComputedStyle(gd).display;\n",
       "        if (!display || display === 'none') {{\n",
       "            console.log([gd, 'removed!']);\n",
       "            Plotly.purge(gd);\n",
       "            observer.disconnect();\n",
       "        }}\n",
       "}});\n",
       "\n",
       "// Listen for the removal of the full notebook cells\n",
       "var notebookContainer = gd.closest('#notebook-container');\n",
       "if (notebookContainer) {{\n",
       "    x.observe(notebookContainer, {childList: true});\n",
       "}}\n",
       "\n",
       "// Listen for the clearing of the current output cell\n",
       "var outputEl = gd.closest('.output');\n",
       "if (outputEl) {{\n",
       "    x.observe(outputEl, {childList: true});\n",
       "}}\n",
       "\n",
       "                        })                };                });            </script>        </div>"
      ]
     },
     "metadata": {},
     "output_type": "display_data"
    }
   ],
   "source": [
    "df2.iplot(kind='bar',x='Category',y='Values')"
   ]
  },
  {
   "cell_type": "code",
   "execution_count": 14,
   "metadata": {},
   "outputs": [
    {
     "data": {
      "application/vnd.plotly.v1+json": {
       "config": {
        "linkText": "Export to plot.ly",
        "plotlyServerURL": "https://plot.ly",
        "showLink": true
       },
       "data": [
        {
         "marker": {
          "color": "rgba(255, 153, 51, 0.6)",
          "line": {
           "color": "rgba(255, 153, 51, 1.0)",
           "width": 1
          }
         },
         "name": "None",
         "orientation": "v",
         "text": "",
         "type": "bar",
         "x": [
          "A",
          "B",
          "C",
          "D"
         ],
         "y": [
          100,
          100,
          100,
          100
         ]
        }
       ],
       "layout": {
        "legend": {
         "bgcolor": "#F5F6F9",
         "font": {
          "color": "#4D5663"
         }
        },
        "paper_bgcolor": "#F5F6F9",
        "plot_bgcolor": "#F5F6F9",
        "template": {
         "data": {
          "bar": [
           {
            "error_x": {
             "color": "#2a3f5f"
            },
            "error_y": {
             "color": "#2a3f5f"
            },
            "marker": {
             "line": {
              "color": "#E5ECF6",
              "width": 0.5
             },
             "pattern": {
              "fillmode": "overlay",
              "size": 10,
              "solidity": 0.2
             }
            },
            "type": "bar"
           }
          ],
          "barpolar": [
           {
            "marker": {
             "line": {
              "color": "#E5ECF6",
              "width": 0.5
             },
             "pattern": {
              "fillmode": "overlay",
              "size": 10,
              "solidity": 0.2
             }
            },
            "type": "barpolar"
           }
          ],
          "carpet": [
           {
            "aaxis": {
             "endlinecolor": "#2a3f5f",
             "gridcolor": "white",
             "linecolor": "white",
             "minorgridcolor": "white",
             "startlinecolor": "#2a3f5f"
            },
            "baxis": {
             "endlinecolor": "#2a3f5f",
             "gridcolor": "white",
             "linecolor": "white",
             "minorgridcolor": "white",
             "startlinecolor": "#2a3f5f"
            },
            "type": "carpet"
           }
          ],
          "choropleth": [
           {
            "colorbar": {
             "outlinewidth": 0,
             "ticks": ""
            },
            "type": "choropleth"
           }
          ],
          "contour": [
           {
            "colorbar": {
             "outlinewidth": 0,
             "ticks": ""
            },
            "colorscale": [
             [
              0,
              "#0d0887"
             ],
             [
              0.1111111111111111,
              "#46039f"
             ],
             [
              0.2222222222222222,
              "#7201a8"
             ],
             [
              0.3333333333333333,
              "#9c179e"
             ],
             [
              0.4444444444444444,
              "#bd3786"
             ],
             [
              0.5555555555555556,
              "#d8576b"
             ],
             [
              0.6666666666666666,
              "#ed7953"
             ],
             [
              0.7777777777777778,
              "#fb9f3a"
             ],
             [
              0.8888888888888888,
              "#fdca26"
             ],
             [
              1,
              "#f0f921"
             ]
            ],
            "type": "contour"
           }
          ],
          "contourcarpet": [
           {
            "colorbar": {
             "outlinewidth": 0,
             "ticks": ""
            },
            "type": "contourcarpet"
           }
          ],
          "heatmap": [
           {
            "colorbar": {
             "outlinewidth": 0,
             "ticks": ""
            },
            "colorscale": [
             [
              0,
              "#0d0887"
             ],
             [
              0.1111111111111111,
              "#46039f"
             ],
             [
              0.2222222222222222,
              "#7201a8"
             ],
             [
              0.3333333333333333,
              "#9c179e"
             ],
             [
              0.4444444444444444,
              "#bd3786"
             ],
             [
              0.5555555555555556,
              "#d8576b"
             ],
             [
              0.6666666666666666,
              "#ed7953"
             ],
             [
              0.7777777777777778,
              "#fb9f3a"
             ],
             [
              0.8888888888888888,
              "#fdca26"
             ],
             [
              1,
              "#f0f921"
             ]
            ],
            "type": "heatmap"
           }
          ],
          "heatmapgl": [
           {
            "colorbar": {
             "outlinewidth": 0,
             "ticks": ""
            },
            "colorscale": [
             [
              0,
              "#0d0887"
             ],
             [
              0.1111111111111111,
              "#46039f"
             ],
             [
              0.2222222222222222,
              "#7201a8"
             ],
             [
              0.3333333333333333,
              "#9c179e"
             ],
             [
              0.4444444444444444,
              "#bd3786"
             ],
             [
              0.5555555555555556,
              "#d8576b"
             ],
             [
              0.6666666666666666,
              "#ed7953"
             ],
             [
              0.7777777777777778,
              "#fb9f3a"
             ],
             [
              0.8888888888888888,
              "#fdca26"
             ],
             [
              1,
              "#f0f921"
             ]
            ],
            "type": "heatmapgl"
           }
          ],
          "histogram": [
           {
            "marker": {
             "pattern": {
              "fillmode": "overlay",
              "size": 10,
              "solidity": 0.2
             }
            },
            "type": "histogram"
           }
          ],
          "histogram2d": [
           {
            "colorbar": {
             "outlinewidth": 0,
             "ticks": ""
            },
            "colorscale": [
             [
              0,
              "#0d0887"
             ],
             [
              0.1111111111111111,
              "#46039f"
             ],
             [
              0.2222222222222222,
              "#7201a8"
             ],
             [
              0.3333333333333333,
              "#9c179e"
             ],
             [
              0.4444444444444444,
              "#bd3786"
             ],
             [
              0.5555555555555556,
              "#d8576b"
             ],
             [
              0.6666666666666666,
              "#ed7953"
             ],
             [
              0.7777777777777778,
              "#fb9f3a"
             ],
             [
              0.8888888888888888,
              "#fdca26"
             ],
             [
              1,
              "#f0f921"
             ]
            ],
            "type": "histogram2d"
           }
          ],
          "histogram2dcontour": [
           {
            "colorbar": {
             "outlinewidth": 0,
             "ticks": ""
            },
            "colorscale": [
             [
              0,
              "#0d0887"
             ],
             [
              0.1111111111111111,
              "#46039f"
             ],
             [
              0.2222222222222222,
              "#7201a8"
             ],
             [
              0.3333333333333333,
              "#9c179e"
             ],
             [
              0.4444444444444444,
              "#bd3786"
             ],
             [
              0.5555555555555556,
              "#d8576b"
             ],
             [
              0.6666666666666666,
              "#ed7953"
             ],
             [
              0.7777777777777778,
              "#fb9f3a"
             ],
             [
              0.8888888888888888,
              "#fdca26"
             ],
             [
              1,
              "#f0f921"
             ]
            ],
            "type": "histogram2dcontour"
           }
          ],
          "mesh3d": [
           {
            "colorbar": {
             "outlinewidth": 0,
             "ticks": ""
            },
            "type": "mesh3d"
           }
          ],
          "parcoords": [
           {
            "line": {
             "colorbar": {
              "outlinewidth": 0,
              "ticks": ""
             }
            },
            "type": "parcoords"
           }
          ],
          "pie": [
           {
            "automargin": true,
            "type": "pie"
           }
          ],
          "scatter": [
           {
            "fillpattern": {
             "fillmode": "overlay",
             "size": 10,
             "solidity": 0.2
            },
            "type": "scatter"
           }
          ],
          "scatter3d": [
           {
            "line": {
             "colorbar": {
              "outlinewidth": 0,
              "ticks": ""
             }
            },
            "marker": {
             "colorbar": {
              "outlinewidth": 0,
              "ticks": ""
             }
            },
            "type": "scatter3d"
           }
          ],
          "scattercarpet": [
           {
            "marker": {
             "colorbar": {
              "outlinewidth": 0,
              "ticks": ""
             }
            },
            "type": "scattercarpet"
           }
          ],
          "scattergeo": [
           {
            "marker": {
             "colorbar": {
              "outlinewidth": 0,
              "ticks": ""
             }
            },
            "type": "scattergeo"
           }
          ],
          "scattergl": [
           {
            "marker": {
             "colorbar": {
              "outlinewidth": 0,
              "ticks": ""
             }
            },
            "type": "scattergl"
           }
          ],
          "scattermapbox": [
           {
            "marker": {
             "colorbar": {
              "outlinewidth": 0,
              "ticks": ""
             }
            },
            "type": "scattermapbox"
           }
          ],
          "scatterpolar": [
           {
            "marker": {
             "colorbar": {
              "outlinewidth": 0,
              "ticks": ""
             }
            },
            "type": "scatterpolar"
           }
          ],
          "scatterpolargl": [
           {
            "marker": {
             "colorbar": {
              "outlinewidth": 0,
              "ticks": ""
             }
            },
            "type": "scatterpolargl"
           }
          ],
          "scatterternary": [
           {
            "marker": {
             "colorbar": {
              "outlinewidth": 0,
              "ticks": ""
             }
            },
            "type": "scatterternary"
           }
          ],
          "surface": [
           {
            "colorbar": {
             "outlinewidth": 0,
             "ticks": ""
            },
            "colorscale": [
             [
              0,
              "#0d0887"
             ],
             [
              0.1111111111111111,
              "#46039f"
             ],
             [
              0.2222222222222222,
              "#7201a8"
             ],
             [
              0.3333333333333333,
              "#9c179e"
             ],
             [
              0.4444444444444444,
              "#bd3786"
             ],
             [
              0.5555555555555556,
              "#d8576b"
             ],
             [
              0.6666666666666666,
              "#ed7953"
             ],
             [
              0.7777777777777778,
              "#fb9f3a"
             ],
             [
              0.8888888888888888,
              "#fdca26"
             ],
             [
              1,
              "#f0f921"
             ]
            ],
            "type": "surface"
           }
          ],
          "table": [
           {
            "cells": {
             "fill": {
              "color": "#EBF0F8"
             },
             "line": {
              "color": "white"
             }
            },
            "header": {
             "fill": {
              "color": "#C8D4E3"
             },
             "line": {
              "color": "white"
             }
            },
            "type": "table"
           }
          ]
         },
         "layout": {
          "annotationdefaults": {
           "arrowcolor": "#2a3f5f",
           "arrowhead": 0,
           "arrowwidth": 1
          },
          "autotypenumbers": "strict",
          "coloraxis": {
           "colorbar": {
            "outlinewidth": 0,
            "ticks": ""
           }
          },
          "colorscale": {
           "diverging": [
            [
             0,
             "#8e0152"
            ],
            [
             0.1,
             "#c51b7d"
            ],
            [
             0.2,
             "#de77ae"
            ],
            [
             0.3,
             "#f1b6da"
            ],
            [
             0.4,
             "#fde0ef"
            ],
            [
             0.5,
             "#f7f7f7"
            ],
            [
             0.6,
             "#e6f5d0"
            ],
            [
             0.7,
             "#b8e186"
            ],
            [
             0.8,
             "#7fbc41"
            ],
            [
             0.9,
             "#4d9221"
            ],
            [
             1,
             "#276419"
            ]
           ],
           "sequential": [
            [
             0,
             "#0d0887"
            ],
            [
             0.1111111111111111,
             "#46039f"
            ],
            [
             0.2222222222222222,
             "#7201a8"
            ],
            [
             0.3333333333333333,
             "#9c179e"
            ],
            [
             0.4444444444444444,
             "#bd3786"
            ],
            [
             0.5555555555555556,
             "#d8576b"
            ],
            [
             0.6666666666666666,
             "#ed7953"
            ],
            [
             0.7777777777777778,
             "#fb9f3a"
            ],
            [
             0.8888888888888888,
             "#fdca26"
            ],
            [
             1,
             "#f0f921"
            ]
           ],
           "sequentialminus": [
            [
             0,
             "#0d0887"
            ],
            [
             0.1111111111111111,
             "#46039f"
            ],
            [
             0.2222222222222222,
             "#7201a8"
            ],
            [
             0.3333333333333333,
             "#9c179e"
            ],
            [
             0.4444444444444444,
             "#bd3786"
            ],
            [
             0.5555555555555556,
             "#d8576b"
            ],
            [
             0.6666666666666666,
             "#ed7953"
            ],
            [
             0.7777777777777778,
             "#fb9f3a"
            ],
            [
             0.8888888888888888,
             "#fdca26"
            ],
            [
             1,
             "#f0f921"
            ]
           ]
          },
          "colorway": [
           "#636efa",
           "#EF553B",
           "#00cc96",
           "#ab63fa",
           "#FFA15A",
           "#19d3f3",
           "#FF6692",
           "#B6E880",
           "#FF97FF",
           "#FECB52"
          ],
          "font": {
           "color": "#2a3f5f"
          },
          "geo": {
           "bgcolor": "white",
           "lakecolor": "white",
           "landcolor": "#E5ECF6",
           "showlakes": true,
           "showland": true,
           "subunitcolor": "white"
          },
          "hoverlabel": {
           "align": "left"
          },
          "hovermode": "closest",
          "mapbox": {
           "style": "light"
          },
          "paper_bgcolor": "white",
          "plot_bgcolor": "#E5ECF6",
          "polar": {
           "angularaxis": {
            "gridcolor": "white",
            "linecolor": "white",
            "ticks": ""
           },
           "bgcolor": "#E5ECF6",
           "radialaxis": {
            "gridcolor": "white",
            "linecolor": "white",
            "ticks": ""
           }
          },
          "scene": {
           "xaxis": {
            "backgroundcolor": "#E5ECF6",
            "gridcolor": "white",
            "gridwidth": 2,
            "linecolor": "white",
            "showbackground": true,
            "ticks": "",
            "zerolinecolor": "white"
           },
           "yaxis": {
            "backgroundcolor": "#E5ECF6",
            "gridcolor": "white",
            "gridwidth": 2,
            "linecolor": "white",
            "showbackground": true,
            "ticks": "",
            "zerolinecolor": "white"
           },
           "zaxis": {
            "backgroundcolor": "#E5ECF6",
            "gridcolor": "white",
            "gridwidth": 2,
            "linecolor": "white",
            "showbackground": true,
            "ticks": "",
            "zerolinecolor": "white"
           }
          },
          "shapedefaults": {
           "line": {
            "color": "#2a3f5f"
           }
          },
          "ternary": {
           "aaxis": {
            "gridcolor": "white",
            "linecolor": "white",
            "ticks": ""
           },
           "baxis": {
            "gridcolor": "white",
            "linecolor": "white",
            "ticks": ""
           },
           "bgcolor": "#E5ECF6",
           "caxis": {
            "gridcolor": "white",
            "linecolor": "white",
            "ticks": ""
           }
          },
          "title": {
           "x": 0.05
          },
          "xaxis": {
           "automargin": true,
           "gridcolor": "white",
           "linecolor": "white",
           "ticks": "",
           "title": {
            "standoff": 15
           },
           "zerolinecolor": "white",
           "zerolinewidth": 2
          },
          "yaxis": {
           "automargin": true,
           "gridcolor": "white",
           "linecolor": "white",
           "ticks": "",
           "title": {
            "standoff": 15
           },
           "zerolinecolor": "white",
           "zerolinewidth": 2
          }
         }
        },
        "title": {
         "font": {
          "color": "#4D5663"
         }
        },
        "xaxis": {
         "gridcolor": "#E1E5ED",
         "showgrid": true,
         "tickfont": {
          "color": "#4D5663"
         },
         "title": {
          "font": {
           "color": "#4D5663"
          },
          "text": ""
         },
         "zerolinecolor": "#E1E5ED"
        },
        "yaxis": {
         "gridcolor": "#E1E5ED",
         "showgrid": true,
         "tickfont": {
          "color": "#4D5663"
         },
         "title": {
          "font": {
           "color": "#4D5663"
          },
          "text": ""
         },
         "zerolinecolor": "#E1E5ED"
        }
       }
      },
      "text/html": [
       "<div>                            <div id=\"980682ac-65a3-41e9-b102-267f174cffcf\" class=\"plotly-graph-div\" style=\"height:525px; width:100%;\"></div>            <script type=\"text/javascript\">                require([\"plotly\"], function(Plotly) {                    window.PLOTLYENV=window.PLOTLYENV || {};\n",
       "                    window.PLOTLYENV.BASE_URL='https://plot.ly';                                    if (document.getElementById(\"980682ac-65a3-41e9-b102-267f174cffcf\")) {                    Plotly.newPlot(                        \"980682ac-65a3-41e9-b102-267f174cffcf\",                        [{\"marker\":{\"color\":\"rgba(255, 153, 51, 0.6)\",\"line\":{\"color\":\"rgba(255, 153, 51, 1.0)\",\"width\":1}},\"name\":\"None\",\"orientation\":\"v\",\"text\":\"\",\"x\":[\"A\",\"B\",\"C\",\"D\"],\"y\":[100,100,100,100],\"type\":\"bar\"}],                        {\"legend\":{\"bgcolor\":\"#F5F6F9\",\"font\":{\"color\":\"#4D5663\"}},\"paper_bgcolor\":\"#F5F6F9\",\"plot_bgcolor\":\"#F5F6F9\",\"template\":{\"data\":{\"barpolar\":[{\"marker\":{\"line\":{\"color\":\"#E5ECF6\",\"width\":0.5},\"pattern\":{\"fillmode\":\"overlay\",\"size\":10,\"solidity\":0.2}},\"type\":\"barpolar\"}],\"bar\":[{\"error_x\":{\"color\":\"#2a3f5f\"},\"error_y\":{\"color\":\"#2a3f5f\"},\"marker\":{\"line\":{\"color\":\"#E5ECF6\",\"width\":0.5},\"pattern\":{\"fillmode\":\"overlay\",\"size\":10,\"solidity\":0.2}},\"type\":\"bar\"}],\"carpet\":[{\"aaxis\":{\"endlinecolor\":\"#2a3f5f\",\"gridcolor\":\"white\",\"linecolor\":\"white\",\"minorgridcolor\":\"white\",\"startlinecolor\":\"#2a3f5f\"},\"baxis\":{\"endlinecolor\":\"#2a3f5f\",\"gridcolor\":\"white\",\"linecolor\":\"white\",\"minorgridcolor\":\"white\",\"startlinecolor\":\"#2a3f5f\"},\"type\":\"carpet\"}],\"choropleth\":[{\"colorbar\":{\"outlinewidth\":0,\"ticks\":\"\"},\"type\":\"choropleth\"}],\"contourcarpet\":[{\"colorbar\":{\"outlinewidth\":0,\"ticks\":\"\"},\"type\":\"contourcarpet\"}],\"contour\":[{\"colorbar\":{\"outlinewidth\":0,\"ticks\":\"\"},\"colorscale\":[[0.0,\"#0d0887\"],[0.1111111111111111,\"#46039f\"],[0.2222222222222222,\"#7201a8\"],[0.3333333333333333,\"#9c179e\"],[0.4444444444444444,\"#bd3786\"],[0.5555555555555556,\"#d8576b\"],[0.6666666666666666,\"#ed7953\"],[0.7777777777777778,\"#fb9f3a\"],[0.8888888888888888,\"#fdca26\"],[1.0,\"#f0f921\"]],\"type\":\"contour\"}],\"heatmapgl\":[{\"colorbar\":{\"outlinewidth\":0,\"ticks\":\"\"},\"colorscale\":[[0.0,\"#0d0887\"],[0.1111111111111111,\"#46039f\"],[0.2222222222222222,\"#7201a8\"],[0.3333333333333333,\"#9c179e\"],[0.4444444444444444,\"#bd3786\"],[0.5555555555555556,\"#d8576b\"],[0.6666666666666666,\"#ed7953\"],[0.7777777777777778,\"#fb9f3a\"],[0.8888888888888888,\"#fdca26\"],[1.0,\"#f0f921\"]],\"type\":\"heatmapgl\"}],\"heatmap\":[{\"colorbar\":{\"outlinewidth\":0,\"ticks\":\"\"},\"colorscale\":[[0.0,\"#0d0887\"],[0.1111111111111111,\"#46039f\"],[0.2222222222222222,\"#7201a8\"],[0.3333333333333333,\"#9c179e\"],[0.4444444444444444,\"#bd3786\"],[0.5555555555555556,\"#d8576b\"],[0.6666666666666666,\"#ed7953\"],[0.7777777777777778,\"#fb9f3a\"],[0.8888888888888888,\"#fdca26\"],[1.0,\"#f0f921\"]],\"type\":\"heatmap\"}],\"histogram2dcontour\":[{\"colorbar\":{\"outlinewidth\":0,\"ticks\":\"\"},\"colorscale\":[[0.0,\"#0d0887\"],[0.1111111111111111,\"#46039f\"],[0.2222222222222222,\"#7201a8\"],[0.3333333333333333,\"#9c179e\"],[0.4444444444444444,\"#bd3786\"],[0.5555555555555556,\"#d8576b\"],[0.6666666666666666,\"#ed7953\"],[0.7777777777777778,\"#fb9f3a\"],[0.8888888888888888,\"#fdca26\"],[1.0,\"#f0f921\"]],\"type\":\"histogram2dcontour\"}],\"histogram2d\":[{\"colorbar\":{\"outlinewidth\":0,\"ticks\":\"\"},\"colorscale\":[[0.0,\"#0d0887\"],[0.1111111111111111,\"#46039f\"],[0.2222222222222222,\"#7201a8\"],[0.3333333333333333,\"#9c179e\"],[0.4444444444444444,\"#bd3786\"],[0.5555555555555556,\"#d8576b\"],[0.6666666666666666,\"#ed7953\"],[0.7777777777777778,\"#fb9f3a\"],[0.8888888888888888,\"#fdca26\"],[1.0,\"#f0f921\"]],\"type\":\"histogram2d\"}],\"histogram\":[{\"marker\":{\"pattern\":{\"fillmode\":\"overlay\",\"size\":10,\"solidity\":0.2}},\"type\":\"histogram\"}],\"mesh3d\":[{\"colorbar\":{\"outlinewidth\":0,\"ticks\":\"\"},\"type\":\"mesh3d\"}],\"parcoords\":[{\"line\":{\"colorbar\":{\"outlinewidth\":0,\"ticks\":\"\"}},\"type\":\"parcoords\"}],\"pie\":[{\"automargin\":true,\"type\":\"pie\"}],\"scatter3d\":[{\"line\":{\"colorbar\":{\"outlinewidth\":0,\"ticks\":\"\"}},\"marker\":{\"colorbar\":{\"outlinewidth\":0,\"ticks\":\"\"}},\"type\":\"scatter3d\"}],\"scattercarpet\":[{\"marker\":{\"colorbar\":{\"outlinewidth\":0,\"ticks\":\"\"}},\"type\":\"scattercarpet\"}],\"scattergeo\":[{\"marker\":{\"colorbar\":{\"outlinewidth\":0,\"ticks\":\"\"}},\"type\":\"scattergeo\"}],\"scattergl\":[{\"marker\":{\"colorbar\":{\"outlinewidth\":0,\"ticks\":\"\"}},\"type\":\"scattergl\"}],\"scattermapbox\":[{\"marker\":{\"colorbar\":{\"outlinewidth\":0,\"ticks\":\"\"}},\"type\":\"scattermapbox\"}],\"scatterpolargl\":[{\"marker\":{\"colorbar\":{\"outlinewidth\":0,\"ticks\":\"\"}},\"type\":\"scatterpolargl\"}],\"scatterpolar\":[{\"marker\":{\"colorbar\":{\"outlinewidth\":0,\"ticks\":\"\"}},\"type\":\"scatterpolar\"}],\"scatter\":[{\"fillpattern\":{\"fillmode\":\"overlay\",\"size\":10,\"solidity\":0.2},\"type\":\"scatter\"}],\"scatterternary\":[{\"marker\":{\"colorbar\":{\"outlinewidth\":0,\"ticks\":\"\"}},\"type\":\"scatterternary\"}],\"surface\":[{\"colorbar\":{\"outlinewidth\":0,\"ticks\":\"\"},\"colorscale\":[[0.0,\"#0d0887\"],[0.1111111111111111,\"#46039f\"],[0.2222222222222222,\"#7201a8\"],[0.3333333333333333,\"#9c179e\"],[0.4444444444444444,\"#bd3786\"],[0.5555555555555556,\"#d8576b\"],[0.6666666666666666,\"#ed7953\"],[0.7777777777777778,\"#fb9f3a\"],[0.8888888888888888,\"#fdca26\"],[1.0,\"#f0f921\"]],\"type\":\"surface\"}],\"table\":[{\"cells\":{\"fill\":{\"color\":\"#EBF0F8\"},\"line\":{\"color\":\"white\"}},\"header\":{\"fill\":{\"color\":\"#C8D4E3\"},\"line\":{\"color\":\"white\"}},\"type\":\"table\"}]},\"layout\":{\"annotationdefaults\":{\"arrowcolor\":\"#2a3f5f\",\"arrowhead\":0,\"arrowwidth\":1},\"autotypenumbers\":\"strict\",\"coloraxis\":{\"colorbar\":{\"outlinewidth\":0,\"ticks\":\"\"}},\"colorscale\":{\"diverging\":[[0,\"#8e0152\"],[0.1,\"#c51b7d\"],[0.2,\"#de77ae\"],[0.3,\"#f1b6da\"],[0.4,\"#fde0ef\"],[0.5,\"#f7f7f7\"],[0.6,\"#e6f5d0\"],[0.7,\"#b8e186\"],[0.8,\"#7fbc41\"],[0.9,\"#4d9221\"],[1,\"#276419\"]],\"sequential\":[[0.0,\"#0d0887\"],[0.1111111111111111,\"#46039f\"],[0.2222222222222222,\"#7201a8\"],[0.3333333333333333,\"#9c179e\"],[0.4444444444444444,\"#bd3786\"],[0.5555555555555556,\"#d8576b\"],[0.6666666666666666,\"#ed7953\"],[0.7777777777777778,\"#fb9f3a\"],[0.8888888888888888,\"#fdca26\"],[1.0,\"#f0f921\"]],\"sequentialminus\":[[0.0,\"#0d0887\"],[0.1111111111111111,\"#46039f\"],[0.2222222222222222,\"#7201a8\"],[0.3333333333333333,\"#9c179e\"],[0.4444444444444444,\"#bd3786\"],[0.5555555555555556,\"#d8576b\"],[0.6666666666666666,\"#ed7953\"],[0.7777777777777778,\"#fb9f3a\"],[0.8888888888888888,\"#fdca26\"],[1.0,\"#f0f921\"]]},\"colorway\":[\"#636efa\",\"#EF553B\",\"#00cc96\",\"#ab63fa\",\"#FFA15A\",\"#19d3f3\",\"#FF6692\",\"#B6E880\",\"#FF97FF\",\"#FECB52\"],\"font\":{\"color\":\"#2a3f5f\"},\"geo\":{\"bgcolor\":\"white\",\"lakecolor\":\"white\",\"landcolor\":\"#E5ECF6\",\"showlakes\":true,\"showland\":true,\"subunitcolor\":\"white\"},\"hoverlabel\":{\"align\":\"left\"},\"hovermode\":\"closest\",\"mapbox\":{\"style\":\"light\"},\"paper_bgcolor\":\"white\",\"plot_bgcolor\":\"#E5ECF6\",\"polar\":{\"angularaxis\":{\"gridcolor\":\"white\",\"linecolor\":\"white\",\"ticks\":\"\"},\"bgcolor\":\"#E5ECF6\",\"radialaxis\":{\"gridcolor\":\"white\",\"linecolor\":\"white\",\"ticks\":\"\"}},\"scene\":{\"xaxis\":{\"backgroundcolor\":\"#E5ECF6\",\"gridcolor\":\"white\",\"gridwidth\":2,\"linecolor\":\"white\",\"showbackground\":true,\"ticks\":\"\",\"zerolinecolor\":\"white\"},\"yaxis\":{\"backgroundcolor\":\"#E5ECF6\",\"gridcolor\":\"white\",\"gridwidth\":2,\"linecolor\":\"white\",\"showbackground\":true,\"ticks\":\"\",\"zerolinecolor\":\"white\"},\"zaxis\":{\"backgroundcolor\":\"#E5ECF6\",\"gridcolor\":\"white\",\"gridwidth\":2,\"linecolor\":\"white\",\"showbackground\":true,\"ticks\":\"\",\"zerolinecolor\":\"white\"}},\"shapedefaults\":{\"line\":{\"color\":\"#2a3f5f\"}},\"ternary\":{\"aaxis\":{\"gridcolor\":\"white\",\"linecolor\":\"white\",\"ticks\":\"\"},\"baxis\":{\"gridcolor\":\"white\",\"linecolor\":\"white\",\"ticks\":\"\"},\"bgcolor\":\"#E5ECF6\",\"caxis\":{\"gridcolor\":\"white\",\"linecolor\":\"white\",\"ticks\":\"\"}},\"title\":{\"x\":0.05},\"xaxis\":{\"automargin\":true,\"gridcolor\":\"white\",\"linecolor\":\"white\",\"ticks\":\"\",\"title\":{\"standoff\":15},\"zerolinecolor\":\"white\",\"zerolinewidth\":2},\"yaxis\":{\"automargin\":true,\"gridcolor\":\"white\",\"linecolor\":\"white\",\"ticks\":\"\",\"title\":{\"standoff\":15},\"zerolinecolor\":\"white\",\"zerolinewidth\":2}}},\"title\":{\"font\":{\"color\":\"#4D5663\"}},\"xaxis\":{\"gridcolor\":\"#E1E5ED\",\"showgrid\":true,\"tickfont\":{\"color\":\"#4D5663\"},\"title\":{\"font\":{\"color\":\"#4D5663\"},\"text\":\"\"},\"zerolinecolor\":\"#E1E5ED\"},\"yaxis\":{\"gridcolor\":\"#E1E5ED\",\"showgrid\":true,\"tickfont\":{\"color\":\"#4D5663\"},\"title\":{\"font\":{\"color\":\"#4D5663\"},\"text\":\"\"},\"zerolinecolor\":\"#E1E5ED\"}},                        {\"showLink\": true, \"linkText\": \"Export to plot.ly\", \"plotlyServerURL\": \"https://plot.ly\", \"responsive\": true}                    ).then(function(){\n",
       "                            \n",
       "var gd = document.getElementById('980682ac-65a3-41e9-b102-267f174cffcf');\n",
       "var x = new MutationObserver(function (mutations, observer) {{\n",
       "        var display = window.getComputedStyle(gd).display;\n",
       "        if (!display || display === 'none') {{\n",
       "            console.log([gd, 'removed!']);\n",
       "            Plotly.purge(gd);\n",
       "            observer.disconnect();\n",
       "        }}\n",
       "}});\n",
       "\n",
       "// Listen for the removal of the full notebook cells\n",
       "var notebookContainer = gd.closest('#notebook-container');\n",
       "if (notebookContainer) {{\n",
       "    x.observe(notebookContainer, {childList: true});\n",
       "}}\n",
       "\n",
       "// Listen for the clearing of the current output cell\n",
       "var outputEl = gd.closest('.output');\n",
       "if (outputEl) {{\n",
       "    x.observe(outputEl, {childList: true});\n",
       "}}\n",
       "\n",
       "                        })                };                });            </script>        </div>"
      ]
     },
     "metadata": {},
     "output_type": "display_data"
    }
   ],
   "source": [
    "df.count().iplot(kind='bar')"
   ]
  },
  {
   "cell_type": "markdown",
   "metadata": {},
   "source": [
    "## Boxplots"
   ]
  },
  {
   "cell_type": "code",
   "execution_count": 15,
   "metadata": {},
   "outputs": [
    {
     "data": {
      "application/vnd.plotly.v1+json": {
       "config": {
        "linkText": "Export to plot.ly",
        "plotlyServerURL": "https://plot.ly",
        "showLink": true
       },
       "data": [
        {
         "boxpoints": false,
         "line": {
          "width": 1.3
         },
         "marker": {
          "color": "rgba(255, 153, 51, 1.0)"
         },
         "name": "A",
         "orientation": "v",
         "type": "box",
         "y": [
          -0.07455973164460492,
          0.10684607028138204,
          0.05174438274182425,
          1.8834582400552635,
          -0.7394873566653477,
          -0.20509986347008477,
          -0.03414545421950641,
          -0.6213525131646722,
          0.571263033821104,
          1.180464181279357,
          -0.203734605785186,
          0.7347661916372418,
          0.2859474736202656,
          0.04076517450424396,
          -0.9575891661839521,
          -1.4309383761629788,
          2.2550368651025283,
          -0.9940639812563287,
          0.799337873179283,
          -1.257878293181983,
          0.4179499111762863,
          0.3002148423464334,
          -1.1504058019430792,
          0.08143088735081103,
          0.48039194150290004,
          -0.6650657342765216,
          1.1156620567673445,
          1.6819828126747252,
          0.3100427456611766,
          -0.35556202725992564,
          0.5734972173901176,
          0.32590737332398945,
          0.26434526538445485,
          -0.28767952859901297,
          0.46220729582394343,
          -0.5818941295153186,
          1.285059720736958,
          1.5048915259613318,
          -0.6639248043990625,
          0.7636007895359088,
          -0.6463548675362586,
          0.4119553800931602,
          -0.41800965879757407,
          -0.9291745756491012,
          0.5941812800033995,
          0.6495415877446266,
          0.1446736681969964,
          0.26828186676311594,
          0.13889888661810415,
          -0.6067198644564883,
          -0.5830985850290649,
          -0.44261895162747866,
          -0.16593121692532206,
          1.5766366939770549,
          -0.9488282786185461,
          -0.47334557392170873,
          -2.9681775620277215,
          -0.25029734336535486,
          -1.1711717647996238,
          -0.6639685633213962,
          -1.5666336819385447,
          -0.8675551693083899,
          0.9365429397079991,
          0.15072665081471726,
          1.1852234520751472,
          -0.08290956220307087,
          -1.1017174229562567,
          -0.5198271089769748,
          0.37018057099191115,
          0.6484073753005931,
          -0.1590182089390411,
          -1.2123900485249766,
          -0.2362259963300999,
          -0.9316538839457773,
          -0.7702588740652273,
          1.4701363779831127,
          1.7874391009354653,
          0.24616432107668124,
          -1.182643305480476,
          0.35443322915141356,
          -0.4842531774514151,
          -0.44909134669233536,
          -0.5668275896818619,
          0.4175639632896596,
          -1.2611360990304046,
          -0.008206696883240246,
          -0.10979708777038237,
          0.49243560590286795,
          0.8213310947530663,
          -0.267726403403628,
          -1.2515625109561188,
          0.630999102938369,
          0.1713145260658875,
          -1.3560217445320064,
          -1.1258620552644414,
          1.095337440779493,
          1.7240614552766635,
          0.18149760823613265,
          -0.33113981029074463,
          -0.7243911418227783
         ]
        },
        {
         "boxpoints": false,
         "line": {
          "width": 1.3
         },
         "marker": {
          "color": "rgba(55, 128, 191, 1.0)"
         },
         "name": "B",
         "orientation": "v",
         "type": "box",
         "y": [
          0.20695886201338964,
          2.2267140798834366,
          2.0606705606804248,
          -0.47751358803428084,
          -0.8265999208195308,
          0.3683847538936354,
          -0.9215058882049292,
          0.2010981971926559,
          -2.612024672660992,
          1.994860248642683,
          0.6474845780135272,
          -1.4695376336420343,
          0.25329507946952484,
          -0.8847748430992944,
          0.01108872266051941,
          -1.1635524981707588,
          -0.16334248185299458,
          0.37081708914041467,
          -0.3744953167142966,
          0.25997366036222974,
          0.6587716974050809,
          -1.153664670868084,
          -1.697491236131132,
          0.7995087387377215,
          1.051287349057648,
          0.26519966512043014,
          0.16665172934102204,
          -0.9207235935854554,
          0.19392919045612925,
          0.30514185806513633,
          1.153170562731266,
          0.6444165797703777,
          0.10095403561272143,
          -1.3779799142755011,
          1.0886785013466902,
          0.4207240802224743,
          1.1386223070602004,
          -0.41875441978934674,
          1.1045931338539758,
          0.6514247563808732,
          -1.5404052766834295,
          -0.07015676241255123,
          0.34211903144043065,
          -0.18534612927812716,
          -1.8520443646410083,
          1.4319920389190104,
          1.1387925527034235,
          0.2698880956788044,
          0.1878047757021268,
          1.7741986146424833,
          0.22768156026066996,
          -0.20014286651396568,
          2.059179137491171,
          0.35223369637447816,
          0.05263010640213276,
          1.7322067881044543,
          -0.7745478394440942,
          2.0680320286556824,
          -0.6321155047266144,
          1.2659416243146926,
          0.4722821822143342,
          1.642169097988724,
          -1.7521377798815267,
          0.3727959530975647,
          -1.965263310446799,
          -1.0712504506589524,
          0.5342752099185382,
          -1.1298074723535294,
          -0.5580156206841335,
          0.823614953289078,
          -0.5479781763338187,
          -1.6514759368126157,
          -0.2328958270228804,
          1.4625741873716016,
          0.3342124737309676,
          1.3772224066244865,
          0.20175951418821808,
          0.2501868306006938,
          0.32303507776168344,
          0.5721589323589801,
          -1.3176653867942356,
          0.2393598296204175,
          0.929162936792238,
          0.43767400300848264,
          -0.08169926569148139,
          0.4789983045336972,
          -0.5059754539470817,
          0.46797344213078973,
          -0.7757631159400264,
          -1.4756298170780817,
          1.1509293631614974,
          0.6429496420266005,
          -0.4212609077669692,
          -0.4359617643911458,
          0.6020198623608694,
          -1.0543687019171408,
          -1.2676827628690235,
          0.14146548854024957,
          -0.5593082511505357,
          0.3558988051040138
         ]
        },
        {
         "boxpoints": false,
         "line": {
          "width": 1.3
         },
         "marker": {
          "color": "rgba(50, 171, 96, 1.0)"
         },
         "name": "C",
         "orientation": "v",
         "type": "box",
         "y": [
          -1.081269945135512,
          1.4994251562217111,
          -0.3119790245764006,
          -0.5700454804125089,
          -0.807023809252038,
          -0.5799702673215373,
          -0.09435532278377927,
          -0.31608968822404326,
          0.18299585804559182,
          0.3091374615684443,
          0.18201094779020607,
          -2.345641909923838,
          -0.13252030691115732,
          0.13238668905978415,
          1.1817837329912397,
          2.264407928958368,
          -0.8472059592401834,
          -1.3313848084966844,
          -0.08922639782092631,
          -1.4710730962481993,
          -0.6869991971293106,
          1.4778045441065182,
          1.1846977951460802,
          0.6607245948496702,
          0.1837760942987446,
          0.13627332908572537,
          -0.9257935097369108,
          -0.3631151365640535,
          -0.6530648937591993,
          0.007354264774219916,
          -0.8419688962869191,
          -1.7490095299427195,
          0.6203734953047744,
          1.1391677148048978,
          -0.3021498266477652,
          -0.2937454543805988,
          -1.3444898920202757,
          2.118046703207983,
          -0.743988751474283,
          -0.06963261339083487,
          -0.7996020752935274,
          -1.005798935187391,
          0.6701806296993339,
          -0.6113273408094672,
          1.8289686346629874,
          -1.3394559641761112,
          -0.15407754183638855,
          0.025477647925172372,
          0.22286592407597883,
          0.3586554102522154,
          -2.2207179594666115,
          -0.40609938632199105,
          0.8094387812022237,
          -0.409573014214997,
          -0.8624321442746868,
          -1.9900524733870248,
          -1.0621179123329199,
          0.17986964017037582,
          1.0936096630745618,
          -0.9569389898844811,
          -1.562862175503904,
          -0.011921576470930798,
          1.3255715669392727,
          -1.382966569593766,
          0.38060846600902815,
          0.023047012426766652,
          -0.10277895493911231,
          1.5766710606284269,
          1.0583807147051052,
          -0.028171066628308445,
          -0.7937277667327526,
          0.057974528758083864,
          0.45368708403810293,
          2.6283832133335965,
          1.0962176916034292,
          -0.1151122014513563,
          0.6066877991292793,
          -0.2496558126535614,
          0.7409857518887422,
          0.050310440543480495,
          1.1876527493678348,
          -0.32420002066467346,
          -0.7981078819489894,
          -0.11361464678331062,
          0.5705180150672012,
          -0.4653425859355932,
          1.2342526285328859,
          0.2674674107633959,
          -1.016193485761706,
          1.0469501273664463,
          0.06132106469109561,
          -0.3323035531320329,
          -1.4426210871023315,
          -0.6653133214293154,
          -0.4366264762884827,
          -1.2677628403645937,
          0.7813374855286151,
          0.49900218669676677,
          0.06659306844027807,
          2.4936858180276675
         ]
        },
        {
         "boxpoints": false,
         "line": {
          "width": 1.3
         },
         "marker": {
          "color": "rgba(128, 0, 128, 1.0)"
         },
         "name": "D",
         "orientation": "v",
         "type": "box",
         "y": [
          -0.8530464835686923,
          -0.9777211704949056,
          0.3671196294852984,
          0.7863072630984241,
          -1.0253861618314224,
          -0.4696397181389764,
          -0.6754239467268804,
          -0.3525284257974691,
          0.35479805241940754,
          -0.7083751409954576,
          1.0404062935691023,
          0.7232705225139738,
          -0.9458574170779152,
          -1.0937615085377304,
          0.6756009722227514,
          0.6754446860653938,
          -0.1540404335992706,
          -0.141838683385397,
          -1.9892866572395724,
          0.3262877045144788,
          -0.060912459662740503,
          0.7845234308016186,
          -0.8242176129734604,
          -0.696438279410444,
          1.3817725610609137,
          0.35013877794633497,
          0.7050803261791581,
          -0.313775937565349,
          -2.0822056554745427,
          -0.10495537796933573,
          0.4636166809545198,
          -0.4459029690784089,
          0.8292241120612767,
          1.2498512054626933,
          -0.49676866730921915,
          0.13572952910264804,
          -1.113134522240766,
          2.288876218225101,
          -0.027811988637406377,
          -0.014057354296969091,
          0.5941968980230878,
          0.7322196570655919,
          1.1376483490535065,
          -0.8061223662897936,
          1.0326704363100077,
          -1.0187555953747782,
          -0.7936986024875148,
          1.7250128752515284,
          -0.6907202876570452,
          1.1900466223571298,
          1.9829040794618682,
          -0.05518654612497724,
          -1.2732888394215272,
          -1.2033601621334395,
          -0.5077914994901958,
          -0.43038293124055405,
          -0.3088363031248792,
          0.02943936309552351,
          -1.2048038000864694,
          0.30210575820803937,
          -0.06400315095343355,
          -0.15176022595000632,
          0.4368484734463497,
          -0.5662310539363955,
          -0.9447988089482128,
          -0.6540711251538077,
          1.7793433754351027,
          0.23298373678295095,
          -1.280767886637018,
          -0.7754852937075334,
          -0.10400263262798473,
          -1.1157701073521156,
          0.22097666363929264,
          2.7024387581477134,
          -1.4309695428736593,
          0.876814390353818,
          -0.6273886791946258,
          -2.031881987131689,
          -1.0275083360189055,
          1.0592819257519337,
          -2.1620664985606393,
          0.27275525695182595,
          -0.447319165016932,
          0.4136715494169879,
          -2.288296945942758,
          -0.8127296548244415,
          -1.1266256532788121,
          -0.8215384686469209,
          -0.4872430165453182,
          -0.022574262627463378,
          -0.5843216053975311,
          0.011099364916450943,
          -0.5373376805509293,
          -2.2805091631118457,
          0.2922998628626371,
          -0.7207546091003253,
          0.39648514446519356,
          -0.8340295828931642,
          0.17768328109566717,
          0.9023490222152702
         ]
        }
       ],
       "layout": {
        "legend": {
         "bgcolor": "#F5F6F9",
         "font": {
          "color": "#4D5663"
         }
        },
        "paper_bgcolor": "#F5F6F9",
        "plot_bgcolor": "#F5F6F9",
        "template": {
         "data": {
          "bar": [
           {
            "error_x": {
             "color": "#2a3f5f"
            },
            "error_y": {
             "color": "#2a3f5f"
            },
            "marker": {
             "line": {
              "color": "#E5ECF6",
              "width": 0.5
             },
             "pattern": {
              "fillmode": "overlay",
              "size": 10,
              "solidity": 0.2
             }
            },
            "type": "bar"
           }
          ],
          "barpolar": [
           {
            "marker": {
             "line": {
              "color": "#E5ECF6",
              "width": 0.5
             },
             "pattern": {
              "fillmode": "overlay",
              "size": 10,
              "solidity": 0.2
             }
            },
            "type": "barpolar"
           }
          ],
          "carpet": [
           {
            "aaxis": {
             "endlinecolor": "#2a3f5f",
             "gridcolor": "white",
             "linecolor": "white",
             "minorgridcolor": "white",
             "startlinecolor": "#2a3f5f"
            },
            "baxis": {
             "endlinecolor": "#2a3f5f",
             "gridcolor": "white",
             "linecolor": "white",
             "minorgridcolor": "white",
             "startlinecolor": "#2a3f5f"
            },
            "type": "carpet"
           }
          ],
          "choropleth": [
           {
            "colorbar": {
             "outlinewidth": 0,
             "ticks": ""
            },
            "type": "choropleth"
           }
          ],
          "contour": [
           {
            "colorbar": {
             "outlinewidth": 0,
             "ticks": ""
            },
            "colorscale": [
             [
              0,
              "#0d0887"
             ],
             [
              0.1111111111111111,
              "#46039f"
             ],
             [
              0.2222222222222222,
              "#7201a8"
             ],
             [
              0.3333333333333333,
              "#9c179e"
             ],
             [
              0.4444444444444444,
              "#bd3786"
             ],
             [
              0.5555555555555556,
              "#d8576b"
             ],
             [
              0.6666666666666666,
              "#ed7953"
             ],
             [
              0.7777777777777778,
              "#fb9f3a"
             ],
             [
              0.8888888888888888,
              "#fdca26"
             ],
             [
              1,
              "#f0f921"
             ]
            ],
            "type": "contour"
           }
          ],
          "contourcarpet": [
           {
            "colorbar": {
             "outlinewidth": 0,
             "ticks": ""
            },
            "type": "contourcarpet"
           }
          ],
          "heatmap": [
           {
            "colorbar": {
             "outlinewidth": 0,
             "ticks": ""
            },
            "colorscale": [
             [
              0,
              "#0d0887"
             ],
             [
              0.1111111111111111,
              "#46039f"
             ],
             [
              0.2222222222222222,
              "#7201a8"
             ],
             [
              0.3333333333333333,
              "#9c179e"
             ],
             [
              0.4444444444444444,
              "#bd3786"
             ],
             [
              0.5555555555555556,
              "#d8576b"
             ],
             [
              0.6666666666666666,
              "#ed7953"
             ],
             [
              0.7777777777777778,
              "#fb9f3a"
             ],
             [
              0.8888888888888888,
              "#fdca26"
             ],
             [
              1,
              "#f0f921"
             ]
            ],
            "type": "heatmap"
           }
          ],
          "heatmapgl": [
           {
            "colorbar": {
             "outlinewidth": 0,
             "ticks": ""
            },
            "colorscale": [
             [
              0,
              "#0d0887"
             ],
             [
              0.1111111111111111,
              "#46039f"
             ],
             [
              0.2222222222222222,
              "#7201a8"
             ],
             [
              0.3333333333333333,
              "#9c179e"
             ],
             [
              0.4444444444444444,
              "#bd3786"
             ],
             [
              0.5555555555555556,
              "#d8576b"
             ],
             [
              0.6666666666666666,
              "#ed7953"
             ],
             [
              0.7777777777777778,
              "#fb9f3a"
             ],
             [
              0.8888888888888888,
              "#fdca26"
             ],
             [
              1,
              "#f0f921"
             ]
            ],
            "type": "heatmapgl"
           }
          ],
          "histogram": [
           {
            "marker": {
             "pattern": {
              "fillmode": "overlay",
              "size": 10,
              "solidity": 0.2
             }
            },
            "type": "histogram"
           }
          ],
          "histogram2d": [
           {
            "colorbar": {
             "outlinewidth": 0,
             "ticks": ""
            },
            "colorscale": [
             [
              0,
              "#0d0887"
             ],
             [
              0.1111111111111111,
              "#46039f"
             ],
             [
              0.2222222222222222,
              "#7201a8"
             ],
             [
              0.3333333333333333,
              "#9c179e"
             ],
             [
              0.4444444444444444,
              "#bd3786"
             ],
             [
              0.5555555555555556,
              "#d8576b"
             ],
             [
              0.6666666666666666,
              "#ed7953"
             ],
             [
              0.7777777777777778,
              "#fb9f3a"
             ],
             [
              0.8888888888888888,
              "#fdca26"
             ],
             [
              1,
              "#f0f921"
             ]
            ],
            "type": "histogram2d"
           }
          ],
          "histogram2dcontour": [
           {
            "colorbar": {
             "outlinewidth": 0,
             "ticks": ""
            },
            "colorscale": [
             [
              0,
              "#0d0887"
             ],
             [
              0.1111111111111111,
              "#46039f"
             ],
             [
              0.2222222222222222,
              "#7201a8"
             ],
             [
              0.3333333333333333,
              "#9c179e"
             ],
             [
              0.4444444444444444,
              "#bd3786"
             ],
             [
              0.5555555555555556,
              "#d8576b"
             ],
             [
              0.6666666666666666,
              "#ed7953"
             ],
             [
              0.7777777777777778,
              "#fb9f3a"
             ],
             [
              0.8888888888888888,
              "#fdca26"
             ],
             [
              1,
              "#f0f921"
             ]
            ],
            "type": "histogram2dcontour"
           }
          ],
          "mesh3d": [
           {
            "colorbar": {
             "outlinewidth": 0,
             "ticks": ""
            },
            "type": "mesh3d"
           }
          ],
          "parcoords": [
           {
            "line": {
             "colorbar": {
              "outlinewidth": 0,
              "ticks": ""
             }
            },
            "type": "parcoords"
           }
          ],
          "pie": [
           {
            "automargin": true,
            "type": "pie"
           }
          ],
          "scatter": [
           {
            "fillpattern": {
             "fillmode": "overlay",
             "size": 10,
             "solidity": 0.2
            },
            "type": "scatter"
           }
          ],
          "scatter3d": [
           {
            "line": {
             "colorbar": {
              "outlinewidth": 0,
              "ticks": ""
             }
            },
            "marker": {
             "colorbar": {
              "outlinewidth": 0,
              "ticks": ""
             }
            },
            "type": "scatter3d"
           }
          ],
          "scattercarpet": [
           {
            "marker": {
             "colorbar": {
              "outlinewidth": 0,
              "ticks": ""
             }
            },
            "type": "scattercarpet"
           }
          ],
          "scattergeo": [
           {
            "marker": {
             "colorbar": {
              "outlinewidth": 0,
              "ticks": ""
             }
            },
            "type": "scattergeo"
           }
          ],
          "scattergl": [
           {
            "marker": {
             "colorbar": {
              "outlinewidth": 0,
              "ticks": ""
             }
            },
            "type": "scattergl"
           }
          ],
          "scattermapbox": [
           {
            "marker": {
             "colorbar": {
              "outlinewidth": 0,
              "ticks": ""
             }
            },
            "type": "scattermapbox"
           }
          ],
          "scatterpolar": [
           {
            "marker": {
             "colorbar": {
              "outlinewidth": 0,
              "ticks": ""
             }
            },
            "type": "scatterpolar"
           }
          ],
          "scatterpolargl": [
           {
            "marker": {
             "colorbar": {
              "outlinewidth": 0,
              "ticks": ""
             }
            },
            "type": "scatterpolargl"
           }
          ],
          "scatterternary": [
           {
            "marker": {
             "colorbar": {
              "outlinewidth": 0,
              "ticks": ""
             }
            },
            "type": "scatterternary"
           }
          ],
          "surface": [
           {
            "colorbar": {
             "outlinewidth": 0,
             "ticks": ""
            },
            "colorscale": [
             [
              0,
              "#0d0887"
             ],
             [
              0.1111111111111111,
              "#46039f"
             ],
             [
              0.2222222222222222,
              "#7201a8"
             ],
             [
              0.3333333333333333,
              "#9c179e"
             ],
             [
              0.4444444444444444,
              "#bd3786"
             ],
             [
              0.5555555555555556,
              "#d8576b"
             ],
             [
              0.6666666666666666,
              "#ed7953"
             ],
             [
              0.7777777777777778,
              "#fb9f3a"
             ],
             [
              0.8888888888888888,
              "#fdca26"
             ],
             [
              1,
              "#f0f921"
             ]
            ],
            "type": "surface"
           }
          ],
          "table": [
           {
            "cells": {
             "fill": {
              "color": "#EBF0F8"
             },
             "line": {
              "color": "white"
             }
            },
            "header": {
             "fill": {
              "color": "#C8D4E3"
             },
             "line": {
              "color": "white"
             }
            },
            "type": "table"
           }
          ]
         },
         "layout": {
          "annotationdefaults": {
           "arrowcolor": "#2a3f5f",
           "arrowhead": 0,
           "arrowwidth": 1
          },
          "autotypenumbers": "strict",
          "coloraxis": {
           "colorbar": {
            "outlinewidth": 0,
            "ticks": ""
           }
          },
          "colorscale": {
           "diverging": [
            [
             0,
             "#8e0152"
            ],
            [
             0.1,
             "#c51b7d"
            ],
            [
             0.2,
             "#de77ae"
            ],
            [
             0.3,
             "#f1b6da"
            ],
            [
             0.4,
             "#fde0ef"
            ],
            [
             0.5,
             "#f7f7f7"
            ],
            [
             0.6,
             "#e6f5d0"
            ],
            [
             0.7,
             "#b8e186"
            ],
            [
             0.8,
             "#7fbc41"
            ],
            [
             0.9,
             "#4d9221"
            ],
            [
             1,
             "#276419"
            ]
           ],
           "sequential": [
            [
             0,
             "#0d0887"
            ],
            [
             0.1111111111111111,
             "#46039f"
            ],
            [
             0.2222222222222222,
             "#7201a8"
            ],
            [
             0.3333333333333333,
             "#9c179e"
            ],
            [
             0.4444444444444444,
             "#bd3786"
            ],
            [
             0.5555555555555556,
             "#d8576b"
            ],
            [
             0.6666666666666666,
             "#ed7953"
            ],
            [
             0.7777777777777778,
             "#fb9f3a"
            ],
            [
             0.8888888888888888,
             "#fdca26"
            ],
            [
             1,
             "#f0f921"
            ]
           ],
           "sequentialminus": [
            [
             0,
             "#0d0887"
            ],
            [
             0.1111111111111111,
             "#46039f"
            ],
            [
             0.2222222222222222,
             "#7201a8"
            ],
            [
             0.3333333333333333,
             "#9c179e"
            ],
            [
             0.4444444444444444,
             "#bd3786"
            ],
            [
             0.5555555555555556,
             "#d8576b"
            ],
            [
             0.6666666666666666,
             "#ed7953"
            ],
            [
             0.7777777777777778,
             "#fb9f3a"
            ],
            [
             0.8888888888888888,
             "#fdca26"
            ],
            [
             1,
             "#f0f921"
            ]
           ]
          },
          "colorway": [
           "#636efa",
           "#EF553B",
           "#00cc96",
           "#ab63fa",
           "#FFA15A",
           "#19d3f3",
           "#FF6692",
           "#B6E880",
           "#FF97FF",
           "#FECB52"
          ],
          "font": {
           "color": "#2a3f5f"
          },
          "geo": {
           "bgcolor": "white",
           "lakecolor": "white",
           "landcolor": "#E5ECF6",
           "showlakes": true,
           "showland": true,
           "subunitcolor": "white"
          },
          "hoverlabel": {
           "align": "left"
          },
          "hovermode": "closest",
          "mapbox": {
           "style": "light"
          },
          "paper_bgcolor": "white",
          "plot_bgcolor": "#E5ECF6",
          "polar": {
           "angularaxis": {
            "gridcolor": "white",
            "linecolor": "white",
            "ticks": ""
           },
           "bgcolor": "#E5ECF6",
           "radialaxis": {
            "gridcolor": "white",
            "linecolor": "white",
            "ticks": ""
           }
          },
          "scene": {
           "xaxis": {
            "backgroundcolor": "#E5ECF6",
            "gridcolor": "white",
            "gridwidth": 2,
            "linecolor": "white",
            "showbackground": true,
            "ticks": "",
            "zerolinecolor": "white"
           },
           "yaxis": {
            "backgroundcolor": "#E5ECF6",
            "gridcolor": "white",
            "gridwidth": 2,
            "linecolor": "white",
            "showbackground": true,
            "ticks": "",
            "zerolinecolor": "white"
           },
           "zaxis": {
            "backgroundcolor": "#E5ECF6",
            "gridcolor": "white",
            "gridwidth": 2,
            "linecolor": "white",
            "showbackground": true,
            "ticks": "",
            "zerolinecolor": "white"
           }
          },
          "shapedefaults": {
           "line": {
            "color": "#2a3f5f"
           }
          },
          "ternary": {
           "aaxis": {
            "gridcolor": "white",
            "linecolor": "white",
            "ticks": ""
           },
           "baxis": {
            "gridcolor": "white",
            "linecolor": "white",
            "ticks": ""
           },
           "bgcolor": "#E5ECF6",
           "caxis": {
            "gridcolor": "white",
            "linecolor": "white",
            "ticks": ""
           }
          },
          "title": {
           "x": 0.05
          },
          "xaxis": {
           "automargin": true,
           "gridcolor": "white",
           "linecolor": "white",
           "ticks": "",
           "title": {
            "standoff": 15
           },
           "zerolinecolor": "white",
           "zerolinewidth": 2
          },
          "yaxis": {
           "automargin": true,
           "gridcolor": "white",
           "linecolor": "white",
           "ticks": "",
           "title": {
            "standoff": 15
           },
           "zerolinecolor": "white",
           "zerolinewidth": 2
          }
         }
        },
        "title": {
         "font": {
          "color": "#4D5663"
         }
        },
        "xaxis": {
         "gridcolor": "#E1E5ED",
         "showgrid": true,
         "tickfont": {
          "color": "#4D5663"
         },
         "title": {
          "font": {
           "color": "#4D5663"
          },
          "text": ""
         },
         "zerolinecolor": "#E1E5ED"
        },
        "yaxis": {
         "gridcolor": "#E1E5ED",
         "showgrid": true,
         "tickfont": {
          "color": "#4D5663"
         },
         "title": {
          "font": {
           "color": "#4D5663"
          },
          "text": ""
         },
         "zerolinecolor": "#E1E5ED"
        }
       }
      },
      "text/html": [
       "<div>                            <div id=\"6028c0c5-03ef-4b28-8cb2-beb4fe277fb6\" class=\"plotly-graph-div\" style=\"height:525px; width:100%;\"></div>            <script type=\"text/javascript\">                require([\"plotly\"], function(Plotly) {                    window.PLOTLYENV=window.PLOTLYENV || {};\n",
       "                    window.PLOTLYENV.BASE_URL='https://plot.ly';                                    if (document.getElementById(\"6028c0c5-03ef-4b28-8cb2-beb4fe277fb6\")) {                    Plotly.newPlot(                        \"6028c0c5-03ef-4b28-8cb2-beb4fe277fb6\",                        [{\"boxpoints\":false,\"line\":{\"width\":1.3},\"marker\":{\"color\":\"rgba(255, 153, 51, 1.0)\"},\"name\":\"A\",\"orientation\":\"v\",\"y\":[-0.07455973164460492,0.10684607028138204,0.05174438274182425,1.8834582400552635,-0.7394873566653477,-0.20509986347008477,-0.03414545421950641,-0.6213525131646722,0.571263033821104,1.180464181279357,-0.203734605785186,0.7347661916372418,0.2859474736202656,0.04076517450424396,-0.9575891661839521,-1.4309383761629788,2.2550368651025283,-0.9940639812563287,0.799337873179283,-1.257878293181983,0.4179499111762863,0.3002148423464334,-1.1504058019430792,0.08143088735081103,0.48039194150290004,-0.6650657342765216,1.1156620567673445,1.6819828126747252,0.3100427456611766,-0.35556202725992564,0.5734972173901176,0.32590737332398945,0.26434526538445485,-0.28767952859901297,0.46220729582394343,-0.5818941295153186,1.285059720736958,1.5048915259613318,-0.6639248043990625,0.7636007895359088,-0.6463548675362586,0.4119553800931602,-0.41800965879757407,-0.9291745756491012,0.5941812800033995,0.6495415877446266,0.1446736681969964,0.26828186676311594,0.13889888661810415,-0.6067198644564883,-0.5830985850290649,-0.44261895162747866,-0.16593121692532206,1.5766366939770549,-0.9488282786185461,-0.47334557392170873,-2.9681775620277215,-0.25029734336535486,-1.1711717647996238,-0.6639685633213962,-1.5666336819385447,-0.8675551693083899,0.9365429397079991,0.15072665081471726,1.1852234520751472,-0.08290956220307087,-1.1017174229562567,-0.5198271089769748,0.37018057099191115,0.6484073753005931,-0.1590182089390411,-1.2123900485249766,-0.2362259963300999,-0.9316538839457773,-0.7702588740652273,1.4701363779831127,1.7874391009354653,0.24616432107668124,-1.182643305480476,0.35443322915141356,-0.4842531774514151,-0.44909134669233536,-0.5668275896818619,0.4175639632896596,-1.2611360990304046,-0.008206696883240246,-0.10979708777038237,0.49243560590286795,0.8213310947530663,-0.267726403403628,-1.2515625109561188,0.630999102938369,0.1713145260658875,-1.3560217445320064,-1.1258620552644414,1.095337440779493,1.7240614552766635,0.18149760823613265,-0.33113981029074463,-0.7243911418227783],\"type\":\"box\"},{\"boxpoints\":false,\"line\":{\"width\":1.3},\"marker\":{\"color\":\"rgba(55, 128, 191, 1.0)\"},\"name\":\"B\",\"orientation\":\"v\",\"y\":[0.20695886201338964,2.2267140798834366,2.0606705606804248,-0.47751358803428084,-0.8265999208195308,0.3683847538936354,-0.9215058882049292,0.2010981971926559,-2.612024672660992,1.994860248642683,0.6474845780135272,-1.4695376336420343,0.25329507946952484,-0.8847748430992944,0.01108872266051941,-1.1635524981707588,-0.16334248185299458,0.37081708914041467,-0.3744953167142966,0.25997366036222974,0.6587716974050809,-1.153664670868084,-1.697491236131132,0.7995087387377215,1.051287349057648,0.26519966512043014,0.16665172934102204,-0.9207235935854554,0.19392919045612925,0.30514185806513633,1.153170562731266,0.6444165797703777,0.10095403561272143,-1.3779799142755011,1.0886785013466902,0.4207240802224743,1.1386223070602004,-0.41875441978934674,1.1045931338539758,0.6514247563808732,-1.5404052766834295,-0.07015676241255123,0.34211903144043065,-0.18534612927812716,-1.8520443646410083,1.4319920389190104,1.1387925527034235,0.2698880956788044,0.1878047757021268,1.7741986146424833,0.22768156026066996,-0.20014286651396568,2.059179137491171,0.35223369637447816,0.05263010640213276,1.7322067881044543,-0.7745478394440942,2.0680320286556824,-0.6321155047266144,1.2659416243146926,0.4722821822143342,1.642169097988724,-1.7521377798815267,0.3727959530975647,-1.965263310446799,-1.0712504506589524,0.5342752099185382,-1.1298074723535294,-0.5580156206841335,0.823614953289078,-0.5479781763338187,-1.6514759368126157,-0.2328958270228804,1.4625741873716016,0.3342124737309676,1.3772224066244865,0.20175951418821808,0.2501868306006938,0.32303507776168344,0.5721589323589801,-1.3176653867942356,0.2393598296204175,0.929162936792238,0.43767400300848264,-0.08169926569148139,0.4789983045336972,-0.5059754539470817,0.46797344213078973,-0.7757631159400264,-1.4756298170780817,1.1509293631614974,0.6429496420266005,-0.4212609077669692,-0.4359617643911458,0.6020198623608694,-1.0543687019171408,-1.2676827628690235,0.14146548854024957,-0.5593082511505357,0.3558988051040138],\"type\":\"box\"},{\"boxpoints\":false,\"line\":{\"width\":1.3},\"marker\":{\"color\":\"rgba(50, 171, 96, 1.0)\"},\"name\":\"C\",\"orientation\":\"v\",\"y\":[-1.081269945135512,1.4994251562217111,-0.3119790245764006,-0.5700454804125089,-0.807023809252038,-0.5799702673215373,-0.09435532278377927,-0.31608968822404326,0.18299585804559182,0.3091374615684443,0.18201094779020607,-2.345641909923838,-0.13252030691115732,0.13238668905978415,1.1817837329912397,2.264407928958368,-0.8472059592401834,-1.3313848084966844,-0.08922639782092631,-1.4710730962481993,-0.6869991971293106,1.4778045441065182,1.1846977951460802,0.6607245948496702,0.1837760942987446,0.13627332908572537,-0.9257935097369108,-0.3631151365640535,-0.6530648937591993,0.007354264774219916,-0.8419688962869191,-1.7490095299427195,0.6203734953047744,1.1391677148048978,-0.3021498266477652,-0.2937454543805988,-1.3444898920202757,2.118046703207983,-0.743988751474283,-0.06963261339083487,-0.7996020752935274,-1.005798935187391,0.6701806296993339,-0.6113273408094672,1.8289686346629874,-1.3394559641761112,-0.15407754183638855,0.025477647925172372,0.22286592407597883,0.3586554102522154,-2.2207179594666115,-0.40609938632199105,0.8094387812022237,-0.409573014214997,-0.8624321442746868,-1.9900524733870248,-1.0621179123329199,0.17986964017037582,1.0936096630745618,-0.9569389898844811,-1.562862175503904,-0.011921576470930798,1.3255715669392727,-1.382966569593766,0.38060846600902815,0.023047012426766652,-0.10277895493911231,1.5766710606284269,1.0583807147051052,-0.028171066628308445,-0.7937277667327526,0.057974528758083864,0.45368708403810293,2.6283832133335965,1.0962176916034292,-0.1151122014513563,0.6066877991292793,-0.2496558126535614,0.7409857518887422,0.050310440543480495,1.1876527493678348,-0.32420002066467346,-0.7981078819489894,-0.11361464678331062,0.5705180150672012,-0.4653425859355932,1.2342526285328859,0.2674674107633959,-1.016193485761706,1.0469501273664463,0.06132106469109561,-0.3323035531320329,-1.4426210871023315,-0.6653133214293154,-0.4366264762884827,-1.2677628403645937,0.7813374855286151,0.49900218669676677,0.06659306844027807,2.4936858180276675],\"type\":\"box\"},{\"boxpoints\":false,\"line\":{\"width\":1.3},\"marker\":{\"color\":\"rgba(128, 0, 128, 1.0)\"},\"name\":\"D\",\"orientation\":\"v\",\"y\":[-0.8530464835686923,-0.9777211704949056,0.3671196294852984,0.7863072630984241,-1.0253861618314224,-0.4696397181389764,-0.6754239467268804,-0.3525284257974691,0.35479805241940754,-0.7083751409954576,1.0404062935691023,0.7232705225139738,-0.9458574170779152,-1.0937615085377304,0.6756009722227514,0.6754446860653938,-0.1540404335992706,-0.141838683385397,-1.9892866572395724,0.3262877045144788,-0.060912459662740503,0.7845234308016186,-0.8242176129734604,-0.696438279410444,1.3817725610609137,0.35013877794633497,0.7050803261791581,-0.313775937565349,-2.0822056554745427,-0.10495537796933573,0.4636166809545198,-0.4459029690784089,0.8292241120612767,1.2498512054626933,-0.49676866730921915,0.13572952910264804,-1.113134522240766,2.288876218225101,-0.027811988637406377,-0.014057354296969091,0.5941968980230878,0.7322196570655919,1.1376483490535065,-0.8061223662897936,1.0326704363100077,-1.0187555953747782,-0.7936986024875148,1.7250128752515284,-0.6907202876570452,1.1900466223571298,1.9829040794618682,-0.05518654612497724,-1.2732888394215272,-1.2033601621334395,-0.5077914994901958,-0.43038293124055405,-0.3088363031248792,0.02943936309552351,-1.2048038000864694,0.30210575820803937,-0.06400315095343355,-0.15176022595000632,0.4368484734463497,-0.5662310539363955,-0.9447988089482128,-0.6540711251538077,1.7793433754351027,0.23298373678295095,-1.280767886637018,-0.7754852937075334,-0.10400263262798473,-1.1157701073521156,0.22097666363929264,2.7024387581477134,-1.4309695428736593,0.876814390353818,-0.6273886791946258,-2.031881987131689,-1.0275083360189055,1.0592819257519337,-2.1620664985606393,0.27275525695182595,-0.447319165016932,0.4136715494169879,-2.288296945942758,-0.8127296548244415,-1.1266256532788121,-0.8215384686469209,-0.4872430165453182,-0.022574262627463378,-0.5843216053975311,0.011099364916450943,-0.5373376805509293,-2.2805091631118457,0.2922998628626371,-0.7207546091003253,0.39648514446519356,-0.8340295828931642,0.17768328109566717,0.9023490222152702],\"type\":\"box\"}],                        {\"legend\":{\"bgcolor\":\"#F5F6F9\",\"font\":{\"color\":\"#4D5663\"}},\"paper_bgcolor\":\"#F5F6F9\",\"plot_bgcolor\":\"#F5F6F9\",\"template\":{\"data\":{\"barpolar\":[{\"marker\":{\"line\":{\"color\":\"#E5ECF6\",\"width\":0.5},\"pattern\":{\"fillmode\":\"overlay\",\"size\":10,\"solidity\":0.2}},\"type\":\"barpolar\"}],\"bar\":[{\"error_x\":{\"color\":\"#2a3f5f\"},\"error_y\":{\"color\":\"#2a3f5f\"},\"marker\":{\"line\":{\"color\":\"#E5ECF6\",\"width\":0.5},\"pattern\":{\"fillmode\":\"overlay\",\"size\":10,\"solidity\":0.2}},\"type\":\"bar\"}],\"carpet\":[{\"aaxis\":{\"endlinecolor\":\"#2a3f5f\",\"gridcolor\":\"white\",\"linecolor\":\"white\",\"minorgridcolor\":\"white\",\"startlinecolor\":\"#2a3f5f\"},\"baxis\":{\"endlinecolor\":\"#2a3f5f\",\"gridcolor\":\"white\",\"linecolor\":\"white\",\"minorgridcolor\":\"white\",\"startlinecolor\":\"#2a3f5f\"},\"type\":\"carpet\"}],\"choropleth\":[{\"colorbar\":{\"outlinewidth\":0,\"ticks\":\"\"},\"type\":\"choropleth\"}],\"contourcarpet\":[{\"colorbar\":{\"outlinewidth\":0,\"ticks\":\"\"},\"type\":\"contourcarpet\"}],\"contour\":[{\"colorbar\":{\"outlinewidth\":0,\"ticks\":\"\"},\"colorscale\":[[0.0,\"#0d0887\"],[0.1111111111111111,\"#46039f\"],[0.2222222222222222,\"#7201a8\"],[0.3333333333333333,\"#9c179e\"],[0.4444444444444444,\"#bd3786\"],[0.5555555555555556,\"#d8576b\"],[0.6666666666666666,\"#ed7953\"],[0.7777777777777778,\"#fb9f3a\"],[0.8888888888888888,\"#fdca26\"],[1.0,\"#f0f921\"]],\"type\":\"contour\"}],\"heatmapgl\":[{\"colorbar\":{\"outlinewidth\":0,\"ticks\":\"\"},\"colorscale\":[[0.0,\"#0d0887\"],[0.1111111111111111,\"#46039f\"],[0.2222222222222222,\"#7201a8\"],[0.3333333333333333,\"#9c179e\"],[0.4444444444444444,\"#bd3786\"],[0.5555555555555556,\"#d8576b\"],[0.6666666666666666,\"#ed7953\"],[0.7777777777777778,\"#fb9f3a\"],[0.8888888888888888,\"#fdca26\"],[1.0,\"#f0f921\"]],\"type\":\"heatmapgl\"}],\"heatmap\":[{\"colorbar\":{\"outlinewidth\":0,\"ticks\":\"\"},\"colorscale\":[[0.0,\"#0d0887\"],[0.1111111111111111,\"#46039f\"],[0.2222222222222222,\"#7201a8\"],[0.3333333333333333,\"#9c179e\"],[0.4444444444444444,\"#bd3786\"],[0.5555555555555556,\"#d8576b\"],[0.6666666666666666,\"#ed7953\"],[0.7777777777777778,\"#fb9f3a\"],[0.8888888888888888,\"#fdca26\"],[1.0,\"#f0f921\"]],\"type\":\"heatmap\"}],\"histogram2dcontour\":[{\"colorbar\":{\"outlinewidth\":0,\"ticks\":\"\"},\"colorscale\":[[0.0,\"#0d0887\"],[0.1111111111111111,\"#46039f\"],[0.2222222222222222,\"#7201a8\"],[0.3333333333333333,\"#9c179e\"],[0.4444444444444444,\"#bd3786\"],[0.5555555555555556,\"#d8576b\"],[0.6666666666666666,\"#ed7953\"],[0.7777777777777778,\"#fb9f3a\"],[0.8888888888888888,\"#fdca26\"],[1.0,\"#f0f921\"]],\"type\":\"histogram2dcontour\"}],\"histogram2d\":[{\"colorbar\":{\"outlinewidth\":0,\"ticks\":\"\"},\"colorscale\":[[0.0,\"#0d0887\"],[0.1111111111111111,\"#46039f\"],[0.2222222222222222,\"#7201a8\"],[0.3333333333333333,\"#9c179e\"],[0.4444444444444444,\"#bd3786\"],[0.5555555555555556,\"#d8576b\"],[0.6666666666666666,\"#ed7953\"],[0.7777777777777778,\"#fb9f3a\"],[0.8888888888888888,\"#fdca26\"],[1.0,\"#f0f921\"]],\"type\":\"histogram2d\"}],\"histogram\":[{\"marker\":{\"pattern\":{\"fillmode\":\"overlay\",\"size\":10,\"solidity\":0.2}},\"type\":\"histogram\"}],\"mesh3d\":[{\"colorbar\":{\"outlinewidth\":0,\"ticks\":\"\"},\"type\":\"mesh3d\"}],\"parcoords\":[{\"line\":{\"colorbar\":{\"outlinewidth\":0,\"ticks\":\"\"}},\"type\":\"parcoords\"}],\"pie\":[{\"automargin\":true,\"type\":\"pie\"}],\"scatter3d\":[{\"line\":{\"colorbar\":{\"outlinewidth\":0,\"ticks\":\"\"}},\"marker\":{\"colorbar\":{\"outlinewidth\":0,\"ticks\":\"\"}},\"type\":\"scatter3d\"}],\"scattercarpet\":[{\"marker\":{\"colorbar\":{\"outlinewidth\":0,\"ticks\":\"\"}},\"type\":\"scattercarpet\"}],\"scattergeo\":[{\"marker\":{\"colorbar\":{\"outlinewidth\":0,\"ticks\":\"\"}},\"type\":\"scattergeo\"}],\"scattergl\":[{\"marker\":{\"colorbar\":{\"outlinewidth\":0,\"ticks\":\"\"}},\"type\":\"scattergl\"}],\"scattermapbox\":[{\"marker\":{\"colorbar\":{\"outlinewidth\":0,\"ticks\":\"\"}},\"type\":\"scattermapbox\"}],\"scatterpolargl\":[{\"marker\":{\"colorbar\":{\"outlinewidth\":0,\"ticks\":\"\"}},\"type\":\"scatterpolargl\"}],\"scatterpolar\":[{\"marker\":{\"colorbar\":{\"outlinewidth\":0,\"ticks\":\"\"}},\"type\":\"scatterpolar\"}],\"scatter\":[{\"fillpattern\":{\"fillmode\":\"overlay\",\"size\":10,\"solidity\":0.2},\"type\":\"scatter\"}],\"scatterternary\":[{\"marker\":{\"colorbar\":{\"outlinewidth\":0,\"ticks\":\"\"}},\"type\":\"scatterternary\"}],\"surface\":[{\"colorbar\":{\"outlinewidth\":0,\"ticks\":\"\"},\"colorscale\":[[0.0,\"#0d0887\"],[0.1111111111111111,\"#46039f\"],[0.2222222222222222,\"#7201a8\"],[0.3333333333333333,\"#9c179e\"],[0.4444444444444444,\"#bd3786\"],[0.5555555555555556,\"#d8576b\"],[0.6666666666666666,\"#ed7953\"],[0.7777777777777778,\"#fb9f3a\"],[0.8888888888888888,\"#fdca26\"],[1.0,\"#f0f921\"]],\"type\":\"surface\"}],\"table\":[{\"cells\":{\"fill\":{\"color\":\"#EBF0F8\"},\"line\":{\"color\":\"white\"}},\"header\":{\"fill\":{\"color\":\"#C8D4E3\"},\"line\":{\"color\":\"white\"}},\"type\":\"table\"}]},\"layout\":{\"annotationdefaults\":{\"arrowcolor\":\"#2a3f5f\",\"arrowhead\":0,\"arrowwidth\":1},\"autotypenumbers\":\"strict\",\"coloraxis\":{\"colorbar\":{\"outlinewidth\":0,\"ticks\":\"\"}},\"colorscale\":{\"diverging\":[[0,\"#8e0152\"],[0.1,\"#c51b7d\"],[0.2,\"#de77ae\"],[0.3,\"#f1b6da\"],[0.4,\"#fde0ef\"],[0.5,\"#f7f7f7\"],[0.6,\"#e6f5d0\"],[0.7,\"#b8e186\"],[0.8,\"#7fbc41\"],[0.9,\"#4d9221\"],[1,\"#276419\"]],\"sequential\":[[0.0,\"#0d0887\"],[0.1111111111111111,\"#46039f\"],[0.2222222222222222,\"#7201a8\"],[0.3333333333333333,\"#9c179e\"],[0.4444444444444444,\"#bd3786\"],[0.5555555555555556,\"#d8576b\"],[0.6666666666666666,\"#ed7953\"],[0.7777777777777778,\"#fb9f3a\"],[0.8888888888888888,\"#fdca26\"],[1.0,\"#f0f921\"]],\"sequentialminus\":[[0.0,\"#0d0887\"],[0.1111111111111111,\"#46039f\"],[0.2222222222222222,\"#7201a8\"],[0.3333333333333333,\"#9c179e\"],[0.4444444444444444,\"#bd3786\"],[0.5555555555555556,\"#d8576b\"],[0.6666666666666666,\"#ed7953\"],[0.7777777777777778,\"#fb9f3a\"],[0.8888888888888888,\"#fdca26\"],[1.0,\"#f0f921\"]]},\"colorway\":[\"#636efa\",\"#EF553B\",\"#00cc96\",\"#ab63fa\",\"#FFA15A\",\"#19d3f3\",\"#FF6692\",\"#B6E880\",\"#FF97FF\",\"#FECB52\"],\"font\":{\"color\":\"#2a3f5f\"},\"geo\":{\"bgcolor\":\"white\",\"lakecolor\":\"white\",\"landcolor\":\"#E5ECF6\",\"showlakes\":true,\"showland\":true,\"subunitcolor\":\"white\"},\"hoverlabel\":{\"align\":\"left\"},\"hovermode\":\"closest\",\"mapbox\":{\"style\":\"light\"},\"paper_bgcolor\":\"white\",\"plot_bgcolor\":\"#E5ECF6\",\"polar\":{\"angularaxis\":{\"gridcolor\":\"white\",\"linecolor\":\"white\",\"ticks\":\"\"},\"bgcolor\":\"#E5ECF6\",\"radialaxis\":{\"gridcolor\":\"white\",\"linecolor\":\"white\",\"ticks\":\"\"}},\"scene\":{\"xaxis\":{\"backgroundcolor\":\"#E5ECF6\",\"gridcolor\":\"white\",\"gridwidth\":2,\"linecolor\":\"white\",\"showbackground\":true,\"ticks\":\"\",\"zerolinecolor\":\"white\"},\"yaxis\":{\"backgroundcolor\":\"#E5ECF6\",\"gridcolor\":\"white\",\"gridwidth\":2,\"linecolor\":\"white\",\"showbackground\":true,\"ticks\":\"\",\"zerolinecolor\":\"white\"},\"zaxis\":{\"backgroundcolor\":\"#E5ECF6\",\"gridcolor\":\"white\",\"gridwidth\":2,\"linecolor\":\"white\",\"showbackground\":true,\"ticks\":\"\",\"zerolinecolor\":\"white\"}},\"shapedefaults\":{\"line\":{\"color\":\"#2a3f5f\"}},\"ternary\":{\"aaxis\":{\"gridcolor\":\"white\",\"linecolor\":\"white\",\"ticks\":\"\"},\"baxis\":{\"gridcolor\":\"white\",\"linecolor\":\"white\",\"ticks\":\"\"},\"bgcolor\":\"#E5ECF6\",\"caxis\":{\"gridcolor\":\"white\",\"linecolor\":\"white\",\"ticks\":\"\"}},\"title\":{\"x\":0.05},\"xaxis\":{\"automargin\":true,\"gridcolor\":\"white\",\"linecolor\":\"white\",\"ticks\":\"\",\"title\":{\"standoff\":15},\"zerolinecolor\":\"white\",\"zerolinewidth\":2},\"yaxis\":{\"automargin\":true,\"gridcolor\":\"white\",\"linecolor\":\"white\",\"ticks\":\"\",\"title\":{\"standoff\":15},\"zerolinecolor\":\"white\",\"zerolinewidth\":2}}},\"title\":{\"font\":{\"color\":\"#4D5663\"}},\"xaxis\":{\"gridcolor\":\"#E1E5ED\",\"showgrid\":true,\"tickfont\":{\"color\":\"#4D5663\"},\"title\":{\"font\":{\"color\":\"#4D5663\"},\"text\":\"\"},\"zerolinecolor\":\"#E1E5ED\"},\"yaxis\":{\"gridcolor\":\"#E1E5ED\",\"showgrid\":true,\"tickfont\":{\"color\":\"#4D5663\"},\"title\":{\"font\":{\"color\":\"#4D5663\"},\"text\":\"\"},\"zerolinecolor\":\"#E1E5ED\"}},                        {\"showLink\": true, \"linkText\": \"Export to plot.ly\", \"plotlyServerURL\": \"https://plot.ly\", \"responsive\": true}                    ).then(function(){\n",
       "                            \n",
       "var gd = document.getElementById('6028c0c5-03ef-4b28-8cb2-beb4fe277fb6');\n",
       "var x = new MutationObserver(function (mutations, observer) {{\n",
       "        var display = window.getComputedStyle(gd).display;\n",
       "        if (!display || display === 'none') {{\n",
       "            console.log([gd, 'removed!']);\n",
       "            Plotly.purge(gd);\n",
       "            observer.disconnect();\n",
       "        }}\n",
       "}});\n",
       "\n",
       "// Listen for the removal of the full notebook cells\n",
       "var notebookContainer = gd.closest('#notebook-container');\n",
       "if (notebookContainer) {{\n",
       "    x.observe(notebookContainer, {childList: true});\n",
       "}}\n",
       "\n",
       "// Listen for the clearing of the current output cell\n",
       "var outputEl = gd.closest('.output');\n",
       "if (outputEl) {{\n",
       "    x.observe(outputEl, {childList: true});\n",
       "}}\n",
       "\n",
       "                        })                };                });            </script>        </div>"
      ]
     },
     "metadata": {},
     "output_type": "display_data"
    }
   ],
   "source": [
    "df.iplot(kind='box')"
   ]
  },
  {
   "cell_type": "markdown",
   "metadata": {},
   "source": [
    "## 3d Surface"
   ]
  },
  {
   "cell_type": "code",
   "execution_count": 16,
   "metadata": {},
   "outputs": [
    {
     "data": {
      "application/vnd.plotly.v1+json": {
       "config": {
        "linkText": "Export to plot.ly",
        "plotlyServerURL": "https://plot.ly",
        "showLink": true
       },
       "data": [
        {
         "colorscale": [
          [
           0,
           "rgb(165,0,38)"
          ],
          [
           0.1,
           "rgb(215,48,39)"
          ],
          [
           0.2,
           "rgb(244,109,67)"
          ],
          [
           0.3,
           "rgb(253,174,97)"
          ],
          [
           0.4,
           "rgb(254,224,144)"
          ],
          [
           0.5,
           "rgb(255,255,191)"
          ],
          [
           0.6,
           "rgb(224,243,248)"
          ],
          [
           0.7,
           "rgb(171,217,233)"
          ],
          [
           0.8,
           "rgb(116,173,209)"
          ],
          [
           0.9,
           "rgb(69,117,180)"
          ],
          [
           1,
           "rgb(49,54,149)"
          ]
         ],
         "type": "surface",
         "x": [
          0,
          1,
          2,
          3,
          4
         ],
         "y": [
          "x",
          "y",
          "z"
         ],
         "z": [
          [
           1,
           2,
           3,
           4,
           5
          ],
          [
           10,
           20,
           30,
           20,
           10
          ],
          [
           5,
           4,
           3,
           2,
           1
          ]
         ]
        }
       ],
       "layout": {
        "legend": {
         "bgcolor": "#F5F6F9",
         "font": {
          "color": "#4D5663"
         }
        },
        "paper_bgcolor": "#F5F6F9",
        "plot_bgcolor": "#F5F6F9",
        "template": {
         "data": {
          "bar": [
           {
            "error_x": {
             "color": "#2a3f5f"
            },
            "error_y": {
             "color": "#2a3f5f"
            },
            "marker": {
             "line": {
              "color": "#E5ECF6",
              "width": 0.5
             },
             "pattern": {
              "fillmode": "overlay",
              "size": 10,
              "solidity": 0.2
             }
            },
            "type": "bar"
           }
          ],
          "barpolar": [
           {
            "marker": {
             "line": {
              "color": "#E5ECF6",
              "width": 0.5
             },
             "pattern": {
              "fillmode": "overlay",
              "size": 10,
              "solidity": 0.2
             }
            },
            "type": "barpolar"
           }
          ],
          "carpet": [
           {
            "aaxis": {
             "endlinecolor": "#2a3f5f",
             "gridcolor": "white",
             "linecolor": "white",
             "minorgridcolor": "white",
             "startlinecolor": "#2a3f5f"
            },
            "baxis": {
             "endlinecolor": "#2a3f5f",
             "gridcolor": "white",
             "linecolor": "white",
             "minorgridcolor": "white",
             "startlinecolor": "#2a3f5f"
            },
            "type": "carpet"
           }
          ],
          "choropleth": [
           {
            "colorbar": {
             "outlinewidth": 0,
             "ticks": ""
            },
            "type": "choropleth"
           }
          ],
          "contour": [
           {
            "colorbar": {
             "outlinewidth": 0,
             "ticks": ""
            },
            "colorscale": [
             [
              0,
              "#0d0887"
             ],
             [
              0.1111111111111111,
              "#46039f"
             ],
             [
              0.2222222222222222,
              "#7201a8"
             ],
             [
              0.3333333333333333,
              "#9c179e"
             ],
             [
              0.4444444444444444,
              "#bd3786"
             ],
             [
              0.5555555555555556,
              "#d8576b"
             ],
             [
              0.6666666666666666,
              "#ed7953"
             ],
             [
              0.7777777777777778,
              "#fb9f3a"
             ],
             [
              0.8888888888888888,
              "#fdca26"
             ],
             [
              1,
              "#f0f921"
             ]
            ],
            "type": "contour"
           }
          ],
          "contourcarpet": [
           {
            "colorbar": {
             "outlinewidth": 0,
             "ticks": ""
            },
            "type": "contourcarpet"
           }
          ],
          "heatmap": [
           {
            "colorbar": {
             "outlinewidth": 0,
             "ticks": ""
            },
            "colorscale": [
             [
              0,
              "#0d0887"
             ],
             [
              0.1111111111111111,
              "#46039f"
             ],
             [
              0.2222222222222222,
              "#7201a8"
             ],
             [
              0.3333333333333333,
              "#9c179e"
             ],
             [
              0.4444444444444444,
              "#bd3786"
             ],
             [
              0.5555555555555556,
              "#d8576b"
             ],
             [
              0.6666666666666666,
              "#ed7953"
             ],
             [
              0.7777777777777778,
              "#fb9f3a"
             ],
             [
              0.8888888888888888,
              "#fdca26"
             ],
             [
              1,
              "#f0f921"
             ]
            ],
            "type": "heatmap"
           }
          ],
          "heatmapgl": [
           {
            "colorbar": {
             "outlinewidth": 0,
             "ticks": ""
            },
            "colorscale": [
             [
              0,
              "#0d0887"
             ],
             [
              0.1111111111111111,
              "#46039f"
             ],
             [
              0.2222222222222222,
              "#7201a8"
             ],
             [
              0.3333333333333333,
              "#9c179e"
             ],
             [
              0.4444444444444444,
              "#bd3786"
             ],
             [
              0.5555555555555556,
              "#d8576b"
             ],
             [
              0.6666666666666666,
              "#ed7953"
             ],
             [
              0.7777777777777778,
              "#fb9f3a"
             ],
             [
              0.8888888888888888,
              "#fdca26"
             ],
             [
              1,
              "#f0f921"
             ]
            ],
            "type": "heatmapgl"
           }
          ],
          "histogram": [
           {
            "marker": {
             "pattern": {
              "fillmode": "overlay",
              "size": 10,
              "solidity": 0.2
             }
            },
            "type": "histogram"
           }
          ],
          "histogram2d": [
           {
            "colorbar": {
             "outlinewidth": 0,
             "ticks": ""
            },
            "colorscale": [
             [
              0,
              "#0d0887"
             ],
             [
              0.1111111111111111,
              "#46039f"
             ],
             [
              0.2222222222222222,
              "#7201a8"
             ],
             [
              0.3333333333333333,
              "#9c179e"
             ],
             [
              0.4444444444444444,
              "#bd3786"
             ],
             [
              0.5555555555555556,
              "#d8576b"
             ],
             [
              0.6666666666666666,
              "#ed7953"
             ],
             [
              0.7777777777777778,
              "#fb9f3a"
             ],
             [
              0.8888888888888888,
              "#fdca26"
             ],
             [
              1,
              "#f0f921"
             ]
            ],
            "type": "histogram2d"
           }
          ],
          "histogram2dcontour": [
           {
            "colorbar": {
             "outlinewidth": 0,
             "ticks": ""
            },
            "colorscale": [
             [
              0,
              "#0d0887"
             ],
             [
              0.1111111111111111,
              "#46039f"
             ],
             [
              0.2222222222222222,
              "#7201a8"
             ],
             [
              0.3333333333333333,
              "#9c179e"
             ],
             [
              0.4444444444444444,
              "#bd3786"
             ],
             [
              0.5555555555555556,
              "#d8576b"
             ],
             [
              0.6666666666666666,
              "#ed7953"
             ],
             [
              0.7777777777777778,
              "#fb9f3a"
             ],
             [
              0.8888888888888888,
              "#fdca26"
             ],
             [
              1,
              "#f0f921"
             ]
            ],
            "type": "histogram2dcontour"
           }
          ],
          "mesh3d": [
           {
            "colorbar": {
             "outlinewidth": 0,
             "ticks": ""
            },
            "type": "mesh3d"
           }
          ],
          "parcoords": [
           {
            "line": {
             "colorbar": {
              "outlinewidth": 0,
              "ticks": ""
             }
            },
            "type": "parcoords"
           }
          ],
          "pie": [
           {
            "automargin": true,
            "type": "pie"
           }
          ],
          "scatter": [
           {
            "fillpattern": {
             "fillmode": "overlay",
             "size": 10,
             "solidity": 0.2
            },
            "type": "scatter"
           }
          ],
          "scatter3d": [
           {
            "line": {
             "colorbar": {
              "outlinewidth": 0,
              "ticks": ""
             }
            },
            "marker": {
             "colorbar": {
              "outlinewidth": 0,
              "ticks": ""
             }
            },
            "type": "scatter3d"
           }
          ],
          "scattercarpet": [
           {
            "marker": {
             "colorbar": {
              "outlinewidth": 0,
              "ticks": ""
             }
            },
            "type": "scattercarpet"
           }
          ],
          "scattergeo": [
           {
            "marker": {
             "colorbar": {
              "outlinewidth": 0,
              "ticks": ""
             }
            },
            "type": "scattergeo"
           }
          ],
          "scattergl": [
           {
            "marker": {
             "colorbar": {
              "outlinewidth": 0,
              "ticks": ""
             }
            },
            "type": "scattergl"
           }
          ],
          "scattermapbox": [
           {
            "marker": {
             "colorbar": {
              "outlinewidth": 0,
              "ticks": ""
             }
            },
            "type": "scattermapbox"
           }
          ],
          "scatterpolar": [
           {
            "marker": {
             "colorbar": {
              "outlinewidth": 0,
              "ticks": ""
             }
            },
            "type": "scatterpolar"
           }
          ],
          "scatterpolargl": [
           {
            "marker": {
             "colorbar": {
              "outlinewidth": 0,
              "ticks": ""
             }
            },
            "type": "scatterpolargl"
           }
          ],
          "scatterternary": [
           {
            "marker": {
             "colorbar": {
              "outlinewidth": 0,
              "ticks": ""
             }
            },
            "type": "scatterternary"
           }
          ],
          "surface": [
           {
            "colorbar": {
             "outlinewidth": 0,
             "ticks": ""
            },
            "colorscale": [
             [
              0,
              "#0d0887"
             ],
             [
              0.1111111111111111,
              "#46039f"
             ],
             [
              0.2222222222222222,
              "#7201a8"
             ],
             [
              0.3333333333333333,
              "#9c179e"
             ],
             [
              0.4444444444444444,
              "#bd3786"
             ],
             [
              0.5555555555555556,
              "#d8576b"
             ],
             [
              0.6666666666666666,
              "#ed7953"
             ],
             [
              0.7777777777777778,
              "#fb9f3a"
             ],
             [
              0.8888888888888888,
              "#fdca26"
             ],
             [
              1,
              "#f0f921"
             ]
            ],
            "type": "surface"
           }
          ],
          "table": [
           {
            "cells": {
             "fill": {
              "color": "#EBF0F8"
             },
             "line": {
              "color": "white"
             }
            },
            "header": {
             "fill": {
              "color": "#C8D4E3"
             },
             "line": {
              "color": "white"
             }
            },
            "type": "table"
           }
          ]
         },
         "layout": {
          "annotationdefaults": {
           "arrowcolor": "#2a3f5f",
           "arrowhead": 0,
           "arrowwidth": 1
          },
          "autotypenumbers": "strict",
          "coloraxis": {
           "colorbar": {
            "outlinewidth": 0,
            "ticks": ""
           }
          },
          "colorscale": {
           "diverging": [
            [
             0,
             "#8e0152"
            ],
            [
             0.1,
             "#c51b7d"
            ],
            [
             0.2,
             "#de77ae"
            ],
            [
             0.3,
             "#f1b6da"
            ],
            [
             0.4,
             "#fde0ef"
            ],
            [
             0.5,
             "#f7f7f7"
            ],
            [
             0.6,
             "#e6f5d0"
            ],
            [
             0.7,
             "#b8e186"
            ],
            [
             0.8,
             "#7fbc41"
            ],
            [
             0.9,
             "#4d9221"
            ],
            [
             1,
             "#276419"
            ]
           ],
           "sequential": [
            [
             0,
             "#0d0887"
            ],
            [
             0.1111111111111111,
             "#46039f"
            ],
            [
             0.2222222222222222,
             "#7201a8"
            ],
            [
             0.3333333333333333,
             "#9c179e"
            ],
            [
             0.4444444444444444,
             "#bd3786"
            ],
            [
             0.5555555555555556,
             "#d8576b"
            ],
            [
             0.6666666666666666,
             "#ed7953"
            ],
            [
             0.7777777777777778,
             "#fb9f3a"
            ],
            [
             0.8888888888888888,
             "#fdca26"
            ],
            [
             1,
             "#f0f921"
            ]
           ],
           "sequentialminus": [
            [
             0,
             "#0d0887"
            ],
            [
             0.1111111111111111,
             "#46039f"
            ],
            [
             0.2222222222222222,
             "#7201a8"
            ],
            [
             0.3333333333333333,
             "#9c179e"
            ],
            [
             0.4444444444444444,
             "#bd3786"
            ],
            [
             0.5555555555555556,
             "#d8576b"
            ],
            [
             0.6666666666666666,
             "#ed7953"
            ],
            [
             0.7777777777777778,
             "#fb9f3a"
            ],
            [
             0.8888888888888888,
             "#fdca26"
            ],
            [
             1,
             "#f0f921"
            ]
           ]
          },
          "colorway": [
           "#636efa",
           "#EF553B",
           "#00cc96",
           "#ab63fa",
           "#FFA15A",
           "#19d3f3",
           "#FF6692",
           "#B6E880",
           "#FF97FF",
           "#FECB52"
          ],
          "font": {
           "color": "#2a3f5f"
          },
          "geo": {
           "bgcolor": "white",
           "lakecolor": "white",
           "landcolor": "#E5ECF6",
           "showlakes": true,
           "showland": true,
           "subunitcolor": "white"
          },
          "hoverlabel": {
           "align": "left"
          },
          "hovermode": "closest",
          "mapbox": {
           "style": "light"
          },
          "paper_bgcolor": "white",
          "plot_bgcolor": "#E5ECF6",
          "polar": {
           "angularaxis": {
            "gridcolor": "white",
            "linecolor": "white",
            "ticks": ""
           },
           "bgcolor": "#E5ECF6",
           "radialaxis": {
            "gridcolor": "white",
            "linecolor": "white",
            "ticks": ""
           }
          },
          "scene": {
           "xaxis": {
            "backgroundcolor": "#E5ECF6",
            "gridcolor": "white",
            "gridwidth": 2,
            "linecolor": "white",
            "showbackground": true,
            "ticks": "",
            "zerolinecolor": "white"
           },
           "yaxis": {
            "backgroundcolor": "#E5ECF6",
            "gridcolor": "white",
            "gridwidth": 2,
            "linecolor": "white",
            "showbackground": true,
            "ticks": "",
            "zerolinecolor": "white"
           },
           "zaxis": {
            "backgroundcolor": "#E5ECF6",
            "gridcolor": "white",
            "gridwidth": 2,
            "linecolor": "white",
            "showbackground": true,
            "ticks": "",
            "zerolinecolor": "white"
           }
          },
          "shapedefaults": {
           "line": {
            "color": "#2a3f5f"
           }
          },
          "ternary": {
           "aaxis": {
            "gridcolor": "white",
            "linecolor": "white",
            "ticks": ""
           },
           "baxis": {
            "gridcolor": "white",
            "linecolor": "white",
            "ticks": ""
           },
           "bgcolor": "#E5ECF6",
           "caxis": {
            "gridcolor": "white",
            "linecolor": "white",
            "ticks": ""
           }
          },
          "title": {
           "x": 0.05
          },
          "xaxis": {
           "automargin": true,
           "gridcolor": "white",
           "linecolor": "white",
           "ticks": "",
           "title": {
            "standoff": 15
           },
           "zerolinecolor": "white",
           "zerolinewidth": 2
          },
          "yaxis": {
           "automargin": true,
           "gridcolor": "white",
           "linecolor": "white",
           "ticks": "",
           "title": {
            "standoff": 15
           },
           "zerolinecolor": "white",
           "zerolinewidth": 2
          }
         }
        },
        "title": {
         "font": {
          "color": "#4D5663"
         }
        },
        "xaxis": {
         "gridcolor": "#E1E5ED",
         "showgrid": true,
         "tickfont": {
          "color": "#4D5663"
         },
         "title": {
          "font": {
           "color": "#4D5663"
          },
          "text": ""
         },
         "zerolinecolor": "#E1E5ED"
        },
        "yaxis": {
         "gridcolor": "#E1E5ED",
         "showgrid": true,
         "tickfont": {
          "color": "#4D5663"
         },
         "title": {
          "font": {
           "color": "#4D5663"
          },
          "text": ""
         },
         "zerolinecolor": "#E1E5ED"
        }
       }
      },
      "text/html": [
       "<div>                            <div id=\"b4720578-332c-49f6-bd2f-1bd53dc0876c\" class=\"plotly-graph-div\" style=\"height:525px; width:100%;\"></div>            <script type=\"text/javascript\">                require([\"plotly\"], function(Plotly) {                    window.PLOTLYENV=window.PLOTLYENV || {};\n",
       "                    window.PLOTLYENV.BASE_URL='https://plot.ly';                                    if (document.getElementById(\"b4720578-332c-49f6-bd2f-1bd53dc0876c\")) {                    Plotly.newPlot(                        \"b4720578-332c-49f6-bd2f-1bd53dc0876c\",                        [{\"colorscale\":[[0.0,\"rgb(165,0,38)\"],[0.1,\"rgb(215,48,39)\"],[0.2,\"rgb(244,109,67)\"],[0.3,\"rgb(253,174,97)\"],[0.4,\"rgb(254,224,144)\"],[0.5,\"rgb(255,255,191)\"],[0.6,\"rgb(224,243,248)\"],[0.7,\"rgb(171,217,233)\"],[0.8,\"rgb(116,173,209)\"],[0.9,\"rgb(69,117,180)\"],[1.0,\"rgb(49,54,149)\"]],\"x\":[0,1,2,3,4],\"y\":[\"x\",\"y\",\"z\"],\"z\":[[1,2,3,4,5],[10,20,30,20,10],[5,4,3,2,1]],\"type\":\"surface\"}],                        {\"legend\":{\"bgcolor\":\"#F5F6F9\",\"font\":{\"color\":\"#4D5663\"}},\"paper_bgcolor\":\"#F5F6F9\",\"plot_bgcolor\":\"#F5F6F9\",\"template\":{\"data\":{\"barpolar\":[{\"marker\":{\"line\":{\"color\":\"#E5ECF6\",\"width\":0.5},\"pattern\":{\"fillmode\":\"overlay\",\"size\":10,\"solidity\":0.2}},\"type\":\"barpolar\"}],\"bar\":[{\"error_x\":{\"color\":\"#2a3f5f\"},\"error_y\":{\"color\":\"#2a3f5f\"},\"marker\":{\"line\":{\"color\":\"#E5ECF6\",\"width\":0.5},\"pattern\":{\"fillmode\":\"overlay\",\"size\":10,\"solidity\":0.2}},\"type\":\"bar\"}],\"carpet\":[{\"aaxis\":{\"endlinecolor\":\"#2a3f5f\",\"gridcolor\":\"white\",\"linecolor\":\"white\",\"minorgridcolor\":\"white\",\"startlinecolor\":\"#2a3f5f\"},\"baxis\":{\"endlinecolor\":\"#2a3f5f\",\"gridcolor\":\"white\",\"linecolor\":\"white\",\"minorgridcolor\":\"white\",\"startlinecolor\":\"#2a3f5f\"},\"type\":\"carpet\"}],\"choropleth\":[{\"colorbar\":{\"outlinewidth\":0,\"ticks\":\"\"},\"type\":\"choropleth\"}],\"contourcarpet\":[{\"colorbar\":{\"outlinewidth\":0,\"ticks\":\"\"},\"type\":\"contourcarpet\"}],\"contour\":[{\"colorbar\":{\"outlinewidth\":0,\"ticks\":\"\"},\"colorscale\":[[0.0,\"#0d0887\"],[0.1111111111111111,\"#46039f\"],[0.2222222222222222,\"#7201a8\"],[0.3333333333333333,\"#9c179e\"],[0.4444444444444444,\"#bd3786\"],[0.5555555555555556,\"#d8576b\"],[0.6666666666666666,\"#ed7953\"],[0.7777777777777778,\"#fb9f3a\"],[0.8888888888888888,\"#fdca26\"],[1.0,\"#f0f921\"]],\"type\":\"contour\"}],\"heatmapgl\":[{\"colorbar\":{\"outlinewidth\":0,\"ticks\":\"\"},\"colorscale\":[[0.0,\"#0d0887\"],[0.1111111111111111,\"#46039f\"],[0.2222222222222222,\"#7201a8\"],[0.3333333333333333,\"#9c179e\"],[0.4444444444444444,\"#bd3786\"],[0.5555555555555556,\"#d8576b\"],[0.6666666666666666,\"#ed7953\"],[0.7777777777777778,\"#fb9f3a\"],[0.8888888888888888,\"#fdca26\"],[1.0,\"#f0f921\"]],\"type\":\"heatmapgl\"}],\"heatmap\":[{\"colorbar\":{\"outlinewidth\":0,\"ticks\":\"\"},\"colorscale\":[[0.0,\"#0d0887\"],[0.1111111111111111,\"#46039f\"],[0.2222222222222222,\"#7201a8\"],[0.3333333333333333,\"#9c179e\"],[0.4444444444444444,\"#bd3786\"],[0.5555555555555556,\"#d8576b\"],[0.6666666666666666,\"#ed7953\"],[0.7777777777777778,\"#fb9f3a\"],[0.8888888888888888,\"#fdca26\"],[1.0,\"#f0f921\"]],\"type\":\"heatmap\"}],\"histogram2dcontour\":[{\"colorbar\":{\"outlinewidth\":0,\"ticks\":\"\"},\"colorscale\":[[0.0,\"#0d0887\"],[0.1111111111111111,\"#46039f\"],[0.2222222222222222,\"#7201a8\"],[0.3333333333333333,\"#9c179e\"],[0.4444444444444444,\"#bd3786\"],[0.5555555555555556,\"#d8576b\"],[0.6666666666666666,\"#ed7953\"],[0.7777777777777778,\"#fb9f3a\"],[0.8888888888888888,\"#fdca26\"],[1.0,\"#f0f921\"]],\"type\":\"histogram2dcontour\"}],\"histogram2d\":[{\"colorbar\":{\"outlinewidth\":0,\"ticks\":\"\"},\"colorscale\":[[0.0,\"#0d0887\"],[0.1111111111111111,\"#46039f\"],[0.2222222222222222,\"#7201a8\"],[0.3333333333333333,\"#9c179e\"],[0.4444444444444444,\"#bd3786\"],[0.5555555555555556,\"#d8576b\"],[0.6666666666666666,\"#ed7953\"],[0.7777777777777778,\"#fb9f3a\"],[0.8888888888888888,\"#fdca26\"],[1.0,\"#f0f921\"]],\"type\":\"histogram2d\"}],\"histogram\":[{\"marker\":{\"pattern\":{\"fillmode\":\"overlay\",\"size\":10,\"solidity\":0.2}},\"type\":\"histogram\"}],\"mesh3d\":[{\"colorbar\":{\"outlinewidth\":0,\"ticks\":\"\"},\"type\":\"mesh3d\"}],\"parcoords\":[{\"line\":{\"colorbar\":{\"outlinewidth\":0,\"ticks\":\"\"}},\"type\":\"parcoords\"}],\"pie\":[{\"automargin\":true,\"type\":\"pie\"}],\"scatter3d\":[{\"line\":{\"colorbar\":{\"outlinewidth\":0,\"ticks\":\"\"}},\"marker\":{\"colorbar\":{\"outlinewidth\":0,\"ticks\":\"\"}},\"type\":\"scatter3d\"}],\"scattercarpet\":[{\"marker\":{\"colorbar\":{\"outlinewidth\":0,\"ticks\":\"\"}},\"type\":\"scattercarpet\"}],\"scattergeo\":[{\"marker\":{\"colorbar\":{\"outlinewidth\":0,\"ticks\":\"\"}},\"type\":\"scattergeo\"}],\"scattergl\":[{\"marker\":{\"colorbar\":{\"outlinewidth\":0,\"ticks\":\"\"}},\"type\":\"scattergl\"}],\"scattermapbox\":[{\"marker\":{\"colorbar\":{\"outlinewidth\":0,\"ticks\":\"\"}},\"type\":\"scattermapbox\"}],\"scatterpolargl\":[{\"marker\":{\"colorbar\":{\"outlinewidth\":0,\"ticks\":\"\"}},\"type\":\"scatterpolargl\"}],\"scatterpolar\":[{\"marker\":{\"colorbar\":{\"outlinewidth\":0,\"ticks\":\"\"}},\"type\":\"scatterpolar\"}],\"scatter\":[{\"fillpattern\":{\"fillmode\":\"overlay\",\"size\":10,\"solidity\":0.2},\"type\":\"scatter\"}],\"scatterternary\":[{\"marker\":{\"colorbar\":{\"outlinewidth\":0,\"ticks\":\"\"}},\"type\":\"scatterternary\"}],\"surface\":[{\"colorbar\":{\"outlinewidth\":0,\"ticks\":\"\"},\"colorscale\":[[0.0,\"#0d0887\"],[0.1111111111111111,\"#46039f\"],[0.2222222222222222,\"#7201a8\"],[0.3333333333333333,\"#9c179e\"],[0.4444444444444444,\"#bd3786\"],[0.5555555555555556,\"#d8576b\"],[0.6666666666666666,\"#ed7953\"],[0.7777777777777778,\"#fb9f3a\"],[0.8888888888888888,\"#fdca26\"],[1.0,\"#f0f921\"]],\"type\":\"surface\"}],\"table\":[{\"cells\":{\"fill\":{\"color\":\"#EBF0F8\"},\"line\":{\"color\":\"white\"}},\"header\":{\"fill\":{\"color\":\"#C8D4E3\"},\"line\":{\"color\":\"white\"}},\"type\":\"table\"}]},\"layout\":{\"annotationdefaults\":{\"arrowcolor\":\"#2a3f5f\",\"arrowhead\":0,\"arrowwidth\":1},\"autotypenumbers\":\"strict\",\"coloraxis\":{\"colorbar\":{\"outlinewidth\":0,\"ticks\":\"\"}},\"colorscale\":{\"diverging\":[[0,\"#8e0152\"],[0.1,\"#c51b7d\"],[0.2,\"#de77ae\"],[0.3,\"#f1b6da\"],[0.4,\"#fde0ef\"],[0.5,\"#f7f7f7\"],[0.6,\"#e6f5d0\"],[0.7,\"#b8e186\"],[0.8,\"#7fbc41\"],[0.9,\"#4d9221\"],[1,\"#276419\"]],\"sequential\":[[0.0,\"#0d0887\"],[0.1111111111111111,\"#46039f\"],[0.2222222222222222,\"#7201a8\"],[0.3333333333333333,\"#9c179e\"],[0.4444444444444444,\"#bd3786\"],[0.5555555555555556,\"#d8576b\"],[0.6666666666666666,\"#ed7953\"],[0.7777777777777778,\"#fb9f3a\"],[0.8888888888888888,\"#fdca26\"],[1.0,\"#f0f921\"]],\"sequentialminus\":[[0.0,\"#0d0887\"],[0.1111111111111111,\"#46039f\"],[0.2222222222222222,\"#7201a8\"],[0.3333333333333333,\"#9c179e\"],[0.4444444444444444,\"#bd3786\"],[0.5555555555555556,\"#d8576b\"],[0.6666666666666666,\"#ed7953\"],[0.7777777777777778,\"#fb9f3a\"],[0.8888888888888888,\"#fdca26\"],[1.0,\"#f0f921\"]]},\"colorway\":[\"#636efa\",\"#EF553B\",\"#00cc96\",\"#ab63fa\",\"#FFA15A\",\"#19d3f3\",\"#FF6692\",\"#B6E880\",\"#FF97FF\",\"#FECB52\"],\"font\":{\"color\":\"#2a3f5f\"},\"geo\":{\"bgcolor\":\"white\",\"lakecolor\":\"white\",\"landcolor\":\"#E5ECF6\",\"showlakes\":true,\"showland\":true,\"subunitcolor\":\"white\"},\"hoverlabel\":{\"align\":\"left\"},\"hovermode\":\"closest\",\"mapbox\":{\"style\":\"light\"},\"paper_bgcolor\":\"white\",\"plot_bgcolor\":\"#E5ECF6\",\"polar\":{\"angularaxis\":{\"gridcolor\":\"white\",\"linecolor\":\"white\",\"ticks\":\"\"},\"bgcolor\":\"#E5ECF6\",\"radialaxis\":{\"gridcolor\":\"white\",\"linecolor\":\"white\",\"ticks\":\"\"}},\"scene\":{\"xaxis\":{\"backgroundcolor\":\"#E5ECF6\",\"gridcolor\":\"white\",\"gridwidth\":2,\"linecolor\":\"white\",\"showbackground\":true,\"ticks\":\"\",\"zerolinecolor\":\"white\"},\"yaxis\":{\"backgroundcolor\":\"#E5ECF6\",\"gridcolor\":\"white\",\"gridwidth\":2,\"linecolor\":\"white\",\"showbackground\":true,\"ticks\":\"\",\"zerolinecolor\":\"white\"},\"zaxis\":{\"backgroundcolor\":\"#E5ECF6\",\"gridcolor\":\"white\",\"gridwidth\":2,\"linecolor\":\"white\",\"showbackground\":true,\"ticks\":\"\",\"zerolinecolor\":\"white\"}},\"shapedefaults\":{\"line\":{\"color\":\"#2a3f5f\"}},\"ternary\":{\"aaxis\":{\"gridcolor\":\"white\",\"linecolor\":\"white\",\"ticks\":\"\"},\"baxis\":{\"gridcolor\":\"white\",\"linecolor\":\"white\",\"ticks\":\"\"},\"bgcolor\":\"#E5ECF6\",\"caxis\":{\"gridcolor\":\"white\",\"linecolor\":\"white\",\"ticks\":\"\"}},\"title\":{\"x\":0.05},\"xaxis\":{\"automargin\":true,\"gridcolor\":\"white\",\"linecolor\":\"white\",\"ticks\":\"\",\"title\":{\"standoff\":15},\"zerolinecolor\":\"white\",\"zerolinewidth\":2},\"yaxis\":{\"automargin\":true,\"gridcolor\":\"white\",\"linecolor\":\"white\",\"ticks\":\"\",\"title\":{\"standoff\":15},\"zerolinecolor\":\"white\",\"zerolinewidth\":2}}},\"title\":{\"font\":{\"color\":\"#4D5663\"}},\"xaxis\":{\"gridcolor\":\"#E1E5ED\",\"showgrid\":true,\"tickfont\":{\"color\":\"#4D5663\"},\"title\":{\"font\":{\"color\":\"#4D5663\"},\"text\":\"\"},\"zerolinecolor\":\"#E1E5ED\"},\"yaxis\":{\"gridcolor\":\"#E1E5ED\",\"showgrid\":true,\"tickfont\":{\"color\":\"#4D5663\"},\"title\":{\"font\":{\"color\":\"#4D5663\"},\"text\":\"\"},\"zerolinecolor\":\"#E1E5ED\"}},                        {\"showLink\": true, \"linkText\": \"Export to plot.ly\", \"plotlyServerURL\": \"https://plot.ly\", \"responsive\": true}                    ).then(function(){\n",
       "                            \n",
       "var gd = document.getElementById('b4720578-332c-49f6-bd2f-1bd53dc0876c');\n",
       "var x = new MutationObserver(function (mutations, observer) {{\n",
       "        var display = window.getComputedStyle(gd).display;\n",
       "        if (!display || display === 'none') {{\n",
       "            console.log([gd, 'removed!']);\n",
       "            Plotly.purge(gd);\n",
       "            observer.disconnect();\n",
       "        }}\n",
       "}});\n",
       "\n",
       "// Listen for the removal of the full notebook cells\n",
       "var notebookContainer = gd.closest('#notebook-container');\n",
       "if (notebookContainer) {{\n",
       "    x.observe(notebookContainer, {childList: true});\n",
       "}}\n",
       "\n",
       "// Listen for the clearing of the current output cell\n",
       "var outputEl = gd.closest('.output');\n",
       "if (outputEl) {{\n",
       "    x.observe(outputEl, {childList: true});\n",
       "}}\n",
       "\n",
       "                        })                };                });            </script>        </div>"
      ]
     },
     "metadata": {},
     "output_type": "display_data"
    }
   ],
   "source": [
    "df3 = pd.DataFrame({'x':[1,2,3,4,5],'y':[10,20,30,20,10],'z':[5,4,3,2,1]})\n",
    "df3.iplot(kind='surface',colorscale='rdylbu')"
   ]
  },
  {
   "cell_type": "markdown",
   "metadata": {},
   "source": [
    "## Spread"
   ]
  },
  {
   "cell_type": "code",
   "execution_count": 19,
   "metadata": {},
   "outputs": [
    {
     "name": "stderr",
     "output_type": "stream",
     "text": [
      "C:\\Users\\shantanu.yadav\\Documents\\Projects\\Refactored_Py_DS_ML_Bootcamp-master\\venv\\lib\\site-packages\\cufflinks\\plotlytools.py:849: FutureWarning:\n",
      "\n",
      "The pandas.np module is deprecated and will be removed from pandas in a future version. Import numpy directly instead.\n",
      "\n",
      "C:\\Users\\shantanu.yadav\\Documents\\Projects\\Refactored_Py_DS_ML_Bootcamp-master\\venv\\lib\\site-packages\\cufflinks\\plotlytools.py:850: FutureWarning:\n",
      "\n",
      "The pandas.np module is deprecated and will be removed from pandas in a future version. Import numpy directly instead.\n",
      "\n"
     ]
    },
    {
     "data": {
      "application/vnd.plotly.v1+json": {
       "config": {
        "linkText": "Export to plot.ly",
        "plotlyServerURL": "https://plot.ly",
        "showLink": true
       },
       "data": [
        {
         "line": {
          "color": "rgba(255, 153, 51, 1.0)",
          "dash": "solid",
          "shape": "linear",
          "width": 1.3
         },
         "mode": "lines",
         "name": "A",
         "text": "",
         "type": "scatter",
         "x": [
          0,
          1,
          2,
          3,
          4,
          5,
          6,
          7,
          8,
          9,
          10,
          11,
          12,
          13,
          14,
          15,
          16,
          17,
          18,
          19,
          20,
          21,
          22,
          23,
          24,
          25,
          26,
          27,
          28,
          29,
          30,
          31,
          32,
          33,
          34,
          35,
          36,
          37,
          38,
          39,
          40,
          41,
          42,
          43,
          44,
          45,
          46,
          47,
          48,
          49,
          50,
          51,
          52,
          53,
          54,
          55,
          56,
          57,
          58,
          59,
          60,
          61,
          62,
          63,
          64,
          65,
          66,
          67,
          68,
          69,
          70,
          71,
          72,
          73,
          74,
          75,
          76,
          77,
          78,
          79,
          80,
          81,
          82,
          83,
          84,
          85,
          86,
          87,
          88,
          89,
          90,
          91,
          92,
          93,
          94,
          95,
          96,
          97,
          98,
          99
         ],
         "y": [
          -0.07455973164460492,
          0.10684607028138204,
          0.05174438274182425,
          1.8834582400552635,
          -0.7394873566653477,
          -0.20509986347008477,
          -0.03414545421950641,
          -0.6213525131646722,
          0.571263033821104,
          1.180464181279357,
          -0.203734605785186,
          0.7347661916372418,
          0.2859474736202656,
          0.04076517450424396,
          -0.9575891661839521,
          -1.4309383761629788,
          2.2550368651025283,
          -0.9940639812563287,
          0.799337873179283,
          -1.257878293181983,
          0.4179499111762863,
          0.3002148423464334,
          -1.1504058019430792,
          0.08143088735081103,
          0.48039194150290004,
          -0.6650657342765216,
          1.1156620567673445,
          1.6819828126747252,
          0.3100427456611766,
          -0.35556202725992564,
          0.5734972173901176,
          0.32590737332398945,
          0.26434526538445485,
          -0.28767952859901297,
          0.46220729582394343,
          -0.5818941295153186,
          1.285059720736958,
          1.5048915259613318,
          -0.6639248043990625,
          0.7636007895359088,
          -0.6463548675362586,
          0.4119553800931602,
          -0.41800965879757407,
          -0.9291745756491012,
          0.5941812800033995,
          0.6495415877446266,
          0.1446736681969964,
          0.26828186676311594,
          0.13889888661810415,
          -0.6067198644564883,
          -0.5830985850290649,
          -0.44261895162747866,
          -0.16593121692532206,
          1.5766366939770549,
          -0.9488282786185461,
          -0.47334557392170873,
          -2.9681775620277215,
          -0.25029734336535486,
          -1.1711717647996238,
          -0.6639685633213962,
          -1.5666336819385447,
          -0.8675551693083899,
          0.9365429397079991,
          0.15072665081471726,
          1.1852234520751472,
          -0.08290956220307087,
          -1.1017174229562567,
          -0.5198271089769748,
          0.37018057099191115,
          0.6484073753005931,
          -0.1590182089390411,
          -1.2123900485249766,
          -0.2362259963300999,
          -0.9316538839457773,
          -0.7702588740652273,
          1.4701363779831127,
          1.7874391009354653,
          0.24616432107668124,
          -1.182643305480476,
          0.35443322915141356,
          -0.4842531774514151,
          -0.44909134669233536,
          -0.5668275896818619,
          0.4175639632896596,
          -1.2611360990304046,
          -0.008206696883240246,
          -0.10979708777038237,
          0.49243560590286795,
          0.8213310947530663,
          -0.267726403403628,
          -1.2515625109561188,
          0.630999102938369,
          0.1713145260658875,
          -1.3560217445320064,
          -1.1258620552644414,
          1.095337440779493,
          1.7240614552766635,
          0.18149760823613265,
          -0.33113981029074463,
          -0.7243911418227783
         ]
        },
        {
         "line": {
          "color": "rgba(55, 128, 191, 1.0)",
          "dash": "solid",
          "shape": "linear",
          "width": 1.3
         },
         "mode": "lines",
         "name": "B",
         "text": "",
         "type": "scatter",
         "x": [
          0,
          1,
          2,
          3,
          4,
          5,
          6,
          7,
          8,
          9,
          10,
          11,
          12,
          13,
          14,
          15,
          16,
          17,
          18,
          19,
          20,
          21,
          22,
          23,
          24,
          25,
          26,
          27,
          28,
          29,
          30,
          31,
          32,
          33,
          34,
          35,
          36,
          37,
          38,
          39,
          40,
          41,
          42,
          43,
          44,
          45,
          46,
          47,
          48,
          49,
          50,
          51,
          52,
          53,
          54,
          55,
          56,
          57,
          58,
          59,
          60,
          61,
          62,
          63,
          64,
          65,
          66,
          67,
          68,
          69,
          70,
          71,
          72,
          73,
          74,
          75,
          76,
          77,
          78,
          79,
          80,
          81,
          82,
          83,
          84,
          85,
          86,
          87,
          88,
          89,
          90,
          91,
          92,
          93,
          94,
          95,
          96,
          97,
          98,
          99
         ],
         "y": [
          0.20695886201338964,
          2.2267140798834366,
          2.0606705606804248,
          -0.47751358803428084,
          -0.8265999208195308,
          0.3683847538936354,
          -0.9215058882049292,
          0.2010981971926559,
          -2.612024672660992,
          1.994860248642683,
          0.6474845780135272,
          -1.4695376336420343,
          0.25329507946952484,
          -0.8847748430992944,
          0.01108872266051941,
          -1.1635524981707588,
          -0.16334248185299458,
          0.37081708914041467,
          -0.3744953167142966,
          0.25997366036222974,
          0.6587716974050809,
          -1.153664670868084,
          -1.697491236131132,
          0.7995087387377215,
          1.051287349057648,
          0.26519966512043014,
          0.16665172934102204,
          -0.9207235935854554,
          0.19392919045612925,
          0.30514185806513633,
          1.153170562731266,
          0.6444165797703777,
          0.10095403561272143,
          -1.3779799142755011,
          1.0886785013466902,
          0.4207240802224743,
          1.1386223070602004,
          -0.41875441978934674,
          1.1045931338539758,
          0.6514247563808732,
          -1.5404052766834295,
          -0.07015676241255123,
          0.34211903144043065,
          -0.18534612927812716,
          -1.8520443646410083,
          1.4319920389190104,
          1.1387925527034235,
          0.2698880956788044,
          0.1878047757021268,
          1.7741986146424833,
          0.22768156026066996,
          -0.20014286651396568,
          2.059179137491171,
          0.35223369637447816,
          0.05263010640213276,
          1.7322067881044543,
          -0.7745478394440942,
          2.0680320286556824,
          -0.6321155047266144,
          1.2659416243146926,
          0.4722821822143342,
          1.642169097988724,
          -1.7521377798815267,
          0.3727959530975647,
          -1.965263310446799,
          -1.0712504506589524,
          0.5342752099185382,
          -1.1298074723535294,
          -0.5580156206841335,
          0.823614953289078,
          -0.5479781763338187,
          -1.6514759368126157,
          -0.2328958270228804,
          1.4625741873716016,
          0.3342124737309676,
          1.3772224066244865,
          0.20175951418821808,
          0.2501868306006938,
          0.32303507776168344,
          0.5721589323589801,
          -1.3176653867942356,
          0.2393598296204175,
          0.929162936792238,
          0.43767400300848264,
          -0.08169926569148139,
          0.4789983045336972,
          -0.5059754539470817,
          0.46797344213078973,
          -0.7757631159400264,
          -1.4756298170780817,
          1.1509293631614974,
          0.6429496420266005,
          -0.4212609077669692,
          -0.4359617643911458,
          0.6020198623608694,
          -1.0543687019171408,
          -1.2676827628690235,
          0.14146548854024957,
          -0.5593082511505357,
          0.3558988051040138
         ]
        },
        {
         "connectgaps": false,
         "fill": "tozeroy",
         "line": {
          "color": "green",
          "dash": "solid",
          "shape": "linear",
          "width": 0.5
         },
         "mode": "lines",
         "name": "Spread",
         "showlegend": false,
         "type": "scatter",
         "x": [
          0,
          1,
          2,
          3,
          4,
          5,
          6,
          7,
          8,
          9,
          10,
          11,
          12,
          13,
          14,
          15,
          16,
          17,
          18,
          19,
          20,
          21,
          22,
          23,
          24,
          25,
          26,
          27,
          28,
          29,
          30,
          31,
          32,
          33,
          34,
          35,
          36,
          37,
          38,
          39,
          40,
          41,
          42,
          43,
          44,
          45,
          46,
          47,
          48,
          49,
          50,
          51,
          52,
          53,
          54,
          55,
          56,
          57,
          58,
          59,
          60,
          61,
          62,
          63,
          64,
          65,
          66,
          67,
          68,
          69,
          70,
          71,
          72,
          73,
          74,
          75,
          76,
          77,
          78,
          79,
          80,
          81,
          82,
          83,
          84,
          85,
          86,
          87,
          88,
          89,
          90,
          91,
          92,
          93,
          94,
          95,
          96,
          97,
          98,
          99
         ],
         "xaxis": "x2",
         "y": [
          "",
          "",
          "",
          2.360971828089544,
          0.08711256415418311,
          "",
          0.8873604339854227,
          "",
          3.183287706482096,
          "",
          "",
          2.204303825279276,
          0.03265239415074078,
          0.9255400176035384,
          "",
          "",
          2.418379346955523,
          "",
          1.1738331898935797,
          "",
          "",
          1.4538795132145175,
          0.5470854341880529,
          "",
          "",
          "",
          0.9490103274263225,
          2.6027064062601806,
          0.11611355520504738,
          "",
          "",
          "",
          0.16339122977173343,
          1.0903003856764881,
          "",
          "",
          0.14643741367675767,
          1.9236459457506785,
          "",
          0.11217603315503566,
          0.8940504091471709,
          0.48211214250571144,
          "",
          "",
          2.4462256446444077,
          "",
          "",
          "",
          "",
          "",
          "",
          "",
          "",
          1.2244029976025768,
          "",
          "",
          "",
          "",
          "",
          "",
          "",
          "",
          2.688680719589526,
          "",
          3.150486762521946,
          0.9883408884558815,
          "",
          0.6099803633765546,
          0.9281961916760446,
          "",
          0.3889599673947777,
          0.43908588828763917,
          "",
          "",
          "",
          0.09291397135862622,
          1.5856795867472473,
          "",
          "",
          "",
          0.8334122093428205,
          "",
          "",
          "",
          "",
          "",
          0.39617836617669927,
          0.024462163772078216,
          1.5970942106930928,
          1.2079034136744538,
          "",
          "",
          0.5925754338328567,
          "",
          "",
          2.1497061426966337,
          2.991744218145687,
          0.04003211969588308,
          0.2281684408597911,
          ""
         ],
         "yaxis": "y2"
        },
        {
         "connectgaps": false,
         "fill": "tozeroy",
         "line": {
          "color": "red",
          "dash": "solid",
          "shape": "linear",
          "width": 0.5
         },
         "mode": "lines",
         "name": "Spread",
         "showlegend": false,
         "type": "scatter",
         "x": [
          0,
          1,
          2,
          3,
          4,
          5,
          6,
          7,
          8,
          9,
          10,
          11,
          12,
          13,
          14,
          15,
          16,
          17,
          18,
          19,
          20,
          21,
          22,
          23,
          24,
          25,
          26,
          27,
          28,
          29,
          30,
          31,
          32,
          33,
          34,
          35,
          36,
          37,
          38,
          39,
          40,
          41,
          42,
          43,
          44,
          45,
          46,
          47,
          48,
          49,
          50,
          51,
          52,
          53,
          54,
          55,
          56,
          57,
          58,
          59,
          60,
          61,
          62,
          63,
          64,
          65,
          66,
          67,
          68,
          69,
          70,
          71,
          72,
          73,
          74,
          75,
          76,
          77,
          78,
          79,
          80,
          81,
          82,
          83,
          84,
          85,
          86,
          87,
          88,
          89,
          90,
          91,
          92,
          93,
          94,
          95,
          96,
          97,
          98,
          99
         ],
         "xaxis": "x2",
         "y": [
          -0.2815185936579946,
          -2.1198680096020546,
          -2.0089261779386005,
          "",
          "",
          -0.5734846173637201,
          "",
          -0.8224507103573281,
          "",
          -0.8143960673633259,
          -0.8512191837987132,
          "",
          "",
          "",
          -0.9686778888444715,
          -0.26738587799222,
          "",
          -1.3648810703967433,
          "",
          -1.5178519535442128,
          -0.24082178622879458,
          "",
          "",
          -0.7180778513869105,
          -0.5708954075547479,
          -0.9302653993969517,
          "",
          "",
          "",
          -0.660703885325062,
          -0.5796733453411484,
          -0.31850920644638825,
          "",
          "",
          -0.6264712055227468,
          -1.002618209737793,
          "",
          "",
          -1.7685179382530385,
          "",
          "",
          "",
          -0.7601286902380047,
          -0.7438284463709741,
          "",
          -0.7824504511743838,
          -0.994118884506427,
          -0.0016062289156884568,
          -0.04890588908402266,
          -2.3809184790989715,
          -0.8107801452897349,
          -0.24247608511351298,
          -2.2251103544164934,
          "",
          -1.0014583850206789,
          -2.205552362026163,
          -2.193629722583627,
          -2.3183293720210374,
          -0.5390562600730094,
          -1.929910187636089,
          -2.038915864152879,
          -2.509724267297114,
          "",
          -0.22206930228284744,
          "",
          "",
          -1.635992632874795,
          "",
          "",
          -0.17520757798848485,
          "",
          "",
          -0.0033301693072195215,
          -2.3942280713173787,
          -1.104471347796195,
          "",
          "",
          -0.004022509524012563,
          -1.5056783832421594,
          -0.2177257032075665,
          "",
          -0.6884511763127529,
          -1.4959905264740998,
          -0.020110039718823025,
          -1.1794368333389231,
          -0.48720500141693746,
          "",
          "",
          "",
          "",
          -2.402491874117616,
          -0.011950539088231515,
          "",
          -0.9200599801408607,
          -1.7278819176253108,
          "",
          "",
          "",
          "",
          -1.0802899469267921
         ],
         "yaxis": "y2"
        }
       ],
       "layout": {
        "hovermode": "x",
        "legend": {
         "bgcolor": "#F5F6F9",
         "font": {
          "color": "#4D5663"
         }
        },
        "paper_bgcolor": "#F5F6F9",
        "plot_bgcolor": "#F5F6F9",
        "template": {
         "data": {
          "bar": [
           {
            "error_x": {
             "color": "#2a3f5f"
            },
            "error_y": {
             "color": "#2a3f5f"
            },
            "marker": {
             "line": {
              "color": "#E5ECF6",
              "width": 0.5
             },
             "pattern": {
              "fillmode": "overlay",
              "size": 10,
              "solidity": 0.2
             }
            },
            "type": "bar"
           }
          ],
          "barpolar": [
           {
            "marker": {
             "line": {
              "color": "#E5ECF6",
              "width": 0.5
             },
             "pattern": {
              "fillmode": "overlay",
              "size": 10,
              "solidity": 0.2
             }
            },
            "type": "barpolar"
           }
          ],
          "carpet": [
           {
            "aaxis": {
             "endlinecolor": "#2a3f5f",
             "gridcolor": "white",
             "linecolor": "white",
             "minorgridcolor": "white",
             "startlinecolor": "#2a3f5f"
            },
            "baxis": {
             "endlinecolor": "#2a3f5f",
             "gridcolor": "white",
             "linecolor": "white",
             "minorgridcolor": "white",
             "startlinecolor": "#2a3f5f"
            },
            "type": "carpet"
           }
          ],
          "choropleth": [
           {
            "colorbar": {
             "outlinewidth": 0,
             "ticks": ""
            },
            "type": "choropleth"
           }
          ],
          "contour": [
           {
            "colorbar": {
             "outlinewidth": 0,
             "ticks": ""
            },
            "colorscale": [
             [
              0,
              "#0d0887"
             ],
             [
              0.1111111111111111,
              "#46039f"
             ],
             [
              0.2222222222222222,
              "#7201a8"
             ],
             [
              0.3333333333333333,
              "#9c179e"
             ],
             [
              0.4444444444444444,
              "#bd3786"
             ],
             [
              0.5555555555555556,
              "#d8576b"
             ],
             [
              0.6666666666666666,
              "#ed7953"
             ],
             [
              0.7777777777777778,
              "#fb9f3a"
             ],
             [
              0.8888888888888888,
              "#fdca26"
             ],
             [
              1,
              "#f0f921"
             ]
            ],
            "type": "contour"
           }
          ],
          "contourcarpet": [
           {
            "colorbar": {
             "outlinewidth": 0,
             "ticks": ""
            },
            "type": "contourcarpet"
           }
          ],
          "heatmap": [
           {
            "colorbar": {
             "outlinewidth": 0,
             "ticks": ""
            },
            "colorscale": [
             [
              0,
              "#0d0887"
             ],
             [
              0.1111111111111111,
              "#46039f"
             ],
             [
              0.2222222222222222,
              "#7201a8"
             ],
             [
              0.3333333333333333,
              "#9c179e"
             ],
             [
              0.4444444444444444,
              "#bd3786"
             ],
             [
              0.5555555555555556,
              "#d8576b"
             ],
             [
              0.6666666666666666,
              "#ed7953"
             ],
             [
              0.7777777777777778,
              "#fb9f3a"
             ],
             [
              0.8888888888888888,
              "#fdca26"
             ],
             [
              1,
              "#f0f921"
             ]
            ],
            "type": "heatmap"
           }
          ],
          "heatmapgl": [
           {
            "colorbar": {
             "outlinewidth": 0,
             "ticks": ""
            },
            "colorscale": [
             [
              0,
              "#0d0887"
             ],
             [
              0.1111111111111111,
              "#46039f"
             ],
             [
              0.2222222222222222,
              "#7201a8"
             ],
             [
              0.3333333333333333,
              "#9c179e"
             ],
             [
              0.4444444444444444,
              "#bd3786"
             ],
             [
              0.5555555555555556,
              "#d8576b"
             ],
             [
              0.6666666666666666,
              "#ed7953"
             ],
             [
              0.7777777777777778,
              "#fb9f3a"
             ],
             [
              0.8888888888888888,
              "#fdca26"
             ],
             [
              1,
              "#f0f921"
             ]
            ],
            "type": "heatmapgl"
           }
          ],
          "histogram": [
           {
            "marker": {
             "pattern": {
              "fillmode": "overlay",
              "size": 10,
              "solidity": 0.2
             }
            },
            "type": "histogram"
           }
          ],
          "histogram2d": [
           {
            "colorbar": {
             "outlinewidth": 0,
             "ticks": ""
            },
            "colorscale": [
             [
              0,
              "#0d0887"
             ],
             [
              0.1111111111111111,
              "#46039f"
             ],
             [
              0.2222222222222222,
              "#7201a8"
             ],
             [
              0.3333333333333333,
              "#9c179e"
             ],
             [
              0.4444444444444444,
              "#bd3786"
             ],
             [
              0.5555555555555556,
              "#d8576b"
             ],
             [
              0.6666666666666666,
              "#ed7953"
             ],
             [
              0.7777777777777778,
              "#fb9f3a"
             ],
             [
              0.8888888888888888,
              "#fdca26"
             ],
             [
              1,
              "#f0f921"
             ]
            ],
            "type": "histogram2d"
           }
          ],
          "histogram2dcontour": [
           {
            "colorbar": {
             "outlinewidth": 0,
             "ticks": ""
            },
            "colorscale": [
             [
              0,
              "#0d0887"
             ],
             [
              0.1111111111111111,
              "#46039f"
             ],
             [
              0.2222222222222222,
              "#7201a8"
             ],
             [
              0.3333333333333333,
              "#9c179e"
             ],
             [
              0.4444444444444444,
              "#bd3786"
             ],
             [
              0.5555555555555556,
              "#d8576b"
             ],
             [
              0.6666666666666666,
              "#ed7953"
             ],
             [
              0.7777777777777778,
              "#fb9f3a"
             ],
             [
              0.8888888888888888,
              "#fdca26"
             ],
             [
              1,
              "#f0f921"
             ]
            ],
            "type": "histogram2dcontour"
           }
          ],
          "mesh3d": [
           {
            "colorbar": {
             "outlinewidth": 0,
             "ticks": ""
            },
            "type": "mesh3d"
           }
          ],
          "parcoords": [
           {
            "line": {
             "colorbar": {
              "outlinewidth": 0,
              "ticks": ""
             }
            },
            "type": "parcoords"
           }
          ],
          "pie": [
           {
            "automargin": true,
            "type": "pie"
           }
          ],
          "scatter": [
           {
            "fillpattern": {
             "fillmode": "overlay",
             "size": 10,
             "solidity": 0.2
            },
            "type": "scatter"
           }
          ],
          "scatter3d": [
           {
            "line": {
             "colorbar": {
              "outlinewidth": 0,
              "ticks": ""
             }
            },
            "marker": {
             "colorbar": {
              "outlinewidth": 0,
              "ticks": ""
             }
            },
            "type": "scatter3d"
           }
          ],
          "scattercarpet": [
           {
            "marker": {
             "colorbar": {
              "outlinewidth": 0,
              "ticks": ""
             }
            },
            "type": "scattercarpet"
           }
          ],
          "scattergeo": [
           {
            "marker": {
             "colorbar": {
              "outlinewidth": 0,
              "ticks": ""
             }
            },
            "type": "scattergeo"
           }
          ],
          "scattergl": [
           {
            "marker": {
             "colorbar": {
              "outlinewidth": 0,
              "ticks": ""
             }
            },
            "type": "scattergl"
           }
          ],
          "scattermapbox": [
           {
            "marker": {
             "colorbar": {
              "outlinewidth": 0,
              "ticks": ""
             }
            },
            "type": "scattermapbox"
           }
          ],
          "scatterpolar": [
           {
            "marker": {
             "colorbar": {
              "outlinewidth": 0,
              "ticks": ""
             }
            },
            "type": "scatterpolar"
           }
          ],
          "scatterpolargl": [
           {
            "marker": {
             "colorbar": {
              "outlinewidth": 0,
              "ticks": ""
             }
            },
            "type": "scatterpolargl"
           }
          ],
          "scatterternary": [
           {
            "marker": {
             "colorbar": {
              "outlinewidth": 0,
              "ticks": ""
             }
            },
            "type": "scatterternary"
           }
          ],
          "surface": [
           {
            "colorbar": {
             "outlinewidth": 0,
             "ticks": ""
            },
            "colorscale": [
             [
              0,
              "#0d0887"
             ],
             [
              0.1111111111111111,
              "#46039f"
             ],
             [
              0.2222222222222222,
              "#7201a8"
             ],
             [
              0.3333333333333333,
              "#9c179e"
             ],
             [
              0.4444444444444444,
              "#bd3786"
             ],
             [
              0.5555555555555556,
              "#d8576b"
             ],
             [
              0.6666666666666666,
              "#ed7953"
             ],
             [
              0.7777777777777778,
              "#fb9f3a"
             ],
             [
              0.8888888888888888,
              "#fdca26"
             ],
             [
              1,
              "#f0f921"
             ]
            ],
            "type": "surface"
           }
          ],
          "table": [
           {
            "cells": {
             "fill": {
              "color": "#EBF0F8"
             },
             "line": {
              "color": "white"
             }
            },
            "header": {
             "fill": {
              "color": "#C8D4E3"
             },
             "line": {
              "color": "white"
             }
            },
            "type": "table"
           }
          ]
         },
         "layout": {
          "annotationdefaults": {
           "arrowcolor": "#2a3f5f",
           "arrowhead": 0,
           "arrowwidth": 1
          },
          "autotypenumbers": "strict",
          "coloraxis": {
           "colorbar": {
            "outlinewidth": 0,
            "ticks": ""
           }
          },
          "colorscale": {
           "diverging": [
            [
             0,
             "#8e0152"
            ],
            [
             0.1,
             "#c51b7d"
            ],
            [
             0.2,
             "#de77ae"
            ],
            [
             0.3,
             "#f1b6da"
            ],
            [
             0.4,
             "#fde0ef"
            ],
            [
             0.5,
             "#f7f7f7"
            ],
            [
             0.6,
             "#e6f5d0"
            ],
            [
             0.7,
             "#b8e186"
            ],
            [
             0.8,
             "#7fbc41"
            ],
            [
             0.9,
             "#4d9221"
            ],
            [
             1,
             "#276419"
            ]
           ],
           "sequential": [
            [
             0,
             "#0d0887"
            ],
            [
             0.1111111111111111,
             "#46039f"
            ],
            [
             0.2222222222222222,
             "#7201a8"
            ],
            [
             0.3333333333333333,
             "#9c179e"
            ],
            [
             0.4444444444444444,
             "#bd3786"
            ],
            [
             0.5555555555555556,
             "#d8576b"
            ],
            [
             0.6666666666666666,
             "#ed7953"
            ],
            [
             0.7777777777777778,
             "#fb9f3a"
            ],
            [
             0.8888888888888888,
             "#fdca26"
            ],
            [
             1,
             "#f0f921"
            ]
           ],
           "sequentialminus": [
            [
             0,
             "#0d0887"
            ],
            [
             0.1111111111111111,
             "#46039f"
            ],
            [
             0.2222222222222222,
             "#7201a8"
            ],
            [
             0.3333333333333333,
             "#9c179e"
            ],
            [
             0.4444444444444444,
             "#bd3786"
            ],
            [
             0.5555555555555556,
             "#d8576b"
            ],
            [
             0.6666666666666666,
             "#ed7953"
            ],
            [
             0.7777777777777778,
             "#fb9f3a"
            ],
            [
             0.8888888888888888,
             "#fdca26"
            ],
            [
             1,
             "#f0f921"
            ]
           ]
          },
          "colorway": [
           "#636efa",
           "#EF553B",
           "#00cc96",
           "#ab63fa",
           "#FFA15A",
           "#19d3f3",
           "#FF6692",
           "#B6E880",
           "#FF97FF",
           "#FECB52"
          ],
          "font": {
           "color": "#2a3f5f"
          },
          "geo": {
           "bgcolor": "white",
           "lakecolor": "white",
           "landcolor": "#E5ECF6",
           "showlakes": true,
           "showland": true,
           "subunitcolor": "white"
          },
          "hoverlabel": {
           "align": "left"
          },
          "hovermode": "closest",
          "mapbox": {
           "style": "light"
          },
          "paper_bgcolor": "white",
          "plot_bgcolor": "#E5ECF6",
          "polar": {
           "angularaxis": {
            "gridcolor": "white",
            "linecolor": "white",
            "ticks": ""
           },
           "bgcolor": "#E5ECF6",
           "radialaxis": {
            "gridcolor": "white",
            "linecolor": "white",
            "ticks": ""
           }
          },
          "scene": {
           "xaxis": {
            "backgroundcolor": "#E5ECF6",
            "gridcolor": "white",
            "gridwidth": 2,
            "linecolor": "white",
            "showbackground": true,
            "ticks": "",
            "zerolinecolor": "white"
           },
           "yaxis": {
            "backgroundcolor": "#E5ECF6",
            "gridcolor": "white",
            "gridwidth": 2,
            "linecolor": "white",
            "showbackground": true,
            "ticks": "",
            "zerolinecolor": "white"
           },
           "zaxis": {
            "backgroundcolor": "#E5ECF6",
            "gridcolor": "white",
            "gridwidth": 2,
            "linecolor": "white",
            "showbackground": true,
            "ticks": "",
            "zerolinecolor": "white"
           }
          },
          "shapedefaults": {
           "line": {
            "color": "#2a3f5f"
           }
          },
          "ternary": {
           "aaxis": {
            "gridcolor": "white",
            "linecolor": "white",
            "ticks": ""
           },
           "baxis": {
            "gridcolor": "white",
            "linecolor": "white",
            "ticks": ""
           },
           "bgcolor": "#E5ECF6",
           "caxis": {
            "gridcolor": "white",
            "linecolor": "white",
            "ticks": ""
           }
          },
          "title": {
           "x": 0.05
          },
          "xaxis": {
           "automargin": true,
           "gridcolor": "white",
           "linecolor": "white",
           "ticks": "",
           "title": {
            "standoff": 15
           },
           "zerolinecolor": "white",
           "zerolinewidth": 2
          },
          "yaxis": {
           "automargin": true,
           "gridcolor": "white",
           "linecolor": "white",
           "ticks": "",
           "title": {
            "standoff": 15
           },
           "zerolinecolor": "white",
           "zerolinewidth": 2
          }
         }
        },
        "title": {
         "font": {
          "color": "#4D5663"
         }
        },
        "xaxis": {
         "gridcolor": "#E1E5ED",
         "showgrid": true,
         "tickfont": {
          "color": "#4D5663"
         },
         "title": {
          "font": {
           "color": "#4D5663"
          },
          "text": ""
         },
         "zerolinecolor": "#E1E5ED"
        },
        "xaxis2": {
         "anchor": "y2",
         "gridcolor": "#E1E5ED",
         "showgrid": true,
         "showticklabels": false,
         "tickfont": {
          "color": "#4D5663"
         },
         "title": {
          "font": {
           "color": "#4D5663"
          },
          "text": ""
         },
         "zerolinecolor": "#E1E5ED"
        },
        "yaxis": {
         "domain": [
          0.3,
          1
         ],
         "gridcolor": "#E1E5ED",
         "showgrid": true,
         "tickfont": {
          "color": "#4D5663"
         },
         "title": {
          "font": {
           "color": "#4D5663"
          },
          "text": ""
         },
         "zerolinecolor": "#E1E5ED"
        },
        "yaxis2": {
         "domain": [
          0,
          0.25
         ],
         "gridcolor": "#E1E5ED",
         "showgrid": true,
         "tickfont": {
          "color": "#4D5663"
         },
         "title": {
          "font": {
           "color": "#4D5663"
          },
          "text": "Spread"
         },
         "zerolinecolor": "#E1E5ED"
        }
       }
      },
      "text/html": [
       "<div>                            <div id=\"da94c27d-157e-4117-9002-a3cc8c5cb9a7\" class=\"plotly-graph-div\" style=\"height:525px; width:100%;\"></div>            <script type=\"text/javascript\">                require([\"plotly\"], function(Plotly) {                    window.PLOTLYENV=window.PLOTLYENV || {};\n",
       "                    window.PLOTLYENV.BASE_URL='https://plot.ly';                                    if (document.getElementById(\"da94c27d-157e-4117-9002-a3cc8c5cb9a7\")) {                    Plotly.newPlot(                        \"da94c27d-157e-4117-9002-a3cc8c5cb9a7\",                        [{\"line\":{\"color\":\"rgba(255, 153, 51, 1.0)\",\"dash\":\"solid\",\"shape\":\"linear\",\"width\":1.3},\"mode\":\"lines\",\"name\":\"A\",\"text\":\"\",\"x\":[0,1,2,3,4,5,6,7,8,9,10,11,12,13,14,15,16,17,18,19,20,21,22,23,24,25,26,27,28,29,30,31,32,33,34,35,36,37,38,39,40,41,42,43,44,45,46,47,48,49,50,51,52,53,54,55,56,57,58,59,60,61,62,63,64,65,66,67,68,69,70,71,72,73,74,75,76,77,78,79,80,81,82,83,84,85,86,87,88,89,90,91,92,93,94,95,96,97,98,99],\"y\":[-0.07455973164460492,0.10684607028138204,0.05174438274182425,1.8834582400552635,-0.7394873566653477,-0.20509986347008477,-0.03414545421950641,-0.6213525131646722,0.571263033821104,1.180464181279357,-0.203734605785186,0.7347661916372418,0.2859474736202656,0.04076517450424396,-0.9575891661839521,-1.4309383761629788,2.2550368651025283,-0.9940639812563287,0.799337873179283,-1.257878293181983,0.4179499111762863,0.3002148423464334,-1.1504058019430792,0.08143088735081103,0.48039194150290004,-0.6650657342765216,1.1156620567673445,1.6819828126747252,0.3100427456611766,-0.35556202725992564,0.5734972173901176,0.32590737332398945,0.26434526538445485,-0.28767952859901297,0.46220729582394343,-0.5818941295153186,1.285059720736958,1.5048915259613318,-0.6639248043990625,0.7636007895359088,-0.6463548675362586,0.4119553800931602,-0.41800965879757407,-0.9291745756491012,0.5941812800033995,0.6495415877446266,0.1446736681969964,0.26828186676311594,0.13889888661810415,-0.6067198644564883,-0.5830985850290649,-0.44261895162747866,-0.16593121692532206,1.5766366939770549,-0.9488282786185461,-0.47334557392170873,-2.9681775620277215,-0.25029734336535486,-1.1711717647996238,-0.6639685633213962,-1.5666336819385447,-0.8675551693083899,0.9365429397079991,0.15072665081471726,1.1852234520751472,-0.08290956220307087,-1.1017174229562567,-0.5198271089769748,0.37018057099191115,0.6484073753005931,-0.1590182089390411,-1.2123900485249766,-0.2362259963300999,-0.9316538839457773,-0.7702588740652273,1.4701363779831127,1.7874391009354653,0.24616432107668124,-1.182643305480476,0.35443322915141356,-0.4842531774514151,-0.44909134669233536,-0.5668275896818619,0.4175639632896596,-1.2611360990304046,-0.008206696883240246,-0.10979708777038237,0.49243560590286795,0.8213310947530663,-0.267726403403628,-1.2515625109561188,0.630999102938369,0.1713145260658875,-1.3560217445320064,-1.1258620552644414,1.095337440779493,1.7240614552766635,0.18149760823613265,-0.33113981029074463,-0.7243911418227783],\"type\":\"scatter\"},{\"line\":{\"color\":\"rgba(55, 128, 191, 1.0)\",\"dash\":\"solid\",\"shape\":\"linear\",\"width\":1.3},\"mode\":\"lines\",\"name\":\"B\",\"text\":\"\",\"x\":[0,1,2,3,4,5,6,7,8,9,10,11,12,13,14,15,16,17,18,19,20,21,22,23,24,25,26,27,28,29,30,31,32,33,34,35,36,37,38,39,40,41,42,43,44,45,46,47,48,49,50,51,52,53,54,55,56,57,58,59,60,61,62,63,64,65,66,67,68,69,70,71,72,73,74,75,76,77,78,79,80,81,82,83,84,85,86,87,88,89,90,91,92,93,94,95,96,97,98,99],\"y\":[0.20695886201338964,2.2267140798834366,2.0606705606804248,-0.47751358803428084,-0.8265999208195308,0.3683847538936354,-0.9215058882049292,0.2010981971926559,-2.612024672660992,1.994860248642683,0.6474845780135272,-1.4695376336420343,0.25329507946952484,-0.8847748430992944,0.01108872266051941,-1.1635524981707588,-0.16334248185299458,0.37081708914041467,-0.3744953167142966,0.25997366036222974,0.6587716974050809,-1.153664670868084,-1.697491236131132,0.7995087387377215,1.051287349057648,0.26519966512043014,0.16665172934102204,-0.9207235935854554,0.19392919045612925,0.30514185806513633,1.153170562731266,0.6444165797703777,0.10095403561272143,-1.3779799142755011,1.0886785013466902,0.4207240802224743,1.1386223070602004,-0.41875441978934674,1.1045931338539758,0.6514247563808732,-1.5404052766834295,-0.07015676241255123,0.34211903144043065,-0.18534612927812716,-1.8520443646410083,1.4319920389190104,1.1387925527034235,0.2698880956788044,0.1878047757021268,1.7741986146424833,0.22768156026066996,-0.20014286651396568,2.059179137491171,0.35223369637447816,0.05263010640213276,1.7322067881044543,-0.7745478394440942,2.0680320286556824,-0.6321155047266144,1.2659416243146926,0.4722821822143342,1.642169097988724,-1.7521377798815267,0.3727959530975647,-1.965263310446799,-1.0712504506589524,0.5342752099185382,-1.1298074723535294,-0.5580156206841335,0.823614953289078,-0.5479781763338187,-1.6514759368126157,-0.2328958270228804,1.4625741873716016,0.3342124737309676,1.3772224066244865,0.20175951418821808,0.2501868306006938,0.32303507776168344,0.5721589323589801,-1.3176653867942356,0.2393598296204175,0.929162936792238,0.43767400300848264,-0.08169926569148139,0.4789983045336972,-0.5059754539470817,0.46797344213078973,-0.7757631159400264,-1.4756298170780817,1.1509293631614974,0.6429496420266005,-0.4212609077669692,-0.4359617643911458,0.6020198623608694,-1.0543687019171408,-1.2676827628690235,0.14146548854024957,-0.5593082511505357,0.3558988051040138],\"type\":\"scatter\"},{\"connectgaps\":false,\"fill\":\"tozeroy\",\"line\":{\"color\":\"green\",\"dash\":\"solid\",\"shape\":\"linear\",\"width\":0.5},\"mode\":\"lines\",\"name\":\"Spread\",\"showlegend\":false,\"x\":[0,1,2,3,4,5,6,7,8,9,10,11,12,13,14,15,16,17,18,19,20,21,22,23,24,25,26,27,28,29,30,31,32,33,34,35,36,37,38,39,40,41,42,43,44,45,46,47,48,49,50,51,52,53,54,55,56,57,58,59,60,61,62,63,64,65,66,67,68,69,70,71,72,73,74,75,76,77,78,79,80,81,82,83,84,85,86,87,88,89,90,91,92,93,94,95,96,97,98,99],\"xaxis\":\"x2\",\"y\":[\"\",\"\",\"\",2.360971828089544,0.08711256415418311,\"\",0.8873604339854227,\"\",3.183287706482096,\"\",\"\",2.204303825279276,0.03265239415074078,0.9255400176035384,\"\",\"\",2.418379346955523,\"\",1.1738331898935797,\"\",\"\",1.4538795132145175,0.5470854341880529,\"\",\"\",\"\",0.9490103274263225,2.6027064062601806,0.11611355520504738,\"\",\"\",\"\",0.16339122977173343,1.0903003856764881,\"\",\"\",0.14643741367675767,1.9236459457506785,\"\",0.11217603315503566,0.8940504091471709,0.48211214250571144,\"\",\"\",2.4462256446444077,\"\",\"\",\"\",\"\",\"\",\"\",\"\",\"\",1.2244029976025768,\"\",\"\",\"\",\"\",\"\",\"\",\"\",\"\",2.688680719589526,\"\",3.150486762521946,0.9883408884558815,\"\",0.6099803633765546,0.9281961916760446,\"\",0.3889599673947777,0.43908588828763917,\"\",\"\",\"\",0.09291397135862622,1.5856795867472473,\"\",\"\",\"\",0.8334122093428205,\"\",\"\",\"\",\"\",\"\",0.39617836617669927,0.024462163772078216,1.5970942106930928,1.2079034136744538,\"\",\"\",0.5925754338328567,\"\",\"\",2.1497061426966337,2.991744218145687,0.04003211969588308,0.2281684408597911,\"\"],\"yaxis\":\"y2\",\"type\":\"scatter\"},{\"connectgaps\":false,\"fill\":\"tozeroy\",\"line\":{\"color\":\"red\",\"dash\":\"solid\",\"shape\":\"linear\",\"width\":0.5},\"mode\":\"lines\",\"name\":\"Spread\",\"showlegend\":false,\"x\":[0,1,2,3,4,5,6,7,8,9,10,11,12,13,14,15,16,17,18,19,20,21,22,23,24,25,26,27,28,29,30,31,32,33,34,35,36,37,38,39,40,41,42,43,44,45,46,47,48,49,50,51,52,53,54,55,56,57,58,59,60,61,62,63,64,65,66,67,68,69,70,71,72,73,74,75,76,77,78,79,80,81,82,83,84,85,86,87,88,89,90,91,92,93,94,95,96,97,98,99],\"xaxis\":\"x2\",\"y\":[-0.2815185936579946,-2.1198680096020546,-2.0089261779386005,\"\",\"\",-0.5734846173637201,\"\",-0.8224507103573281,\"\",-0.8143960673633259,-0.8512191837987132,\"\",\"\",\"\",-0.9686778888444715,-0.26738587799222,\"\",-1.3648810703967433,\"\",-1.5178519535442128,-0.24082178622879458,\"\",\"\",-0.7180778513869105,-0.5708954075547479,-0.9302653993969517,\"\",\"\",\"\",-0.660703885325062,-0.5796733453411484,-0.31850920644638825,\"\",\"\",-0.6264712055227468,-1.002618209737793,\"\",\"\",-1.7685179382530385,\"\",\"\",\"\",-0.7601286902380047,-0.7438284463709741,\"\",-0.7824504511743838,-0.994118884506427,-0.0016062289156884568,-0.04890588908402266,-2.3809184790989715,-0.8107801452897349,-0.24247608511351298,-2.2251103544164934,\"\",-1.0014583850206789,-2.205552362026163,-2.193629722583627,-2.3183293720210374,-0.5390562600730094,-1.929910187636089,-2.038915864152879,-2.509724267297114,\"\",-0.22206930228284744,\"\",\"\",-1.635992632874795,\"\",\"\",-0.17520757798848485,\"\",\"\",-0.0033301693072195215,-2.3942280713173787,-1.104471347796195,\"\",\"\",-0.004022509524012563,-1.5056783832421594,-0.2177257032075665,\"\",-0.6884511763127529,-1.4959905264740998,-0.020110039718823025,-1.1794368333389231,-0.48720500141693746,\"\",\"\",\"\",\"\",-2.402491874117616,-0.011950539088231515,\"\",-0.9200599801408607,-1.7278819176253108,\"\",\"\",\"\",\"\",-1.0802899469267921],\"yaxis\":\"y2\",\"type\":\"scatter\"}],                        {\"hovermode\":\"x\",\"legend\":{\"bgcolor\":\"#F5F6F9\",\"font\":{\"color\":\"#4D5663\"}},\"paper_bgcolor\":\"#F5F6F9\",\"plot_bgcolor\":\"#F5F6F9\",\"template\":{\"data\":{\"barpolar\":[{\"marker\":{\"line\":{\"color\":\"#E5ECF6\",\"width\":0.5},\"pattern\":{\"fillmode\":\"overlay\",\"size\":10,\"solidity\":0.2}},\"type\":\"barpolar\"}],\"bar\":[{\"error_x\":{\"color\":\"#2a3f5f\"},\"error_y\":{\"color\":\"#2a3f5f\"},\"marker\":{\"line\":{\"color\":\"#E5ECF6\",\"width\":0.5},\"pattern\":{\"fillmode\":\"overlay\",\"size\":10,\"solidity\":0.2}},\"type\":\"bar\"}],\"carpet\":[{\"aaxis\":{\"endlinecolor\":\"#2a3f5f\",\"gridcolor\":\"white\",\"linecolor\":\"white\",\"minorgridcolor\":\"white\",\"startlinecolor\":\"#2a3f5f\"},\"baxis\":{\"endlinecolor\":\"#2a3f5f\",\"gridcolor\":\"white\",\"linecolor\":\"white\",\"minorgridcolor\":\"white\",\"startlinecolor\":\"#2a3f5f\"},\"type\":\"carpet\"}],\"choropleth\":[{\"colorbar\":{\"outlinewidth\":0,\"ticks\":\"\"},\"type\":\"choropleth\"}],\"contourcarpet\":[{\"colorbar\":{\"outlinewidth\":0,\"ticks\":\"\"},\"type\":\"contourcarpet\"}],\"contour\":[{\"colorbar\":{\"outlinewidth\":0,\"ticks\":\"\"},\"colorscale\":[[0.0,\"#0d0887\"],[0.1111111111111111,\"#46039f\"],[0.2222222222222222,\"#7201a8\"],[0.3333333333333333,\"#9c179e\"],[0.4444444444444444,\"#bd3786\"],[0.5555555555555556,\"#d8576b\"],[0.6666666666666666,\"#ed7953\"],[0.7777777777777778,\"#fb9f3a\"],[0.8888888888888888,\"#fdca26\"],[1.0,\"#f0f921\"]],\"type\":\"contour\"}],\"heatmapgl\":[{\"colorbar\":{\"outlinewidth\":0,\"ticks\":\"\"},\"colorscale\":[[0.0,\"#0d0887\"],[0.1111111111111111,\"#46039f\"],[0.2222222222222222,\"#7201a8\"],[0.3333333333333333,\"#9c179e\"],[0.4444444444444444,\"#bd3786\"],[0.5555555555555556,\"#d8576b\"],[0.6666666666666666,\"#ed7953\"],[0.7777777777777778,\"#fb9f3a\"],[0.8888888888888888,\"#fdca26\"],[1.0,\"#f0f921\"]],\"type\":\"heatmapgl\"}],\"heatmap\":[{\"colorbar\":{\"outlinewidth\":0,\"ticks\":\"\"},\"colorscale\":[[0.0,\"#0d0887\"],[0.1111111111111111,\"#46039f\"],[0.2222222222222222,\"#7201a8\"],[0.3333333333333333,\"#9c179e\"],[0.4444444444444444,\"#bd3786\"],[0.5555555555555556,\"#d8576b\"],[0.6666666666666666,\"#ed7953\"],[0.7777777777777778,\"#fb9f3a\"],[0.8888888888888888,\"#fdca26\"],[1.0,\"#f0f921\"]],\"type\":\"heatmap\"}],\"histogram2dcontour\":[{\"colorbar\":{\"outlinewidth\":0,\"ticks\":\"\"},\"colorscale\":[[0.0,\"#0d0887\"],[0.1111111111111111,\"#46039f\"],[0.2222222222222222,\"#7201a8\"],[0.3333333333333333,\"#9c179e\"],[0.4444444444444444,\"#bd3786\"],[0.5555555555555556,\"#d8576b\"],[0.6666666666666666,\"#ed7953\"],[0.7777777777777778,\"#fb9f3a\"],[0.8888888888888888,\"#fdca26\"],[1.0,\"#f0f921\"]],\"type\":\"histogram2dcontour\"}],\"histogram2d\":[{\"colorbar\":{\"outlinewidth\":0,\"ticks\":\"\"},\"colorscale\":[[0.0,\"#0d0887\"],[0.1111111111111111,\"#46039f\"],[0.2222222222222222,\"#7201a8\"],[0.3333333333333333,\"#9c179e\"],[0.4444444444444444,\"#bd3786\"],[0.5555555555555556,\"#d8576b\"],[0.6666666666666666,\"#ed7953\"],[0.7777777777777778,\"#fb9f3a\"],[0.8888888888888888,\"#fdca26\"],[1.0,\"#f0f921\"]],\"type\":\"histogram2d\"}],\"histogram\":[{\"marker\":{\"pattern\":{\"fillmode\":\"overlay\",\"size\":10,\"solidity\":0.2}},\"type\":\"histogram\"}],\"mesh3d\":[{\"colorbar\":{\"outlinewidth\":0,\"ticks\":\"\"},\"type\":\"mesh3d\"}],\"parcoords\":[{\"line\":{\"colorbar\":{\"outlinewidth\":0,\"ticks\":\"\"}},\"type\":\"parcoords\"}],\"pie\":[{\"automargin\":true,\"type\":\"pie\"}],\"scatter3d\":[{\"line\":{\"colorbar\":{\"outlinewidth\":0,\"ticks\":\"\"}},\"marker\":{\"colorbar\":{\"outlinewidth\":0,\"ticks\":\"\"}},\"type\":\"scatter3d\"}],\"scattercarpet\":[{\"marker\":{\"colorbar\":{\"outlinewidth\":0,\"ticks\":\"\"}},\"type\":\"scattercarpet\"}],\"scattergeo\":[{\"marker\":{\"colorbar\":{\"outlinewidth\":0,\"ticks\":\"\"}},\"type\":\"scattergeo\"}],\"scattergl\":[{\"marker\":{\"colorbar\":{\"outlinewidth\":0,\"ticks\":\"\"}},\"type\":\"scattergl\"}],\"scattermapbox\":[{\"marker\":{\"colorbar\":{\"outlinewidth\":0,\"ticks\":\"\"}},\"type\":\"scattermapbox\"}],\"scatterpolargl\":[{\"marker\":{\"colorbar\":{\"outlinewidth\":0,\"ticks\":\"\"}},\"type\":\"scatterpolargl\"}],\"scatterpolar\":[{\"marker\":{\"colorbar\":{\"outlinewidth\":0,\"ticks\":\"\"}},\"type\":\"scatterpolar\"}],\"scatter\":[{\"fillpattern\":{\"fillmode\":\"overlay\",\"size\":10,\"solidity\":0.2},\"type\":\"scatter\"}],\"scatterternary\":[{\"marker\":{\"colorbar\":{\"outlinewidth\":0,\"ticks\":\"\"}},\"type\":\"scatterternary\"}],\"surface\":[{\"colorbar\":{\"outlinewidth\":0,\"ticks\":\"\"},\"colorscale\":[[0.0,\"#0d0887\"],[0.1111111111111111,\"#46039f\"],[0.2222222222222222,\"#7201a8\"],[0.3333333333333333,\"#9c179e\"],[0.4444444444444444,\"#bd3786\"],[0.5555555555555556,\"#d8576b\"],[0.6666666666666666,\"#ed7953\"],[0.7777777777777778,\"#fb9f3a\"],[0.8888888888888888,\"#fdca26\"],[1.0,\"#f0f921\"]],\"type\":\"surface\"}],\"table\":[{\"cells\":{\"fill\":{\"color\":\"#EBF0F8\"},\"line\":{\"color\":\"white\"}},\"header\":{\"fill\":{\"color\":\"#C8D4E3\"},\"line\":{\"color\":\"white\"}},\"type\":\"table\"}]},\"layout\":{\"annotationdefaults\":{\"arrowcolor\":\"#2a3f5f\",\"arrowhead\":0,\"arrowwidth\":1},\"autotypenumbers\":\"strict\",\"coloraxis\":{\"colorbar\":{\"outlinewidth\":0,\"ticks\":\"\"}},\"colorscale\":{\"diverging\":[[0,\"#8e0152\"],[0.1,\"#c51b7d\"],[0.2,\"#de77ae\"],[0.3,\"#f1b6da\"],[0.4,\"#fde0ef\"],[0.5,\"#f7f7f7\"],[0.6,\"#e6f5d0\"],[0.7,\"#b8e186\"],[0.8,\"#7fbc41\"],[0.9,\"#4d9221\"],[1,\"#276419\"]],\"sequential\":[[0.0,\"#0d0887\"],[0.1111111111111111,\"#46039f\"],[0.2222222222222222,\"#7201a8\"],[0.3333333333333333,\"#9c179e\"],[0.4444444444444444,\"#bd3786\"],[0.5555555555555556,\"#d8576b\"],[0.6666666666666666,\"#ed7953\"],[0.7777777777777778,\"#fb9f3a\"],[0.8888888888888888,\"#fdca26\"],[1.0,\"#f0f921\"]],\"sequentialminus\":[[0.0,\"#0d0887\"],[0.1111111111111111,\"#46039f\"],[0.2222222222222222,\"#7201a8\"],[0.3333333333333333,\"#9c179e\"],[0.4444444444444444,\"#bd3786\"],[0.5555555555555556,\"#d8576b\"],[0.6666666666666666,\"#ed7953\"],[0.7777777777777778,\"#fb9f3a\"],[0.8888888888888888,\"#fdca26\"],[1.0,\"#f0f921\"]]},\"colorway\":[\"#636efa\",\"#EF553B\",\"#00cc96\",\"#ab63fa\",\"#FFA15A\",\"#19d3f3\",\"#FF6692\",\"#B6E880\",\"#FF97FF\",\"#FECB52\"],\"font\":{\"color\":\"#2a3f5f\"},\"geo\":{\"bgcolor\":\"white\",\"lakecolor\":\"white\",\"landcolor\":\"#E5ECF6\",\"showlakes\":true,\"showland\":true,\"subunitcolor\":\"white\"},\"hoverlabel\":{\"align\":\"left\"},\"hovermode\":\"closest\",\"mapbox\":{\"style\":\"light\"},\"paper_bgcolor\":\"white\",\"plot_bgcolor\":\"#E5ECF6\",\"polar\":{\"angularaxis\":{\"gridcolor\":\"white\",\"linecolor\":\"white\",\"ticks\":\"\"},\"bgcolor\":\"#E5ECF6\",\"radialaxis\":{\"gridcolor\":\"white\",\"linecolor\":\"white\",\"ticks\":\"\"}},\"scene\":{\"xaxis\":{\"backgroundcolor\":\"#E5ECF6\",\"gridcolor\":\"white\",\"gridwidth\":2,\"linecolor\":\"white\",\"showbackground\":true,\"ticks\":\"\",\"zerolinecolor\":\"white\"},\"yaxis\":{\"backgroundcolor\":\"#E5ECF6\",\"gridcolor\":\"white\",\"gridwidth\":2,\"linecolor\":\"white\",\"showbackground\":true,\"ticks\":\"\",\"zerolinecolor\":\"white\"},\"zaxis\":{\"backgroundcolor\":\"#E5ECF6\",\"gridcolor\":\"white\",\"gridwidth\":2,\"linecolor\":\"white\",\"showbackground\":true,\"ticks\":\"\",\"zerolinecolor\":\"white\"}},\"shapedefaults\":{\"line\":{\"color\":\"#2a3f5f\"}},\"ternary\":{\"aaxis\":{\"gridcolor\":\"white\",\"linecolor\":\"white\",\"ticks\":\"\"},\"baxis\":{\"gridcolor\":\"white\",\"linecolor\":\"white\",\"ticks\":\"\"},\"bgcolor\":\"#E5ECF6\",\"caxis\":{\"gridcolor\":\"white\",\"linecolor\":\"white\",\"ticks\":\"\"}},\"title\":{\"x\":0.05},\"xaxis\":{\"automargin\":true,\"gridcolor\":\"white\",\"linecolor\":\"white\",\"ticks\":\"\",\"title\":{\"standoff\":15},\"zerolinecolor\":\"white\",\"zerolinewidth\":2},\"yaxis\":{\"automargin\":true,\"gridcolor\":\"white\",\"linecolor\":\"white\",\"ticks\":\"\",\"title\":{\"standoff\":15},\"zerolinecolor\":\"white\",\"zerolinewidth\":2}}},\"title\":{\"font\":{\"color\":\"#4D5663\"}},\"xaxis\":{\"gridcolor\":\"#E1E5ED\",\"showgrid\":true,\"tickfont\":{\"color\":\"#4D5663\"},\"title\":{\"font\":{\"color\":\"#4D5663\"},\"text\":\"\"},\"zerolinecolor\":\"#E1E5ED\"},\"yaxis\":{\"domain\":[0.3,1],\"gridcolor\":\"#E1E5ED\",\"showgrid\":true,\"tickfont\":{\"color\":\"#4D5663\"},\"title\":{\"font\":{\"color\":\"#4D5663\"},\"text\":\"\"},\"zerolinecolor\":\"#E1E5ED\"},\"yaxis2\":{\"domain\":[0,0.25],\"gridcolor\":\"#E1E5ED\",\"showgrid\":true,\"tickfont\":{\"color\":\"#4D5663\"},\"title\":{\"font\":{\"color\":\"#4D5663\"},\"text\":\"Spread\"},\"zerolinecolor\":\"#E1E5ED\"},\"xaxis2\":{\"anchor\":\"y2\",\"gridcolor\":\"#E1E5ED\",\"showgrid\":true,\"showticklabels\":false,\"tickfont\":{\"color\":\"#4D5663\"},\"title\":{\"font\":{\"color\":\"#4D5663\"},\"text\":\"\"},\"zerolinecolor\":\"#E1E5ED\"}},                        {\"showLink\": true, \"linkText\": \"Export to plot.ly\", \"plotlyServerURL\": \"https://plot.ly\", \"responsive\": true}                    ).then(function(){\n",
       "                            \n",
       "var gd = document.getElementById('da94c27d-157e-4117-9002-a3cc8c5cb9a7');\n",
       "var x = new MutationObserver(function (mutations, observer) {{\n",
       "        var display = window.getComputedStyle(gd).display;\n",
       "        if (!display || display === 'none') {{\n",
       "            console.log([gd, 'removed!']);\n",
       "            Plotly.purge(gd);\n",
       "            observer.disconnect();\n",
       "        }}\n",
       "}});\n",
       "\n",
       "// Listen for the removal of the full notebook cells\n",
       "var notebookContainer = gd.closest('#notebook-container');\n",
       "if (notebookContainer) {{\n",
       "    x.observe(notebookContainer, {childList: true});\n",
       "}}\n",
       "\n",
       "// Listen for the clearing of the current output cell\n",
       "var outputEl = gd.closest('.output');\n",
       "if (outputEl) {{\n",
       "    x.observe(outputEl, {childList: true});\n",
       "}}\n",
       "\n",
       "                        })                };                });            </script>        </div>"
      ]
     },
     "metadata": {},
     "output_type": "display_data"
    }
   ],
   "source": [
    "df[['A','B']].iplot(kind='spread')"
   ]
  },
  {
   "cell_type": "markdown",
   "metadata": {},
   "source": [
    "## histogram"
   ]
  },
  {
   "cell_type": "code",
   "execution_count": 24,
   "metadata": {},
   "outputs": [
    {
     "data": {
      "application/vnd.plotly.v1+json": {
       "config": {
        "linkText": "Export to plot.ly",
        "plotlyServerURL": "https://plot.ly",
        "showLink": true
       },
       "data": [
        {
         "histfunc": "count",
         "histnorm": "",
         "marker": {
          "color": "rgba(255, 153, 51, 1.0)",
          "line": {
           "color": "#4D5663",
           "width": 1.3
          }
         },
         "name": "A",
         "nbinsx": 25,
         "opacity": 0.8,
         "orientation": "v",
         "type": "histogram",
         "x": [
          -0.07455973164460492,
          0.10684607028138204,
          0.05174438274182425,
          1.8834582400552635,
          -0.7394873566653477,
          -0.20509986347008477,
          -0.03414545421950641,
          -0.6213525131646722,
          0.571263033821104,
          1.180464181279357,
          -0.203734605785186,
          0.7347661916372418,
          0.2859474736202656,
          0.04076517450424396,
          -0.9575891661839521,
          -1.4309383761629788,
          2.2550368651025283,
          -0.9940639812563287,
          0.799337873179283,
          -1.257878293181983,
          0.4179499111762863,
          0.3002148423464334,
          -1.1504058019430792,
          0.08143088735081103,
          0.48039194150290004,
          -0.6650657342765216,
          1.1156620567673445,
          1.6819828126747252,
          0.3100427456611766,
          -0.35556202725992564,
          0.5734972173901176,
          0.32590737332398945,
          0.26434526538445485,
          -0.28767952859901297,
          0.46220729582394343,
          -0.5818941295153186,
          1.285059720736958,
          1.5048915259613318,
          -0.6639248043990625,
          0.7636007895359088,
          -0.6463548675362586,
          0.4119553800931602,
          -0.41800965879757407,
          -0.9291745756491012,
          0.5941812800033995,
          0.6495415877446266,
          0.1446736681969964,
          0.26828186676311594,
          0.13889888661810415,
          -0.6067198644564883,
          -0.5830985850290649,
          -0.44261895162747866,
          -0.16593121692532206,
          1.5766366939770549,
          -0.9488282786185461,
          -0.47334557392170873,
          -2.9681775620277215,
          -0.25029734336535486,
          -1.1711717647996238,
          -0.6639685633213962,
          -1.5666336819385447,
          -0.8675551693083899,
          0.9365429397079991,
          0.15072665081471726,
          1.1852234520751472,
          -0.08290956220307087,
          -1.1017174229562567,
          -0.5198271089769748,
          0.37018057099191115,
          0.6484073753005931,
          -0.1590182089390411,
          -1.2123900485249766,
          -0.2362259963300999,
          -0.9316538839457773,
          -0.7702588740652273,
          1.4701363779831127,
          1.7874391009354653,
          0.24616432107668124,
          -1.182643305480476,
          0.35443322915141356,
          -0.4842531774514151,
          -0.44909134669233536,
          -0.5668275896818619,
          0.4175639632896596,
          -1.2611360990304046,
          -0.008206696883240246,
          -0.10979708777038237,
          0.49243560590286795,
          0.8213310947530663,
          -0.267726403403628,
          -1.2515625109561188,
          0.630999102938369,
          0.1713145260658875,
          -1.3560217445320064,
          -1.1258620552644414,
          1.095337440779493,
          1.7240614552766635,
          0.18149760823613265,
          -0.33113981029074463,
          -0.7243911418227783
         ]
        }
       ],
       "layout": {
        "barmode": "overlay",
        "legend": {
         "bgcolor": "#F5F6F9",
         "font": {
          "color": "#4D5663"
         }
        },
        "paper_bgcolor": "#F5F6F9",
        "plot_bgcolor": "#F5F6F9",
        "template": {
         "data": {
          "bar": [
           {
            "error_x": {
             "color": "#2a3f5f"
            },
            "error_y": {
             "color": "#2a3f5f"
            },
            "marker": {
             "line": {
              "color": "#E5ECF6",
              "width": 0.5
             },
             "pattern": {
              "fillmode": "overlay",
              "size": 10,
              "solidity": 0.2
             }
            },
            "type": "bar"
           }
          ],
          "barpolar": [
           {
            "marker": {
             "line": {
              "color": "#E5ECF6",
              "width": 0.5
             },
             "pattern": {
              "fillmode": "overlay",
              "size": 10,
              "solidity": 0.2
             }
            },
            "type": "barpolar"
           }
          ],
          "carpet": [
           {
            "aaxis": {
             "endlinecolor": "#2a3f5f",
             "gridcolor": "white",
             "linecolor": "white",
             "minorgridcolor": "white",
             "startlinecolor": "#2a3f5f"
            },
            "baxis": {
             "endlinecolor": "#2a3f5f",
             "gridcolor": "white",
             "linecolor": "white",
             "minorgridcolor": "white",
             "startlinecolor": "#2a3f5f"
            },
            "type": "carpet"
           }
          ],
          "choropleth": [
           {
            "colorbar": {
             "outlinewidth": 0,
             "ticks": ""
            },
            "type": "choropleth"
           }
          ],
          "contour": [
           {
            "colorbar": {
             "outlinewidth": 0,
             "ticks": ""
            },
            "colorscale": [
             [
              0,
              "#0d0887"
             ],
             [
              0.1111111111111111,
              "#46039f"
             ],
             [
              0.2222222222222222,
              "#7201a8"
             ],
             [
              0.3333333333333333,
              "#9c179e"
             ],
             [
              0.4444444444444444,
              "#bd3786"
             ],
             [
              0.5555555555555556,
              "#d8576b"
             ],
             [
              0.6666666666666666,
              "#ed7953"
             ],
             [
              0.7777777777777778,
              "#fb9f3a"
             ],
             [
              0.8888888888888888,
              "#fdca26"
             ],
             [
              1,
              "#f0f921"
             ]
            ],
            "type": "contour"
           }
          ],
          "contourcarpet": [
           {
            "colorbar": {
             "outlinewidth": 0,
             "ticks": ""
            },
            "type": "contourcarpet"
           }
          ],
          "heatmap": [
           {
            "colorbar": {
             "outlinewidth": 0,
             "ticks": ""
            },
            "colorscale": [
             [
              0,
              "#0d0887"
             ],
             [
              0.1111111111111111,
              "#46039f"
             ],
             [
              0.2222222222222222,
              "#7201a8"
             ],
             [
              0.3333333333333333,
              "#9c179e"
             ],
             [
              0.4444444444444444,
              "#bd3786"
             ],
             [
              0.5555555555555556,
              "#d8576b"
             ],
             [
              0.6666666666666666,
              "#ed7953"
             ],
             [
              0.7777777777777778,
              "#fb9f3a"
             ],
             [
              0.8888888888888888,
              "#fdca26"
             ],
             [
              1,
              "#f0f921"
             ]
            ],
            "type": "heatmap"
           }
          ],
          "heatmapgl": [
           {
            "colorbar": {
             "outlinewidth": 0,
             "ticks": ""
            },
            "colorscale": [
             [
              0,
              "#0d0887"
             ],
             [
              0.1111111111111111,
              "#46039f"
             ],
             [
              0.2222222222222222,
              "#7201a8"
             ],
             [
              0.3333333333333333,
              "#9c179e"
             ],
             [
              0.4444444444444444,
              "#bd3786"
             ],
             [
              0.5555555555555556,
              "#d8576b"
             ],
             [
              0.6666666666666666,
              "#ed7953"
             ],
             [
              0.7777777777777778,
              "#fb9f3a"
             ],
             [
              0.8888888888888888,
              "#fdca26"
             ],
             [
              1,
              "#f0f921"
             ]
            ],
            "type": "heatmapgl"
           }
          ],
          "histogram": [
           {
            "marker": {
             "pattern": {
              "fillmode": "overlay",
              "size": 10,
              "solidity": 0.2
             }
            },
            "type": "histogram"
           }
          ],
          "histogram2d": [
           {
            "colorbar": {
             "outlinewidth": 0,
             "ticks": ""
            },
            "colorscale": [
             [
              0,
              "#0d0887"
             ],
             [
              0.1111111111111111,
              "#46039f"
             ],
             [
              0.2222222222222222,
              "#7201a8"
             ],
             [
              0.3333333333333333,
              "#9c179e"
             ],
             [
              0.4444444444444444,
              "#bd3786"
             ],
             [
              0.5555555555555556,
              "#d8576b"
             ],
             [
              0.6666666666666666,
              "#ed7953"
             ],
             [
              0.7777777777777778,
              "#fb9f3a"
             ],
             [
              0.8888888888888888,
              "#fdca26"
             ],
             [
              1,
              "#f0f921"
             ]
            ],
            "type": "histogram2d"
           }
          ],
          "histogram2dcontour": [
           {
            "colorbar": {
             "outlinewidth": 0,
             "ticks": ""
            },
            "colorscale": [
             [
              0,
              "#0d0887"
             ],
             [
              0.1111111111111111,
              "#46039f"
             ],
             [
              0.2222222222222222,
              "#7201a8"
             ],
             [
              0.3333333333333333,
              "#9c179e"
             ],
             [
              0.4444444444444444,
              "#bd3786"
             ],
             [
              0.5555555555555556,
              "#d8576b"
             ],
             [
              0.6666666666666666,
              "#ed7953"
             ],
             [
              0.7777777777777778,
              "#fb9f3a"
             ],
             [
              0.8888888888888888,
              "#fdca26"
             ],
             [
              1,
              "#f0f921"
             ]
            ],
            "type": "histogram2dcontour"
           }
          ],
          "mesh3d": [
           {
            "colorbar": {
             "outlinewidth": 0,
             "ticks": ""
            },
            "type": "mesh3d"
           }
          ],
          "parcoords": [
           {
            "line": {
             "colorbar": {
              "outlinewidth": 0,
              "ticks": ""
             }
            },
            "type": "parcoords"
           }
          ],
          "pie": [
           {
            "automargin": true,
            "type": "pie"
           }
          ],
          "scatter": [
           {
            "fillpattern": {
             "fillmode": "overlay",
             "size": 10,
             "solidity": 0.2
            },
            "type": "scatter"
           }
          ],
          "scatter3d": [
           {
            "line": {
             "colorbar": {
              "outlinewidth": 0,
              "ticks": ""
             }
            },
            "marker": {
             "colorbar": {
              "outlinewidth": 0,
              "ticks": ""
             }
            },
            "type": "scatter3d"
           }
          ],
          "scattercarpet": [
           {
            "marker": {
             "colorbar": {
              "outlinewidth": 0,
              "ticks": ""
             }
            },
            "type": "scattercarpet"
           }
          ],
          "scattergeo": [
           {
            "marker": {
             "colorbar": {
              "outlinewidth": 0,
              "ticks": ""
             }
            },
            "type": "scattergeo"
           }
          ],
          "scattergl": [
           {
            "marker": {
             "colorbar": {
              "outlinewidth": 0,
              "ticks": ""
             }
            },
            "type": "scattergl"
           }
          ],
          "scattermapbox": [
           {
            "marker": {
             "colorbar": {
              "outlinewidth": 0,
              "ticks": ""
             }
            },
            "type": "scattermapbox"
           }
          ],
          "scatterpolar": [
           {
            "marker": {
             "colorbar": {
              "outlinewidth": 0,
              "ticks": ""
             }
            },
            "type": "scatterpolar"
           }
          ],
          "scatterpolargl": [
           {
            "marker": {
             "colorbar": {
              "outlinewidth": 0,
              "ticks": ""
             }
            },
            "type": "scatterpolargl"
           }
          ],
          "scatterternary": [
           {
            "marker": {
             "colorbar": {
              "outlinewidth": 0,
              "ticks": ""
             }
            },
            "type": "scatterternary"
           }
          ],
          "surface": [
           {
            "colorbar": {
             "outlinewidth": 0,
             "ticks": ""
            },
            "colorscale": [
             [
              0,
              "#0d0887"
             ],
             [
              0.1111111111111111,
              "#46039f"
             ],
             [
              0.2222222222222222,
              "#7201a8"
             ],
             [
              0.3333333333333333,
              "#9c179e"
             ],
             [
              0.4444444444444444,
              "#bd3786"
             ],
             [
              0.5555555555555556,
              "#d8576b"
             ],
             [
              0.6666666666666666,
              "#ed7953"
             ],
             [
              0.7777777777777778,
              "#fb9f3a"
             ],
             [
              0.8888888888888888,
              "#fdca26"
             ],
             [
              1,
              "#f0f921"
             ]
            ],
            "type": "surface"
           }
          ],
          "table": [
           {
            "cells": {
             "fill": {
              "color": "#EBF0F8"
             },
             "line": {
              "color": "white"
             }
            },
            "header": {
             "fill": {
              "color": "#C8D4E3"
             },
             "line": {
              "color": "white"
             }
            },
            "type": "table"
           }
          ]
         },
         "layout": {
          "annotationdefaults": {
           "arrowcolor": "#2a3f5f",
           "arrowhead": 0,
           "arrowwidth": 1
          },
          "autotypenumbers": "strict",
          "coloraxis": {
           "colorbar": {
            "outlinewidth": 0,
            "ticks": ""
           }
          },
          "colorscale": {
           "diverging": [
            [
             0,
             "#8e0152"
            ],
            [
             0.1,
             "#c51b7d"
            ],
            [
             0.2,
             "#de77ae"
            ],
            [
             0.3,
             "#f1b6da"
            ],
            [
             0.4,
             "#fde0ef"
            ],
            [
             0.5,
             "#f7f7f7"
            ],
            [
             0.6,
             "#e6f5d0"
            ],
            [
             0.7,
             "#b8e186"
            ],
            [
             0.8,
             "#7fbc41"
            ],
            [
             0.9,
             "#4d9221"
            ],
            [
             1,
             "#276419"
            ]
           ],
           "sequential": [
            [
             0,
             "#0d0887"
            ],
            [
             0.1111111111111111,
             "#46039f"
            ],
            [
             0.2222222222222222,
             "#7201a8"
            ],
            [
             0.3333333333333333,
             "#9c179e"
            ],
            [
             0.4444444444444444,
             "#bd3786"
            ],
            [
             0.5555555555555556,
             "#d8576b"
            ],
            [
             0.6666666666666666,
             "#ed7953"
            ],
            [
             0.7777777777777778,
             "#fb9f3a"
            ],
            [
             0.8888888888888888,
             "#fdca26"
            ],
            [
             1,
             "#f0f921"
            ]
           ],
           "sequentialminus": [
            [
             0,
             "#0d0887"
            ],
            [
             0.1111111111111111,
             "#46039f"
            ],
            [
             0.2222222222222222,
             "#7201a8"
            ],
            [
             0.3333333333333333,
             "#9c179e"
            ],
            [
             0.4444444444444444,
             "#bd3786"
            ],
            [
             0.5555555555555556,
             "#d8576b"
            ],
            [
             0.6666666666666666,
             "#ed7953"
            ],
            [
             0.7777777777777778,
             "#fb9f3a"
            ],
            [
             0.8888888888888888,
             "#fdca26"
            ],
            [
             1,
             "#f0f921"
            ]
           ]
          },
          "colorway": [
           "#636efa",
           "#EF553B",
           "#00cc96",
           "#ab63fa",
           "#FFA15A",
           "#19d3f3",
           "#FF6692",
           "#B6E880",
           "#FF97FF",
           "#FECB52"
          ],
          "font": {
           "color": "#2a3f5f"
          },
          "geo": {
           "bgcolor": "white",
           "lakecolor": "white",
           "landcolor": "#E5ECF6",
           "showlakes": true,
           "showland": true,
           "subunitcolor": "white"
          },
          "hoverlabel": {
           "align": "left"
          },
          "hovermode": "closest",
          "mapbox": {
           "style": "light"
          },
          "paper_bgcolor": "white",
          "plot_bgcolor": "#E5ECF6",
          "polar": {
           "angularaxis": {
            "gridcolor": "white",
            "linecolor": "white",
            "ticks": ""
           },
           "bgcolor": "#E5ECF6",
           "radialaxis": {
            "gridcolor": "white",
            "linecolor": "white",
            "ticks": ""
           }
          },
          "scene": {
           "xaxis": {
            "backgroundcolor": "#E5ECF6",
            "gridcolor": "white",
            "gridwidth": 2,
            "linecolor": "white",
            "showbackground": true,
            "ticks": "",
            "zerolinecolor": "white"
           },
           "yaxis": {
            "backgroundcolor": "#E5ECF6",
            "gridcolor": "white",
            "gridwidth": 2,
            "linecolor": "white",
            "showbackground": true,
            "ticks": "",
            "zerolinecolor": "white"
           },
           "zaxis": {
            "backgroundcolor": "#E5ECF6",
            "gridcolor": "white",
            "gridwidth": 2,
            "linecolor": "white",
            "showbackground": true,
            "ticks": "",
            "zerolinecolor": "white"
           }
          },
          "shapedefaults": {
           "line": {
            "color": "#2a3f5f"
           }
          },
          "ternary": {
           "aaxis": {
            "gridcolor": "white",
            "linecolor": "white",
            "ticks": ""
           },
           "baxis": {
            "gridcolor": "white",
            "linecolor": "white",
            "ticks": ""
           },
           "bgcolor": "#E5ECF6",
           "caxis": {
            "gridcolor": "white",
            "linecolor": "white",
            "ticks": ""
           }
          },
          "title": {
           "x": 0.05
          },
          "xaxis": {
           "automargin": true,
           "gridcolor": "white",
           "linecolor": "white",
           "ticks": "",
           "title": {
            "standoff": 15
           },
           "zerolinecolor": "white",
           "zerolinewidth": 2
          },
          "yaxis": {
           "automargin": true,
           "gridcolor": "white",
           "linecolor": "white",
           "ticks": "",
           "title": {
            "standoff": 15
           },
           "zerolinecolor": "white",
           "zerolinewidth": 2
          }
         }
        },
        "title": {
         "font": {
          "color": "#4D5663"
         }
        },
        "xaxis": {
         "gridcolor": "#E1E5ED",
         "showgrid": true,
         "tickfont": {
          "color": "#4D5663"
         },
         "title": {
          "font": {
           "color": "#4D5663"
          },
          "text": ""
         },
         "zerolinecolor": "#E1E5ED"
        },
        "yaxis": {
         "gridcolor": "#E1E5ED",
         "showgrid": true,
         "tickfont": {
          "color": "#4D5663"
         },
         "title": {
          "font": {
           "color": "#4D5663"
          },
          "text": ""
         },
         "zerolinecolor": "#E1E5ED"
        }
       }
      },
      "text/html": [
       "<div>                            <div id=\"5a3fecd3-512a-47f4-a084-7defaf31fa52\" class=\"plotly-graph-div\" style=\"height:525px; width:100%;\"></div>            <script type=\"text/javascript\">                require([\"plotly\"], function(Plotly) {                    window.PLOTLYENV=window.PLOTLYENV || {};\n",
       "                    window.PLOTLYENV.BASE_URL='https://plot.ly';                                    if (document.getElementById(\"5a3fecd3-512a-47f4-a084-7defaf31fa52\")) {                    Plotly.newPlot(                        \"5a3fecd3-512a-47f4-a084-7defaf31fa52\",                        [{\"histfunc\":\"count\",\"histnorm\":\"\",\"marker\":{\"color\":\"rgba(255, 153, 51, 1.0)\",\"line\":{\"color\":\"#4D5663\",\"width\":1.3}},\"name\":\"A\",\"nbinsx\":25,\"opacity\":0.8,\"orientation\":\"v\",\"x\":[-0.07455973164460492,0.10684607028138204,0.05174438274182425,1.8834582400552635,-0.7394873566653477,-0.20509986347008477,-0.03414545421950641,-0.6213525131646722,0.571263033821104,1.180464181279357,-0.203734605785186,0.7347661916372418,0.2859474736202656,0.04076517450424396,-0.9575891661839521,-1.4309383761629788,2.2550368651025283,-0.9940639812563287,0.799337873179283,-1.257878293181983,0.4179499111762863,0.3002148423464334,-1.1504058019430792,0.08143088735081103,0.48039194150290004,-0.6650657342765216,1.1156620567673445,1.6819828126747252,0.3100427456611766,-0.35556202725992564,0.5734972173901176,0.32590737332398945,0.26434526538445485,-0.28767952859901297,0.46220729582394343,-0.5818941295153186,1.285059720736958,1.5048915259613318,-0.6639248043990625,0.7636007895359088,-0.6463548675362586,0.4119553800931602,-0.41800965879757407,-0.9291745756491012,0.5941812800033995,0.6495415877446266,0.1446736681969964,0.26828186676311594,0.13889888661810415,-0.6067198644564883,-0.5830985850290649,-0.44261895162747866,-0.16593121692532206,1.5766366939770549,-0.9488282786185461,-0.47334557392170873,-2.9681775620277215,-0.25029734336535486,-1.1711717647996238,-0.6639685633213962,-1.5666336819385447,-0.8675551693083899,0.9365429397079991,0.15072665081471726,1.1852234520751472,-0.08290956220307087,-1.1017174229562567,-0.5198271089769748,0.37018057099191115,0.6484073753005931,-0.1590182089390411,-1.2123900485249766,-0.2362259963300999,-0.9316538839457773,-0.7702588740652273,1.4701363779831127,1.7874391009354653,0.24616432107668124,-1.182643305480476,0.35443322915141356,-0.4842531774514151,-0.44909134669233536,-0.5668275896818619,0.4175639632896596,-1.2611360990304046,-0.008206696883240246,-0.10979708777038237,0.49243560590286795,0.8213310947530663,-0.267726403403628,-1.2515625109561188,0.630999102938369,0.1713145260658875,-1.3560217445320064,-1.1258620552644414,1.095337440779493,1.7240614552766635,0.18149760823613265,-0.33113981029074463,-0.7243911418227783],\"type\":\"histogram\"}],                        {\"barmode\":\"overlay\",\"legend\":{\"bgcolor\":\"#F5F6F9\",\"font\":{\"color\":\"#4D5663\"}},\"paper_bgcolor\":\"#F5F6F9\",\"plot_bgcolor\":\"#F5F6F9\",\"template\":{\"data\":{\"barpolar\":[{\"marker\":{\"line\":{\"color\":\"#E5ECF6\",\"width\":0.5},\"pattern\":{\"fillmode\":\"overlay\",\"size\":10,\"solidity\":0.2}},\"type\":\"barpolar\"}],\"bar\":[{\"error_x\":{\"color\":\"#2a3f5f\"},\"error_y\":{\"color\":\"#2a3f5f\"},\"marker\":{\"line\":{\"color\":\"#E5ECF6\",\"width\":0.5},\"pattern\":{\"fillmode\":\"overlay\",\"size\":10,\"solidity\":0.2}},\"type\":\"bar\"}],\"carpet\":[{\"aaxis\":{\"endlinecolor\":\"#2a3f5f\",\"gridcolor\":\"white\",\"linecolor\":\"white\",\"minorgridcolor\":\"white\",\"startlinecolor\":\"#2a3f5f\"},\"baxis\":{\"endlinecolor\":\"#2a3f5f\",\"gridcolor\":\"white\",\"linecolor\":\"white\",\"minorgridcolor\":\"white\",\"startlinecolor\":\"#2a3f5f\"},\"type\":\"carpet\"}],\"choropleth\":[{\"colorbar\":{\"outlinewidth\":0,\"ticks\":\"\"},\"type\":\"choropleth\"}],\"contourcarpet\":[{\"colorbar\":{\"outlinewidth\":0,\"ticks\":\"\"},\"type\":\"contourcarpet\"}],\"contour\":[{\"colorbar\":{\"outlinewidth\":0,\"ticks\":\"\"},\"colorscale\":[[0.0,\"#0d0887\"],[0.1111111111111111,\"#46039f\"],[0.2222222222222222,\"#7201a8\"],[0.3333333333333333,\"#9c179e\"],[0.4444444444444444,\"#bd3786\"],[0.5555555555555556,\"#d8576b\"],[0.6666666666666666,\"#ed7953\"],[0.7777777777777778,\"#fb9f3a\"],[0.8888888888888888,\"#fdca26\"],[1.0,\"#f0f921\"]],\"type\":\"contour\"}],\"heatmapgl\":[{\"colorbar\":{\"outlinewidth\":0,\"ticks\":\"\"},\"colorscale\":[[0.0,\"#0d0887\"],[0.1111111111111111,\"#46039f\"],[0.2222222222222222,\"#7201a8\"],[0.3333333333333333,\"#9c179e\"],[0.4444444444444444,\"#bd3786\"],[0.5555555555555556,\"#d8576b\"],[0.6666666666666666,\"#ed7953\"],[0.7777777777777778,\"#fb9f3a\"],[0.8888888888888888,\"#fdca26\"],[1.0,\"#f0f921\"]],\"type\":\"heatmapgl\"}],\"heatmap\":[{\"colorbar\":{\"outlinewidth\":0,\"ticks\":\"\"},\"colorscale\":[[0.0,\"#0d0887\"],[0.1111111111111111,\"#46039f\"],[0.2222222222222222,\"#7201a8\"],[0.3333333333333333,\"#9c179e\"],[0.4444444444444444,\"#bd3786\"],[0.5555555555555556,\"#d8576b\"],[0.6666666666666666,\"#ed7953\"],[0.7777777777777778,\"#fb9f3a\"],[0.8888888888888888,\"#fdca26\"],[1.0,\"#f0f921\"]],\"type\":\"heatmap\"}],\"histogram2dcontour\":[{\"colorbar\":{\"outlinewidth\":0,\"ticks\":\"\"},\"colorscale\":[[0.0,\"#0d0887\"],[0.1111111111111111,\"#46039f\"],[0.2222222222222222,\"#7201a8\"],[0.3333333333333333,\"#9c179e\"],[0.4444444444444444,\"#bd3786\"],[0.5555555555555556,\"#d8576b\"],[0.6666666666666666,\"#ed7953\"],[0.7777777777777778,\"#fb9f3a\"],[0.8888888888888888,\"#fdca26\"],[1.0,\"#f0f921\"]],\"type\":\"histogram2dcontour\"}],\"histogram2d\":[{\"colorbar\":{\"outlinewidth\":0,\"ticks\":\"\"},\"colorscale\":[[0.0,\"#0d0887\"],[0.1111111111111111,\"#46039f\"],[0.2222222222222222,\"#7201a8\"],[0.3333333333333333,\"#9c179e\"],[0.4444444444444444,\"#bd3786\"],[0.5555555555555556,\"#d8576b\"],[0.6666666666666666,\"#ed7953\"],[0.7777777777777778,\"#fb9f3a\"],[0.8888888888888888,\"#fdca26\"],[1.0,\"#f0f921\"]],\"type\":\"histogram2d\"}],\"histogram\":[{\"marker\":{\"pattern\":{\"fillmode\":\"overlay\",\"size\":10,\"solidity\":0.2}},\"type\":\"histogram\"}],\"mesh3d\":[{\"colorbar\":{\"outlinewidth\":0,\"ticks\":\"\"},\"type\":\"mesh3d\"}],\"parcoords\":[{\"line\":{\"colorbar\":{\"outlinewidth\":0,\"ticks\":\"\"}},\"type\":\"parcoords\"}],\"pie\":[{\"automargin\":true,\"type\":\"pie\"}],\"scatter3d\":[{\"line\":{\"colorbar\":{\"outlinewidth\":0,\"ticks\":\"\"}},\"marker\":{\"colorbar\":{\"outlinewidth\":0,\"ticks\":\"\"}},\"type\":\"scatter3d\"}],\"scattercarpet\":[{\"marker\":{\"colorbar\":{\"outlinewidth\":0,\"ticks\":\"\"}},\"type\":\"scattercarpet\"}],\"scattergeo\":[{\"marker\":{\"colorbar\":{\"outlinewidth\":0,\"ticks\":\"\"}},\"type\":\"scattergeo\"}],\"scattergl\":[{\"marker\":{\"colorbar\":{\"outlinewidth\":0,\"ticks\":\"\"}},\"type\":\"scattergl\"}],\"scattermapbox\":[{\"marker\":{\"colorbar\":{\"outlinewidth\":0,\"ticks\":\"\"}},\"type\":\"scattermapbox\"}],\"scatterpolargl\":[{\"marker\":{\"colorbar\":{\"outlinewidth\":0,\"ticks\":\"\"}},\"type\":\"scatterpolargl\"}],\"scatterpolar\":[{\"marker\":{\"colorbar\":{\"outlinewidth\":0,\"ticks\":\"\"}},\"type\":\"scatterpolar\"}],\"scatter\":[{\"fillpattern\":{\"fillmode\":\"overlay\",\"size\":10,\"solidity\":0.2},\"type\":\"scatter\"}],\"scatterternary\":[{\"marker\":{\"colorbar\":{\"outlinewidth\":0,\"ticks\":\"\"}},\"type\":\"scatterternary\"}],\"surface\":[{\"colorbar\":{\"outlinewidth\":0,\"ticks\":\"\"},\"colorscale\":[[0.0,\"#0d0887\"],[0.1111111111111111,\"#46039f\"],[0.2222222222222222,\"#7201a8\"],[0.3333333333333333,\"#9c179e\"],[0.4444444444444444,\"#bd3786\"],[0.5555555555555556,\"#d8576b\"],[0.6666666666666666,\"#ed7953\"],[0.7777777777777778,\"#fb9f3a\"],[0.8888888888888888,\"#fdca26\"],[1.0,\"#f0f921\"]],\"type\":\"surface\"}],\"table\":[{\"cells\":{\"fill\":{\"color\":\"#EBF0F8\"},\"line\":{\"color\":\"white\"}},\"header\":{\"fill\":{\"color\":\"#C8D4E3\"},\"line\":{\"color\":\"white\"}},\"type\":\"table\"}]},\"layout\":{\"annotationdefaults\":{\"arrowcolor\":\"#2a3f5f\",\"arrowhead\":0,\"arrowwidth\":1},\"autotypenumbers\":\"strict\",\"coloraxis\":{\"colorbar\":{\"outlinewidth\":0,\"ticks\":\"\"}},\"colorscale\":{\"diverging\":[[0,\"#8e0152\"],[0.1,\"#c51b7d\"],[0.2,\"#de77ae\"],[0.3,\"#f1b6da\"],[0.4,\"#fde0ef\"],[0.5,\"#f7f7f7\"],[0.6,\"#e6f5d0\"],[0.7,\"#b8e186\"],[0.8,\"#7fbc41\"],[0.9,\"#4d9221\"],[1,\"#276419\"]],\"sequential\":[[0.0,\"#0d0887\"],[0.1111111111111111,\"#46039f\"],[0.2222222222222222,\"#7201a8\"],[0.3333333333333333,\"#9c179e\"],[0.4444444444444444,\"#bd3786\"],[0.5555555555555556,\"#d8576b\"],[0.6666666666666666,\"#ed7953\"],[0.7777777777777778,\"#fb9f3a\"],[0.8888888888888888,\"#fdca26\"],[1.0,\"#f0f921\"]],\"sequentialminus\":[[0.0,\"#0d0887\"],[0.1111111111111111,\"#46039f\"],[0.2222222222222222,\"#7201a8\"],[0.3333333333333333,\"#9c179e\"],[0.4444444444444444,\"#bd3786\"],[0.5555555555555556,\"#d8576b\"],[0.6666666666666666,\"#ed7953\"],[0.7777777777777778,\"#fb9f3a\"],[0.8888888888888888,\"#fdca26\"],[1.0,\"#f0f921\"]]},\"colorway\":[\"#636efa\",\"#EF553B\",\"#00cc96\",\"#ab63fa\",\"#FFA15A\",\"#19d3f3\",\"#FF6692\",\"#B6E880\",\"#FF97FF\",\"#FECB52\"],\"font\":{\"color\":\"#2a3f5f\"},\"geo\":{\"bgcolor\":\"white\",\"lakecolor\":\"white\",\"landcolor\":\"#E5ECF6\",\"showlakes\":true,\"showland\":true,\"subunitcolor\":\"white\"},\"hoverlabel\":{\"align\":\"left\"},\"hovermode\":\"closest\",\"mapbox\":{\"style\":\"light\"},\"paper_bgcolor\":\"white\",\"plot_bgcolor\":\"#E5ECF6\",\"polar\":{\"angularaxis\":{\"gridcolor\":\"white\",\"linecolor\":\"white\",\"ticks\":\"\"},\"bgcolor\":\"#E5ECF6\",\"radialaxis\":{\"gridcolor\":\"white\",\"linecolor\":\"white\",\"ticks\":\"\"}},\"scene\":{\"xaxis\":{\"backgroundcolor\":\"#E5ECF6\",\"gridcolor\":\"white\",\"gridwidth\":2,\"linecolor\":\"white\",\"showbackground\":true,\"ticks\":\"\",\"zerolinecolor\":\"white\"},\"yaxis\":{\"backgroundcolor\":\"#E5ECF6\",\"gridcolor\":\"white\",\"gridwidth\":2,\"linecolor\":\"white\",\"showbackground\":true,\"ticks\":\"\",\"zerolinecolor\":\"white\"},\"zaxis\":{\"backgroundcolor\":\"#E5ECF6\",\"gridcolor\":\"white\",\"gridwidth\":2,\"linecolor\":\"white\",\"showbackground\":true,\"ticks\":\"\",\"zerolinecolor\":\"white\"}},\"shapedefaults\":{\"line\":{\"color\":\"#2a3f5f\"}},\"ternary\":{\"aaxis\":{\"gridcolor\":\"white\",\"linecolor\":\"white\",\"ticks\":\"\"},\"baxis\":{\"gridcolor\":\"white\",\"linecolor\":\"white\",\"ticks\":\"\"},\"bgcolor\":\"#E5ECF6\",\"caxis\":{\"gridcolor\":\"white\",\"linecolor\":\"white\",\"ticks\":\"\"}},\"title\":{\"x\":0.05},\"xaxis\":{\"automargin\":true,\"gridcolor\":\"white\",\"linecolor\":\"white\",\"ticks\":\"\",\"title\":{\"standoff\":15},\"zerolinecolor\":\"white\",\"zerolinewidth\":2},\"yaxis\":{\"automargin\":true,\"gridcolor\":\"white\",\"linecolor\":\"white\",\"ticks\":\"\",\"title\":{\"standoff\":15},\"zerolinecolor\":\"white\",\"zerolinewidth\":2}}},\"title\":{\"font\":{\"color\":\"#4D5663\"}},\"xaxis\":{\"gridcolor\":\"#E1E5ED\",\"showgrid\":true,\"tickfont\":{\"color\":\"#4D5663\"},\"title\":{\"font\":{\"color\":\"#4D5663\"},\"text\":\"\"},\"zerolinecolor\":\"#E1E5ED\"},\"yaxis\":{\"gridcolor\":\"#E1E5ED\",\"showgrid\":true,\"tickfont\":{\"color\":\"#4D5663\"},\"title\":{\"font\":{\"color\":\"#4D5663\"},\"text\":\"\"},\"zerolinecolor\":\"#E1E5ED\"}},                        {\"showLink\": true, \"linkText\": \"Export to plot.ly\", \"plotlyServerURL\": \"https://plot.ly\", \"responsive\": true}                    ).then(function(){\n",
       "                            \n",
       "var gd = document.getElementById('5a3fecd3-512a-47f4-a084-7defaf31fa52');\n",
       "var x = new MutationObserver(function (mutations, observer) {{\n",
       "        var display = window.getComputedStyle(gd).display;\n",
       "        if (!display || display === 'none') {{\n",
       "            console.log([gd, 'removed!']);\n",
       "            Plotly.purge(gd);\n",
       "            observer.disconnect();\n",
       "        }}\n",
       "}});\n",
       "\n",
       "// Listen for the removal of the full notebook cells\n",
       "var notebookContainer = gd.closest('#notebook-container');\n",
       "if (notebookContainer) {{\n",
       "    x.observe(notebookContainer, {childList: true});\n",
       "}}\n",
       "\n",
       "// Listen for the clearing of the current output cell\n",
       "var outputEl = gd.closest('.output');\n",
       "if (outputEl) {{\n",
       "    x.observe(outputEl, {childList: true});\n",
       "}}\n",
       "\n",
       "                        })                };                });            </script>        </div>"
      ]
     },
     "metadata": {},
     "output_type": "display_data"
    }
   ],
   "source": [
    "df['A'].iplot(kind='hist',bins=25)"
   ]
  },
  {
   "cell_type": "code",
   "execution_count": 25,
   "metadata": {},
   "outputs": [
    {
     "data": {
      "application/vnd.plotly.v1+json": {
       "config": {
        "linkText": "Export to plot.ly",
        "plotlyServerURL": "https://plot.ly",
        "showLink": true
       },
       "data": [
        {
         "histfunc": "count",
         "histnorm": "",
         "marker": {
          "color": "rgba(255, 153, 51, 1.0)",
          "line": {
           "color": "#4D5663",
           "width": 1.3
          }
         },
         "name": "A",
         "nbinsx": 25,
         "opacity": 0.8,
         "orientation": "v",
         "type": "histogram",
         "x": [
          -0.07455973164460492,
          0.10684607028138204,
          0.05174438274182425,
          1.8834582400552635,
          -0.7394873566653477,
          -0.20509986347008477,
          -0.03414545421950641,
          -0.6213525131646722,
          0.571263033821104,
          1.180464181279357,
          -0.203734605785186,
          0.7347661916372418,
          0.2859474736202656,
          0.04076517450424396,
          -0.9575891661839521,
          -1.4309383761629788,
          2.2550368651025283,
          -0.9940639812563287,
          0.799337873179283,
          -1.257878293181983,
          0.4179499111762863,
          0.3002148423464334,
          -1.1504058019430792,
          0.08143088735081103,
          0.48039194150290004,
          -0.6650657342765216,
          1.1156620567673445,
          1.6819828126747252,
          0.3100427456611766,
          -0.35556202725992564,
          0.5734972173901176,
          0.32590737332398945,
          0.26434526538445485,
          -0.28767952859901297,
          0.46220729582394343,
          -0.5818941295153186,
          1.285059720736958,
          1.5048915259613318,
          -0.6639248043990625,
          0.7636007895359088,
          -0.6463548675362586,
          0.4119553800931602,
          -0.41800965879757407,
          -0.9291745756491012,
          0.5941812800033995,
          0.6495415877446266,
          0.1446736681969964,
          0.26828186676311594,
          0.13889888661810415,
          -0.6067198644564883,
          -0.5830985850290649,
          -0.44261895162747866,
          -0.16593121692532206,
          1.5766366939770549,
          -0.9488282786185461,
          -0.47334557392170873,
          -2.9681775620277215,
          -0.25029734336535486,
          -1.1711717647996238,
          -0.6639685633213962,
          -1.5666336819385447,
          -0.8675551693083899,
          0.9365429397079991,
          0.15072665081471726,
          1.1852234520751472,
          -0.08290956220307087,
          -1.1017174229562567,
          -0.5198271089769748,
          0.37018057099191115,
          0.6484073753005931,
          -0.1590182089390411,
          -1.2123900485249766,
          -0.2362259963300999,
          -0.9316538839457773,
          -0.7702588740652273,
          1.4701363779831127,
          1.7874391009354653,
          0.24616432107668124,
          -1.182643305480476,
          0.35443322915141356,
          -0.4842531774514151,
          -0.44909134669233536,
          -0.5668275896818619,
          0.4175639632896596,
          -1.2611360990304046,
          -0.008206696883240246,
          -0.10979708777038237,
          0.49243560590286795,
          0.8213310947530663,
          -0.267726403403628,
          -1.2515625109561188,
          0.630999102938369,
          0.1713145260658875,
          -1.3560217445320064,
          -1.1258620552644414,
          1.095337440779493,
          1.7240614552766635,
          0.18149760823613265,
          -0.33113981029074463,
          -0.7243911418227783
         ]
        },
        {
         "histfunc": "count",
         "histnorm": "",
         "marker": {
          "color": "rgba(55, 128, 191, 1.0)",
          "line": {
           "color": "#4D5663",
           "width": 1.3
          }
         },
         "name": "B",
         "nbinsx": 25,
         "opacity": 0.8,
         "orientation": "v",
         "type": "histogram",
         "x": [
          0.20695886201338964,
          2.2267140798834366,
          2.0606705606804248,
          -0.47751358803428084,
          -0.8265999208195308,
          0.3683847538936354,
          -0.9215058882049292,
          0.2010981971926559,
          -2.612024672660992,
          1.994860248642683,
          0.6474845780135272,
          -1.4695376336420343,
          0.25329507946952484,
          -0.8847748430992944,
          0.01108872266051941,
          -1.1635524981707588,
          -0.16334248185299458,
          0.37081708914041467,
          -0.3744953167142966,
          0.25997366036222974,
          0.6587716974050809,
          -1.153664670868084,
          -1.697491236131132,
          0.7995087387377215,
          1.051287349057648,
          0.26519966512043014,
          0.16665172934102204,
          -0.9207235935854554,
          0.19392919045612925,
          0.30514185806513633,
          1.153170562731266,
          0.6444165797703777,
          0.10095403561272143,
          -1.3779799142755011,
          1.0886785013466902,
          0.4207240802224743,
          1.1386223070602004,
          -0.41875441978934674,
          1.1045931338539758,
          0.6514247563808732,
          -1.5404052766834295,
          -0.07015676241255123,
          0.34211903144043065,
          -0.18534612927812716,
          -1.8520443646410083,
          1.4319920389190104,
          1.1387925527034235,
          0.2698880956788044,
          0.1878047757021268,
          1.7741986146424833,
          0.22768156026066996,
          -0.20014286651396568,
          2.059179137491171,
          0.35223369637447816,
          0.05263010640213276,
          1.7322067881044543,
          -0.7745478394440942,
          2.0680320286556824,
          -0.6321155047266144,
          1.2659416243146926,
          0.4722821822143342,
          1.642169097988724,
          -1.7521377798815267,
          0.3727959530975647,
          -1.965263310446799,
          -1.0712504506589524,
          0.5342752099185382,
          -1.1298074723535294,
          -0.5580156206841335,
          0.823614953289078,
          -0.5479781763338187,
          -1.6514759368126157,
          -0.2328958270228804,
          1.4625741873716016,
          0.3342124737309676,
          1.3772224066244865,
          0.20175951418821808,
          0.2501868306006938,
          0.32303507776168344,
          0.5721589323589801,
          -1.3176653867942356,
          0.2393598296204175,
          0.929162936792238,
          0.43767400300848264,
          -0.08169926569148139,
          0.4789983045336972,
          -0.5059754539470817,
          0.46797344213078973,
          -0.7757631159400264,
          -1.4756298170780817,
          1.1509293631614974,
          0.6429496420266005,
          -0.4212609077669692,
          -0.4359617643911458,
          0.6020198623608694,
          -1.0543687019171408,
          -1.2676827628690235,
          0.14146548854024957,
          -0.5593082511505357,
          0.3558988051040138
         ]
        },
        {
         "histfunc": "count",
         "histnorm": "",
         "marker": {
          "color": "rgba(50, 171, 96, 1.0)",
          "line": {
           "color": "#4D5663",
           "width": 1.3
          }
         },
         "name": "C",
         "nbinsx": 25,
         "opacity": 0.8,
         "orientation": "v",
         "type": "histogram",
         "x": [
          -1.081269945135512,
          1.4994251562217111,
          -0.3119790245764006,
          -0.5700454804125089,
          -0.807023809252038,
          -0.5799702673215373,
          -0.09435532278377927,
          -0.31608968822404326,
          0.18299585804559182,
          0.3091374615684443,
          0.18201094779020607,
          -2.345641909923838,
          -0.13252030691115732,
          0.13238668905978415,
          1.1817837329912397,
          2.264407928958368,
          -0.8472059592401834,
          -1.3313848084966844,
          -0.08922639782092631,
          -1.4710730962481993,
          -0.6869991971293106,
          1.4778045441065182,
          1.1846977951460802,
          0.6607245948496702,
          0.1837760942987446,
          0.13627332908572537,
          -0.9257935097369108,
          -0.3631151365640535,
          -0.6530648937591993,
          0.007354264774219916,
          -0.8419688962869191,
          -1.7490095299427195,
          0.6203734953047744,
          1.1391677148048978,
          -0.3021498266477652,
          -0.2937454543805988,
          -1.3444898920202757,
          2.118046703207983,
          -0.743988751474283,
          -0.06963261339083487,
          -0.7996020752935274,
          -1.005798935187391,
          0.6701806296993339,
          -0.6113273408094672,
          1.8289686346629874,
          -1.3394559641761112,
          -0.15407754183638855,
          0.025477647925172372,
          0.22286592407597883,
          0.3586554102522154,
          -2.2207179594666115,
          -0.40609938632199105,
          0.8094387812022237,
          -0.409573014214997,
          -0.8624321442746868,
          -1.9900524733870248,
          -1.0621179123329199,
          0.17986964017037582,
          1.0936096630745618,
          -0.9569389898844811,
          -1.562862175503904,
          -0.011921576470930798,
          1.3255715669392727,
          -1.382966569593766,
          0.38060846600902815,
          0.023047012426766652,
          -0.10277895493911231,
          1.5766710606284269,
          1.0583807147051052,
          -0.028171066628308445,
          -0.7937277667327526,
          0.057974528758083864,
          0.45368708403810293,
          2.6283832133335965,
          1.0962176916034292,
          -0.1151122014513563,
          0.6066877991292793,
          -0.2496558126535614,
          0.7409857518887422,
          0.050310440543480495,
          1.1876527493678348,
          -0.32420002066467346,
          -0.7981078819489894,
          -0.11361464678331062,
          0.5705180150672012,
          -0.4653425859355932,
          1.2342526285328859,
          0.2674674107633959,
          -1.016193485761706,
          1.0469501273664463,
          0.06132106469109561,
          -0.3323035531320329,
          -1.4426210871023315,
          -0.6653133214293154,
          -0.4366264762884827,
          -1.2677628403645937,
          0.7813374855286151,
          0.49900218669676677,
          0.06659306844027807,
          2.4936858180276675
         ]
        },
        {
         "histfunc": "count",
         "histnorm": "",
         "marker": {
          "color": "rgba(128, 0, 128, 1.0)",
          "line": {
           "color": "#4D5663",
           "width": 1.3
          }
         },
         "name": "D",
         "nbinsx": 25,
         "opacity": 0.8,
         "orientation": "v",
         "type": "histogram",
         "x": [
          -0.8530464835686923,
          -0.9777211704949056,
          0.3671196294852984,
          0.7863072630984241,
          -1.0253861618314224,
          -0.4696397181389764,
          -0.6754239467268804,
          -0.3525284257974691,
          0.35479805241940754,
          -0.7083751409954576,
          1.0404062935691023,
          0.7232705225139738,
          -0.9458574170779152,
          -1.0937615085377304,
          0.6756009722227514,
          0.6754446860653938,
          -0.1540404335992706,
          -0.141838683385397,
          -1.9892866572395724,
          0.3262877045144788,
          -0.060912459662740503,
          0.7845234308016186,
          -0.8242176129734604,
          -0.696438279410444,
          1.3817725610609137,
          0.35013877794633497,
          0.7050803261791581,
          -0.313775937565349,
          -2.0822056554745427,
          -0.10495537796933573,
          0.4636166809545198,
          -0.4459029690784089,
          0.8292241120612767,
          1.2498512054626933,
          -0.49676866730921915,
          0.13572952910264804,
          -1.113134522240766,
          2.288876218225101,
          -0.027811988637406377,
          -0.014057354296969091,
          0.5941968980230878,
          0.7322196570655919,
          1.1376483490535065,
          -0.8061223662897936,
          1.0326704363100077,
          -1.0187555953747782,
          -0.7936986024875148,
          1.7250128752515284,
          -0.6907202876570452,
          1.1900466223571298,
          1.9829040794618682,
          -0.05518654612497724,
          -1.2732888394215272,
          -1.2033601621334395,
          -0.5077914994901958,
          -0.43038293124055405,
          -0.3088363031248792,
          0.02943936309552351,
          -1.2048038000864694,
          0.30210575820803937,
          -0.06400315095343355,
          -0.15176022595000632,
          0.4368484734463497,
          -0.5662310539363955,
          -0.9447988089482128,
          -0.6540711251538077,
          1.7793433754351027,
          0.23298373678295095,
          -1.280767886637018,
          -0.7754852937075334,
          -0.10400263262798473,
          -1.1157701073521156,
          0.22097666363929264,
          2.7024387581477134,
          -1.4309695428736593,
          0.876814390353818,
          -0.6273886791946258,
          -2.031881987131689,
          -1.0275083360189055,
          1.0592819257519337,
          -2.1620664985606393,
          0.27275525695182595,
          -0.447319165016932,
          0.4136715494169879,
          -2.288296945942758,
          -0.8127296548244415,
          -1.1266256532788121,
          -0.8215384686469209,
          -0.4872430165453182,
          -0.022574262627463378,
          -0.5843216053975311,
          0.011099364916450943,
          -0.5373376805509293,
          -2.2805091631118457,
          0.2922998628626371,
          -0.7207546091003253,
          0.39648514446519356,
          -0.8340295828931642,
          0.17768328109566717,
          0.9023490222152702
         ]
        }
       ],
       "layout": {
        "barmode": "overlay",
        "legend": {
         "bgcolor": "#F5F6F9",
         "font": {
          "color": "#4D5663"
         }
        },
        "paper_bgcolor": "#F5F6F9",
        "plot_bgcolor": "#F5F6F9",
        "template": {
         "data": {
          "bar": [
           {
            "error_x": {
             "color": "#2a3f5f"
            },
            "error_y": {
             "color": "#2a3f5f"
            },
            "marker": {
             "line": {
              "color": "#E5ECF6",
              "width": 0.5
             },
             "pattern": {
              "fillmode": "overlay",
              "size": 10,
              "solidity": 0.2
             }
            },
            "type": "bar"
           }
          ],
          "barpolar": [
           {
            "marker": {
             "line": {
              "color": "#E5ECF6",
              "width": 0.5
             },
             "pattern": {
              "fillmode": "overlay",
              "size": 10,
              "solidity": 0.2
             }
            },
            "type": "barpolar"
           }
          ],
          "carpet": [
           {
            "aaxis": {
             "endlinecolor": "#2a3f5f",
             "gridcolor": "white",
             "linecolor": "white",
             "minorgridcolor": "white",
             "startlinecolor": "#2a3f5f"
            },
            "baxis": {
             "endlinecolor": "#2a3f5f",
             "gridcolor": "white",
             "linecolor": "white",
             "minorgridcolor": "white",
             "startlinecolor": "#2a3f5f"
            },
            "type": "carpet"
           }
          ],
          "choropleth": [
           {
            "colorbar": {
             "outlinewidth": 0,
             "ticks": ""
            },
            "type": "choropleth"
           }
          ],
          "contour": [
           {
            "colorbar": {
             "outlinewidth": 0,
             "ticks": ""
            },
            "colorscale": [
             [
              0,
              "#0d0887"
             ],
             [
              0.1111111111111111,
              "#46039f"
             ],
             [
              0.2222222222222222,
              "#7201a8"
             ],
             [
              0.3333333333333333,
              "#9c179e"
             ],
             [
              0.4444444444444444,
              "#bd3786"
             ],
             [
              0.5555555555555556,
              "#d8576b"
             ],
             [
              0.6666666666666666,
              "#ed7953"
             ],
             [
              0.7777777777777778,
              "#fb9f3a"
             ],
             [
              0.8888888888888888,
              "#fdca26"
             ],
             [
              1,
              "#f0f921"
             ]
            ],
            "type": "contour"
           }
          ],
          "contourcarpet": [
           {
            "colorbar": {
             "outlinewidth": 0,
             "ticks": ""
            },
            "type": "contourcarpet"
           }
          ],
          "heatmap": [
           {
            "colorbar": {
             "outlinewidth": 0,
             "ticks": ""
            },
            "colorscale": [
             [
              0,
              "#0d0887"
             ],
             [
              0.1111111111111111,
              "#46039f"
             ],
             [
              0.2222222222222222,
              "#7201a8"
             ],
             [
              0.3333333333333333,
              "#9c179e"
             ],
             [
              0.4444444444444444,
              "#bd3786"
             ],
             [
              0.5555555555555556,
              "#d8576b"
             ],
             [
              0.6666666666666666,
              "#ed7953"
             ],
             [
              0.7777777777777778,
              "#fb9f3a"
             ],
             [
              0.8888888888888888,
              "#fdca26"
             ],
             [
              1,
              "#f0f921"
             ]
            ],
            "type": "heatmap"
           }
          ],
          "heatmapgl": [
           {
            "colorbar": {
             "outlinewidth": 0,
             "ticks": ""
            },
            "colorscale": [
             [
              0,
              "#0d0887"
             ],
             [
              0.1111111111111111,
              "#46039f"
             ],
             [
              0.2222222222222222,
              "#7201a8"
             ],
             [
              0.3333333333333333,
              "#9c179e"
             ],
             [
              0.4444444444444444,
              "#bd3786"
             ],
             [
              0.5555555555555556,
              "#d8576b"
             ],
             [
              0.6666666666666666,
              "#ed7953"
             ],
             [
              0.7777777777777778,
              "#fb9f3a"
             ],
             [
              0.8888888888888888,
              "#fdca26"
             ],
             [
              1,
              "#f0f921"
             ]
            ],
            "type": "heatmapgl"
           }
          ],
          "histogram": [
           {
            "marker": {
             "pattern": {
              "fillmode": "overlay",
              "size": 10,
              "solidity": 0.2
             }
            },
            "type": "histogram"
           }
          ],
          "histogram2d": [
           {
            "colorbar": {
             "outlinewidth": 0,
             "ticks": ""
            },
            "colorscale": [
             [
              0,
              "#0d0887"
             ],
             [
              0.1111111111111111,
              "#46039f"
             ],
             [
              0.2222222222222222,
              "#7201a8"
             ],
             [
              0.3333333333333333,
              "#9c179e"
             ],
             [
              0.4444444444444444,
              "#bd3786"
             ],
             [
              0.5555555555555556,
              "#d8576b"
             ],
             [
              0.6666666666666666,
              "#ed7953"
             ],
             [
              0.7777777777777778,
              "#fb9f3a"
             ],
             [
              0.8888888888888888,
              "#fdca26"
             ],
             [
              1,
              "#f0f921"
             ]
            ],
            "type": "histogram2d"
           }
          ],
          "histogram2dcontour": [
           {
            "colorbar": {
             "outlinewidth": 0,
             "ticks": ""
            },
            "colorscale": [
             [
              0,
              "#0d0887"
             ],
             [
              0.1111111111111111,
              "#46039f"
             ],
             [
              0.2222222222222222,
              "#7201a8"
             ],
             [
              0.3333333333333333,
              "#9c179e"
             ],
             [
              0.4444444444444444,
              "#bd3786"
             ],
             [
              0.5555555555555556,
              "#d8576b"
             ],
             [
              0.6666666666666666,
              "#ed7953"
             ],
             [
              0.7777777777777778,
              "#fb9f3a"
             ],
             [
              0.8888888888888888,
              "#fdca26"
             ],
             [
              1,
              "#f0f921"
             ]
            ],
            "type": "histogram2dcontour"
           }
          ],
          "mesh3d": [
           {
            "colorbar": {
             "outlinewidth": 0,
             "ticks": ""
            },
            "type": "mesh3d"
           }
          ],
          "parcoords": [
           {
            "line": {
             "colorbar": {
              "outlinewidth": 0,
              "ticks": ""
             }
            },
            "type": "parcoords"
           }
          ],
          "pie": [
           {
            "automargin": true,
            "type": "pie"
           }
          ],
          "scatter": [
           {
            "fillpattern": {
             "fillmode": "overlay",
             "size": 10,
             "solidity": 0.2
            },
            "type": "scatter"
           }
          ],
          "scatter3d": [
           {
            "line": {
             "colorbar": {
              "outlinewidth": 0,
              "ticks": ""
             }
            },
            "marker": {
             "colorbar": {
              "outlinewidth": 0,
              "ticks": ""
             }
            },
            "type": "scatter3d"
           }
          ],
          "scattercarpet": [
           {
            "marker": {
             "colorbar": {
              "outlinewidth": 0,
              "ticks": ""
             }
            },
            "type": "scattercarpet"
           }
          ],
          "scattergeo": [
           {
            "marker": {
             "colorbar": {
              "outlinewidth": 0,
              "ticks": ""
             }
            },
            "type": "scattergeo"
           }
          ],
          "scattergl": [
           {
            "marker": {
             "colorbar": {
              "outlinewidth": 0,
              "ticks": ""
             }
            },
            "type": "scattergl"
           }
          ],
          "scattermapbox": [
           {
            "marker": {
             "colorbar": {
              "outlinewidth": 0,
              "ticks": ""
             }
            },
            "type": "scattermapbox"
           }
          ],
          "scatterpolar": [
           {
            "marker": {
             "colorbar": {
              "outlinewidth": 0,
              "ticks": ""
             }
            },
            "type": "scatterpolar"
           }
          ],
          "scatterpolargl": [
           {
            "marker": {
             "colorbar": {
              "outlinewidth": 0,
              "ticks": ""
             }
            },
            "type": "scatterpolargl"
           }
          ],
          "scatterternary": [
           {
            "marker": {
             "colorbar": {
              "outlinewidth": 0,
              "ticks": ""
             }
            },
            "type": "scatterternary"
           }
          ],
          "surface": [
           {
            "colorbar": {
             "outlinewidth": 0,
             "ticks": ""
            },
            "colorscale": [
             [
              0,
              "#0d0887"
             ],
             [
              0.1111111111111111,
              "#46039f"
             ],
             [
              0.2222222222222222,
              "#7201a8"
             ],
             [
              0.3333333333333333,
              "#9c179e"
             ],
             [
              0.4444444444444444,
              "#bd3786"
             ],
             [
              0.5555555555555556,
              "#d8576b"
             ],
             [
              0.6666666666666666,
              "#ed7953"
             ],
             [
              0.7777777777777778,
              "#fb9f3a"
             ],
             [
              0.8888888888888888,
              "#fdca26"
             ],
             [
              1,
              "#f0f921"
             ]
            ],
            "type": "surface"
           }
          ],
          "table": [
           {
            "cells": {
             "fill": {
              "color": "#EBF0F8"
             },
             "line": {
              "color": "white"
             }
            },
            "header": {
             "fill": {
              "color": "#C8D4E3"
             },
             "line": {
              "color": "white"
             }
            },
            "type": "table"
           }
          ]
         },
         "layout": {
          "annotationdefaults": {
           "arrowcolor": "#2a3f5f",
           "arrowhead": 0,
           "arrowwidth": 1
          },
          "autotypenumbers": "strict",
          "coloraxis": {
           "colorbar": {
            "outlinewidth": 0,
            "ticks": ""
           }
          },
          "colorscale": {
           "diverging": [
            [
             0,
             "#8e0152"
            ],
            [
             0.1,
             "#c51b7d"
            ],
            [
             0.2,
             "#de77ae"
            ],
            [
             0.3,
             "#f1b6da"
            ],
            [
             0.4,
             "#fde0ef"
            ],
            [
             0.5,
             "#f7f7f7"
            ],
            [
             0.6,
             "#e6f5d0"
            ],
            [
             0.7,
             "#b8e186"
            ],
            [
             0.8,
             "#7fbc41"
            ],
            [
             0.9,
             "#4d9221"
            ],
            [
             1,
             "#276419"
            ]
           ],
           "sequential": [
            [
             0,
             "#0d0887"
            ],
            [
             0.1111111111111111,
             "#46039f"
            ],
            [
             0.2222222222222222,
             "#7201a8"
            ],
            [
             0.3333333333333333,
             "#9c179e"
            ],
            [
             0.4444444444444444,
             "#bd3786"
            ],
            [
             0.5555555555555556,
             "#d8576b"
            ],
            [
             0.6666666666666666,
             "#ed7953"
            ],
            [
             0.7777777777777778,
             "#fb9f3a"
            ],
            [
             0.8888888888888888,
             "#fdca26"
            ],
            [
             1,
             "#f0f921"
            ]
           ],
           "sequentialminus": [
            [
             0,
             "#0d0887"
            ],
            [
             0.1111111111111111,
             "#46039f"
            ],
            [
             0.2222222222222222,
             "#7201a8"
            ],
            [
             0.3333333333333333,
             "#9c179e"
            ],
            [
             0.4444444444444444,
             "#bd3786"
            ],
            [
             0.5555555555555556,
             "#d8576b"
            ],
            [
             0.6666666666666666,
             "#ed7953"
            ],
            [
             0.7777777777777778,
             "#fb9f3a"
            ],
            [
             0.8888888888888888,
             "#fdca26"
            ],
            [
             1,
             "#f0f921"
            ]
           ]
          },
          "colorway": [
           "#636efa",
           "#EF553B",
           "#00cc96",
           "#ab63fa",
           "#FFA15A",
           "#19d3f3",
           "#FF6692",
           "#B6E880",
           "#FF97FF",
           "#FECB52"
          ],
          "font": {
           "color": "#2a3f5f"
          },
          "geo": {
           "bgcolor": "white",
           "lakecolor": "white",
           "landcolor": "#E5ECF6",
           "showlakes": true,
           "showland": true,
           "subunitcolor": "white"
          },
          "hoverlabel": {
           "align": "left"
          },
          "hovermode": "closest",
          "mapbox": {
           "style": "light"
          },
          "paper_bgcolor": "white",
          "plot_bgcolor": "#E5ECF6",
          "polar": {
           "angularaxis": {
            "gridcolor": "white",
            "linecolor": "white",
            "ticks": ""
           },
           "bgcolor": "#E5ECF6",
           "radialaxis": {
            "gridcolor": "white",
            "linecolor": "white",
            "ticks": ""
           }
          },
          "scene": {
           "xaxis": {
            "backgroundcolor": "#E5ECF6",
            "gridcolor": "white",
            "gridwidth": 2,
            "linecolor": "white",
            "showbackground": true,
            "ticks": "",
            "zerolinecolor": "white"
           },
           "yaxis": {
            "backgroundcolor": "#E5ECF6",
            "gridcolor": "white",
            "gridwidth": 2,
            "linecolor": "white",
            "showbackground": true,
            "ticks": "",
            "zerolinecolor": "white"
           },
           "zaxis": {
            "backgroundcolor": "#E5ECF6",
            "gridcolor": "white",
            "gridwidth": 2,
            "linecolor": "white",
            "showbackground": true,
            "ticks": "",
            "zerolinecolor": "white"
           }
          },
          "shapedefaults": {
           "line": {
            "color": "#2a3f5f"
           }
          },
          "ternary": {
           "aaxis": {
            "gridcolor": "white",
            "linecolor": "white",
            "ticks": ""
           },
           "baxis": {
            "gridcolor": "white",
            "linecolor": "white",
            "ticks": ""
           },
           "bgcolor": "#E5ECF6",
           "caxis": {
            "gridcolor": "white",
            "linecolor": "white",
            "ticks": ""
           }
          },
          "title": {
           "x": 0.05
          },
          "xaxis": {
           "automargin": true,
           "gridcolor": "white",
           "linecolor": "white",
           "ticks": "",
           "title": {
            "standoff": 15
           },
           "zerolinecolor": "white",
           "zerolinewidth": 2
          },
          "yaxis": {
           "automargin": true,
           "gridcolor": "white",
           "linecolor": "white",
           "ticks": "",
           "title": {
            "standoff": 15
           },
           "zerolinecolor": "white",
           "zerolinewidth": 2
          }
         }
        },
        "title": {
         "font": {
          "color": "#4D5663"
         }
        },
        "xaxis": {
         "gridcolor": "#E1E5ED",
         "showgrid": true,
         "tickfont": {
          "color": "#4D5663"
         },
         "title": {
          "font": {
           "color": "#4D5663"
          },
          "text": ""
         },
         "zerolinecolor": "#E1E5ED"
        },
        "yaxis": {
         "gridcolor": "#E1E5ED",
         "showgrid": true,
         "tickfont": {
          "color": "#4D5663"
         },
         "title": {
          "font": {
           "color": "#4D5663"
          },
          "text": ""
         },
         "zerolinecolor": "#E1E5ED"
        }
       }
      },
      "text/html": [
       "<div>                            <div id=\"19faf47f-dd13-4daf-8a6d-fb38e9c3ac03\" class=\"plotly-graph-div\" style=\"height:525px; width:100%;\"></div>            <script type=\"text/javascript\">                require([\"plotly\"], function(Plotly) {                    window.PLOTLYENV=window.PLOTLYENV || {};\n",
       "                    window.PLOTLYENV.BASE_URL='https://plot.ly';                                    if (document.getElementById(\"19faf47f-dd13-4daf-8a6d-fb38e9c3ac03\")) {                    Plotly.newPlot(                        \"19faf47f-dd13-4daf-8a6d-fb38e9c3ac03\",                        [{\"histfunc\":\"count\",\"histnorm\":\"\",\"marker\":{\"color\":\"rgba(255, 153, 51, 1.0)\",\"line\":{\"color\":\"#4D5663\",\"width\":1.3}},\"name\":\"A\",\"nbinsx\":25,\"opacity\":0.8,\"orientation\":\"v\",\"x\":[-0.07455973164460492,0.10684607028138204,0.05174438274182425,1.8834582400552635,-0.7394873566653477,-0.20509986347008477,-0.03414545421950641,-0.6213525131646722,0.571263033821104,1.180464181279357,-0.203734605785186,0.7347661916372418,0.2859474736202656,0.04076517450424396,-0.9575891661839521,-1.4309383761629788,2.2550368651025283,-0.9940639812563287,0.799337873179283,-1.257878293181983,0.4179499111762863,0.3002148423464334,-1.1504058019430792,0.08143088735081103,0.48039194150290004,-0.6650657342765216,1.1156620567673445,1.6819828126747252,0.3100427456611766,-0.35556202725992564,0.5734972173901176,0.32590737332398945,0.26434526538445485,-0.28767952859901297,0.46220729582394343,-0.5818941295153186,1.285059720736958,1.5048915259613318,-0.6639248043990625,0.7636007895359088,-0.6463548675362586,0.4119553800931602,-0.41800965879757407,-0.9291745756491012,0.5941812800033995,0.6495415877446266,0.1446736681969964,0.26828186676311594,0.13889888661810415,-0.6067198644564883,-0.5830985850290649,-0.44261895162747866,-0.16593121692532206,1.5766366939770549,-0.9488282786185461,-0.47334557392170873,-2.9681775620277215,-0.25029734336535486,-1.1711717647996238,-0.6639685633213962,-1.5666336819385447,-0.8675551693083899,0.9365429397079991,0.15072665081471726,1.1852234520751472,-0.08290956220307087,-1.1017174229562567,-0.5198271089769748,0.37018057099191115,0.6484073753005931,-0.1590182089390411,-1.2123900485249766,-0.2362259963300999,-0.9316538839457773,-0.7702588740652273,1.4701363779831127,1.7874391009354653,0.24616432107668124,-1.182643305480476,0.35443322915141356,-0.4842531774514151,-0.44909134669233536,-0.5668275896818619,0.4175639632896596,-1.2611360990304046,-0.008206696883240246,-0.10979708777038237,0.49243560590286795,0.8213310947530663,-0.267726403403628,-1.2515625109561188,0.630999102938369,0.1713145260658875,-1.3560217445320064,-1.1258620552644414,1.095337440779493,1.7240614552766635,0.18149760823613265,-0.33113981029074463,-0.7243911418227783],\"type\":\"histogram\"},{\"histfunc\":\"count\",\"histnorm\":\"\",\"marker\":{\"color\":\"rgba(55, 128, 191, 1.0)\",\"line\":{\"color\":\"#4D5663\",\"width\":1.3}},\"name\":\"B\",\"nbinsx\":25,\"opacity\":0.8,\"orientation\":\"v\",\"x\":[0.20695886201338964,2.2267140798834366,2.0606705606804248,-0.47751358803428084,-0.8265999208195308,0.3683847538936354,-0.9215058882049292,0.2010981971926559,-2.612024672660992,1.994860248642683,0.6474845780135272,-1.4695376336420343,0.25329507946952484,-0.8847748430992944,0.01108872266051941,-1.1635524981707588,-0.16334248185299458,0.37081708914041467,-0.3744953167142966,0.25997366036222974,0.6587716974050809,-1.153664670868084,-1.697491236131132,0.7995087387377215,1.051287349057648,0.26519966512043014,0.16665172934102204,-0.9207235935854554,0.19392919045612925,0.30514185806513633,1.153170562731266,0.6444165797703777,0.10095403561272143,-1.3779799142755011,1.0886785013466902,0.4207240802224743,1.1386223070602004,-0.41875441978934674,1.1045931338539758,0.6514247563808732,-1.5404052766834295,-0.07015676241255123,0.34211903144043065,-0.18534612927812716,-1.8520443646410083,1.4319920389190104,1.1387925527034235,0.2698880956788044,0.1878047757021268,1.7741986146424833,0.22768156026066996,-0.20014286651396568,2.059179137491171,0.35223369637447816,0.05263010640213276,1.7322067881044543,-0.7745478394440942,2.0680320286556824,-0.6321155047266144,1.2659416243146926,0.4722821822143342,1.642169097988724,-1.7521377798815267,0.3727959530975647,-1.965263310446799,-1.0712504506589524,0.5342752099185382,-1.1298074723535294,-0.5580156206841335,0.823614953289078,-0.5479781763338187,-1.6514759368126157,-0.2328958270228804,1.4625741873716016,0.3342124737309676,1.3772224066244865,0.20175951418821808,0.2501868306006938,0.32303507776168344,0.5721589323589801,-1.3176653867942356,0.2393598296204175,0.929162936792238,0.43767400300848264,-0.08169926569148139,0.4789983045336972,-0.5059754539470817,0.46797344213078973,-0.7757631159400264,-1.4756298170780817,1.1509293631614974,0.6429496420266005,-0.4212609077669692,-0.4359617643911458,0.6020198623608694,-1.0543687019171408,-1.2676827628690235,0.14146548854024957,-0.5593082511505357,0.3558988051040138],\"type\":\"histogram\"},{\"histfunc\":\"count\",\"histnorm\":\"\",\"marker\":{\"color\":\"rgba(50, 171, 96, 1.0)\",\"line\":{\"color\":\"#4D5663\",\"width\":1.3}},\"name\":\"C\",\"nbinsx\":25,\"opacity\":0.8,\"orientation\":\"v\",\"x\":[-1.081269945135512,1.4994251562217111,-0.3119790245764006,-0.5700454804125089,-0.807023809252038,-0.5799702673215373,-0.09435532278377927,-0.31608968822404326,0.18299585804559182,0.3091374615684443,0.18201094779020607,-2.345641909923838,-0.13252030691115732,0.13238668905978415,1.1817837329912397,2.264407928958368,-0.8472059592401834,-1.3313848084966844,-0.08922639782092631,-1.4710730962481993,-0.6869991971293106,1.4778045441065182,1.1846977951460802,0.6607245948496702,0.1837760942987446,0.13627332908572537,-0.9257935097369108,-0.3631151365640535,-0.6530648937591993,0.007354264774219916,-0.8419688962869191,-1.7490095299427195,0.6203734953047744,1.1391677148048978,-0.3021498266477652,-0.2937454543805988,-1.3444898920202757,2.118046703207983,-0.743988751474283,-0.06963261339083487,-0.7996020752935274,-1.005798935187391,0.6701806296993339,-0.6113273408094672,1.8289686346629874,-1.3394559641761112,-0.15407754183638855,0.025477647925172372,0.22286592407597883,0.3586554102522154,-2.2207179594666115,-0.40609938632199105,0.8094387812022237,-0.409573014214997,-0.8624321442746868,-1.9900524733870248,-1.0621179123329199,0.17986964017037582,1.0936096630745618,-0.9569389898844811,-1.562862175503904,-0.011921576470930798,1.3255715669392727,-1.382966569593766,0.38060846600902815,0.023047012426766652,-0.10277895493911231,1.5766710606284269,1.0583807147051052,-0.028171066628308445,-0.7937277667327526,0.057974528758083864,0.45368708403810293,2.6283832133335965,1.0962176916034292,-0.1151122014513563,0.6066877991292793,-0.2496558126535614,0.7409857518887422,0.050310440543480495,1.1876527493678348,-0.32420002066467346,-0.7981078819489894,-0.11361464678331062,0.5705180150672012,-0.4653425859355932,1.2342526285328859,0.2674674107633959,-1.016193485761706,1.0469501273664463,0.06132106469109561,-0.3323035531320329,-1.4426210871023315,-0.6653133214293154,-0.4366264762884827,-1.2677628403645937,0.7813374855286151,0.49900218669676677,0.06659306844027807,2.4936858180276675],\"type\":\"histogram\"},{\"histfunc\":\"count\",\"histnorm\":\"\",\"marker\":{\"color\":\"rgba(128, 0, 128, 1.0)\",\"line\":{\"color\":\"#4D5663\",\"width\":1.3}},\"name\":\"D\",\"nbinsx\":25,\"opacity\":0.8,\"orientation\":\"v\",\"x\":[-0.8530464835686923,-0.9777211704949056,0.3671196294852984,0.7863072630984241,-1.0253861618314224,-0.4696397181389764,-0.6754239467268804,-0.3525284257974691,0.35479805241940754,-0.7083751409954576,1.0404062935691023,0.7232705225139738,-0.9458574170779152,-1.0937615085377304,0.6756009722227514,0.6754446860653938,-0.1540404335992706,-0.141838683385397,-1.9892866572395724,0.3262877045144788,-0.060912459662740503,0.7845234308016186,-0.8242176129734604,-0.696438279410444,1.3817725610609137,0.35013877794633497,0.7050803261791581,-0.313775937565349,-2.0822056554745427,-0.10495537796933573,0.4636166809545198,-0.4459029690784089,0.8292241120612767,1.2498512054626933,-0.49676866730921915,0.13572952910264804,-1.113134522240766,2.288876218225101,-0.027811988637406377,-0.014057354296969091,0.5941968980230878,0.7322196570655919,1.1376483490535065,-0.8061223662897936,1.0326704363100077,-1.0187555953747782,-0.7936986024875148,1.7250128752515284,-0.6907202876570452,1.1900466223571298,1.9829040794618682,-0.05518654612497724,-1.2732888394215272,-1.2033601621334395,-0.5077914994901958,-0.43038293124055405,-0.3088363031248792,0.02943936309552351,-1.2048038000864694,0.30210575820803937,-0.06400315095343355,-0.15176022595000632,0.4368484734463497,-0.5662310539363955,-0.9447988089482128,-0.6540711251538077,1.7793433754351027,0.23298373678295095,-1.280767886637018,-0.7754852937075334,-0.10400263262798473,-1.1157701073521156,0.22097666363929264,2.7024387581477134,-1.4309695428736593,0.876814390353818,-0.6273886791946258,-2.031881987131689,-1.0275083360189055,1.0592819257519337,-2.1620664985606393,0.27275525695182595,-0.447319165016932,0.4136715494169879,-2.288296945942758,-0.8127296548244415,-1.1266256532788121,-0.8215384686469209,-0.4872430165453182,-0.022574262627463378,-0.5843216053975311,0.011099364916450943,-0.5373376805509293,-2.2805091631118457,0.2922998628626371,-0.7207546091003253,0.39648514446519356,-0.8340295828931642,0.17768328109566717,0.9023490222152702],\"type\":\"histogram\"}],                        {\"barmode\":\"overlay\",\"legend\":{\"bgcolor\":\"#F5F6F9\",\"font\":{\"color\":\"#4D5663\"}},\"paper_bgcolor\":\"#F5F6F9\",\"plot_bgcolor\":\"#F5F6F9\",\"template\":{\"data\":{\"barpolar\":[{\"marker\":{\"line\":{\"color\":\"#E5ECF6\",\"width\":0.5},\"pattern\":{\"fillmode\":\"overlay\",\"size\":10,\"solidity\":0.2}},\"type\":\"barpolar\"}],\"bar\":[{\"error_x\":{\"color\":\"#2a3f5f\"},\"error_y\":{\"color\":\"#2a3f5f\"},\"marker\":{\"line\":{\"color\":\"#E5ECF6\",\"width\":0.5},\"pattern\":{\"fillmode\":\"overlay\",\"size\":10,\"solidity\":0.2}},\"type\":\"bar\"}],\"carpet\":[{\"aaxis\":{\"endlinecolor\":\"#2a3f5f\",\"gridcolor\":\"white\",\"linecolor\":\"white\",\"minorgridcolor\":\"white\",\"startlinecolor\":\"#2a3f5f\"},\"baxis\":{\"endlinecolor\":\"#2a3f5f\",\"gridcolor\":\"white\",\"linecolor\":\"white\",\"minorgridcolor\":\"white\",\"startlinecolor\":\"#2a3f5f\"},\"type\":\"carpet\"}],\"choropleth\":[{\"colorbar\":{\"outlinewidth\":0,\"ticks\":\"\"},\"type\":\"choropleth\"}],\"contourcarpet\":[{\"colorbar\":{\"outlinewidth\":0,\"ticks\":\"\"},\"type\":\"contourcarpet\"}],\"contour\":[{\"colorbar\":{\"outlinewidth\":0,\"ticks\":\"\"},\"colorscale\":[[0.0,\"#0d0887\"],[0.1111111111111111,\"#46039f\"],[0.2222222222222222,\"#7201a8\"],[0.3333333333333333,\"#9c179e\"],[0.4444444444444444,\"#bd3786\"],[0.5555555555555556,\"#d8576b\"],[0.6666666666666666,\"#ed7953\"],[0.7777777777777778,\"#fb9f3a\"],[0.8888888888888888,\"#fdca26\"],[1.0,\"#f0f921\"]],\"type\":\"contour\"}],\"heatmapgl\":[{\"colorbar\":{\"outlinewidth\":0,\"ticks\":\"\"},\"colorscale\":[[0.0,\"#0d0887\"],[0.1111111111111111,\"#46039f\"],[0.2222222222222222,\"#7201a8\"],[0.3333333333333333,\"#9c179e\"],[0.4444444444444444,\"#bd3786\"],[0.5555555555555556,\"#d8576b\"],[0.6666666666666666,\"#ed7953\"],[0.7777777777777778,\"#fb9f3a\"],[0.8888888888888888,\"#fdca26\"],[1.0,\"#f0f921\"]],\"type\":\"heatmapgl\"}],\"heatmap\":[{\"colorbar\":{\"outlinewidth\":0,\"ticks\":\"\"},\"colorscale\":[[0.0,\"#0d0887\"],[0.1111111111111111,\"#46039f\"],[0.2222222222222222,\"#7201a8\"],[0.3333333333333333,\"#9c179e\"],[0.4444444444444444,\"#bd3786\"],[0.5555555555555556,\"#d8576b\"],[0.6666666666666666,\"#ed7953\"],[0.7777777777777778,\"#fb9f3a\"],[0.8888888888888888,\"#fdca26\"],[1.0,\"#f0f921\"]],\"type\":\"heatmap\"}],\"histogram2dcontour\":[{\"colorbar\":{\"outlinewidth\":0,\"ticks\":\"\"},\"colorscale\":[[0.0,\"#0d0887\"],[0.1111111111111111,\"#46039f\"],[0.2222222222222222,\"#7201a8\"],[0.3333333333333333,\"#9c179e\"],[0.4444444444444444,\"#bd3786\"],[0.5555555555555556,\"#d8576b\"],[0.6666666666666666,\"#ed7953\"],[0.7777777777777778,\"#fb9f3a\"],[0.8888888888888888,\"#fdca26\"],[1.0,\"#f0f921\"]],\"type\":\"histogram2dcontour\"}],\"histogram2d\":[{\"colorbar\":{\"outlinewidth\":0,\"ticks\":\"\"},\"colorscale\":[[0.0,\"#0d0887\"],[0.1111111111111111,\"#46039f\"],[0.2222222222222222,\"#7201a8\"],[0.3333333333333333,\"#9c179e\"],[0.4444444444444444,\"#bd3786\"],[0.5555555555555556,\"#d8576b\"],[0.6666666666666666,\"#ed7953\"],[0.7777777777777778,\"#fb9f3a\"],[0.8888888888888888,\"#fdca26\"],[1.0,\"#f0f921\"]],\"type\":\"histogram2d\"}],\"histogram\":[{\"marker\":{\"pattern\":{\"fillmode\":\"overlay\",\"size\":10,\"solidity\":0.2}},\"type\":\"histogram\"}],\"mesh3d\":[{\"colorbar\":{\"outlinewidth\":0,\"ticks\":\"\"},\"type\":\"mesh3d\"}],\"parcoords\":[{\"line\":{\"colorbar\":{\"outlinewidth\":0,\"ticks\":\"\"}},\"type\":\"parcoords\"}],\"pie\":[{\"automargin\":true,\"type\":\"pie\"}],\"scatter3d\":[{\"line\":{\"colorbar\":{\"outlinewidth\":0,\"ticks\":\"\"}},\"marker\":{\"colorbar\":{\"outlinewidth\":0,\"ticks\":\"\"}},\"type\":\"scatter3d\"}],\"scattercarpet\":[{\"marker\":{\"colorbar\":{\"outlinewidth\":0,\"ticks\":\"\"}},\"type\":\"scattercarpet\"}],\"scattergeo\":[{\"marker\":{\"colorbar\":{\"outlinewidth\":0,\"ticks\":\"\"}},\"type\":\"scattergeo\"}],\"scattergl\":[{\"marker\":{\"colorbar\":{\"outlinewidth\":0,\"ticks\":\"\"}},\"type\":\"scattergl\"}],\"scattermapbox\":[{\"marker\":{\"colorbar\":{\"outlinewidth\":0,\"ticks\":\"\"}},\"type\":\"scattermapbox\"}],\"scatterpolargl\":[{\"marker\":{\"colorbar\":{\"outlinewidth\":0,\"ticks\":\"\"}},\"type\":\"scatterpolargl\"}],\"scatterpolar\":[{\"marker\":{\"colorbar\":{\"outlinewidth\":0,\"ticks\":\"\"}},\"type\":\"scatterpolar\"}],\"scatter\":[{\"fillpattern\":{\"fillmode\":\"overlay\",\"size\":10,\"solidity\":0.2},\"type\":\"scatter\"}],\"scatterternary\":[{\"marker\":{\"colorbar\":{\"outlinewidth\":0,\"ticks\":\"\"}},\"type\":\"scatterternary\"}],\"surface\":[{\"colorbar\":{\"outlinewidth\":0,\"ticks\":\"\"},\"colorscale\":[[0.0,\"#0d0887\"],[0.1111111111111111,\"#46039f\"],[0.2222222222222222,\"#7201a8\"],[0.3333333333333333,\"#9c179e\"],[0.4444444444444444,\"#bd3786\"],[0.5555555555555556,\"#d8576b\"],[0.6666666666666666,\"#ed7953\"],[0.7777777777777778,\"#fb9f3a\"],[0.8888888888888888,\"#fdca26\"],[1.0,\"#f0f921\"]],\"type\":\"surface\"}],\"table\":[{\"cells\":{\"fill\":{\"color\":\"#EBF0F8\"},\"line\":{\"color\":\"white\"}},\"header\":{\"fill\":{\"color\":\"#C8D4E3\"},\"line\":{\"color\":\"white\"}},\"type\":\"table\"}]},\"layout\":{\"annotationdefaults\":{\"arrowcolor\":\"#2a3f5f\",\"arrowhead\":0,\"arrowwidth\":1},\"autotypenumbers\":\"strict\",\"coloraxis\":{\"colorbar\":{\"outlinewidth\":0,\"ticks\":\"\"}},\"colorscale\":{\"diverging\":[[0,\"#8e0152\"],[0.1,\"#c51b7d\"],[0.2,\"#de77ae\"],[0.3,\"#f1b6da\"],[0.4,\"#fde0ef\"],[0.5,\"#f7f7f7\"],[0.6,\"#e6f5d0\"],[0.7,\"#b8e186\"],[0.8,\"#7fbc41\"],[0.9,\"#4d9221\"],[1,\"#276419\"]],\"sequential\":[[0.0,\"#0d0887\"],[0.1111111111111111,\"#46039f\"],[0.2222222222222222,\"#7201a8\"],[0.3333333333333333,\"#9c179e\"],[0.4444444444444444,\"#bd3786\"],[0.5555555555555556,\"#d8576b\"],[0.6666666666666666,\"#ed7953\"],[0.7777777777777778,\"#fb9f3a\"],[0.8888888888888888,\"#fdca26\"],[1.0,\"#f0f921\"]],\"sequentialminus\":[[0.0,\"#0d0887\"],[0.1111111111111111,\"#46039f\"],[0.2222222222222222,\"#7201a8\"],[0.3333333333333333,\"#9c179e\"],[0.4444444444444444,\"#bd3786\"],[0.5555555555555556,\"#d8576b\"],[0.6666666666666666,\"#ed7953\"],[0.7777777777777778,\"#fb9f3a\"],[0.8888888888888888,\"#fdca26\"],[1.0,\"#f0f921\"]]},\"colorway\":[\"#636efa\",\"#EF553B\",\"#00cc96\",\"#ab63fa\",\"#FFA15A\",\"#19d3f3\",\"#FF6692\",\"#B6E880\",\"#FF97FF\",\"#FECB52\"],\"font\":{\"color\":\"#2a3f5f\"},\"geo\":{\"bgcolor\":\"white\",\"lakecolor\":\"white\",\"landcolor\":\"#E5ECF6\",\"showlakes\":true,\"showland\":true,\"subunitcolor\":\"white\"},\"hoverlabel\":{\"align\":\"left\"},\"hovermode\":\"closest\",\"mapbox\":{\"style\":\"light\"},\"paper_bgcolor\":\"white\",\"plot_bgcolor\":\"#E5ECF6\",\"polar\":{\"angularaxis\":{\"gridcolor\":\"white\",\"linecolor\":\"white\",\"ticks\":\"\"},\"bgcolor\":\"#E5ECF6\",\"radialaxis\":{\"gridcolor\":\"white\",\"linecolor\":\"white\",\"ticks\":\"\"}},\"scene\":{\"xaxis\":{\"backgroundcolor\":\"#E5ECF6\",\"gridcolor\":\"white\",\"gridwidth\":2,\"linecolor\":\"white\",\"showbackground\":true,\"ticks\":\"\",\"zerolinecolor\":\"white\"},\"yaxis\":{\"backgroundcolor\":\"#E5ECF6\",\"gridcolor\":\"white\",\"gridwidth\":2,\"linecolor\":\"white\",\"showbackground\":true,\"ticks\":\"\",\"zerolinecolor\":\"white\"},\"zaxis\":{\"backgroundcolor\":\"#E5ECF6\",\"gridcolor\":\"white\",\"gridwidth\":2,\"linecolor\":\"white\",\"showbackground\":true,\"ticks\":\"\",\"zerolinecolor\":\"white\"}},\"shapedefaults\":{\"line\":{\"color\":\"#2a3f5f\"}},\"ternary\":{\"aaxis\":{\"gridcolor\":\"white\",\"linecolor\":\"white\",\"ticks\":\"\"},\"baxis\":{\"gridcolor\":\"white\",\"linecolor\":\"white\",\"ticks\":\"\"},\"bgcolor\":\"#E5ECF6\",\"caxis\":{\"gridcolor\":\"white\",\"linecolor\":\"white\",\"ticks\":\"\"}},\"title\":{\"x\":0.05},\"xaxis\":{\"automargin\":true,\"gridcolor\":\"white\",\"linecolor\":\"white\",\"ticks\":\"\",\"title\":{\"standoff\":15},\"zerolinecolor\":\"white\",\"zerolinewidth\":2},\"yaxis\":{\"automargin\":true,\"gridcolor\":\"white\",\"linecolor\":\"white\",\"ticks\":\"\",\"title\":{\"standoff\":15},\"zerolinecolor\":\"white\",\"zerolinewidth\":2}}},\"title\":{\"font\":{\"color\":\"#4D5663\"}},\"xaxis\":{\"gridcolor\":\"#E1E5ED\",\"showgrid\":true,\"tickfont\":{\"color\":\"#4D5663\"},\"title\":{\"font\":{\"color\":\"#4D5663\"},\"text\":\"\"},\"zerolinecolor\":\"#E1E5ED\"},\"yaxis\":{\"gridcolor\":\"#E1E5ED\",\"showgrid\":true,\"tickfont\":{\"color\":\"#4D5663\"},\"title\":{\"font\":{\"color\":\"#4D5663\"},\"text\":\"\"},\"zerolinecolor\":\"#E1E5ED\"}},                        {\"showLink\": true, \"linkText\": \"Export to plot.ly\", \"plotlyServerURL\": \"https://plot.ly\", \"responsive\": true}                    ).then(function(){\n",
       "                            \n",
       "var gd = document.getElementById('19faf47f-dd13-4daf-8a6d-fb38e9c3ac03');\n",
       "var x = new MutationObserver(function (mutations, observer) {{\n",
       "        var display = window.getComputedStyle(gd).display;\n",
       "        if (!display || display === 'none') {{\n",
       "            console.log([gd, 'removed!']);\n",
       "            Plotly.purge(gd);\n",
       "            observer.disconnect();\n",
       "        }}\n",
       "}});\n",
       "\n",
       "// Listen for the removal of the full notebook cells\n",
       "var notebookContainer = gd.closest('#notebook-container');\n",
       "if (notebookContainer) {{\n",
       "    x.observe(notebookContainer, {childList: true});\n",
       "}}\n",
       "\n",
       "// Listen for the clearing of the current output cell\n",
       "var outputEl = gd.closest('.output');\n",
       "if (outputEl) {{\n",
       "    x.observe(outputEl, {childList: true});\n",
       "}}\n",
       "\n",
       "                        })                };                });            </script>        </div>"
      ]
     },
     "metadata": {},
     "output_type": "display_data"
    }
   ],
   "source": [
    "df.iplot(kind='hist',bins=25)"
   ]
  },
  {
   "cell_type": "code",
   "execution_count": 21,
   "metadata": {},
   "outputs": [
    {
     "data": {
      "application/vnd.plotly.v1+json": {
       "config": {
        "linkText": "Export to plot.ly",
        "plotlyServerURL": "https://plot.ly",
        "showLink": true
       },
       "data": [
        {
         "marker": {
          "color": [
           "rgb(255, 153, 51)",
           "rgb(55, 128, 191)",
           "rgb(50, 171, 96)",
           "rgb(128, 0, 128)",
           "rgb(219, 64, 82)",
           "rgb(0, 128, 128)",
           "rgb(255, 255, 51)",
           "rgb(128, 128, 0)",
           "rgb(251, 128, 114)",
           "rgb(128, 177, 211)"
          ],
          "line": {
           "width": 1.3
          },
          "size": [
           37,
           89,
           52,
           47,
           42,
           47,
           57,
           52,
           62,
           65,
           62,
           12,
           56,
           61,
           82,
           104,
           42,
           32,
           57,
           29,
           45,
           88,
           82,
           72,
           62,
           61,
           40,
           51,
           46,
           59,
           42,
           23,
           71,
           82,
           53,
           53,
           32,
           101,
           44,
           57,
           43,
           38,
           72,
           46,
           95,
           32,
           56,
           59,
           63,
           66,
           14,
           50,
           75,
           50,
           41,
           19,
           37,
           62,
           81,
           39,
           27,
           58,
           85,
           31,
           66,
           59,
           57,
           90,
           80,
           58,
           43,
           60,
           68,
           112,
           81,
           56,
           71,
           54,
           74,
           60,
           83,
           52,
           43,
           56,
           70,
           49,
           83,
           64,
           38,
           80,
           60,
           52,
           30,
           45,
           50,
           33,
           74,
           69,
           60,
           109
          ],
          "symbol": "circle"
         },
         "mode": "markers",
         "text": "",
         "type": "scatter",
         "x": [
          -0.07455973164460492,
          0.10684607028138204,
          0.05174438274182425,
          1.8834582400552635,
          -0.7394873566653477,
          -0.20509986347008477,
          -0.03414545421950641,
          -0.6213525131646722,
          0.571263033821104,
          1.180464181279357,
          -0.203734605785186,
          0.7347661916372418,
          0.2859474736202656,
          0.04076517450424396,
          -0.9575891661839521,
          -1.4309383761629788,
          2.2550368651025283,
          -0.9940639812563287,
          0.799337873179283,
          -1.257878293181983,
          0.4179499111762863,
          0.3002148423464334,
          -1.1504058019430792,
          0.08143088735081103,
          0.48039194150290004,
          -0.6650657342765216,
          1.1156620567673445,
          1.6819828126747252,
          0.3100427456611766,
          -0.35556202725992564,
          0.5734972173901176,
          0.32590737332398945,
          0.26434526538445485,
          -0.28767952859901297,
          0.46220729582394343,
          -0.5818941295153186,
          1.285059720736958,
          1.5048915259613318,
          -0.6639248043990625,
          0.7636007895359088,
          -0.6463548675362586,
          0.4119553800931602,
          -0.41800965879757407,
          -0.9291745756491012,
          0.5941812800033995,
          0.6495415877446266,
          0.1446736681969964,
          0.26828186676311594,
          0.13889888661810415,
          -0.6067198644564883,
          -0.5830985850290649,
          -0.44261895162747866,
          -0.16593121692532206,
          1.5766366939770549,
          -0.9488282786185461,
          -0.47334557392170873,
          -2.9681775620277215,
          -0.25029734336535486,
          -1.1711717647996238,
          -0.6639685633213962,
          -1.5666336819385447,
          -0.8675551693083899,
          0.9365429397079991,
          0.15072665081471726,
          1.1852234520751472,
          -0.08290956220307087,
          -1.1017174229562567,
          -0.5198271089769748,
          0.37018057099191115,
          0.6484073753005931,
          -0.1590182089390411,
          -1.2123900485249766,
          -0.2362259963300999,
          -0.9316538839457773,
          -0.7702588740652273,
          1.4701363779831127,
          1.7874391009354653,
          0.24616432107668124,
          -1.182643305480476,
          0.35443322915141356,
          -0.4842531774514151,
          -0.44909134669233536,
          -0.5668275896818619,
          0.4175639632896596,
          -1.2611360990304046,
          -0.008206696883240246,
          -0.10979708777038237,
          0.49243560590286795,
          0.8213310947530663,
          -0.267726403403628,
          -1.2515625109561188,
          0.630999102938369,
          0.1713145260658875,
          -1.3560217445320064,
          -1.1258620552644414,
          1.095337440779493,
          1.7240614552766635,
          0.18149760823613265,
          -0.33113981029074463,
          -0.7243911418227783
         ],
         "y": [
          0.20695886201338964,
          2.2267140798834366,
          2.0606705606804248,
          -0.47751358803428084,
          -0.8265999208195308,
          0.3683847538936354,
          -0.9215058882049292,
          0.2010981971926559,
          -2.612024672660992,
          1.994860248642683,
          0.6474845780135272,
          -1.4695376336420343,
          0.25329507946952484,
          -0.8847748430992944,
          0.01108872266051941,
          -1.1635524981707588,
          -0.16334248185299458,
          0.37081708914041467,
          -0.3744953167142966,
          0.25997366036222974,
          0.6587716974050809,
          -1.153664670868084,
          -1.697491236131132,
          0.7995087387377215,
          1.051287349057648,
          0.26519966512043014,
          0.16665172934102204,
          -0.9207235935854554,
          0.19392919045612925,
          0.30514185806513633,
          1.153170562731266,
          0.6444165797703777,
          0.10095403561272143,
          -1.3779799142755011,
          1.0886785013466902,
          0.4207240802224743,
          1.1386223070602004,
          -0.41875441978934674,
          1.1045931338539758,
          0.6514247563808732,
          -1.5404052766834295,
          -0.07015676241255123,
          0.34211903144043065,
          -0.18534612927812716,
          -1.8520443646410083,
          1.4319920389190104,
          1.1387925527034235,
          0.2698880956788044,
          0.1878047757021268,
          1.7741986146424833,
          0.22768156026066996,
          -0.20014286651396568,
          2.059179137491171,
          0.35223369637447816,
          0.05263010640213276,
          1.7322067881044543,
          -0.7745478394440942,
          2.0680320286556824,
          -0.6321155047266144,
          1.2659416243146926,
          0.4722821822143342,
          1.642169097988724,
          -1.7521377798815267,
          0.3727959530975647,
          -1.965263310446799,
          -1.0712504506589524,
          0.5342752099185382,
          -1.1298074723535294,
          -0.5580156206841335,
          0.823614953289078,
          -0.5479781763338187,
          -1.6514759368126157,
          -0.2328958270228804,
          1.4625741873716016,
          0.3342124737309676,
          1.3772224066244865,
          0.20175951418821808,
          0.2501868306006938,
          0.32303507776168344,
          0.5721589323589801,
          -1.3176653867942356,
          0.2393598296204175,
          0.929162936792238,
          0.43767400300848264,
          -0.08169926569148139,
          0.4789983045336972,
          -0.5059754539470817,
          0.46797344213078973,
          -0.7757631159400264,
          -1.4756298170780817,
          1.1509293631614974,
          0.6429496420266005,
          -0.4212609077669692,
          -0.4359617643911458,
          0.6020198623608694,
          -1.0543687019171408,
          -1.2676827628690235,
          0.14146548854024957,
          -0.5593082511505357,
          0.3558988051040138
         ]
        }
       ],
       "layout": {
        "legend": {
         "bgcolor": "#F5F6F9",
         "font": {
          "color": "#4D5663"
         }
        },
        "paper_bgcolor": "#F5F6F9",
        "plot_bgcolor": "#F5F6F9",
        "template": {
         "data": {
          "bar": [
           {
            "error_x": {
             "color": "#2a3f5f"
            },
            "error_y": {
             "color": "#2a3f5f"
            },
            "marker": {
             "line": {
              "color": "#E5ECF6",
              "width": 0.5
             },
             "pattern": {
              "fillmode": "overlay",
              "size": 10,
              "solidity": 0.2
             }
            },
            "type": "bar"
           }
          ],
          "barpolar": [
           {
            "marker": {
             "line": {
              "color": "#E5ECF6",
              "width": 0.5
             },
             "pattern": {
              "fillmode": "overlay",
              "size": 10,
              "solidity": 0.2
             }
            },
            "type": "barpolar"
           }
          ],
          "carpet": [
           {
            "aaxis": {
             "endlinecolor": "#2a3f5f",
             "gridcolor": "white",
             "linecolor": "white",
             "minorgridcolor": "white",
             "startlinecolor": "#2a3f5f"
            },
            "baxis": {
             "endlinecolor": "#2a3f5f",
             "gridcolor": "white",
             "linecolor": "white",
             "minorgridcolor": "white",
             "startlinecolor": "#2a3f5f"
            },
            "type": "carpet"
           }
          ],
          "choropleth": [
           {
            "colorbar": {
             "outlinewidth": 0,
             "ticks": ""
            },
            "type": "choropleth"
           }
          ],
          "contour": [
           {
            "colorbar": {
             "outlinewidth": 0,
             "ticks": ""
            },
            "colorscale": [
             [
              0,
              "#0d0887"
             ],
             [
              0.1111111111111111,
              "#46039f"
             ],
             [
              0.2222222222222222,
              "#7201a8"
             ],
             [
              0.3333333333333333,
              "#9c179e"
             ],
             [
              0.4444444444444444,
              "#bd3786"
             ],
             [
              0.5555555555555556,
              "#d8576b"
             ],
             [
              0.6666666666666666,
              "#ed7953"
             ],
             [
              0.7777777777777778,
              "#fb9f3a"
             ],
             [
              0.8888888888888888,
              "#fdca26"
             ],
             [
              1,
              "#f0f921"
             ]
            ],
            "type": "contour"
           }
          ],
          "contourcarpet": [
           {
            "colorbar": {
             "outlinewidth": 0,
             "ticks": ""
            },
            "type": "contourcarpet"
           }
          ],
          "heatmap": [
           {
            "colorbar": {
             "outlinewidth": 0,
             "ticks": ""
            },
            "colorscale": [
             [
              0,
              "#0d0887"
             ],
             [
              0.1111111111111111,
              "#46039f"
             ],
             [
              0.2222222222222222,
              "#7201a8"
             ],
             [
              0.3333333333333333,
              "#9c179e"
             ],
             [
              0.4444444444444444,
              "#bd3786"
             ],
             [
              0.5555555555555556,
              "#d8576b"
             ],
             [
              0.6666666666666666,
              "#ed7953"
             ],
             [
              0.7777777777777778,
              "#fb9f3a"
             ],
             [
              0.8888888888888888,
              "#fdca26"
             ],
             [
              1,
              "#f0f921"
             ]
            ],
            "type": "heatmap"
           }
          ],
          "heatmapgl": [
           {
            "colorbar": {
             "outlinewidth": 0,
             "ticks": ""
            },
            "colorscale": [
             [
              0,
              "#0d0887"
             ],
             [
              0.1111111111111111,
              "#46039f"
             ],
             [
              0.2222222222222222,
              "#7201a8"
             ],
             [
              0.3333333333333333,
              "#9c179e"
             ],
             [
              0.4444444444444444,
              "#bd3786"
             ],
             [
              0.5555555555555556,
              "#d8576b"
             ],
             [
              0.6666666666666666,
              "#ed7953"
             ],
             [
              0.7777777777777778,
              "#fb9f3a"
             ],
             [
              0.8888888888888888,
              "#fdca26"
             ],
             [
              1,
              "#f0f921"
             ]
            ],
            "type": "heatmapgl"
           }
          ],
          "histogram": [
           {
            "marker": {
             "pattern": {
              "fillmode": "overlay",
              "size": 10,
              "solidity": 0.2
             }
            },
            "type": "histogram"
           }
          ],
          "histogram2d": [
           {
            "colorbar": {
             "outlinewidth": 0,
             "ticks": ""
            },
            "colorscale": [
             [
              0,
              "#0d0887"
             ],
             [
              0.1111111111111111,
              "#46039f"
             ],
             [
              0.2222222222222222,
              "#7201a8"
             ],
             [
              0.3333333333333333,
              "#9c179e"
             ],
             [
              0.4444444444444444,
              "#bd3786"
             ],
             [
              0.5555555555555556,
              "#d8576b"
             ],
             [
              0.6666666666666666,
              "#ed7953"
             ],
             [
              0.7777777777777778,
              "#fb9f3a"
             ],
             [
              0.8888888888888888,
              "#fdca26"
             ],
             [
              1,
              "#f0f921"
             ]
            ],
            "type": "histogram2d"
           }
          ],
          "histogram2dcontour": [
           {
            "colorbar": {
             "outlinewidth": 0,
             "ticks": ""
            },
            "colorscale": [
             [
              0,
              "#0d0887"
             ],
             [
              0.1111111111111111,
              "#46039f"
             ],
             [
              0.2222222222222222,
              "#7201a8"
             ],
             [
              0.3333333333333333,
              "#9c179e"
             ],
             [
              0.4444444444444444,
              "#bd3786"
             ],
             [
              0.5555555555555556,
              "#d8576b"
             ],
             [
              0.6666666666666666,
              "#ed7953"
             ],
             [
              0.7777777777777778,
              "#fb9f3a"
             ],
             [
              0.8888888888888888,
              "#fdca26"
             ],
             [
              1,
              "#f0f921"
             ]
            ],
            "type": "histogram2dcontour"
           }
          ],
          "mesh3d": [
           {
            "colorbar": {
             "outlinewidth": 0,
             "ticks": ""
            },
            "type": "mesh3d"
           }
          ],
          "parcoords": [
           {
            "line": {
             "colorbar": {
              "outlinewidth": 0,
              "ticks": ""
             }
            },
            "type": "parcoords"
           }
          ],
          "pie": [
           {
            "automargin": true,
            "type": "pie"
           }
          ],
          "scatter": [
           {
            "fillpattern": {
             "fillmode": "overlay",
             "size": 10,
             "solidity": 0.2
            },
            "type": "scatter"
           }
          ],
          "scatter3d": [
           {
            "line": {
             "colorbar": {
              "outlinewidth": 0,
              "ticks": ""
             }
            },
            "marker": {
             "colorbar": {
              "outlinewidth": 0,
              "ticks": ""
             }
            },
            "type": "scatter3d"
           }
          ],
          "scattercarpet": [
           {
            "marker": {
             "colorbar": {
              "outlinewidth": 0,
              "ticks": ""
             }
            },
            "type": "scattercarpet"
           }
          ],
          "scattergeo": [
           {
            "marker": {
             "colorbar": {
              "outlinewidth": 0,
              "ticks": ""
             }
            },
            "type": "scattergeo"
           }
          ],
          "scattergl": [
           {
            "marker": {
             "colorbar": {
              "outlinewidth": 0,
              "ticks": ""
             }
            },
            "type": "scattergl"
           }
          ],
          "scattermapbox": [
           {
            "marker": {
             "colorbar": {
              "outlinewidth": 0,
              "ticks": ""
             }
            },
            "type": "scattermapbox"
           }
          ],
          "scatterpolar": [
           {
            "marker": {
             "colorbar": {
              "outlinewidth": 0,
              "ticks": ""
             }
            },
            "type": "scatterpolar"
           }
          ],
          "scatterpolargl": [
           {
            "marker": {
             "colorbar": {
              "outlinewidth": 0,
              "ticks": ""
             }
            },
            "type": "scatterpolargl"
           }
          ],
          "scatterternary": [
           {
            "marker": {
             "colorbar": {
              "outlinewidth": 0,
              "ticks": ""
             }
            },
            "type": "scatterternary"
           }
          ],
          "surface": [
           {
            "colorbar": {
             "outlinewidth": 0,
             "ticks": ""
            },
            "colorscale": [
             [
              0,
              "#0d0887"
             ],
             [
              0.1111111111111111,
              "#46039f"
             ],
             [
              0.2222222222222222,
              "#7201a8"
             ],
             [
              0.3333333333333333,
              "#9c179e"
             ],
             [
              0.4444444444444444,
              "#bd3786"
             ],
             [
              0.5555555555555556,
              "#d8576b"
             ],
             [
              0.6666666666666666,
              "#ed7953"
             ],
             [
              0.7777777777777778,
              "#fb9f3a"
             ],
             [
              0.8888888888888888,
              "#fdca26"
             ],
             [
              1,
              "#f0f921"
             ]
            ],
            "type": "surface"
           }
          ],
          "table": [
           {
            "cells": {
             "fill": {
              "color": "#EBF0F8"
             },
             "line": {
              "color": "white"
             }
            },
            "header": {
             "fill": {
              "color": "#C8D4E3"
             },
             "line": {
              "color": "white"
             }
            },
            "type": "table"
           }
          ]
         },
         "layout": {
          "annotationdefaults": {
           "arrowcolor": "#2a3f5f",
           "arrowhead": 0,
           "arrowwidth": 1
          },
          "autotypenumbers": "strict",
          "coloraxis": {
           "colorbar": {
            "outlinewidth": 0,
            "ticks": ""
           }
          },
          "colorscale": {
           "diverging": [
            [
             0,
             "#8e0152"
            ],
            [
             0.1,
             "#c51b7d"
            ],
            [
             0.2,
             "#de77ae"
            ],
            [
             0.3,
             "#f1b6da"
            ],
            [
             0.4,
             "#fde0ef"
            ],
            [
             0.5,
             "#f7f7f7"
            ],
            [
             0.6,
             "#e6f5d0"
            ],
            [
             0.7,
             "#b8e186"
            ],
            [
             0.8,
             "#7fbc41"
            ],
            [
             0.9,
             "#4d9221"
            ],
            [
             1,
             "#276419"
            ]
           ],
           "sequential": [
            [
             0,
             "#0d0887"
            ],
            [
             0.1111111111111111,
             "#46039f"
            ],
            [
             0.2222222222222222,
             "#7201a8"
            ],
            [
             0.3333333333333333,
             "#9c179e"
            ],
            [
             0.4444444444444444,
             "#bd3786"
            ],
            [
             0.5555555555555556,
             "#d8576b"
            ],
            [
             0.6666666666666666,
             "#ed7953"
            ],
            [
             0.7777777777777778,
             "#fb9f3a"
            ],
            [
             0.8888888888888888,
             "#fdca26"
            ],
            [
             1,
             "#f0f921"
            ]
           ],
           "sequentialminus": [
            [
             0,
             "#0d0887"
            ],
            [
             0.1111111111111111,
             "#46039f"
            ],
            [
             0.2222222222222222,
             "#7201a8"
            ],
            [
             0.3333333333333333,
             "#9c179e"
            ],
            [
             0.4444444444444444,
             "#bd3786"
            ],
            [
             0.5555555555555556,
             "#d8576b"
            ],
            [
             0.6666666666666666,
             "#ed7953"
            ],
            [
             0.7777777777777778,
             "#fb9f3a"
            ],
            [
             0.8888888888888888,
             "#fdca26"
            ],
            [
             1,
             "#f0f921"
            ]
           ]
          },
          "colorway": [
           "#636efa",
           "#EF553B",
           "#00cc96",
           "#ab63fa",
           "#FFA15A",
           "#19d3f3",
           "#FF6692",
           "#B6E880",
           "#FF97FF",
           "#FECB52"
          ],
          "font": {
           "color": "#2a3f5f"
          },
          "geo": {
           "bgcolor": "white",
           "lakecolor": "white",
           "landcolor": "#E5ECF6",
           "showlakes": true,
           "showland": true,
           "subunitcolor": "white"
          },
          "hoverlabel": {
           "align": "left"
          },
          "hovermode": "closest",
          "mapbox": {
           "style": "light"
          },
          "paper_bgcolor": "white",
          "plot_bgcolor": "#E5ECF6",
          "polar": {
           "angularaxis": {
            "gridcolor": "white",
            "linecolor": "white",
            "ticks": ""
           },
           "bgcolor": "#E5ECF6",
           "radialaxis": {
            "gridcolor": "white",
            "linecolor": "white",
            "ticks": ""
           }
          },
          "scene": {
           "xaxis": {
            "backgroundcolor": "#E5ECF6",
            "gridcolor": "white",
            "gridwidth": 2,
            "linecolor": "white",
            "showbackground": true,
            "ticks": "",
            "zerolinecolor": "white"
           },
           "yaxis": {
            "backgroundcolor": "#E5ECF6",
            "gridcolor": "white",
            "gridwidth": 2,
            "linecolor": "white",
            "showbackground": true,
            "ticks": "",
            "zerolinecolor": "white"
           },
           "zaxis": {
            "backgroundcolor": "#E5ECF6",
            "gridcolor": "white",
            "gridwidth": 2,
            "linecolor": "white",
            "showbackground": true,
            "ticks": "",
            "zerolinecolor": "white"
           }
          },
          "shapedefaults": {
           "line": {
            "color": "#2a3f5f"
           }
          },
          "ternary": {
           "aaxis": {
            "gridcolor": "white",
            "linecolor": "white",
            "ticks": ""
           },
           "baxis": {
            "gridcolor": "white",
            "linecolor": "white",
            "ticks": ""
           },
           "bgcolor": "#E5ECF6",
           "caxis": {
            "gridcolor": "white",
            "linecolor": "white",
            "ticks": ""
           }
          },
          "title": {
           "x": 0.05
          },
          "xaxis": {
           "automargin": true,
           "gridcolor": "white",
           "linecolor": "white",
           "ticks": "",
           "title": {
            "standoff": 15
           },
           "zerolinecolor": "white",
           "zerolinewidth": 2
          },
          "yaxis": {
           "automargin": true,
           "gridcolor": "white",
           "linecolor": "white",
           "ticks": "",
           "title": {
            "standoff": 15
           },
           "zerolinecolor": "white",
           "zerolinewidth": 2
          }
         }
        },
        "title": {
         "font": {
          "color": "#4D5663"
         }
        },
        "xaxis": {
         "gridcolor": "#E1E5ED",
         "showgrid": true,
         "tickfont": {
          "color": "#4D5663"
         },
         "title": {
          "font": {
           "color": "#4D5663"
          },
          "text": ""
         },
         "zerolinecolor": "#E1E5ED"
        },
        "yaxis": {
         "gridcolor": "#E1E5ED",
         "showgrid": true,
         "tickfont": {
          "color": "#4D5663"
         },
         "title": {
          "font": {
           "color": "#4D5663"
          },
          "text": ""
         },
         "zerolinecolor": "#E1E5ED"
        }
       }
      },
      "text/html": [
       "<div>                            <div id=\"b882dac7-8463-4c77-8503-00dff7e6436c\" class=\"plotly-graph-div\" style=\"height:525px; width:100%;\"></div>            <script type=\"text/javascript\">                require([\"plotly\"], function(Plotly) {                    window.PLOTLYENV=window.PLOTLYENV || {};\n",
       "                    window.PLOTLYENV.BASE_URL='https://plot.ly';                                    if (document.getElementById(\"b882dac7-8463-4c77-8503-00dff7e6436c\")) {                    Plotly.newPlot(                        \"b882dac7-8463-4c77-8503-00dff7e6436c\",                        [{\"marker\":{\"color\":[\"rgb(255, 153, 51)\",\"rgb(55, 128, 191)\",\"rgb(50, 171, 96)\",\"rgb(128, 0, 128)\",\"rgb(219, 64, 82)\",\"rgb(0, 128, 128)\",\"rgb(255, 255, 51)\",\"rgb(128, 128, 0)\",\"rgb(251, 128, 114)\",\"rgb(128, 177, 211)\"],\"line\":{\"width\":1.3},\"size\":[37,89,52,47,42,47,57,52,62,65,62,12,56,61,82,104,42,32,57,29,45,88,82,72,62,61,40,51,46,59,42,23,71,82,53,53,32,101,44,57,43,38,72,46,95,32,56,59,63,66,14,50,75,50,41,19,37,62,81,39,27,58,85,31,66,59,57,90,80,58,43,60,68,112,81,56,71,54,74,60,83,52,43,56,70,49,83,64,38,80,60,52,30,45,50,33,74,69,60,109],\"symbol\":\"circle\"},\"mode\":\"markers\",\"text\":\"\",\"x\":[-0.07455973164460492,0.10684607028138204,0.05174438274182425,1.8834582400552635,-0.7394873566653477,-0.20509986347008477,-0.03414545421950641,-0.6213525131646722,0.571263033821104,1.180464181279357,-0.203734605785186,0.7347661916372418,0.2859474736202656,0.04076517450424396,-0.9575891661839521,-1.4309383761629788,2.2550368651025283,-0.9940639812563287,0.799337873179283,-1.257878293181983,0.4179499111762863,0.3002148423464334,-1.1504058019430792,0.08143088735081103,0.48039194150290004,-0.6650657342765216,1.1156620567673445,1.6819828126747252,0.3100427456611766,-0.35556202725992564,0.5734972173901176,0.32590737332398945,0.26434526538445485,-0.28767952859901297,0.46220729582394343,-0.5818941295153186,1.285059720736958,1.5048915259613318,-0.6639248043990625,0.7636007895359088,-0.6463548675362586,0.4119553800931602,-0.41800965879757407,-0.9291745756491012,0.5941812800033995,0.6495415877446266,0.1446736681969964,0.26828186676311594,0.13889888661810415,-0.6067198644564883,-0.5830985850290649,-0.44261895162747866,-0.16593121692532206,1.5766366939770549,-0.9488282786185461,-0.47334557392170873,-2.9681775620277215,-0.25029734336535486,-1.1711717647996238,-0.6639685633213962,-1.5666336819385447,-0.8675551693083899,0.9365429397079991,0.15072665081471726,1.1852234520751472,-0.08290956220307087,-1.1017174229562567,-0.5198271089769748,0.37018057099191115,0.6484073753005931,-0.1590182089390411,-1.2123900485249766,-0.2362259963300999,-0.9316538839457773,-0.7702588740652273,1.4701363779831127,1.7874391009354653,0.24616432107668124,-1.182643305480476,0.35443322915141356,-0.4842531774514151,-0.44909134669233536,-0.5668275896818619,0.4175639632896596,-1.2611360990304046,-0.008206696883240246,-0.10979708777038237,0.49243560590286795,0.8213310947530663,-0.267726403403628,-1.2515625109561188,0.630999102938369,0.1713145260658875,-1.3560217445320064,-1.1258620552644414,1.095337440779493,1.7240614552766635,0.18149760823613265,-0.33113981029074463,-0.7243911418227783],\"y\":[0.20695886201338964,2.2267140798834366,2.0606705606804248,-0.47751358803428084,-0.8265999208195308,0.3683847538936354,-0.9215058882049292,0.2010981971926559,-2.612024672660992,1.994860248642683,0.6474845780135272,-1.4695376336420343,0.25329507946952484,-0.8847748430992944,0.01108872266051941,-1.1635524981707588,-0.16334248185299458,0.37081708914041467,-0.3744953167142966,0.25997366036222974,0.6587716974050809,-1.153664670868084,-1.697491236131132,0.7995087387377215,1.051287349057648,0.26519966512043014,0.16665172934102204,-0.9207235935854554,0.19392919045612925,0.30514185806513633,1.153170562731266,0.6444165797703777,0.10095403561272143,-1.3779799142755011,1.0886785013466902,0.4207240802224743,1.1386223070602004,-0.41875441978934674,1.1045931338539758,0.6514247563808732,-1.5404052766834295,-0.07015676241255123,0.34211903144043065,-0.18534612927812716,-1.8520443646410083,1.4319920389190104,1.1387925527034235,0.2698880956788044,0.1878047757021268,1.7741986146424833,0.22768156026066996,-0.20014286651396568,2.059179137491171,0.35223369637447816,0.05263010640213276,1.7322067881044543,-0.7745478394440942,2.0680320286556824,-0.6321155047266144,1.2659416243146926,0.4722821822143342,1.642169097988724,-1.7521377798815267,0.3727959530975647,-1.965263310446799,-1.0712504506589524,0.5342752099185382,-1.1298074723535294,-0.5580156206841335,0.823614953289078,-0.5479781763338187,-1.6514759368126157,-0.2328958270228804,1.4625741873716016,0.3342124737309676,1.3772224066244865,0.20175951418821808,0.2501868306006938,0.32303507776168344,0.5721589323589801,-1.3176653867942356,0.2393598296204175,0.929162936792238,0.43767400300848264,-0.08169926569148139,0.4789983045336972,-0.5059754539470817,0.46797344213078973,-0.7757631159400264,-1.4756298170780817,1.1509293631614974,0.6429496420266005,-0.4212609077669692,-0.4359617643911458,0.6020198623608694,-1.0543687019171408,-1.2676827628690235,0.14146548854024957,-0.5593082511505357,0.3558988051040138],\"type\":\"scatter\"}],                        {\"legend\":{\"bgcolor\":\"#F5F6F9\",\"font\":{\"color\":\"#4D5663\"}},\"paper_bgcolor\":\"#F5F6F9\",\"plot_bgcolor\":\"#F5F6F9\",\"template\":{\"data\":{\"barpolar\":[{\"marker\":{\"line\":{\"color\":\"#E5ECF6\",\"width\":0.5},\"pattern\":{\"fillmode\":\"overlay\",\"size\":10,\"solidity\":0.2}},\"type\":\"barpolar\"}],\"bar\":[{\"error_x\":{\"color\":\"#2a3f5f\"},\"error_y\":{\"color\":\"#2a3f5f\"},\"marker\":{\"line\":{\"color\":\"#E5ECF6\",\"width\":0.5},\"pattern\":{\"fillmode\":\"overlay\",\"size\":10,\"solidity\":0.2}},\"type\":\"bar\"}],\"carpet\":[{\"aaxis\":{\"endlinecolor\":\"#2a3f5f\",\"gridcolor\":\"white\",\"linecolor\":\"white\",\"minorgridcolor\":\"white\",\"startlinecolor\":\"#2a3f5f\"},\"baxis\":{\"endlinecolor\":\"#2a3f5f\",\"gridcolor\":\"white\",\"linecolor\":\"white\",\"minorgridcolor\":\"white\",\"startlinecolor\":\"#2a3f5f\"},\"type\":\"carpet\"}],\"choropleth\":[{\"colorbar\":{\"outlinewidth\":0,\"ticks\":\"\"},\"type\":\"choropleth\"}],\"contourcarpet\":[{\"colorbar\":{\"outlinewidth\":0,\"ticks\":\"\"},\"type\":\"contourcarpet\"}],\"contour\":[{\"colorbar\":{\"outlinewidth\":0,\"ticks\":\"\"},\"colorscale\":[[0.0,\"#0d0887\"],[0.1111111111111111,\"#46039f\"],[0.2222222222222222,\"#7201a8\"],[0.3333333333333333,\"#9c179e\"],[0.4444444444444444,\"#bd3786\"],[0.5555555555555556,\"#d8576b\"],[0.6666666666666666,\"#ed7953\"],[0.7777777777777778,\"#fb9f3a\"],[0.8888888888888888,\"#fdca26\"],[1.0,\"#f0f921\"]],\"type\":\"contour\"}],\"heatmapgl\":[{\"colorbar\":{\"outlinewidth\":0,\"ticks\":\"\"},\"colorscale\":[[0.0,\"#0d0887\"],[0.1111111111111111,\"#46039f\"],[0.2222222222222222,\"#7201a8\"],[0.3333333333333333,\"#9c179e\"],[0.4444444444444444,\"#bd3786\"],[0.5555555555555556,\"#d8576b\"],[0.6666666666666666,\"#ed7953\"],[0.7777777777777778,\"#fb9f3a\"],[0.8888888888888888,\"#fdca26\"],[1.0,\"#f0f921\"]],\"type\":\"heatmapgl\"}],\"heatmap\":[{\"colorbar\":{\"outlinewidth\":0,\"ticks\":\"\"},\"colorscale\":[[0.0,\"#0d0887\"],[0.1111111111111111,\"#46039f\"],[0.2222222222222222,\"#7201a8\"],[0.3333333333333333,\"#9c179e\"],[0.4444444444444444,\"#bd3786\"],[0.5555555555555556,\"#d8576b\"],[0.6666666666666666,\"#ed7953\"],[0.7777777777777778,\"#fb9f3a\"],[0.8888888888888888,\"#fdca26\"],[1.0,\"#f0f921\"]],\"type\":\"heatmap\"}],\"histogram2dcontour\":[{\"colorbar\":{\"outlinewidth\":0,\"ticks\":\"\"},\"colorscale\":[[0.0,\"#0d0887\"],[0.1111111111111111,\"#46039f\"],[0.2222222222222222,\"#7201a8\"],[0.3333333333333333,\"#9c179e\"],[0.4444444444444444,\"#bd3786\"],[0.5555555555555556,\"#d8576b\"],[0.6666666666666666,\"#ed7953\"],[0.7777777777777778,\"#fb9f3a\"],[0.8888888888888888,\"#fdca26\"],[1.0,\"#f0f921\"]],\"type\":\"histogram2dcontour\"}],\"histogram2d\":[{\"colorbar\":{\"outlinewidth\":0,\"ticks\":\"\"},\"colorscale\":[[0.0,\"#0d0887\"],[0.1111111111111111,\"#46039f\"],[0.2222222222222222,\"#7201a8\"],[0.3333333333333333,\"#9c179e\"],[0.4444444444444444,\"#bd3786\"],[0.5555555555555556,\"#d8576b\"],[0.6666666666666666,\"#ed7953\"],[0.7777777777777778,\"#fb9f3a\"],[0.8888888888888888,\"#fdca26\"],[1.0,\"#f0f921\"]],\"type\":\"histogram2d\"}],\"histogram\":[{\"marker\":{\"pattern\":{\"fillmode\":\"overlay\",\"size\":10,\"solidity\":0.2}},\"type\":\"histogram\"}],\"mesh3d\":[{\"colorbar\":{\"outlinewidth\":0,\"ticks\":\"\"},\"type\":\"mesh3d\"}],\"parcoords\":[{\"line\":{\"colorbar\":{\"outlinewidth\":0,\"ticks\":\"\"}},\"type\":\"parcoords\"}],\"pie\":[{\"automargin\":true,\"type\":\"pie\"}],\"scatter3d\":[{\"line\":{\"colorbar\":{\"outlinewidth\":0,\"ticks\":\"\"}},\"marker\":{\"colorbar\":{\"outlinewidth\":0,\"ticks\":\"\"}},\"type\":\"scatter3d\"}],\"scattercarpet\":[{\"marker\":{\"colorbar\":{\"outlinewidth\":0,\"ticks\":\"\"}},\"type\":\"scattercarpet\"}],\"scattergeo\":[{\"marker\":{\"colorbar\":{\"outlinewidth\":0,\"ticks\":\"\"}},\"type\":\"scattergeo\"}],\"scattergl\":[{\"marker\":{\"colorbar\":{\"outlinewidth\":0,\"ticks\":\"\"}},\"type\":\"scattergl\"}],\"scattermapbox\":[{\"marker\":{\"colorbar\":{\"outlinewidth\":0,\"ticks\":\"\"}},\"type\":\"scattermapbox\"}],\"scatterpolargl\":[{\"marker\":{\"colorbar\":{\"outlinewidth\":0,\"ticks\":\"\"}},\"type\":\"scatterpolargl\"}],\"scatterpolar\":[{\"marker\":{\"colorbar\":{\"outlinewidth\":0,\"ticks\":\"\"}},\"type\":\"scatterpolar\"}],\"scatter\":[{\"fillpattern\":{\"fillmode\":\"overlay\",\"size\":10,\"solidity\":0.2},\"type\":\"scatter\"}],\"scatterternary\":[{\"marker\":{\"colorbar\":{\"outlinewidth\":0,\"ticks\":\"\"}},\"type\":\"scatterternary\"}],\"surface\":[{\"colorbar\":{\"outlinewidth\":0,\"ticks\":\"\"},\"colorscale\":[[0.0,\"#0d0887\"],[0.1111111111111111,\"#46039f\"],[0.2222222222222222,\"#7201a8\"],[0.3333333333333333,\"#9c179e\"],[0.4444444444444444,\"#bd3786\"],[0.5555555555555556,\"#d8576b\"],[0.6666666666666666,\"#ed7953\"],[0.7777777777777778,\"#fb9f3a\"],[0.8888888888888888,\"#fdca26\"],[1.0,\"#f0f921\"]],\"type\":\"surface\"}],\"table\":[{\"cells\":{\"fill\":{\"color\":\"#EBF0F8\"},\"line\":{\"color\":\"white\"}},\"header\":{\"fill\":{\"color\":\"#C8D4E3\"},\"line\":{\"color\":\"white\"}},\"type\":\"table\"}]},\"layout\":{\"annotationdefaults\":{\"arrowcolor\":\"#2a3f5f\",\"arrowhead\":0,\"arrowwidth\":1},\"autotypenumbers\":\"strict\",\"coloraxis\":{\"colorbar\":{\"outlinewidth\":0,\"ticks\":\"\"}},\"colorscale\":{\"diverging\":[[0,\"#8e0152\"],[0.1,\"#c51b7d\"],[0.2,\"#de77ae\"],[0.3,\"#f1b6da\"],[0.4,\"#fde0ef\"],[0.5,\"#f7f7f7\"],[0.6,\"#e6f5d0\"],[0.7,\"#b8e186\"],[0.8,\"#7fbc41\"],[0.9,\"#4d9221\"],[1,\"#276419\"]],\"sequential\":[[0.0,\"#0d0887\"],[0.1111111111111111,\"#46039f\"],[0.2222222222222222,\"#7201a8\"],[0.3333333333333333,\"#9c179e\"],[0.4444444444444444,\"#bd3786\"],[0.5555555555555556,\"#d8576b\"],[0.6666666666666666,\"#ed7953\"],[0.7777777777777778,\"#fb9f3a\"],[0.8888888888888888,\"#fdca26\"],[1.0,\"#f0f921\"]],\"sequentialminus\":[[0.0,\"#0d0887\"],[0.1111111111111111,\"#46039f\"],[0.2222222222222222,\"#7201a8\"],[0.3333333333333333,\"#9c179e\"],[0.4444444444444444,\"#bd3786\"],[0.5555555555555556,\"#d8576b\"],[0.6666666666666666,\"#ed7953\"],[0.7777777777777778,\"#fb9f3a\"],[0.8888888888888888,\"#fdca26\"],[1.0,\"#f0f921\"]]},\"colorway\":[\"#636efa\",\"#EF553B\",\"#00cc96\",\"#ab63fa\",\"#FFA15A\",\"#19d3f3\",\"#FF6692\",\"#B6E880\",\"#FF97FF\",\"#FECB52\"],\"font\":{\"color\":\"#2a3f5f\"},\"geo\":{\"bgcolor\":\"white\",\"lakecolor\":\"white\",\"landcolor\":\"#E5ECF6\",\"showlakes\":true,\"showland\":true,\"subunitcolor\":\"white\"},\"hoverlabel\":{\"align\":\"left\"},\"hovermode\":\"closest\",\"mapbox\":{\"style\":\"light\"},\"paper_bgcolor\":\"white\",\"plot_bgcolor\":\"#E5ECF6\",\"polar\":{\"angularaxis\":{\"gridcolor\":\"white\",\"linecolor\":\"white\",\"ticks\":\"\"},\"bgcolor\":\"#E5ECF6\",\"radialaxis\":{\"gridcolor\":\"white\",\"linecolor\":\"white\",\"ticks\":\"\"}},\"scene\":{\"xaxis\":{\"backgroundcolor\":\"#E5ECF6\",\"gridcolor\":\"white\",\"gridwidth\":2,\"linecolor\":\"white\",\"showbackground\":true,\"ticks\":\"\",\"zerolinecolor\":\"white\"},\"yaxis\":{\"backgroundcolor\":\"#E5ECF6\",\"gridcolor\":\"white\",\"gridwidth\":2,\"linecolor\":\"white\",\"showbackground\":true,\"ticks\":\"\",\"zerolinecolor\":\"white\"},\"zaxis\":{\"backgroundcolor\":\"#E5ECF6\",\"gridcolor\":\"white\",\"gridwidth\":2,\"linecolor\":\"white\",\"showbackground\":true,\"ticks\":\"\",\"zerolinecolor\":\"white\"}},\"shapedefaults\":{\"line\":{\"color\":\"#2a3f5f\"}},\"ternary\":{\"aaxis\":{\"gridcolor\":\"white\",\"linecolor\":\"white\",\"ticks\":\"\"},\"baxis\":{\"gridcolor\":\"white\",\"linecolor\":\"white\",\"ticks\":\"\"},\"bgcolor\":\"#E5ECF6\",\"caxis\":{\"gridcolor\":\"white\",\"linecolor\":\"white\",\"ticks\":\"\"}},\"title\":{\"x\":0.05},\"xaxis\":{\"automargin\":true,\"gridcolor\":\"white\",\"linecolor\":\"white\",\"ticks\":\"\",\"title\":{\"standoff\":15},\"zerolinecolor\":\"white\",\"zerolinewidth\":2},\"yaxis\":{\"automargin\":true,\"gridcolor\":\"white\",\"linecolor\":\"white\",\"ticks\":\"\",\"title\":{\"standoff\":15},\"zerolinecolor\":\"white\",\"zerolinewidth\":2}}},\"title\":{\"font\":{\"color\":\"#4D5663\"}},\"xaxis\":{\"gridcolor\":\"#E1E5ED\",\"showgrid\":true,\"tickfont\":{\"color\":\"#4D5663\"},\"title\":{\"font\":{\"color\":\"#4D5663\"},\"text\":\"\"},\"zerolinecolor\":\"#E1E5ED\"},\"yaxis\":{\"gridcolor\":\"#E1E5ED\",\"showgrid\":true,\"tickfont\":{\"color\":\"#4D5663\"},\"title\":{\"font\":{\"color\":\"#4D5663\"},\"text\":\"\"},\"zerolinecolor\":\"#E1E5ED\"}},                        {\"showLink\": true, \"linkText\": \"Export to plot.ly\", \"plotlyServerURL\": \"https://plot.ly\", \"responsive\": true}                    ).then(function(){\n",
       "                            \n",
       "var gd = document.getElementById('b882dac7-8463-4c77-8503-00dff7e6436c');\n",
       "var x = new MutationObserver(function (mutations, observer) {{\n",
       "        var display = window.getComputedStyle(gd).display;\n",
       "        if (!display || display === 'none') {{\n",
       "            console.log([gd, 'removed!']);\n",
       "            Plotly.purge(gd);\n",
       "            observer.disconnect();\n",
       "        }}\n",
       "}});\n",
       "\n",
       "// Listen for the removal of the full notebook cells\n",
       "var notebookContainer = gd.closest('#notebook-container');\n",
       "if (notebookContainer) {{\n",
       "    x.observe(notebookContainer, {childList: true});\n",
       "}}\n",
       "\n",
       "// Listen for the clearing of the current output cell\n",
       "var outputEl = gd.closest('.output');\n",
       "if (outputEl) {{\n",
       "    x.observe(outputEl, {childList: true});\n",
       "}}\n",
       "\n",
       "                        })                };                });            </script>        </div>"
      ]
     },
     "metadata": {},
     "output_type": "display_data"
    }
   ],
   "source": [
    "df.iplot(kind='bubble',x='A',y='B',size='C')"
   ]
  },
  {
   "cell_type": "markdown",
   "metadata": {},
   "source": [
    "## scatter_matrix()\n",
    "\n",
    "Similar to sns.pairplot()"
   ]
  },
  {
   "cell_type": "code",
   "execution_count": 26,
   "metadata": {},
   "outputs": [
    {
     "data": {
      "text/html": [
       "<div>\n",
       "<style scoped>\n",
       "    .dataframe tbody tr th:only-of-type {\n",
       "        vertical-align: middle;\n",
       "    }\n",
       "\n",
       "    .dataframe tbody tr th {\n",
       "        vertical-align: top;\n",
       "    }\n",
       "\n",
       "    .dataframe thead th {\n",
       "        text-align: right;\n",
       "    }\n",
       "</style>\n",
       "<table border=\"1\" class=\"dataframe\">\n",
       "  <thead>\n",
       "    <tr style=\"text-align: right;\">\n",
       "      <th></th>\n",
       "      <th>A</th>\n",
       "      <th>B</th>\n",
       "      <th>C</th>\n",
       "      <th>D</th>\n",
       "    </tr>\n",
       "  </thead>\n",
       "  <tbody>\n",
       "    <tr>\n",
       "      <th>0</th>\n",
       "      <td>-0.074560</td>\n",
       "      <td>0.206959</td>\n",
       "      <td>-1.081270</td>\n",
       "      <td>-0.853046</td>\n",
       "    </tr>\n",
       "    <tr>\n",
       "      <th>1</th>\n",
       "      <td>0.106846</td>\n",
       "      <td>2.226714</td>\n",
       "      <td>1.499425</td>\n",
       "      <td>-0.977721</td>\n",
       "    </tr>\n",
       "    <tr>\n",
       "      <th>2</th>\n",
       "      <td>0.051744</td>\n",
       "      <td>2.060671</td>\n",
       "      <td>-0.311979</td>\n",
       "      <td>0.367120</td>\n",
       "    </tr>\n",
       "    <tr>\n",
       "      <th>3</th>\n",
       "      <td>1.883458</td>\n",
       "      <td>-0.477514</td>\n",
       "      <td>-0.570045</td>\n",
       "      <td>0.786307</td>\n",
       "    </tr>\n",
       "    <tr>\n",
       "      <th>4</th>\n",
       "      <td>-0.739487</td>\n",
       "      <td>-0.826600</td>\n",
       "      <td>-0.807024</td>\n",
       "      <td>-1.025386</td>\n",
       "    </tr>\n",
       "    <tr>\n",
       "      <th>...</th>\n",
       "      <td>...</td>\n",
       "      <td>...</td>\n",
       "      <td>...</td>\n",
       "      <td>...</td>\n",
       "    </tr>\n",
       "    <tr>\n",
       "      <th>95</th>\n",
       "      <td>1.095337</td>\n",
       "      <td>-1.054369</td>\n",
       "      <td>-1.267763</td>\n",
       "      <td>-0.720755</td>\n",
       "    </tr>\n",
       "    <tr>\n",
       "      <th>96</th>\n",
       "      <td>1.724061</td>\n",
       "      <td>-1.267683</td>\n",
       "      <td>0.781337</td>\n",
       "      <td>0.396485</td>\n",
       "    </tr>\n",
       "    <tr>\n",
       "      <th>97</th>\n",
       "      <td>0.181498</td>\n",
       "      <td>0.141465</td>\n",
       "      <td>0.499002</td>\n",
       "      <td>-0.834030</td>\n",
       "    </tr>\n",
       "    <tr>\n",
       "      <th>98</th>\n",
       "      <td>-0.331140</td>\n",
       "      <td>-0.559308</td>\n",
       "      <td>0.066593</td>\n",
       "      <td>0.177683</td>\n",
       "    </tr>\n",
       "    <tr>\n",
       "      <th>99</th>\n",
       "      <td>-0.724391</td>\n",
       "      <td>0.355899</td>\n",
       "      <td>2.493686</td>\n",
       "      <td>0.902349</td>\n",
       "    </tr>\n",
       "  </tbody>\n",
       "</table>\n",
       "<p>100 rows × 4 columns</p>\n",
       "</div>"
      ],
      "text/plain": [
       "           A         B         C         D\n",
       "0  -0.074560  0.206959 -1.081270 -0.853046\n",
       "1   0.106846  2.226714  1.499425 -0.977721\n",
       "2   0.051744  2.060671 -0.311979  0.367120\n",
       "3   1.883458 -0.477514 -0.570045  0.786307\n",
       "4  -0.739487 -0.826600 -0.807024 -1.025386\n",
       "..       ...       ...       ...       ...\n",
       "95  1.095337 -1.054369 -1.267763 -0.720755\n",
       "96  1.724061 -1.267683  0.781337  0.396485\n",
       "97  0.181498  0.141465  0.499002 -0.834030\n",
       "98 -0.331140 -0.559308  0.066593  0.177683\n",
       "99 -0.724391  0.355899  2.493686  0.902349\n",
       "\n",
       "[100 rows x 4 columns]"
      ]
     },
     "execution_count": 26,
     "metadata": {},
     "output_type": "execute_result"
    }
   ],
   "source": [
    "df"
   ]
  },
  {
   "cell_type": "code",
   "execution_count": 22,
   "metadata": {},
   "outputs": [
    {
     "data": {
      "application/vnd.plotly.v1+json": {
       "config": {
        "linkText": "Export to plot.ly",
        "plotlyServerURL": "https://plot.ly",
        "showLink": true
       },
       "data": [
        {
         "histfunc": "count",
         "histnorm": "",
         "marker": {
          "color": "rgba(255, 153, 51, 1.0)",
          "line": {
           "color": "#4D5663",
           "width": 1.3
          }
         },
         "name": "A",
         "nbinsx": 10,
         "opacity": 0.8,
         "orientation": "v",
         "type": "histogram",
         "x": [
          -0.07455973164460492,
          0.10684607028138204,
          0.05174438274182425,
          1.8834582400552635,
          -0.7394873566653477,
          -0.20509986347008477,
          -0.03414545421950641,
          -0.6213525131646722,
          0.571263033821104,
          1.180464181279357,
          -0.203734605785186,
          0.7347661916372418,
          0.2859474736202656,
          0.04076517450424396,
          -0.9575891661839521,
          -1.4309383761629788,
          2.2550368651025283,
          -0.9940639812563287,
          0.799337873179283,
          -1.257878293181983,
          0.4179499111762863,
          0.3002148423464334,
          -1.1504058019430792,
          0.08143088735081103,
          0.48039194150290004,
          -0.6650657342765216,
          1.1156620567673445,
          1.6819828126747252,
          0.3100427456611766,
          -0.35556202725992564,
          0.5734972173901176,
          0.32590737332398945,
          0.26434526538445485,
          -0.28767952859901297,
          0.46220729582394343,
          -0.5818941295153186,
          1.285059720736958,
          1.5048915259613318,
          -0.6639248043990625,
          0.7636007895359088,
          -0.6463548675362586,
          0.4119553800931602,
          -0.41800965879757407,
          -0.9291745756491012,
          0.5941812800033995,
          0.6495415877446266,
          0.1446736681969964,
          0.26828186676311594,
          0.13889888661810415,
          -0.6067198644564883,
          -0.5830985850290649,
          -0.44261895162747866,
          -0.16593121692532206,
          1.5766366939770549,
          -0.9488282786185461,
          -0.47334557392170873,
          -2.9681775620277215,
          -0.25029734336535486,
          -1.1711717647996238,
          -0.6639685633213962,
          -1.5666336819385447,
          -0.8675551693083899,
          0.9365429397079991,
          0.15072665081471726,
          1.1852234520751472,
          -0.08290956220307087,
          -1.1017174229562567,
          -0.5198271089769748,
          0.37018057099191115,
          0.6484073753005931,
          -0.1590182089390411,
          -1.2123900485249766,
          -0.2362259963300999,
          -0.9316538839457773,
          -0.7702588740652273,
          1.4701363779831127,
          1.7874391009354653,
          0.24616432107668124,
          -1.182643305480476,
          0.35443322915141356,
          -0.4842531774514151,
          -0.44909134669233536,
          -0.5668275896818619,
          0.4175639632896596,
          -1.2611360990304046,
          -0.008206696883240246,
          -0.10979708777038237,
          0.49243560590286795,
          0.8213310947530663,
          -0.267726403403628,
          -1.2515625109561188,
          0.630999102938369,
          0.1713145260658875,
          -1.3560217445320064,
          -1.1258620552644414,
          1.095337440779493,
          1.7240614552766635,
          0.18149760823613265,
          -0.33113981029074463,
          -0.7243911418227783
         ],
         "xaxis": "x",
         "yaxis": "y"
        },
        {
         "line": {
          "color": "rgba(128, 128, 128, 1.0)",
          "dash": "solid",
          "shape": "linear",
          "width": 1.3
         },
         "marker": {
          "size": 2,
          "symbol": "circle"
         },
         "mode": "markers",
         "name": "A",
         "text": "",
         "type": "scatter",
         "x": [
          0.20695886201338964,
          2.2267140798834366,
          2.0606705606804248,
          -0.47751358803428084,
          -0.8265999208195308,
          0.3683847538936354,
          -0.9215058882049292,
          0.2010981971926559,
          -2.612024672660992,
          1.994860248642683,
          0.6474845780135272,
          -1.4695376336420343,
          0.25329507946952484,
          -0.8847748430992944,
          0.01108872266051941,
          -1.1635524981707588,
          -0.16334248185299458,
          0.37081708914041467,
          -0.3744953167142966,
          0.25997366036222974,
          0.6587716974050809,
          -1.153664670868084,
          -1.697491236131132,
          0.7995087387377215,
          1.051287349057648,
          0.26519966512043014,
          0.16665172934102204,
          -0.9207235935854554,
          0.19392919045612925,
          0.30514185806513633,
          1.153170562731266,
          0.6444165797703777,
          0.10095403561272143,
          -1.3779799142755011,
          1.0886785013466902,
          0.4207240802224743,
          1.1386223070602004,
          -0.41875441978934674,
          1.1045931338539758,
          0.6514247563808732,
          -1.5404052766834295,
          -0.07015676241255123,
          0.34211903144043065,
          -0.18534612927812716,
          -1.8520443646410083,
          1.4319920389190104,
          1.1387925527034235,
          0.2698880956788044,
          0.1878047757021268,
          1.7741986146424833,
          0.22768156026066996,
          -0.20014286651396568,
          2.059179137491171,
          0.35223369637447816,
          0.05263010640213276,
          1.7322067881044543,
          -0.7745478394440942,
          2.0680320286556824,
          -0.6321155047266144,
          1.2659416243146926,
          0.4722821822143342,
          1.642169097988724,
          -1.7521377798815267,
          0.3727959530975647,
          -1.965263310446799,
          -1.0712504506589524,
          0.5342752099185382,
          -1.1298074723535294,
          -0.5580156206841335,
          0.823614953289078,
          -0.5479781763338187,
          -1.6514759368126157,
          -0.2328958270228804,
          1.4625741873716016,
          0.3342124737309676,
          1.3772224066244865,
          0.20175951418821808,
          0.2501868306006938,
          0.32303507776168344,
          0.5721589323589801,
          -1.3176653867942356,
          0.2393598296204175,
          0.929162936792238,
          0.43767400300848264,
          -0.08169926569148139,
          0.4789983045336972,
          -0.5059754539470817,
          0.46797344213078973,
          -0.7757631159400264,
          -1.4756298170780817,
          1.1509293631614974,
          0.6429496420266005,
          -0.4212609077669692,
          -0.4359617643911458,
          0.6020198623608694,
          -1.0543687019171408,
          -1.2676827628690235,
          0.14146548854024957,
          -0.5593082511505357,
          0.3558988051040138
         ],
         "xaxis": "x2",
         "y": [
          -0.07455973164460492,
          0.10684607028138204,
          0.05174438274182425,
          1.8834582400552635,
          -0.7394873566653477,
          -0.20509986347008477,
          -0.03414545421950641,
          -0.6213525131646722,
          0.571263033821104,
          1.180464181279357,
          -0.203734605785186,
          0.7347661916372418,
          0.2859474736202656,
          0.04076517450424396,
          -0.9575891661839521,
          -1.4309383761629788,
          2.2550368651025283,
          -0.9940639812563287,
          0.799337873179283,
          -1.257878293181983,
          0.4179499111762863,
          0.3002148423464334,
          -1.1504058019430792,
          0.08143088735081103,
          0.48039194150290004,
          -0.6650657342765216,
          1.1156620567673445,
          1.6819828126747252,
          0.3100427456611766,
          -0.35556202725992564,
          0.5734972173901176,
          0.32590737332398945,
          0.26434526538445485,
          -0.28767952859901297,
          0.46220729582394343,
          -0.5818941295153186,
          1.285059720736958,
          1.5048915259613318,
          -0.6639248043990625,
          0.7636007895359088,
          -0.6463548675362586,
          0.4119553800931602,
          -0.41800965879757407,
          -0.9291745756491012,
          0.5941812800033995,
          0.6495415877446266,
          0.1446736681969964,
          0.26828186676311594,
          0.13889888661810415,
          -0.6067198644564883,
          -0.5830985850290649,
          -0.44261895162747866,
          -0.16593121692532206,
          1.5766366939770549,
          -0.9488282786185461,
          -0.47334557392170873,
          -2.9681775620277215,
          -0.25029734336535486,
          -1.1711717647996238,
          -0.6639685633213962,
          -1.5666336819385447,
          -0.8675551693083899,
          0.9365429397079991,
          0.15072665081471726,
          1.1852234520751472,
          -0.08290956220307087,
          -1.1017174229562567,
          -0.5198271089769748,
          0.37018057099191115,
          0.6484073753005931,
          -0.1590182089390411,
          -1.2123900485249766,
          -0.2362259963300999,
          -0.9316538839457773,
          -0.7702588740652273,
          1.4701363779831127,
          1.7874391009354653,
          0.24616432107668124,
          -1.182643305480476,
          0.35443322915141356,
          -0.4842531774514151,
          -0.44909134669233536,
          -0.5668275896818619,
          0.4175639632896596,
          -1.2611360990304046,
          -0.008206696883240246,
          -0.10979708777038237,
          0.49243560590286795,
          0.8213310947530663,
          -0.267726403403628,
          -1.2515625109561188,
          0.630999102938369,
          0.1713145260658875,
          -1.3560217445320064,
          -1.1258620552644414,
          1.095337440779493,
          1.7240614552766635,
          0.18149760823613265,
          -0.33113981029074463,
          -0.7243911418227783
         ],
         "yaxis": "y2"
        },
        {
         "line": {
          "color": "rgba(128, 128, 128, 1.0)",
          "dash": "solid",
          "shape": "linear",
          "width": 1.3
         },
         "marker": {
          "size": 2,
          "symbol": "circle"
         },
         "mode": "markers",
         "name": "A",
         "text": "",
         "type": "scatter",
         "x": [
          -1.081269945135512,
          1.4994251562217111,
          -0.3119790245764006,
          -0.5700454804125089,
          -0.807023809252038,
          -0.5799702673215373,
          -0.09435532278377927,
          -0.31608968822404326,
          0.18299585804559182,
          0.3091374615684443,
          0.18201094779020607,
          -2.345641909923838,
          -0.13252030691115732,
          0.13238668905978415,
          1.1817837329912397,
          2.264407928958368,
          -0.8472059592401834,
          -1.3313848084966844,
          -0.08922639782092631,
          -1.4710730962481993,
          -0.6869991971293106,
          1.4778045441065182,
          1.1846977951460802,
          0.6607245948496702,
          0.1837760942987446,
          0.13627332908572537,
          -0.9257935097369108,
          -0.3631151365640535,
          -0.6530648937591993,
          0.007354264774219916,
          -0.8419688962869191,
          -1.7490095299427195,
          0.6203734953047744,
          1.1391677148048978,
          -0.3021498266477652,
          -0.2937454543805988,
          -1.3444898920202757,
          2.118046703207983,
          -0.743988751474283,
          -0.06963261339083487,
          -0.7996020752935274,
          -1.005798935187391,
          0.6701806296993339,
          -0.6113273408094672,
          1.8289686346629874,
          -1.3394559641761112,
          -0.15407754183638855,
          0.025477647925172372,
          0.22286592407597883,
          0.3586554102522154,
          -2.2207179594666115,
          -0.40609938632199105,
          0.8094387812022237,
          -0.409573014214997,
          -0.8624321442746868,
          -1.9900524733870248,
          -1.0621179123329199,
          0.17986964017037582,
          1.0936096630745618,
          -0.9569389898844811,
          -1.562862175503904,
          -0.011921576470930798,
          1.3255715669392727,
          -1.382966569593766,
          0.38060846600902815,
          0.023047012426766652,
          -0.10277895493911231,
          1.5766710606284269,
          1.0583807147051052,
          -0.028171066628308445,
          -0.7937277667327526,
          0.057974528758083864,
          0.45368708403810293,
          2.6283832133335965,
          1.0962176916034292,
          -0.1151122014513563,
          0.6066877991292793,
          -0.2496558126535614,
          0.7409857518887422,
          0.050310440543480495,
          1.1876527493678348,
          -0.32420002066467346,
          -0.7981078819489894,
          -0.11361464678331062,
          0.5705180150672012,
          -0.4653425859355932,
          1.2342526285328859,
          0.2674674107633959,
          -1.016193485761706,
          1.0469501273664463,
          0.06132106469109561,
          -0.3323035531320329,
          -1.4426210871023315,
          -0.6653133214293154,
          -0.4366264762884827,
          -1.2677628403645937,
          0.7813374855286151,
          0.49900218669676677,
          0.06659306844027807,
          2.4936858180276675
         ],
         "xaxis": "x3",
         "y": [
          -0.07455973164460492,
          0.10684607028138204,
          0.05174438274182425,
          1.8834582400552635,
          -0.7394873566653477,
          -0.20509986347008477,
          -0.03414545421950641,
          -0.6213525131646722,
          0.571263033821104,
          1.180464181279357,
          -0.203734605785186,
          0.7347661916372418,
          0.2859474736202656,
          0.04076517450424396,
          -0.9575891661839521,
          -1.4309383761629788,
          2.2550368651025283,
          -0.9940639812563287,
          0.799337873179283,
          -1.257878293181983,
          0.4179499111762863,
          0.3002148423464334,
          -1.1504058019430792,
          0.08143088735081103,
          0.48039194150290004,
          -0.6650657342765216,
          1.1156620567673445,
          1.6819828126747252,
          0.3100427456611766,
          -0.35556202725992564,
          0.5734972173901176,
          0.32590737332398945,
          0.26434526538445485,
          -0.28767952859901297,
          0.46220729582394343,
          -0.5818941295153186,
          1.285059720736958,
          1.5048915259613318,
          -0.6639248043990625,
          0.7636007895359088,
          -0.6463548675362586,
          0.4119553800931602,
          -0.41800965879757407,
          -0.9291745756491012,
          0.5941812800033995,
          0.6495415877446266,
          0.1446736681969964,
          0.26828186676311594,
          0.13889888661810415,
          -0.6067198644564883,
          -0.5830985850290649,
          -0.44261895162747866,
          -0.16593121692532206,
          1.5766366939770549,
          -0.9488282786185461,
          -0.47334557392170873,
          -2.9681775620277215,
          -0.25029734336535486,
          -1.1711717647996238,
          -0.6639685633213962,
          -1.5666336819385447,
          -0.8675551693083899,
          0.9365429397079991,
          0.15072665081471726,
          1.1852234520751472,
          -0.08290956220307087,
          -1.1017174229562567,
          -0.5198271089769748,
          0.37018057099191115,
          0.6484073753005931,
          -0.1590182089390411,
          -1.2123900485249766,
          -0.2362259963300999,
          -0.9316538839457773,
          -0.7702588740652273,
          1.4701363779831127,
          1.7874391009354653,
          0.24616432107668124,
          -1.182643305480476,
          0.35443322915141356,
          -0.4842531774514151,
          -0.44909134669233536,
          -0.5668275896818619,
          0.4175639632896596,
          -1.2611360990304046,
          -0.008206696883240246,
          -0.10979708777038237,
          0.49243560590286795,
          0.8213310947530663,
          -0.267726403403628,
          -1.2515625109561188,
          0.630999102938369,
          0.1713145260658875,
          -1.3560217445320064,
          -1.1258620552644414,
          1.095337440779493,
          1.7240614552766635,
          0.18149760823613265,
          -0.33113981029074463,
          -0.7243911418227783
         ],
         "yaxis": "y3"
        },
        {
         "line": {
          "color": "rgba(128, 128, 128, 1.0)",
          "dash": "solid",
          "shape": "linear",
          "width": 1.3
         },
         "marker": {
          "size": 2,
          "symbol": "circle"
         },
         "mode": "markers",
         "name": "A",
         "text": "",
         "type": "scatter",
         "x": [
          -0.8530464835686923,
          -0.9777211704949056,
          0.3671196294852984,
          0.7863072630984241,
          -1.0253861618314224,
          -0.4696397181389764,
          -0.6754239467268804,
          -0.3525284257974691,
          0.35479805241940754,
          -0.7083751409954576,
          1.0404062935691023,
          0.7232705225139738,
          -0.9458574170779152,
          -1.0937615085377304,
          0.6756009722227514,
          0.6754446860653938,
          -0.1540404335992706,
          -0.141838683385397,
          -1.9892866572395724,
          0.3262877045144788,
          -0.060912459662740503,
          0.7845234308016186,
          -0.8242176129734604,
          -0.696438279410444,
          1.3817725610609137,
          0.35013877794633497,
          0.7050803261791581,
          -0.313775937565349,
          -2.0822056554745427,
          -0.10495537796933573,
          0.4636166809545198,
          -0.4459029690784089,
          0.8292241120612767,
          1.2498512054626933,
          -0.49676866730921915,
          0.13572952910264804,
          -1.113134522240766,
          2.288876218225101,
          -0.027811988637406377,
          -0.014057354296969091,
          0.5941968980230878,
          0.7322196570655919,
          1.1376483490535065,
          -0.8061223662897936,
          1.0326704363100077,
          -1.0187555953747782,
          -0.7936986024875148,
          1.7250128752515284,
          -0.6907202876570452,
          1.1900466223571298,
          1.9829040794618682,
          -0.05518654612497724,
          -1.2732888394215272,
          -1.2033601621334395,
          -0.5077914994901958,
          -0.43038293124055405,
          -0.3088363031248792,
          0.02943936309552351,
          -1.2048038000864694,
          0.30210575820803937,
          -0.06400315095343355,
          -0.15176022595000632,
          0.4368484734463497,
          -0.5662310539363955,
          -0.9447988089482128,
          -0.6540711251538077,
          1.7793433754351027,
          0.23298373678295095,
          -1.280767886637018,
          -0.7754852937075334,
          -0.10400263262798473,
          -1.1157701073521156,
          0.22097666363929264,
          2.7024387581477134,
          -1.4309695428736593,
          0.876814390353818,
          -0.6273886791946258,
          -2.031881987131689,
          -1.0275083360189055,
          1.0592819257519337,
          -2.1620664985606393,
          0.27275525695182595,
          -0.447319165016932,
          0.4136715494169879,
          -2.288296945942758,
          -0.8127296548244415,
          -1.1266256532788121,
          -0.8215384686469209,
          -0.4872430165453182,
          -0.022574262627463378,
          -0.5843216053975311,
          0.011099364916450943,
          -0.5373376805509293,
          -2.2805091631118457,
          0.2922998628626371,
          -0.7207546091003253,
          0.39648514446519356,
          -0.8340295828931642,
          0.17768328109566717,
          0.9023490222152702
         ],
         "xaxis": "x4",
         "y": [
          -0.07455973164460492,
          0.10684607028138204,
          0.05174438274182425,
          1.8834582400552635,
          -0.7394873566653477,
          -0.20509986347008477,
          -0.03414545421950641,
          -0.6213525131646722,
          0.571263033821104,
          1.180464181279357,
          -0.203734605785186,
          0.7347661916372418,
          0.2859474736202656,
          0.04076517450424396,
          -0.9575891661839521,
          -1.4309383761629788,
          2.2550368651025283,
          -0.9940639812563287,
          0.799337873179283,
          -1.257878293181983,
          0.4179499111762863,
          0.3002148423464334,
          -1.1504058019430792,
          0.08143088735081103,
          0.48039194150290004,
          -0.6650657342765216,
          1.1156620567673445,
          1.6819828126747252,
          0.3100427456611766,
          -0.35556202725992564,
          0.5734972173901176,
          0.32590737332398945,
          0.26434526538445485,
          -0.28767952859901297,
          0.46220729582394343,
          -0.5818941295153186,
          1.285059720736958,
          1.5048915259613318,
          -0.6639248043990625,
          0.7636007895359088,
          -0.6463548675362586,
          0.4119553800931602,
          -0.41800965879757407,
          -0.9291745756491012,
          0.5941812800033995,
          0.6495415877446266,
          0.1446736681969964,
          0.26828186676311594,
          0.13889888661810415,
          -0.6067198644564883,
          -0.5830985850290649,
          -0.44261895162747866,
          -0.16593121692532206,
          1.5766366939770549,
          -0.9488282786185461,
          -0.47334557392170873,
          -2.9681775620277215,
          -0.25029734336535486,
          -1.1711717647996238,
          -0.6639685633213962,
          -1.5666336819385447,
          -0.8675551693083899,
          0.9365429397079991,
          0.15072665081471726,
          1.1852234520751472,
          -0.08290956220307087,
          -1.1017174229562567,
          -0.5198271089769748,
          0.37018057099191115,
          0.6484073753005931,
          -0.1590182089390411,
          -1.2123900485249766,
          -0.2362259963300999,
          -0.9316538839457773,
          -0.7702588740652273,
          1.4701363779831127,
          1.7874391009354653,
          0.24616432107668124,
          -1.182643305480476,
          0.35443322915141356,
          -0.4842531774514151,
          -0.44909134669233536,
          -0.5668275896818619,
          0.4175639632896596,
          -1.2611360990304046,
          -0.008206696883240246,
          -0.10979708777038237,
          0.49243560590286795,
          0.8213310947530663,
          -0.267726403403628,
          -1.2515625109561188,
          0.630999102938369,
          0.1713145260658875,
          -1.3560217445320064,
          -1.1258620552644414,
          1.095337440779493,
          1.7240614552766635,
          0.18149760823613265,
          -0.33113981029074463,
          -0.7243911418227783
         ],
         "yaxis": "y4"
        },
        {
         "line": {
          "color": "rgba(128, 128, 128, 1.0)",
          "dash": "solid",
          "shape": "linear",
          "width": 1.3
         },
         "marker": {
          "size": 2,
          "symbol": "circle"
         },
         "mode": "markers",
         "name": "B",
         "text": "",
         "type": "scatter",
         "x": [
          -0.07455973164460492,
          0.10684607028138204,
          0.05174438274182425,
          1.8834582400552635,
          -0.7394873566653477,
          -0.20509986347008477,
          -0.03414545421950641,
          -0.6213525131646722,
          0.571263033821104,
          1.180464181279357,
          -0.203734605785186,
          0.7347661916372418,
          0.2859474736202656,
          0.04076517450424396,
          -0.9575891661839521,
          -1.4309383761629788,
          2.2550368651025283,
          -0.9940639812563287,
          0.799337873179283,
          -1.257878293181983,
          0.4179499111762863,
          0.3002148423464334,
          -1.1504058019430792,
          0.08143088735081103,
          0.48039194150290004,
          -0.6650657342765216,
          1.1156620567673445,
          1.6819828126747252,
          0.3100427456611766,
          -0.35556202725992564,
          0.5734972173901176,
          0.32590737332398945,
          0.26434526538445485,
          -0.28767952859901297,
          0.46220729582394343,
          -0.5818941295153186,
          1.285059720736958,
          1.5048915259613318,
          -0.6639248043990625,
          0.7636007895359088,
          -0.6463548675362586,
          0.4119553800931602,
          -0.41800965879757407,
          -0.9291745756491012,
          0.5941812800033995,
          0.6495415877446266,
          0.1446736681969964,
          0.26828186676311594,
          0.13889888661810415,
          -0.6067198644564883,
          -0.5830985850290649,
          -0.44261895162747866,
          -0.16593121692532206,
          1.5766366939770549,
          -0.9488282786185461,
          -0.47334557392170873,
          -2.9681775620277215,
          -0.25029734336535486,
          -1.1711717647996238,
          -0.6639685633213962,
          -1.5666336819385447,
          -0.8675551693083899,
          0.9365429397079991,
          0.15072665081471726,
          1.1852234520751472,
          -0.08290956220307087,
          -1.1017174229562567,
          -0.5198271089769748,
          0.37018057099191115,
          0.6484073753005931,
          -0.1590182089390411,
          -1.2123900485249766,
          -0.2362259963300999,
          -0.9316538839457773,
          -0.7702588740652273,
          1.4701363779831127,
          1.7874391009354653,
          0.24616432107668124,
          -1.182643305480476,
          0.35443322915141356,
          -0.4842531774514151,
          -0.44909134669233536,
          -0.5668275896818619,
          0.4175639632896596,
          -1.2611360990304046,
          -0.008206696883240246,
          -0.10979708777038237,
          0.49243560590286795,
          0.8213310947530663,
          -0.267726403403628,
          -1.2515625109561188,
          0.630999102938369,
          0.1713145260658875,
          -1.3560217445320064,
          -1.1258620552644414,
          1.095337440779493,
          1.7240614552766635,
          0.18149760823613265,
          -0.33113981029074463,
          -0.7243911418227783
         ],
         "xaxis": "x5",
         "y": [
          0.20695886201338964,
          2.2267140798834366,
          2.0606705606804248,
          -0.47751358803428084,
          -0.8265999208195308,
          0.3683847538936354,
          -0.9215058882049292,
          0.2010981971926559,
          -2.612024672660992,
          1.994860248642683,
          0.6474845780135272,
          -1.4695376336420343,
          0.25329507946952484,
          -0.8847748430992944,
          0.01108872266051941,
          -1.1635524981707588,
          -0.16334248185299458,
          0.37081708914041467,
          -0.3744953167142966,
          0.25997366036222974,
          0.6587716974050809,
          -1.153664670868084,
          -1.697491236131132,
          0.7995087387377215,
          1.051287349057648,
          0.26519966512043014,
          0.16665172934102204,
          -0.9207235935854554,
          0.19392919045612925,
          0.30514185806513633,
          1.153170562731266,
          0.6444165797703777,
          0.10095403561272143,
          -1.3779799142755011,
          1.0886785013466902,
          0.4207240802224743,
          1.1386223070602004,
          -0.41875441978934674,
          1.1045931338539758,
          0.6514247563808732,
          -1.5404052766834295,
          -0.07015676241255123,
          0.34211903144043065,
          -0.18534612927812716,
          -1.8520443646410083,
          1.4319920389190104,
          1.1387925527034235,
          0.2698880956788044,
          0.1878047757021268,
          1.7741986146424833,
          0.22768156026066996,
          -0.20014286651396568,
          2.059179137491171,
          0.35223369637447816,
          0.05263010640213276,
          1.7322067881044543,
          -0.7745478394440942,
          2.0680320286556824,
          -0.6321155047266144,
          1.2659416243146926,
          0.4722821822143342,
          1.642169097988724,
          -1.7521377798815267,
          0.3727959530975647,
          -1.965263310446799,
          -1.0712504506589524,
          0.5342752099185382,
          -1.1298074723535294,
          -0.5580156206841335,
          0.823614953289078,
          -0.5479781763338187,
          -1.6514759368126157,
          -0.2328958270228804,
          1.4625741873716016,
          0.3342124737309676,
          1.3772224066244865,
          0.20175951418821808,
          0.2501868306006938,
          0.32303507776168344,
          0.5721589323589801,
          -1.3176653867942356,
          0.2393598296204175,
          0.929162936792238,
          0.43767400300848264,
          -0.08169926569148139,
          0.4789983045336972,
          -0.5059754539470817,
          0.46797344213078973,
          -0.7757631159400264,
          -1.4756298170780817,
          1.1509293631614974,
          0.6429496420266005,
          -0.4212609077669692,
          -0.4359617643911458,
          0.6020198623608694,
          -1.0543687019171408,
          -1.2676827628690235,
          0.14146548854024957,
          -0.5593082511505357,
          0.3558988051040138
         ],
         "yaxis": "y5"
        },
        {
         "histfunc": "count",
         "histnorm": "",
         "marker": {
          "color": "rgba(55, 128, 191, 1.0)",
          "line": {
           "color": "#4D5663",
           "width": 1.3
          }
         },
         "name": "B",
         "nbinsx": 10,
         "opacity": 0.8,
         "orientation": "v",
         "type": "histogram",
         "x": [
          0.20695886201338964,
          2.2267140798834366,
          2.0606705606804248,
          -0.47751358803428084,
          -0.8265999208195308,
          0.3683847538936354,
          -0.9215058882049292,
          0.2010981971926559,
          -2.612024672660992,
          1.994860248642683,
          0.6474845780135272,
          -1.4695376336420343,
          0.25329507946952484,
          -0.8847748430992944,
          0.01108872266051941,
          -1.1635524981707588,
          -0.16334248185299458,
          0.37081708914041467,
          -0.3744953167142966,
          0.25997366036222974,
          0.6587716974050809,
          -1.153664670868084,
          -1.697491236131132,
          0.7995087387377215,
          1.051287349057648,
          0.26519966512043014,
          0.16665172934102204,
          -0.9207235935854554,
          0.19392919045612925,
          0.30514185806513633,
          1.153170562731266,
          0.6444165797703777,
          0.10095403561272143,
          -1.3779799142755011,
          1.0886785013466902,
          0.4207240802224743,
          1.1386223070602004,
          -0.41875441978934674,
          1.1045931338539758,
          0.6514247563808732,
          -1.5404052766834295,
          -0.07015676241255123,
          0.34211903144043065,
          -0.18534612927812716,
          -1.8520443646410083,
          1.4319920389190104,
          1.1387925527034235,
          0.2698880956788044,
          0.1878047757021268,
          1.7741986146424833,
          0.22768156026066996,
          -0.20014286651396568,
          2.059179137491171,
          0.35223369637447816,
          0.05263010640213276,
          1.7322067881044543,
          -0.7745478394440942,
          2.0680320286556824,
          -0.6321155047266144,
          1.2659416243146926,
          0.4722821822143342,
          1.642169097988724,
          -1.7521377798815267,
          0.3727959530975647,
          -1.965263310446799,
          -1.0712504506589524,
          0.5342752099185382,
          -1.1298074723535294,
          -0.5580156206841335,
          0.823614953289078,
          -0.5479781763338187,
          -1.6514759368126157,
          -0.2328958270228804,
          1.4625741873716016,
          0.3342124737309676,
          1.3772224066244865,
          0.20175951418821808,
          0.2501868306006938,
          0.32303507776168344,
          0.5721589323589801,
          -1.3176653867942356,
          0.2393598296204175,
          0.929162936792238,
          0.43767400300848264,
          -0.08169926569148139,
          0.4789983045336972,
          -0.5059754539470817,
          0.46797344213078973,
          -0.7757631159400264,
          -1.4756298170780817,
          1.1509293631614974,
          0.6429496420266005,
          -0.4212609077669692,
          -0.4359617643911458,
          0.6020198623608694,
          -1.0543687019171408,
          -1.2676827628690235,
          0.14146548854024957,
          -0.5593082511505357,
          0.3558988051040138
         ],
         "xaxis": "x6",
         "yaxis": "y6"
        },
        {
         "line": {
          "color": "rgba(128, 128, 128, 1.0)",
          "dash": "solid",
          "shape": "linear",
          "width": 1.3
         },
         "marker": {
          "size": 2,
          "symbol": "circle"
         },
         "mode": "markers",
         "name": "B",
         "text": "",
         "type": "scatter",
         "x": [
          -1.081269945135512,
          1.4994251562217111,
          -0.3119790245764006,
          -0.5700454804125089,
          -0.807023809252038,
          -0.5799702673215373,
          -0.09435532278377927,
          -0.31608968822404326,
          0.18299585804559182,
          0.3091374615684443,
          0.18201094779020607,
          -2.345641909923838,
          -0.13252030691115732,
          0.13238668905978415,
          1.1817837329912397,
          2.264407928958368,
          -0.8472059592401834,
          -1.3313848084966844,
          -0.08922639782092631,
          -1.4710730962481993,
          -0.6869991971293106,
          1.4778045441065182,
          1.1846977951460802,
          0.6607245948496702,
          0.1837760942987446,
          0.13627332908572537,
          -0.9257935097369108,
          -0.3631151365640535,
          -0.6530648937591993,
          0.007354264774219916,
          -0.8419688962869191,
          -1.7490095299427195,
          0.6203734953047744,
          1.1391677148048978,
          -0.3021498266477652,
          -0.2937454543805988,
          -1.3444898920202757,
          2.118046703207983,
          -0.743988751474283,
          -0.06963261339083487,
          -0.7996020752935274,
          -1.005798935187391,
          0.6701806296993339,
          -0.6113273408094672,
          1.8289686346629874,
          -1.3394559641761112,
          -0.15407754183638855,
          0.025477647925172372,
          0.22286592407597883,
          0.3586554102522154,
          -2.2207179594666115,
          -0.40609938632199105,
          0.8094387812022237,
          -0.409573014214997,
          -0.8624321442746868,
          -1.9900524733870248,
          -1.0621179123329199,
          0.17986964017037582,
          1.0936096630745618,
          -0.9569389898844811,
          -1.562862175503904,
          -0.011921576470930798,
          1.3255715669392727,
          -1.382966569593766,
          0.38060846600902815,
          0.023047012426766652,
          -0.10277895493911231,
          1.5766710606284269,
          1.0583807147051052,
          -0.028171066628308445,
          -0.7937277667327526,
          0.057974528758083864,
          0.45368708403810293,
          2.6283832133335965,
          1.0962176916034292,
          -0.1151122014513563,
          0.6066877991292793,
          -0.2496558126535614,
          0.7409857518887422,
          0.050310440543480495,
          1.1876527493678348,
          -0.32420002066467346,
          -0.7981078819489894,
          -0.11361464678331062,
          0.5705180150672012,
          -0.4653425859355932,
          1.2342526285328859,
          0.2674674107633959,
          -1.016193485761706,
          1.0469501273664463,
          0.06132106469109561,
          -0.3323035531320329,
          -1.4426210871023315,
          -0.6653133214293154,
          -0.4366264762884827,
          -1.2677628403645937,
          0.7813374855286151,
          0.49900218669676677,
          0.06659306844027807,
          2.4936858180276675
         ],
         "xaxis": "x7",
         "y": [
          0.20695886201338964,
          2.2267140798834366,
          2.0606705606804248,
          -0.47751358803428084,
          -0.8265999208195308,
          0.3683847538936354,
          -0.9215058882049292,
          0.2010981971926559,
          -2.612024672660992,
          1.994860248642683,
          0.6474845780135272,
          -1.4695376336420343,
          0.25329507946952484,
          -0.8847748430992944,
          0.01108872266051941,
          -1.1635524981707588,
          -0.16334248185299458,
          0.37081708914041467,
          -0.3744953167142966,
          0.25997366036222974,
          0.6587716974050809,
          -1.153664670868084,
          -1.697491236131132,
          0.7995087387377215,
          1.051287349057648,
          0.26519966512043014,
          0.16665172934102204,
          -0.9207235935854554,
          0.19392919045612925,
          0.30514185806513633,
          1.153170562731266,
          0.6444165797703777,
          0.10095403561272143,
          -1.3779799142755011,
          1.0886785013466902,
          0.4207240802224743,
          1.1386223070602004,
          -0.41875441978934674,
          1.1045931338539758,
          0.6514247563808732,
          -1.5404052766834295,
          -0.07015676241255123,
          0.34211903144043065,
          -0.18534612927812716,
          -1.8520443646410083,
          1.4319920389190104,
          1.1387925527034235,
          0.2698880956788044,
          0.1878047757021268,
          1.7741986146424833,
          0.22768156026066996,
          -0.20014286651396568,
          2.059179137491171,
          0.35223369637447816,
          0.05263010640213276,
          1.7322067881044543,
          -0.7745478394440942,
          2.0680320286556824,
          -0.6321155047266144,
          1.2659416243146926,
          0.4722821822143342,
          1.642169097988724,
          -1.7521377798815267,
          0.3727959530975647,
          -1.965263310446799,
          -1.0712504506589524,
          0.5342752099185382,
          -1.1298074723535294,
          -0.5580156206841335,
          0.823614953289078,
          -0.5479781763338187,
          -1.6514759368126157,
          -0.2328958270228804,
          1.4625741873716016,
          0.3342124737309676,
          1.3772224066244865,
          0.20175951418821808,
          0.2501868306006938,
          0.32303507776168344,
          0.5721589323589801,
          -1.3176653867942356,
          0.2393598296204175,
          0.929162936792238,
          0.43767400300848264,
          -0.08169926569148139,
          0.4789983045336972,
          -0.5059754539470817,
          0.46797344213078973,
          -0.7757631159400264,
          -1.4756298170780817,
          1.1509293631614974,
          0.6429496420266005,
          -0.4212609077669692,
          -0.4359617643911458,
          0.6020198623608694,
          -1.0543687019171408,
          -1.2676827628690235,
          0.14146548854024957,
          -0.5593082511505357,
          0.3558988051040138
         ],
         "yaxis": "y7"
        },
        {
         "line": {
          "color": "rgba(128, 128, 128, 1.0)",
          "dash": "solid",
          "shape": "linear",
          "width": 1.3
         },
         "marker": {
          "size": 2,
          "symbol": "circle"
         },
         "mode": "markers",
         "name": "B",
         "text": "",
         "type": "scatter",
         "x": [
          -0.8530464835686923,
          -0.9777211704949056,
          0.3671196294852984,
          0.7863072630984241,
          -1.0253861618314224,
          -0.4696397181389764,
          -0.6754239467268804,
          -0.3525284257974691,
          0.35479805241940754,
          -0.7083751409954576,
          1.0404062935691023,
          0.7232705225139738,
          -0.9458574170779152,
          -1.0937615085377304,
          0.6756009722227514,
          0.6754446860653938,
          -0.1540404335992706,
          -0.141838683385397,
          -1.9892866572395724,
          0.3262877045144788,
          -0.060912459662740503,
          0.7845234308016186,
          -0.8242176129734604,
          -0.696438279410444,
          1.3817725610609137,
          0.35013877794633497,
          0.7050803261791581,
          -0.313775937565349,
          -2.0822056554745427,
          -0.10495537796933573,
          0.4636166809545198,
          -0.4459029690784089,
          0.8292241120612767,
          1.2498512054626933,
          -0.49676866730921915,
          0.13572952910264804,
          -1.113134522240766,
          2.288876218225101,
          -0.027811988637406377,
          -0.014057354296969091,
          0.5941968980230878,
          0.7322196570655919,
          1.1376483490535065,
          -0.8061223662897936,
          1.0326704363100077,
          -1.0187555953747782,
          -0.7936986024875148,
          1.7250128752515284,
          -0.6907202876570452,
          1.1900466223571298,
          1.9829040794618682,
          -0.05518654612497724,
          -1.2732888394215272,
          -1.2033601621334395,
          -0.5077914994901958,
          -0.43038293124055405,
          -0.3088363031248792,
          0.02943936309552351,
          -1.2048038000864694,
          0.30210575820803937,
          -0.06400315095343355,
          -0.15176022595000632,
          0.4368484734463497,
          -0.5662310539363955,
          -0.9447988089482128,
          -0.6540711251538077,
          1.7793433754351027,
          0.23298373678295095,
          -1.280767886637018,
          -0.7754852937075334,
          -0.10400263262798473,
          -1.1157701073521156,
          0.22097666363929264,
          2.7024387581477134,
          -1.4309695428736593,
          0.876814390353818,
          -0.6273886791946258,
          -2.031881987131689,
          -1.0275083360189055,
          1.0592819257519337,
          -2.1620664985606393,
          0.27275525695182595,
          -0.447319165016932,
          0.4136715494169879,
          -2.288296945942758,
          -0.8127296548244415,
          -1.1266256532788121,
          -0.8215384686469209,
          -0.4872430165453182,
          -0.022574262627463378,
          -0.5843216053975311,
          0.011099364916450943,
          -0.5373376805509293,
          -2.2805091631118457,
          0.2922998628626371,
          -0.7207546091003253,
          0.39648514446519356,
          -0.8340295828931642,
          0.17768328109566717,
          0.9023490222152702
         ],
         "xaxis": "x8",
         "y": [
          0.20695886201338964,
          2.2267140798834366,
          2.0606705606804248,
          -0.47751358803428084,
          -0.8265999208195308,
          0.3683847538936354,
          -0.9215058882049292,
          0.2010981971926559,
          -2.612024672660992,
          1.994860248642683,
          0.6474845780135272,
          -1.4695376336420343,
          0.25329507946952484,
          -0.8847748430992944,
          0.01108872266051941,
          -1.1635524981707588,
          -0.16334248185299458,
          0.37081708914041467,
          -0.3744953167142966,
          0.25997366036222974,
          0.6587716974050809,
          -1.153664670868084,
          -1.697491236131132,
          0.7995087387377215,
          1.051287349057648,
          0.26519966512043014,
          0.16665172934102204,
          -0.9207235935854554,
          0.19392919045612925,
          0.30514185806513633,
          1.153170562731266,
          0.6444165797703777,
          0.10095403561272143,
          -1.3779799142755011,
          1.0886785013466902,
          0.4207240802224743,
          1.1386223070602004,
          -0.41875441978934674,
          1.1045931338539758,
          0.6514247563808732,
          -1.5404052766834295,
          -0.07015676241255123,
          0.34211903144043065,
          -0.18534612927812716,
          -1.8520443646410083,
          1.4319920389190104,
          1.1387925527034235,
          0.2698880956788044,
          0.1878047757021268,
          1.7741986146424833,
          0.22768156026066996,
          -0.20014286651396568,
          2.059179137491171,
          0.35223369637447816,
          0.05263010640213276,
          1.7322067881044543,
          -0.7745478394440942,
          2.0680320286556824,
          -0.6321155047266144,
          1.2659416243146926,
          0.4722821822143342,
          1.642169097988724,
          -1.7521377798815267,
          0.3727959530975647,
          -1.965263310446799,
          -1.0712504506589524,
          0.5342752099185382,
          -1.1298074723535294,
          -0.5580156206841335,
          0.823614953289078,
          -0.5479781763338187,
          -1.6514759368126157,
          -0.2328958270228804,
          1.4625741873716016,
          0.3342124737309676,
          1.3772224066244865,
          0.20175951418821808,
          0.2501868306006938,
          0.32303507776168344,
          0.5721589323589801,
          -1.3176653867942356,
          0.2393598296204175,
          0.929162936792238,
          0.43767400300848264,
          -0.08169926569148139,
          0.4789983045336972,
          -0.5059754539470817,
          0.46797344213078973,
          -0.7757631159400264,
          -1.4756298170780817,
          1.1509293631614974,
          0.6429496420266005,
          -0.4212609077669692,
          -0.4359617643911458,
          0.6020198623608694,
          -1.0543687019171408,
          -1.2676827628690235,
          0.14146548854024957,
          -0.5593082511505357,
          0.3558988051040138
         ],
         "yaxis": "y8"
        },
        {
         "line": {
          "color": "rgba(128, 128, 128, 1.0)",
          "dash": "solid",
          "shape": "linear",
          "width": 1.3
         },
         "marker": {
          "size": 2,
          "symbol": "circle"
         },
         "mode": "markers",
         "name": "C",
         "text": "",
         "type": "scatter",
         "x": [
          -0.07455973164460492,
          0.10684607028138204,
          0.05174438274182425,
          1.8834582400552635,
          -0.7394873566653477,
          -0.20509986347008477,
          -0.03414545421950641,
          -0.6213525131646722,
          0.571263033821104,
          1.180464181279357,
          -0.203734605785186,
          0.7347661916372418,
          0.2859474736202656,
          0.04076517450424396,
          -0.9575891661839521,
          -1.4309383761629788,
          2.2550368651025283,
          -0.9940639812563287,
          0.799337873179283,
          -1.257878293181983,
          0.4179499111762863,
          0.3002148423464334,
          -1.1504058019430792,
          0.08143088735081103,
          0.48039194150290004,
          -0.6650657342765216,
          1.1156620567673445,
          1.6819828126747252,
          0.3100427456611766,
          -0.35556202725992564,
          0.5734972173901176,
          0.32590737332398945,
          0.26434526538445485,
          -0.28767952859901297,
          0.46220729582394343,
          -0.5818941295153186,
          1.285059720736958,
          1.5048915259613318,
          -0.6639248043990625,
          0.7636007895359088,
          -0.6463548675362586,
          0.4119553800931602,
          -0.41800965879757407,
          -0.9291745756491012,
          0.5941812800033995,
          0.6495415877446266,
          0.1446736681969964,
          0.26828186676311594,
          0.13889888661810415,
          -0.6067198644564883,
          -0.5830985850290649,
          -0.44261895162747866,
          -0.16593121692532206,
          1.5766366939770549,
          -0.9488282786185461,
          -0.47334557392170873,
          -2.9681775620277215,
          -0.25029734336535486,
          -1.1711717647996238,
          -0.6639685633213962,
          -1.5666336819385447,
          -0.8675551693083899,
          0.9365429397079991,
          0.15072665081471726,
          1.1852234520751472,
          -0.08290956220307087,
          -1.1017174229562567,
          -0.5198271089769748,
          0.37018057099191115,
          0.6484073753005931,
          -0.1590182089390411,
          -1.2123900485249766,
          -0.2362259963300999,
          -0.9316538839457773,
          -0.7702588740652273,
          1.4701363779831127,
          1.7874391009354653,
          0.24616432107668124,
          -1.182643305480476,
          0.35443322915141356,
          -0.4842531774514151,
          -0.44909134669233536,
          -0.5668275896818619,
          0.4175639632896596,
          -1.2611360990304046,
          -0.008206696883240246,
          -0.10979708777038237,
          0.49243560590286795,
          0.8213310947530663,
          -0.267726403403628,
          -1.2515625109561188,
          0.630999102938369,
          0.1713145260658875,
          -1.3560217445320064,
          -1.1258620552644414,
          1.095337440779493,
          1.7240614552766635,
          0.18149760823613265,
          -0.33113981029074463,
          -0.7243911418227783
         ],
         "xaxis": "x9",
         "y": [
          -1.081269945135512,
          1.4994251562217111,
          -0.3119790245764006,
          -0.5700454804125089,
          -0.807023809252038,
          -0.5799702673215373,
          -0.09435532278377927,
          -0.31608968822404326,
          0.18299585804559182,
          0.3091374615684443,
          0.18201094779020607,
          -2.345641909923838,
          -0.13252030691115732,
          0.13238668905978415,
          1.1817837329912397,
          2.264407928958368,
          -0.8472059592401834,
          -1.3313848084966844,
          -0.08922639782092631,
          -1.4710730962481993,
          -0.6869991971293106,
          1.4778045441065182,
          1.1846977951460802,
          0.6607245948496702,
          0.1837760942987446,
          0.13627332908572537,
          -0.9257935097369108,
          -0.3631151365640535,
          -0.6530648937591993,
          0.007354264774219916,
          -0.8419688962869191,
          -1.7490095299427195,
          0.6203734953047744,
          1.1391677148048978,
          -0.3021498266477652,
          -0.2937454543805988,
          -1.3444898920202757,
          2.118046703207983,
          -0.743988751474283,
          -0.06963261339083487,
          -0.7996020752935274,
          -1.005798935187391,
          0.6701806296993339,
          -0.6113273408094672,
          1.8289686346629874,
          -1.3394559641761112,
          -0.15407754183638855,
          0.025477647925172372,
          0.22286592407597883,
          0.3586554102522154,
          -2.2207179594666115,
          -0.40609938632199105,
          0.8094387812022237,
          -0.409573014214997,
          -0.8624321442746868,
          -1.9900524733870248,
          -1.0621179123329199,
          0.17986964017037582,
          1.0936096630745618,
          -0.9569389898844811,
          -1.562862175503904,
          -0.011921576470930798,
          1.3255715669392727,
          -1.382966569593766,
          0.38060846600902815,
          0.023047012426766652,
          -0.10277895493911231,
          1.5766710606284269,
          1.0583807147051052,
          -0.028171066628308445,
          -0.7937277667327526,
          0.057974528758083864,
          0.45368708403810293,
          2.6283832133335965,
          1.0962176916034292,
          -0.1151122014513563,
          0.6066877991292793,
          -0.2496558126535614,
          0.7409857518887422,
          0.050310440543480495,
          1.1876527493678348,
          -0.32420002066467346,
          -0.7981078819489894,
          -0.11361464678331062,
          0.5705180150672012,
          -0.4653425859355932,
          1.2342526285328859,
          0.2674674107633959,
          -1.016193485761706,
          1.0469501273664463,
          0.06132106469109561,
          -0.3323035531320329,
          -1.4426210871023315,
          -0.6653133214293154,
          -0.4366264762884827,
          -1.2677628403645937,
          0.7813374855286151,
          0.49900218669676677,
          0.06659306844027807,
          2.4936858180276675
         ],
         "yaxis": "y9"
        },
        {
         "line": {
          "color": "rgba(128, 128, 128, 1.0)",
          "dash": "solid",
          "shape": "linear",
          "width": 1.3
         },
         "marker": {
          "size": 2,
          "symbol": "circle"
         },
         "mode": "markers",
         "name": "C",
         "text": "",
         "type": "scatter",
         "x": [
          0.20695886201338964,
          2.2267140798834366,
          2.0606705606804248,
          -0.47751358803428084,
          -0.8265999208195308,
          0.3683847538936354,
          -0.9215058882049292,
          0.2010981971926559,
          -2.612024672660992,
          1.994860248642683,
          0.6474845780135272,
          -1.4695376336420343,
          0.25329507946952484,
          -0.8847748430992944,
          0.01108872266051941,
          -1.1635524981707588,
          -0.16334248185299458,
          0.37081708914041467,
          -0.3744953167142966,
          0.25997366036222974,
          0.6587716974050809,
          -1.153664670868084,
          -1.697491236131132,
          0.7995087387377215,
          1.051287349057648,
          0.26519966512043014,
          0.16665172934102204,
          -0.9207235935854554,
          0.19392919045612925,
          0.30514185806513633,
          1.153170562731266,
          0.6444165797703777,
          0.10095403561272143,
          -1.3779799142755011,
          1.0886785013466902,
          0.4207240802224743,
          1.1386223070602004,
          -0.41875441978934674,
          1.1045931338539758,
          0.6514247563808732,
          -1.5404052766834295,
          -0.07015676241255123,
          0.34211903144043065,
          -0.18534612927812716,
          -1.8520443646410083,
          1.4319920389190104,
          1.1387925527034235,
          0.2698880956788044,
          0.1878047757021268,
          1.7741986146424833,
          0.22768156026066996,
          -0.20014286651396568,
          2.059179137491171,
          0.35223369637447816,
          0.05263010640213276,
          1.7322067881044543,
          -0.7745478394440942,
          2.0680320286556824,
          -0.6321155047266144,
          1.2659416243146926,
          0.4722821822143342,
          1.642169097988724,
          -1.7521377798815267,
          0.3727959530975647,
          -1.965263310446799,
          -1.0712504506589524,
          0.5342752099185382,
          -1.1298074723535294,
          -0.5580156206841335,
          0.823614953289078,
          -0.5479781763338187,
          -1.6514759368126157,
          -0.2328958270228804,
          1.4625741873716016,
          0.3342124737309676,
          1.3772224066244865,
          0.20175951418821808,
          0.2501868306006938,
          0.32303507776168344,
          0.5721589323589801,
          -1.3176653867942356,
          0.2393598296204175,
          0.929162936792238,
          0.43767400300848264,
          -0.08169926569148139,
          0.4789983045336972,
          -0.5059754539470817,
          0.46797344213078973,
          -0.7757631159400264,
          -1.4756298170780817,
          1.1509293631614974,
          0.6429496420266005,
          -0.4212609077669692,
          -0.4359617643911458,
          0.6020198623608694,
          -1.0543687019171408,
          -1.2676827628690235,
          0.14146548854024957,
          -0.5593082511505357,
          0.3558988051040138
         ],
         "xaxis": "x10",
         "y": [
          -1.081269945135512,
          1.4994251562217111,
          -0.3119790245764006,
          -0.5700454804125089,
          -0.807023809252038,
          -0.5799702673215373,
          -0.09435532278377927,
          -0.31608968822404326,
          0.18299585804559182,
          0.3091374615684443,
          0.18201094779020607,
          -2.345641909923838,
          -0.13252030691115732,
          0.13238668905978415,
          1.1817837329912397,
          2.264407928958368,
          -0.8472059592401834,
          -1.3313848084966844,
          -0.08922639782092631,
          -1.4710730962481993,
          -0.6869991971293106,
          1.4778045441065182,
          1.1846977951460802,
          0.6607245948496702,
          0.1837760942987446,
          0.13627332908572537,
          -0.9257935097369108,
          -0.3631151365640535,
          -0.6530648937591993,
          0.007354264774219916,
          -0.8419688962869191,
          -1.7490095299427195,
          0.6203734953047744,
          1.1391677148048978,
          -0.3021498266477652,
          -0.2937454543805988,
          -1.3444898920202757,
          2.118046703207983,
          -0.743988751474283,
          -0.06963261339083487,
          -0.7996020752935274,
          -1.005798935187391,
          0.6701806296993339,
          -0.6113273408094672,
          1.8289686346629874,
          -1.3394559641761112,
          -0.15407754183638855,
          0.025477647925172372,
          0.22286592407597883,
          0.3586554102522154,
          -2.2207179594666115,
          -0.40609938632199105,
          0.8094387812022237,
          -0.409573014214997,
          -0.8624321442746868,
          -1.9900524733870248,
          -1.0621179123329199,
          0.17986964017037582,
          1.0936096630745618,
          -0.9569389898844811,
          -1.562862175503904,
          -0.011921576470930798,
          1.3255715669392727,
          -1.382966569593766,
          0.38060846600902815,
          0.023047012426766652,
          -0.10277895493911231,
          1.5766710606284269,
          1.0583807147051052,
          -0.028171066628308445,
          -0.7937277667327526,
          0.057974528758083864,
          0.45368708403810293,
          2.6283832133335965,
          1.0962176916034292,
          -0.1151122014513563,
          0.6066877991292793,
          -0.2496558126535614,
          0.7409857518887422,
          0.050310440543480495,
          1.1876527493678348,
          -0.32420002066467346,
          -0.7981078819489894,
          -0.11361464678331062,
          0.5705180150672012,
          -0.4653425859355932,
          1.2342526285328859,
          0.2674674107633959,
          -1.016193485761706,
          1.0469501273664463,
          0.06132106469109561,
          -0.3323035531320329,
          -1.4426210871023315,
          -0.6653133214293154,
          -0.4366264762884827,
          -1.2677628403645937,
          0.7813374855286151,
          0.49900218669676677,
          0.06659306844027807,
          2.4936858180276675
         ],
         "yaxis": "y10"
        },
        {
         "histfunc": "count",
         "histnorm": "",
         "marker": {
          "color": "rgba(50, 171, 96, 1.0)",
          "line": {
           "color": "#4D5663",
           "width": 1.3
          }
         },
         "name": "C",
         "nbinsx": 10,
         "opacity": 0.8,
         "orientation": "v",
         "type": "histogram",
         "x": [
          -1.081269945135512,
          1.4994251562217111,
          -0.3119790245764006,
          -0.5700454804125089,
          -0.807023809252038,
          -0.5799702673215373,
          -0.09435532278377927,
          -0.31608968822404326,
          0.18299585804559182,
          0.3091374615684443,
          0.18201094779020607,
          -2.345641909923838,
          -0.13252030691115732,
          0.13238668905978415,
          1.1817837329912397,
          2.264407928958368,
          -0.8472059592401834,
          -1.3313848084966844,
          -0.08922639782092631,
          -1.4710730962481993,
          -0.6869991971293106,
          1.4778045441065182,
          1.1846977951460802,
          0.6607245948496702,
          0.1837760942987446,
          0.13627332908572537,
          -0.9257935097369108,
          -0.3631151365640535,
          -0.6530648937591993,
          0.007354264774219916,
          -0.8419688962869191,
          -1.7490095299427195,
          0.6203734953047744,
          1.1391677148048978,
          -0.3021498266477652,
          -0.2937454543805988,
          -1.3444898920202757,
          2.118046703207983,
          -0.743988751474283,
          -0.06963261339083487,
          -0.7996020752935274,
          -1.005798935187391,
          0.6701806296993339,
          -0.6113273408094672,
          1.8289686346629874,
          -1.3394559641761112,
          -0.15407754183638855,
          0.025477647925172372,
          0.22286592407597883,
          0.3586554102522154,
          -2.2207179594666115,
          -0.40609938632199105,
          0.8094387812022237,
          -0.409573014214997,
          -0.8624321442746868,
          -1.9900524733870248,
          -1.0621179123329199,
          0.17986964017037582,
          1.0936096630745618,
          -0.9569389898844811,
          -1.562862175503904,
          -0.011921576470930798,
          1.3255715669392727,
          -1.382966569593766,
          0.38060846600902815,
          0.023047012426766652,
          -0.10277895493911231,
          1.5766710606284269,
          1.0583807147051052,
          -0.028171066628308445,
          -0.7937277667327526,
          0.057974528758083864,
          0.45368708403810293,
          2.6283832133335965,
          1.0962176916034292,
          -0.1151122014513563,
          0.6066877991292793,
          -0.2496558126535614,
          0.7409857518887422,
          0.050310440543480495,
          1.1876527493678348,
          -0.32420002066467346,
          -0.7981078819489894,
          -0.11361464678331062,
          0.5705180150672012,
          -0.4653425859355932,
          1.2342526285328859,
          0.2674674107633959,
          -1.016193485761706,
          1.0469501273664463,
          0.06132106469109561,
          -0.3323035531320329,
          -1.4426210871023315,
          -0.6653133214293154,
          -0.4366264762884827,
          -1.2677628403645937,
          0.7813374855286151,
          0.49900218669676677,
          0.06659306844027807,
          2.4936858180276675
         ],
         "xaxis": "x11",
         "yaxis": "y11"
        },
        {
         "line": {
          "color": "rgba(128, 128, 128, 1.0)",
          "dash": "solid",
          "shape": "linear",
          "width": 1.3
         },
         "marker": {
          "size": 2,
          "symbol": "circle"
         },
         "mode": "markers",
         "name": "C",
         "text": "",
         "type": "scatter",
         "x": [
          -0.8530464835686923,
          -0.9777211704949056,
          0.3671196294852984,
          0.7863072630984241,
          -1.0253861618314224,
          -0.4696397181389764,
          -0.6754239467268804,
          -0.3525284257974691,
          0.35479805241940754,
          -0.7083751409954576,
          1.0404062935691023,
          0.7232705225139738,
          -0.9458574170779152,
          -1.0937615085377304,
          0.6756009722227514,
          0.6754446860653938,
          -0.1540404335992706,
          -0.141838683385397,
          -1.9892866572395724,
          0.3262877045144788,
          -0.060912459662740503,
          0.7845234308016186,
          -0.8242176129734604,
          -0.696438279410444,
          1.3817725610609137,
          0.35013877794633497,
          0.7050803261791581,
          -0.313775937565349,
          -2.0822056554745427,
          -0.10495537796933573,
          0.4636166809545198,
          -0.4459029690784089,
          0.8292241120612767,
          1.2498512054626933,
          -0.49676866730921915,
          0.13572952910264804,
          -1.113134522240766,
          2.288876218225101,
          -0.027811988637406377,
          -0.014057354296969091,
          0.5941968980230878,
          0.7322196570655919,
          1.1376483490535065,
          -0.8061223662897936,
          1.0326704363100077,
          -1.0187555953747782,
          -0.7936986024875148,
          1.7250128752515284,
          -0.6907202876570452,
          1.1900466223571298,
          1.9829040794618682,
          -0.05518654612497724,
          -1.2732888394215272,
          -1.2033601621334395,
          -0.5077914994901958,
          -0.43038293124055405,
          -0.3088363031248792,
          0.02943936309552351,
          -1.2048038000864694,
          0.30210575820803937,
          -0.06400315095343355,
          -0.15176022595000632,
          0.4368484734463497,
          -0.5662310539363955,
          -0.9447988089482128,
          -0.6540711251538077,
          1.7793433754351027,
          0.23298373678295095,
          -1.280767886637018,
          -0.7754852937075334,
          -0.10400263262798473,
          -1.1157701073521156,
          0.22097666363929264,
          2.7024387581477134,
          -1.4309695428736593,
          0.876814390353818,
          -0.6273886791946258,
          -2.031881987131689,
          -1.0275083360189055,
          1.0592819257519337,
          -2.1620664985606393,
          0.27275525695182595,
          -0.447319165016932,
          0.4136715494169879,
          -2.288296945942758,
          -0.8127296548244415,
          -1.1266256532788121,
          -0.8215384686469209,
          -0.4872430165453182,
          -0.022574262627463378,
          -0.5843216053975311,
          0.011099364916450943,
          -0.5373376805509293,
          -2.2805091631118457,
          0.2922998628626371,
          -0.7207546091003253,
          0.39648514446519356,
          -0.8340295828931642,
          0.17768328109566717,
          0.9023490222152702
         ],
         "xaxis": "x12",
         "y": [
          -1.081269945135512,
          1.4994251562217111,
          -0.3119790245764006,
          -0.5700454804125089,
          -0.807023809252038,
          -0.5799702673215373,
          -0.09435532278377927,
          -0.31608968822404326,
          0.18299585804559182,
          0.3091374615684443,
          0.18201094779020607,
          -2.345641909923838,
          -0.13252030691115732,
          0.13238668905978415,
          1.1817837329912397,
          2.264407928958368,
          -0.8472059592401834,
          -1.3313848084966844,
          -0.08922639782092631,
          -1.4710730962481993,
          -0.6869991971293106,
          1.4778045441065182,
          1.1846977951460802,
          0.6607245948496702,
          0.1837760942987446,
          0.13627332908572537,
          -0.9257935097369108,
          -0.3631151365640535,
          -0.6530648937591993,
          0.007354264774219916,
          -0.8419688962869191,
          -1.7490095299427195,
          0.6203734953047744,
          1.1391677148048978,
          -0.3021498266477652,
          -0.2937454543805988,
          -1.3444898920202757,
          2.118046703207983,
          -0.743988751474283,
          -0.06963261339083487,
          -0.7996020752935274,
          -1.005798935187391,
          0.6701806296993339,
          -0.6113273408094672,
          1.8289686346629874,
          -1.3394559641761112,
          -0.15407754183638855,
          0.025477647925172372,
          0.22286592407597883,
          0.3586554102522154,
          -2.2207179594666115,
          -0.40609938632199105,
          0.8094387812022237,
          -0.409573014214997,
          -0.8624321442746868,
          -1.9900524733870248,
          -1.0621179123329199,
          0.17986964017037582,
          1.0936096630745618,
          -0.9569389898844811,
          -1.562862175503904,
          -0.011921576470930798,
          1.3255715669392727,
          -1.382966569593766,
          0.38060846600902815,
          0.023047012426766652,
          -0.10277895493911231,
          1.5766710606284269,
          1.0583807147051052,
          -0.028171066628308445,
          -0.7937277667327526,
          0.057974528758083864,
          0.45368708403810293,
          2.6283832133335965,
          1.0962176916034292,
          -0.1151122014513563,
          0.6066877991292793,
          -0.2496558126535614,
          0.7409857518887422,
          0.050310440543480495,
          1.1876527493678348,
          -0.32420002066467346,
          -0.7981078819489894,
          -0.11361464678331062,
          0.5705180150672012,
          -0.4653425859355932,
          1.2342526285328859,
          0.2674674107633959,
          -1.016193485761706,
          1.0469501273664463,
          0.06132106469109561,
          -0.3323035531320329,
          -1.4426210871023315,
          -0.6653133214293154,
          -0.4366264762884827,
          -1.2677628403645937,
          0.7813374855286151,
          0.49900218669676677,
          0.06659306844027807,
          2.4936858180276675
         ],
         "yaxis": "y12"
        },
        {
         "line": {
          "color": "rgba(128, 128, 128, 1.0)",
          "dash": "solid",
          "shape": "linear",
          "width": 1.3
         },
         "marker": {
          "size": 2,
          "symbol": "circle"
         },
         "mode": "markers",
         "name": "D",
         "text": "",
         "type": "scatter",
         "x": [
          -0.07455973164460492,
          0.10684607028138204,
          0.05174438274182425,
          1.8834582400552635,
          -0.7394873566653477,
          -0.20509986347008477,
          -0.03414545421950641,
          -0.6213525131646722,
          0.571263033821104,
          1.180464181279357,
          -0.203734605785186,
          0.7347661916372418,
          0.2859474736202656,
          0.04076517450424396,
          -0.9575891661839521,
          -1.4309383761629788,
          2.2550368651025283,
          -0.9940639812563287,
          0.799337873179283,
          -1.257878293181983,
          0.4179499111762863,
          0.3002148423464334,
          -1.1504058019430792,
          0.08143088735081103,
          0.48039194150290004,
          -0.6650657342765216,
          1.1156620567673445,
          1.6819828126747252,
          0.3100427456611766,
          -0.35556202725992564,
          0.5734972173901176,
          0.32590737332398945,
          0.26434526538445485,
          -0.28767952859901297,
          0.46220729582394343,
          -0.5818941295153186,
          1.285059720736958,
          1.5048915259613318,
          -0.6639248043990625,
          0.7636007895359088,
          -0.6463548675362586,
          0.4119553800931602,
          -0.41800965879757407,
          -0.9291745756491012,
          0.5941812800033995,
          0.6495415877446266,
          0.1446736681969964,
          0.26828186676311594,
          0.13889888661810415,
          -0.6067198644564883,
          -0.5830985850290649,
          -0.44261895162747866,
          -0.16593121692532206,
          1.5766366939770549,
          -0.9488282786185461,
          -0.47334557392170873,
          -2.9681775620277215,
          -0.25029734336535486,
          -1.1711717647996238,
          -0.6639685633213962,
          -1.5666336819385447,
          -0.8675551693083899,
          0.9365429397079991,
          0.15072665081471726,
          1.1852234520751472,
          -0.08290956220307087,
          -1.1017174229562567,
          -0.5198271089769748,
          0.37018057099191115,
          0.6484073753005931,
          -0.1590182089390411,
          -1.2123900485249766,
          -0.2362259963300999,
          -0.9316538839457773,
          -0.7702588740652273,
          1.4701363779831127,
          1.7874391009354653,
          0.24616432107668124,
          -1.182643305480476,
          0.35443322915141356,
          -0.4842531774514151,
          -0.44909134669233536,
          -0.5668275896818619,
          0.4175639632896596,
          -1.2611360990304046,
          -0.008206696883240246,
          -0.10979708777038237,
          0.49243560590286795,
          0.8213310947530663,
          -0.267726403403628,
          -1.2515625109561188,
          0.630999102938369,
          0.1713145260658875,
          -1.3560217445320064,
          -1.1258620552644414,
          1.095337440779493,
          1.7240614552766635,
          0.18149760823613265,
          -0.33113981029074463,
          -0.7243911418227783
         ],
         "xaxis": "x13",
         "y": [
          -0.8530464835686923,
          -0.9777211704949056,
          0.3671196294852984,
          0.7863072630984241,
          -1.0253861618314224,
          -0.4696397181389764,
          -0.6754239467268804,
          -0.3525284257974691,
          0.35479805241940754,
          -0.7083751409954576,
          1.0404062935691023,
          0.7232705225139738,
          -0.9458574170779152,
          -1.0937615085377304,
          0.6756009722227514,
          0.6754446860653938,
          -0.1540404335992706,
          -0.141838683385397,
          -1.9892866572395724,
          0.3262877045144788,
          -0.060912459662740503,
          0.7845234308016186,
          -0.8242176129734604,
          -0.696438279410444,
          1.3817725610609137,
          0.35013877794633497,
          0.7050803261791581,
          -0.313775937565349,
          -2.0822056554745427,
          -0.10495537796933573,
          0.4636166809545198,
          -0.4459029690784089,
          0.8292241120612767,
          1.2498512054626933,
          -0.49676866730921915,
          0.13572952910264804,
          -1.113134522240766,
          2.288876218225101,
          -0.027811988637406377,
          -0.014057354296969091,
          0.5941968980230878,
          0.7322196570655919,
          1.1376483490535065,
          -0.8061223662897936,
          1.0326704363100077,
          -1.0187555953747782,
          -0.7936986024875148,
          1.7250128752515284,
          -0.6907202876570452,
          1.1900466223571298,
          1.9829040794618682,
          -0.05518654612497724,
          -1.2732888394215272,
          -1.2033601621334395,
          -0.5077914994901958,
          -0.43038293124055405,
          -0.3088363031248792,
          0.02943936309552351,
          -1.2048038000864694,
          0.30210575820803937,
          -0.06400315095343355,
          -0.15176022595000632,
          0.4368484734463497,
          -0.5662310539363955,
          -0.9447988089482128,
          -0.6540711251538077,
          1.7793433754351027,
          0.23298373678295095,
          -1.280767886637018,
          -0.7754852937075334,
          -0.10400263262798473,
          -1.1157701073521156,
          0.22097666363929264,
          2.7024387581477134,
          -1.4309695428736593,
          0.876814390353818,
          -0.6273886791946258,
          -2.031881987131689,
          -1.0275083360189055,
          1.0592819257519337,
          -2.1620664985606393,
          0.27275525695182595,
          -0.447319165016932,
          0.4136715494169879,
          -2.288296945942758,
          -0.8127296548244415,
          -1.1266256532788121,
          -0.8215384686469209,
          -0.4872430165453182,
          -0.022574262627463378,
          -0.5843216053975311,
          0.011099364916450943,
          -0.5373376805509293,
          -2.2805091631118457,
          0.2922998628626371,
          -0.7207546091003253,
          0.39648514446519356,
          -0.8340295828931642,
          0.17768328109566717,
          0.9023490222152702
         ],
         "yaxis": "y13"
        },
        {
         "line": {
          "color": "rgba(128, 128, 128, 1.0)",
          "dash": "solid",
          "shape": "linear",
          "width": 1.3
         },
         "marker": {
          "size": 2,
          "symbol": "circle"
         },
         "mode": "markers",
         "name": "D",
         "text": "",
         "type": "scatter",
         "x": [
          0.20695886201338964,
          2.2267140798834366,
          2.0606705606804248,
          -0.47751358803428084,
          -0.8265999208195308,
          0.3683847538936354,
          -0.9215058882049292,
          0.2010981971926559,
          -2.612024672660992,
          1.994860248642683,
          0.6474845780135272,
          -1.4695376336420343,
          0.25329507946952484,
          -0.8847748430992944,
          0.01108872266051941,
          -1.1635524981707588,
          -0.16334248185299458,
          0.37081708914041467,
          -0.3744953167142966,
          0.25997366036222974,
          0.6587716974050809,
          -1.153664670868084,
          -1.697491236131132,
          0.7995087387377215,
          1.051287349057648,
          0.26519966512043014,
          0.16665172934102204,
          -0.9207235935854554,
          0.19392919045612925,
          0.30514185806513633,
          1.153170562731266,
          0.6444165797703777,
          0.10095403561272143,
          -1.3779799142755011,
          1.0886785013466902,
          0.4207240802224743,
          1.1386223070602004,
          -0.41875441978934674,
          1.1045931338539758,
          0.6514247563808732,
          -1.5404052766834295,
          -0.07015676241255123,
          0.34211903144043065,
          -0.18534612927812716,
          -1.8520443646410083,
          1.4319920389190104,
          1.1387925527034235,
          0.2698880956788044,
          0.1878047757021268,
          1.7741986146424833,
          0.22768156026066996,
          -0.20014286651396568,
          2.059179137491171,
          0.35223369637447816,
          0.05263010640213276,
          1.7322067881044543,
          -0.7745478394440942,
          2.0680320286556824,
          -0.6321155047266144,
          1.2659416243146926,
          0.4722821822143342,
          1.642169097988724,
          -1.7521377798815267,
          0.3727959530975647,
          -1.965263310446799,
          -1.0712504506589524,
          0.5342752099185382,
          -1.1298074723535294,
          -0.5580156206841335,
          0.823614953289078,
          -0.5479781763338187,
          -1.6514759368126157,
          -0.2328958270228804,
          1.4625741873716016,
          0.3342124737309676,
          1.3772224066244865,
          0.20175951418821808,
          0.2501868306006938,
          0.32303507776168344,
          0.5721589323589801,
          -1.3176653867942356,
          0.2393598296204175,
          0.929162936792238,
          0.43767400300848264,
          -0.08169926569148139,
          0.4789983045336972,
          -0.5059754539470817,
          0.46797344213078973,
          -0.7757631159400264,
          -1.4756298170780817,
          1.1509293631614974,
          0.6429496420266005,
          -0.4212609077669692,
          -0.4359617643911458,
          0.6020198623608694,
          -1.0543687019171408,
          -1.2676827628690235,
          0.14146548854024957,
          -0.5593082511505357,
          0.3558988051040138
         ],
         "xaxis": "x14",
         "y": [
          -0.8530464835686923,
          -0.9777211704949056,
          0.3671196294852984,
          0.7863072630984241,
          -1.0253861618314224,
          -0.4696397181389764,
          -0.6754239467268804,
          -0.3525284257974691,
          0.35479805241940754,
          -0.7083751409954576,
          1.0404062935691023,
          0.7232705225139738,
          -0.9458574170779152,
          -1.0937615085377304,
          0.6756009722227514,
          0.6754446860653938,
          -0.1540404335992706,
          -0.141838683385397,
          -1.9892866572395724,
          0.3262877045144788,
          -0.060912459662740503,
          0.7845234308016186,
          -0.8242176129734604,
          -0.696438279410444,
          1.3817725610609137,
          0.35013877794633497,
          0.7050803261791581,
          -0.313775937565349,
          -2.0822056554745427,
          -0.10495537796933573,
          0.4636166809545198,
          -0.4459029690784089,
          0.8292241120612767,
          1.2498512054626933,
          -0.49676866730921915,
          0.13572952910264804,
          -1.113134522240766,
          2.288876218225101,
          -0.027811988637406377,
          -0.014057354296969091,
          0.5941968980230878,
          0.7322196570655919,
          1.1376483490535065,
          -0.8061223662897936,
          1.0326704363100077,
          -1.0187555953747782,
          -0.7936986024875148,
          1.7250128752515284,
          -0.6907202876570452,
          1.1900466223571298,
          1.9829040794618682,
          -0.05518654612497724,
          -1.2732888394215272,
          -1.2033601621334395,
          -0.5077914994901958,
          -0.43038293124055405,
          -0.3088363031248792,
          0.02943936309552351,
          -1.2048038000864694,
          0.30210575820803937,
          -0.06400315095343355,
          -0.15176022595000632,
          0.4368484734463497,
          -0.5662310539363955,
          -0.9447988089482128,
          -0.6540711251538077,
          1.7793433754351027,
          0.23298373678295095,
          -1.280767886637018,
          -0.7754852937075334,
          -0.10400263262798473,
          -1.1157701073521156,
          0.22097666363929264,
          2.7024387581477134,
          -1.4309695428736593,
          0.876814390353818,
          -0.6273886791946258,
          -2.031881987131689,
          -1.0275083360189055,
          1.0592819257519337,
          -2.1620664985606393,
          0.27275525695182595,
          -0.447319165016932,
          0.4136715494169879,
          -2.288296945942758,
          -0.8127296548244415,
          -1.1266256532788121,
          -0.8215384686469209,
          -0.4872430165453182,
          -0.022574262627463378,
          -0.5843216053975311,
          0.011099364916450943,
          -0.5373376805509293,
          -2.2805091631118457,
          0.2922998628626371,
          -0.7207546091003253,
          0.39648514446519356,
          -0.8340295828931642,
          0.17768328109566717,
          0.9023490222152702
         ],
         "yaxis": "y14"
        },
        {
         "line": {
          "color": "rgba(128, 128, 128, 1.0)",
          "dash": "solid",
          "shape": "linear",
          "width": 1.3
         },
         "marker": {
          "size": 2,
          "symbol": "circle"
         },
         "mode": "markers",
         "name": "D",
         "text": "",
         "type": "scatter",
         "x": [
          -1.081269945135512,
          1.4994251562217111,
          -0.3119790245764006,
          -0.5700454804125089,
          -0.807023809252038,
          -0.5799702673215373,
          -0.09435532278377927,
          -0.31608968822404326,
          0.18299585804559182,
          0.3091374615684443,
          0.18201094779020607,
          -2.345641909923838,
          -0.13252030691115732,
          0.13238668905978415,
          1.1817837329912397,
          2.264407928958368,
          -0.8472059592401834,
          -1.3313848084966844,
          -0.08922639782092631,
          -1.4710730962481993,
          -0.6869991971293106,
          1.4778045441065182,
          1.1846977951460802,
          0.6607245948496702,
          0.1837760942987446,
          0.13627332908572537,
          -0.9257935097369108,
          -0.3631151365640535,
          -0.6530648937591993,
          0.007354264774219916,
          -0.8419688962869191,
          -1.7490095299427195,
          0.6203734953047744,
          1.1391677148048978,
          -0.3021498266477652,
          -0.2937454543805988,
          -1.3444898920202757,
          2.118046703207983,
          -0.743988751474283,
          -0.06963261339083487,
          -0.7996020752935274,
          -1.005798935187391,
          0.6701806296993339,
          -0.6113273408094672,
          1.8289686346629874,
          -1.3394559641761112,
          -0.15407754183638855,
          0.025477647925172372,
          0.22286592407597883,
          0.3586554102522154,
          -2.2207179594666115,
          -0.40609938632199105,
          0.8094387812022237,
          -0.409573014214997,
          -0.8624321442746868,
          -1.9900524733870248,
          -1.0621179123329199,
          0.17986964017037582,
          1.0936096630745618,
          -0.9569389898844811,
          -1.562862175503904,
          -0.011921576470930798,
          1.3255715669392727,
          -1.382966569593766,
          0.38060846600902815,
          0.023047012426766652,
          -0.10277895493911231,
          1.5766710606284269,
          1.0583807147051052,
          -0.028171066628308445,
          -0.7937277667327526,
          0.057974528758083864,
          0.45368708403810293,
          2.6283832133335965,
          1.0962176916034292,
          -0.1151122014513563,
          0.6066877991292793,
          -0.2496558126535614,
          0.7409857518887422,
          0.050310440543480495,
          1.1876527493678348,
          -0.32420002066467346,
          -0.7981078819489894,
          -0.11361464678331062,
          0.5705180150672012,
          -0.4653425859355932,
          1.2342526285328859,
          0.2674674107633959,
          -1.016193485761706,
          1.0469501273664463,
          0.06132106469109561,
          -0.3323035531320329,
          -1.4426210871023315,
          -0.6653133214293154,
          -0.4366264762884827,
          -1.2677628403645937,
          0.7813374855286151,
          0.49900218669676677,
          0.06659306844027807,
          2.4936858180276675
         ],
         "xaxis": "x15",
         "y": [
          -0.8530464835686923,
          -0.9777211704949056,
          0.3671196294852984,
          0.7863072630984241,
          -1.0253861618314224,
          -0.4696397181389764,
          -0.6754239467268804,
          -0.3525284257974691,
          0.35479805241940754,
          -0.7083751409954576,
          1.0404062935691023,
          0.7232705225139738,
          -0.9458574170779152,
          -1.0937615085377304,
          0.6756009722227514,
          0.6754446860653938,
          -0.1540404335992706,
          -0.141838683385397,
          -1.9892866572395724,
          0.3262877045144788,
          -0.060912459662740503,
          0.7845234308016186,
          -0.8242176129734604,
          -0.696438279410444,
          1.3817725610609137,
          0.35013877794633497,
          0.7050803261791581,
          -0.313775937565349,
          -2.0822056554745427,
          -0.10495537796933573,
          0.4636166809545198,
          -0.4459029690784089,
          0.8292241120612767,
          1.2498512054626933,
          -0.49676866730921915,
          0.13572952910264804,
          -1.113134522240766,
          2.288876218225101,
          -0.027811988637406377,
          -0.014057354296969091,
          0.5941968980230878,
          0.7322196570655919,
          1.1376483490535065,
          -0.8061223662897936,
          1.0326704363100077,
          -1.0187555953747782,
          -0.7936986024875148,
          1.7250128752515284,
          -0.6907202876570452,
          1.1900466223571298,
          1.9829040794618682,
          -0.05518654612497724,
          -1.2732888394215272,
          -1.2033601621334395,
          -0.5077914994901958,
          -0.43038293124055405,
          -0.3088363031248792,
          0.02943936309552351,
          -1.2048038000864694,
          0.30210575820803937,
          -0.06400315095343355,
          -0.15176022595000632,
          0.4368484734463497,
          -0.5662310539363955,
          -0.9447988089482128,
          -0.6540711251538077,
          1.7793433754351027,
          0.23298373678295095,
          -1.280767886637018,
          -0.7754852937075334,
          -0.10400263262798473,
          -1.1157701073521156,
          0.22097666363929264,
          2.7024387581477134,
          -1.4309695428736593,
          0.876814390353818,
          -0.6273886791946258,
          -2.031881987131689,
          -1.0275083360189055,
          1.0592819257519337,
          -2.1620664985606393,
          0.27275525695182595,
          -0.447319165016932,
          0.4136715494169879,
          -2.288296945942758,
          -0.8127296548244415,
          -1.1266256532788121,
          -0.8215384686469209,
          -0.4872430165453182,
          -0.022574262627463378,
          -0.5843216053975311,
          0.011099364916450943,
          -0.5373376805509293,
          -2.2805091631118457,
          0.2922998628626371,
          -0.7207546091003253,
          0.39648514446519356,
          -0.8340295828931642,
          0.17768328109566717,
          0.9023490222152702
         ],
         "yaxis": "y15"
        },
        {
         "histfunc": "count",
         "histnorm": "",
         "marker": {
          "color": "rgba(128, 0, 128, 1.0)",
          "line": {
           "color": "#4D5663",
           "width": 1.3
          }
         },
         "name": "D",
         "nbinsx": 10,
         "opacity": 0.8,
         "orientation": "v",
         "type": "histogram",
         "x": [
          -0.8530464835686923,
          -0.9777211704949056,
          0.3671196294852984,
          0.7863072630984241,
          -1.0253861618314224,
          -0.4696397181389764,
          -0.6754239467268804,
          -0.3525284257974691,
          0.35479805241940754,
          -0.7083751409954576,
          1.0404062935691023,
          0.7232705225139738,
          -0.9458574170779152,
          -1.0937615085377304,
          0.6756009722227514,
          0.6754446860653938,
          -0.1540404335992706,
          -0.141838683385397,
          -1.9892866572395724,
          0.3262877045144788,
          -0.060912459662740503,
          0.7845234308016186,
          -0.8242176129734604,
          -0.696438279410444,
          1.3817725610609137,
          0.35013877794633497,
          0.7050803261791581,
          -0.313775937565349,
          -2.0822056554745427,
          -0.10495537796933573,
          0.4636166809545198,
          -0.4459029690784089,
          0.8292241120612767,
          1.2498512054626933,
          -0.49676866730921915,
          0.13572952910264804,
          -1.113134522240766,
          2.288876218225101,
          -0.027811988637406377,
          -0.014057354296969091,
          0.5941968980230878,
          0.7322196570655919,
          1.1376483490535065,
          -0.8061223662897936,
          1.0326704363100077,
          -1.0187555953747782,
          -0.7936986024875148,
          1.7250128752515284,
          -0.6907202876570452,
          1.1900466223571298,
          1.9829040794618682,
          -0.05518654612497724,
          -1.2732888394215272,
          -1.2033601621334395,
          -0.5077914994901958,
          -0.43038293124055405,
          -0.3088363031248792,
          0.02943936309552351,
          -1.2048038000864694,
          0.30210575820803937,
          -0.06400315095343355,
          -0.15176022595000632,
          0.4368484734463497,
          -0.5662310539363955,
          -0.9447988089482128,
          -0.6540711251538077,
          1.7793433754351027,
          0.23298373678295095,
          -1.280767886637018,
          -0.7754852937075334,
          -0.10400263262798473,
          -1.1157701073521156,
          0.22097666363929264,
          2.7024387581477134,
          -1.4309695428736593,
          0.876814390353818,
          -0.6273886791946258,
          -2.031881987131689,
          -1.0275083360189055,
          1.0592819257519337,
          -2.1620664985606393,
          0.27275525695182595,
          -0.447319165016932,
          0.4136715494169879,
          -2.288296945942758,
          -0.8127296548244415,
          -1.1266256532788121,
          -0.8215384686469209,
          -0.4872430165453182,
          -0.022574262627463378,
          -0.5843216053975311,
          0.011099364916450943,
          -0.5373376805509293,
          -2.2805091631118457,
          0.2922998628626371,
          -0.7207546091003253,
          0.39648514446519356,
          -0.8340295828931642,
          0.17768328109566717,
          0.9023490222152702
         ],
         "xaxis": "x16",
         "yaxis": "y16"
        }
       ],
       "layout": {
        "bargap": 0.02,
        "legend": {
         "bgcolor": "#F5F6F9",
         "font": {
          "color": "#4D5663"
         }
        },
        "paper_bgcolor": "#F5F6F9",
        "plot_bgcolor": "#F5F6F9",
        "showlegend": false,
        "template": {
         "data": {
          "bar": [
           {
            "error_x": {
             "color": "#2a3f5f"
            },
            "error_y": {
             "color": "#2a3f5f"
            },
            "marker": {
             "line": {
              "color": "#E5ECF6",
              "width": 0.5
             },
             "pattern": {
              "fillmode": "overlay",
              "size": 10,
              "solidity": 0.2
             }
            },
            "type": "bar"
           }
          ],
          "barpolar": [
           {
            "marker": {
             "line": {
              "color": "#E5ECF6",
              "width": 0.5
             },
             "pattern": {
              "fillmode": "overlay",
              "size": 10,
              "solidity": 0.2
             }
            },
            "type": "barpolar"
           }
          ],
          "carpet": [
           {
            "aaxis": {
             "endlinecolor": "#2a3f5f",
             "gridcolor": "white",
             "linecolor": "white",
             "minorgridcolor": "white",
             "startlinecolor": "#2a3f5f"
            },
            "baxis": {
             "endlinecolor": "#2a3f5f",
             "gridcolor": "white",
             "linecolor": "white",
             "minorgridcolor": "white",
             "startlinecolor": "#2a3f5f"
            },
            "type": "carpet"
           }
          ],
          "choropleth": [
           {
            "colorbar": {
             "outlinewidth": 0,
             "ticks": ""
            },
            "type": "choropleth"
           }
          ],
          "contour": [
           {
            "colorbar": {
             "outlinewidth": 0,
             "ticks": ""
            },
            "colorscale": [
             [
              0,
              "#0d0887"
             ],
             [
              0.1111111111111111,
              "#46039f"
             ],
             [
              0.2222222222222222,
              "#7201a8"
             ],
             [
              0.3333333333333333,
              "#9c179e"
             ],
             [
              0.4444444444444444,
              "#bd3786"
             ],
             [
              0.5555555555555556,
              "#d8576b"
             ],
             [
              0.6666666666666666,
              "#ed7953"
             ],
             [
              0.7777777777777778,
              "#fb9f3a"
             ],
             [
              0.8888888888888888,
              "#fdca26"
             ],
             [
              1,
              "#f0f921"
             ]
            ],
            "type": "contour"
           }
          ],
          "contourcarpet": [
           {
            "colorbar": {
             "outlinewidth": 0,
             "ticks": ""
            },
            "type": "contourcarpet"
           }
          ],
          "heatmap": [
           {
            "colorbar": {
             "outlinewidth": 0,
             "ticks": ""
            },
            "colorscale": [
             [
              0,
              "#0d0887"
             ],
             [
              0.1111111111111111,
              "#46039f"
             ],
             [
              0.2222222222222222,
              "#7201a8"
             ],
             [
              0.3333333333333333,
              "#9c179e"
             ],
             [
              0.4444444444444444,
              "#bd3786"
             ],
             [
              0.5555555555555556,
              "#d8576b"
             ],
             [
              0.6666666666666666,
              "#ed7953"
             ],
             [
              0.7777777777777778,
              "#fb9f3a"
             ],
             [
              0.8888888888888888,
              "#fdca26"
             ],
             [
              1,
              "#f0f921"
             ]
            ],
            "type": "heatmap"
           }
          ],
          "heatmapgl": [
           {
            "colorbar": {
             "outlinewidth": 0,
             "ticks": ""
            },
            "colorscale": [
             [
              0,
              "#0d0887"
             ],
             [
              0.1111111111111111,
              "#46039f"
             ],
             [
              0.2222222222222222,
              "#7201a8"
             ],
             [
              0.3333333333333333,
              "#9c179e"
             ],
             [
              0.4444444444444444,
              "#bd3786"
             ],
             [
              0.5555555555555556,
              "#d8576b"
             ],
             [
              0.6666666666666666,
              "#ed7953"
             ],
             [
              0.7777777777777778,
              "#fb9f3a"
             ],
             [
              0.8888888888888888,
              "#fdca26"
             ],
             [
              1,
              "#f0f921"
             ]
            ],
            "type": "heatmapgl"
           }
          ],
          "histogram": [
           {
            "marker": {
             "pattern": {
              "fillmode": "overlay",
              "size": 10,
              "solidity": 0.2
             }
            },
            "type": "histogram"
           }
          ],
          "histogram2d": [
           {
            "colorbar": {
             "outlinewidth": 0,
             "ticks": ""
            },
            "colorscale": [
             [
              0,
              "#0d0887"
             ],
             [
              0.1111111111111111,
              "#46039f"
             ],
             [
              0.2222222222222222,
              "#7201a8"
             ],
             [
              0.3333333333333333,
              "#9c179e"
             ],
             [
              0.4444444444444444,
              "#bd3786"
             ],
             [
              0.5555555555555556,
              "#d8576b"
             ],
             [
              0.6666666666666666,
              "#ed7953"
             ],
             [
              0.7777777777777778,
              "#fb9f3a"
             ],
             [
              0.8888888888888888,
              "#fdca26"
             ],
             [
              1,
              "#f0f921"
             ]
            ],
            "type": "histogram2d"
           }
          ],
          "histogram2dcontour": [
           {
            "colorbar": {
             "outlinewidth": 0,
             "ticks": ""
            },
            "colorscale": [
             [
              0,
              "#0d0887"
             ],
             [
              0.1111111111111111,
              "#46039f"
             ],
             [
              0.2222222222222222,
              "#7201a8"
             ],
             [
              0.3333333333333333,
              "#9c179e"
             ],
             [
              0.4444444444444444,
              "#bd3786"
             ],
             [
              0.5555555555555556,
              "#d8576b"
             ],
             [
              0.6666666666666666,
              "#ed7953"
             ],
             [
              0.7777777777777778,
              "#fb9f3a"
             ],
             [
              0.8888888888888888,
              "#fdca26"
             ],
             [
              1,
              "#f0f921"
             ]
            ],
            "type": "histogram2dcontour"
           }
          ],
          "mesh3d": [
           {
            "colorbar": {
             "outlinewidth": 0,
             "ticks": ""
            },
            "type": "mesh3d"
           }
          ],
          "parcoords": [
           {
            "line": {
             "colorbar": {
              "outlinewidth": 0,
              "ticks": ""
             }
            },
            "type": "parcoords"
           }
          ],
          "pie": [
           {
            "automargin": true,
            "type": "pie"
           }
          ],
          "scatter": [
           {
            "fillpattern": {
             "fillmode": "overlay",
             "size": 10,
             "solidity": 0.2
            },
            "type": "scatter"
           }
          ],
          "scatter3d": [
           {
            "line": {
             "colorbar": {
              "outlinewidth": 0,
              "ticks": ""
             }
            },
            "marker": {
             "colorbar": {
              "outlinewidth": 0,
              "ticks": ""
             }
            },
            "type": "scatter3d"
           }
          ],
          "scattercarpet": [
           {
            "marker": {
             "colorbar": {
              "outlinewidth": 0,
              "ticks": ""
             }
            },
            "type": "scattercarpet"
           }
          ],
          "scattergeo": [
           {
            "marker": {
             "colorbar": {
              "outlinewidth": 0,
              "ticks": ""
             }
            },
            "type": "scattergeo"
           }
          ],
          "scattergl": [
           {
            "marker": {
             "colorbar": {
              "outlinewidth": 0,
              "ticks": ""
             }
            },
            "type": "scattergl"
           }
          ],
          "scattermapbox": [
           {
            "marker": {
             "colorbar": {
              "outlinewidth": 0,
              "ticks": ""
             }
            },
            "type": "scattermapbox"
           }
          ],
          "scatterpolar": [
           {
            "marker": {
             "colorbar": {
              "outlinewidth": 0,
              "ticks": ""
             }
            },
            "type": "scatterpolar"
           }
          ],
          "scatterpolargl": [
           {
            "marker": {
             "colorbar": {
              "outlinewidth": 0,
              "ticks": ""
             }
            },
            "type": "scatterpolargl"
           }
          ],
          "scatterternary": [
           {
            "marker": {
             "colorbar": {
              "outlinewidth": 0,
              "ticks": ""
             }
            },
            "type": "scatterternary"
           }
          ],
          "surface": [
           {
            "colorbar": {
             "outlinewidth": 0,
             "ticks": ""
            },
            "colorscale": [
             [
              0,
              "#0d0887"
             ],
             [
              0.1111111111111111,
              "#46039f"
             ],
             [
              0.2222222222222222,
              "#7201a8"
             ],
             [
              0.3333333333333333,
              "#9c179e"
             ],
             [
              0.4444444444444444,
              "#bd3786"
             ],
             [
              0.5555555555555556,
              "#d8576b"
             ],
             [
              0.6666666666666666,
              "#ed7953"
             ],
             [
              0.7777777777777778,
              "#fb9f3a"
             ],
             [
              0.8888888888888888,
              "#fdca26"
             ],
             [
              1,
              "#f0f921"
             ]
            ],
            "type": "surface"
           }
          ],
          "table": [
           {
            "cells": {
             "fill": {
              "color": "#EBF0F8"
             },
             "line": {
              "color": "white"
             }
            },
            "header": {
             "fill": {
              "color": "#C8D4E3"
             },
             "line": {
              "color": "white"
             }
            },
            "type": "table"
           }
          ]
         },
         "layout": {
          "annotationdefaults": {
           "arrowcolor": "#2a3f5f",
           "arrowhead": 0,
           "arrowwidth": 1
          },
          "autotypenumbers": "strict",
          "coloraxis": {
           "colorbar": {
            "outlinewidth": 0,
            "ticks": ""
           }
          },
          "colorscale": {
           "diverging": [
            [
             0,
             "#8e0152"
            ],
            [
             0.1,
             "#c51b7d"
            ],
            [
             0.2,
             "#de77ae"
            ],
            [
             0.3,
             "#f1b6da"
            ],
            [
             0.4,
             "#fde0ef"
            ],
            [
             0.5,
             "#f7f7f7"
            ],
            [
             0.6,
             "#e6f5d0"
            ],
            [
             0.7,
             "#b8e186"
            ],
            [
             0.8,
             "#7fbc41"
            ],
            [
             0.9,
             "#4d9221"
            ],
            [
             1,
             "#276419"
            ]
           ],
           "sequential": [
            [
             0,
             "#0d0887"
            ],
            [
             0.1111111111111111,
             "#46039f"
            ],
            [
             0.2222222222222222,
             "#7201a8"
            ],
            [
             0.3333333333333333,
             "#9c179e"
            ],
            [
             0.4444444444444444,
             "#bd3786"
            ],
            [
             0.5555555555555556,
             "#d8576b"
            ],
            [
             0.6666666666666666,
             "#ed7953"
            ],
            [
             0.7777777777777778,
             "#fb9f3a"
            ],
            [
             0.8888888888888888,
             "#fdca26"
            ],
            [
             1,
             "#f0f921"
            ]
           ],
           "sequentialminus": [
            [
             0,
             "#0d0887"
            ],
            [
             0.1111111111111111,
             "#46039f"
            ],
            [
             0.2222222222222222,
             "#7201a8"
            ],
            [
             0.3333333333333333,
             "#9c179e"
            ],
            [
             0.4444444444444444,
             "#bd3786"
            ],
            [
             0.5555555555555556,
             "#d8576b"
            ],
            [
             0.6666666666666666,
             "#ed7953"
            ],
            [
             0.7777777777777778,
             "#fb9f3a"
            ],
            [
             0.8888888888888888,
             "#fdca26"
            ],
            [
             1,
             "#f0f921"
            ]
           ]
          },
          "colorway": [
           "#636efa",
           "#EF553B",
           "#00cc96",
           "#ab63fa",
           "#FFA15A",
           "#19d3f3",
           "#FF6692",
           "#B6E880",
           "#FF97FF",
           "#FECB52"
          ],
          "font": {
           "color": "#2a3f5f"
          },
          "geo": {
           "bgcolor": "white",
           "lakecolor": "white",
           "landcolor": "#E5ECF6",
           "showlakes": true,
           "showland": true,
           "subunitcolor": "white"
          },
          "hoverlabel": {
           "align": "left"
          },
          "hovermode": "closest",
          "mapbox": {
           "style": "light"
          },
          "paper_bgcolor": "white",
          "plot_bgcolor": "#E5ECF6",
          "polar": {
           "angularaxis": {
            "gridcolor": "white",
            "linecolor": "white",
            "ticks": ""
           },
           "bgcolor": "#E5ECF6",
           "radialaxis": {
            "gridcolor": "white",
            "linecolor": "white",
            "ticks": ""
           }
          },
          "scene": {
           "xaxis": {
            "backgroundcolor": "#E5ECF6",
            "gridcolor": "white",
            "gridwidth": 2,
            "linecolor": "white",
            "showbackground": true,
            "ticks": "",
            "zerolinecolor": "white"
           },
           "yaxis": {
            "backgroundcolor": "#E5ECF6",
            "gridcolor": "white",
            "gridwidth": 2,
            "linecolor": "white",
            "showbackground": true,
            "ticks": "",
            "zerolinecolor": "white"
           },
           "zaxis": {
            "backgroundcolor": "#E5ECF6",
            "gridcolor": "white",
            "gridwidth": 2,
            "linecolor": "white",
            "showbackground": true,
            "ticks": "",
            "zerolinecolor": "white"
           }
          },
          "shapedefaults": {
           "line": {
            "color": "#2a3f5f"
           }
          },
          "ternary": {
           "aaxis": {
            "gridcolor": "white",
            "linecolor": "white",
            "ticks": ""
           },
           "baxis": {
            "gridcolor": "white",
            "linecolor": "white",
            "ticks": ""
           },
           "bgcolor": "#E5ECF6",
           "caxis": {
            "gridcolor": "white",
            "linecolor": "white",
            "ticks": ""
           }
          },
          "title": {
           "x": 0.05
          },
          "xaxis": {
           "automargin": true,
           "gridcolor": "white",
           "linecolor": "white",
           "ticks": "",
           "title": {
            "standoff": 15
           },
           "zerolinecolor": "white",
           "zerolinewidth": 2
          },
          "yaxis": {
           "automargin": true,
           "gridcolor": "white",
           "linecolor": "white",
           "ticks": "",
           "title": {
            "standoff": 15
           },
           "zerolinecolor": "white",
           "zerolinewidth": 2
          }
         }
        },
        "title": {
         "font": {
          "color": "#4D5663"
         }
        },
        "xaxis": {
         "anchor": "y",
         "domain": [
          0,
          0.2125
         ],
         "gridcolor": "#E1E5ED",
         "showgrid": false,
         "tickfont": {
          "color": "#4D5663"
         },
         "title": {
          "font": {
           "color": "#4D5663"
          },
          "text": ""
         },
         "zerolinecolor": "#E1E5ED"
        },
        "xaxis10": {
         "anchor": "y10",
         "domain": [
          0.2625,
          0.475
         ],
         "gridcolor": "#E1E5ED",
         "showgrid": false,
         "tickfont": {
          "color": "#4D5663"
         },
         "title": {
          "font": {
           "color": "#4D5663"
          },
          "text": ""
         },
         "zerolinecolor": "#E1E5ED"
        },
        "xaxis11": {
         "anchor": "y11",
         "domain": [
          0.525,
          0.7375
         ],
         "gridcolor": "#E1E5ED",
         "showgrid": false,
         "tickfont": {
          "color": "#4D5663"
         },
         "title": {
          "font": {
           "color": "#4D5663"
          },
          "text": ""
         },
         "zerolinecolor": "#E1E5ED"
        },
        "xaxis12": {
         "anchor": "y12",
         "domain": [
          0.7875,
          1
         ],
         "gridcolor": "#E1E5ED",
         "showgrid": false,
         "tickfont": {
          "color": "#4D5663"
         },
         "title": {
          "font": {
           "color": "#4D5663"
          },
          "text": ""
         },
         "zerolinecolor": "#E1E5ED"
        },
        "xaxis13": {
         "anchor": "y13",
         "domain": [
          0,
          0.2125
         ],
         "gridcolor": "#E1E5ED",
         "showgrid": false,
         "tickfont": {
          "color": "#4D5663"
         },
         "title": {
          "font": {
           "color": "#4D5663"
          },
          "text": ""
         },
         "zerolinecolor": "#E1E5ED"
        },
        "xaxis14": {
         "anchor": "y14",
         "domain": [
          0.2625,
          0.475
         ],
         "gridcolor": "#E1E5ED",
         "showgrid": false,
         "tickfont": {
          "color": "#4D5663"
         },
         "title": {
          "font": {
           "color": "#4D5663"
          },
          "text": ""
         },
         "zerolinecolor": "#E1E5ED"
        },
        "xaxis15": {
         "anchor": "y15",
         "domain": [
          0.525,
          0.7375
         ],
         "gridcolor": "#E1E5ED",
         "showgrid": false,
         "tickfont": {
          "color": "#4D5663"
         },
         "title": {
          "font": {
           "color": "#4D5663"
          },
          "text": ""
         },
         "zerolinecolor": "#E1E5ED"
        },
        "xaxis16": {
         "anchor": "y16",
         "domain": [
          0.7875,
          1
         ],
         "gridcolor": "#E1E5ED",
         "showgrid": false,
         "tickfont": {
          "color": "#4D5663"
         },
         "title": {
          "font": {
           "color": "#4D5663"
          },
          "text": ""
         },
         "zerolinecolor": "#E1E5ED"
        },
        "xaxis2": {
         "anchor": "y2",
         "domain": [
          0.2625,
          0.475
         ],
         "gridcolor": "#E1E5ED",
         "showgrid": false,
         "tickfont": {
          "color": "#4D5663"
         },
         "title": {
          "font": {
           "color": "#4D5663"
          },
          "text": ""
         },
         "zerolinecolor": "#E1E5ED"
        },
        "xaxis3": {
         "anchor": "y3",
         "domain": [
          0.525,
          0.7375
         ],
         "gridcolor": "#E1E5ED",
         "showgrid": false,
         "tickfont": {
          "color": "#4D5663"
         },
         "title": {
          "font": {
           "color": "#4D5663"
          },
          "text": ""
         },
         "zerolinecolor": "#E1E5ED"
        },
        "xaxis4": {
         "anchor": "y4",
         "domain": [
          0.7875,
          1
         ],
         "gridcolor": "#E1E5ED",
         "showgrid": false,
         "tickfont": {
          "color": "#4D5663"
         },
         "title": {
          "font": {
           "color": "#4D5663"
          },
          "text": ""
         },
         "zerolinecolor": "#E1E5ED"
        },
        "xaxis5": {
         "anchor": "y5",
         "domain": [
          0,
          0.2125
         ],
         "gridcolor": "#E1E5ED",
         "showgrid": false,
         "tickfont": {
          "color": "#4D5663"
         },
         "title": {
          "font": {
           "color": "#4D5663"
          },
          "text": ""
         },
         "zerolinecolor": "#E1E5ED"
        },
        "xaxis6": {
         "anchor": "y6",
         "domain": [
          0.2625,
          0.475
         ],
         "gridcolor": "#E1E5ED",
         "showgrid": false,
         "tickfont": {
          "color": "#4D5663"
         },
         "title": {
          "font": {
           "color": "#4D5663"
          },
          "text": ""
         },
         "zerolinecolor": "#E1E5ED"
        },
        "xaxis7": {
         "anchor": "y7",
         "domain": [
          0.525,
          0.7375
         ],
         "gridcolor": "#E1E5ED",
         "showgrid": false,
         "tickfont": {
          "color": "#4D5663"
         },
         "title": {
          "font": {
           "color": "#4D5663"
          },
          "text": ""
         },
         "zerolinecolor": "#E1E5ED"
        },
        "xaxis8": {
         "anchor": "y8",
         "domain": [
          0.7875,
          1
         ],
         "gridcolor": "#E1E5ED",
         "showgrid": false,
         "tickfont": {
          "color": "#4D5663"
         },
         "title": {
          "font": {
           "color": "#4D5663"
          },
          "text": ""
         },
         "zerolinecolor": "#E1E5ED"
        },
        "xaxis9": {
         "anchor": "y9",
         "domain": [
          0,
          0.2125
         ],
         "gridcolor": "#E1E5ED",
         "showgrid": false,
         "tickfont": {
          "color": "#4D5663"
         },
         "title": {
          "font": {
           "color": "#4D5663"
          },
          "text": ""
         },
         "zerolinecolor": "#E1E5ED"
        },
        "yaxis": {
         "anchor": "x",
         "domain": [
          0.8025,
          1
         ],
         "gridcolor": "#E1E5ED",
         "showgrid": false,
         "tickfont": {
          "color": "#4D5663"
         },
         "title": {
          "font": {
           "color": "#4D5663"
          },
          "text": ""
         },
         "zerolinecolor": "#E1E5ED"
        },
        "yaxis10": {
         "anchor": "x10",
         "domain": [
          0.2675,
          0.465
         ],
         "gridcolor": "#E1E5ED",
         "showgrid": false,
         "tickfont": {
          "color": "#4D5663"
         },
         "title": {
          "font": {
           "color": "#4D5663"
          },
          "text": ""
         },
         "zerolinecolor": "#E1E5ED"
        },
        "yaxis11": {
         "anchor": "x11",
         "domain": [
          0.2675,
          0.465
         ],
         "gridcolor": "#E1E5ED",
         "showgrid": false,
         "tickfont": {
          "color": "#4D5663"
         },
         "title": {
          "font": {
           "color": "#4D5663"
          },
          "text": ""
         },
         "zerolinecolor": "#E1E5ED"
        },
        "yaxis12": {
         "anchor": "x12",
         "domain": [
          0.2675,
          0.465
         ],
         "gridcolor": "#E1E5ED",
         "showgrid": false,
         "tickfont": {
          "color": "#4D5663"
         },
         "title": {
          "font": {
           "color": "#4D5663"
          },
          "text": ""
         },
         "zerolinecolor": "#E1E5ED"
        },
        "yaxis13": {
         "anchor": "x13",
         "domain": [
          0,
          0.1975
         ],
         "gridcolor": "#E1E5ED",
         "showgrid": false,
         "tickfont": {
          "color": "#4D5663"
         },
         "title": {
          "font": {
           "color": "#4D5663"
          },
          "text": ""
         },
         "zerolinecolor": "#E1E5ED"
        },
        "yaxis14": {
         "anchor": "x14",
         "domain": [
          0,
          0.1975
         ],
         "gridcolor": "#E1E5ED",
         "showgrid": false,
         "tickfont": {
          "color": "#4D5663"
         },
         "title": {
          "font": {
           "color": "#4D5663"
          },
          "text": ""
         },
         "zerolinecolor": "#E1E5ED"
        },
        "yaxis15": {
         "anchor": "x15",
         "domain": [
          0,
          0.1975
         ],
         "gridcolor": "#E1E5ED",
         "showgrid": false,
         "tickfont": {
          "color": "#4D5663"
         },
         "title": {
          "font": {
           "color": "#4D5663"
          },
          "text": ""
         },
         "zerolinecolor": "#E1E5ED"
        },
        "yaxis16": {
         "anchor": "x16",
         "domain": [
          0,
          0.1975
         ],
         "gridcolor": "#E1E5ED",
         "showgrid": false,
         "tickfont": {
          "color": "#4D5663"
         },
         "title": {
          "font": {
           "color": "#4D5663"
          },
          "text": ""
         },
         "zerolinecolor": "#E1E5ED"
        },
        "yaxis2": {
         "anchor": "x2",
         "domain": [
          0.8025,
          1
         ],
         "gridcolor": "#E1E5ED",
         "showgrid": false,
         "tickfont": {
          "color": "#4D5663"
         },
         "title": {
          "font": {
           "color": "#4D5663"
          },
          "text": ""
         },
         "zerolinecolor": "#E1E5ED"
        },
        "yaxis3": {
         "anchor": "x3",
         "domain": [
          0.8025,
          1
         ],
         "gridcolor": "#E1E5ED",
         "showgrid": false,
         "tickfont": {
          "color": "#4D5663"
         },
         "title": {
          "font": {
           "color": "#4D5663"
          },
          "text": ""
         },
         "zerolinecolor": "#E1E5ED"
        },
        "yaxis4": {
         "anchor": "x4",
         "domain": [
          0.8025,
          1
         ],
         "gridcolor": "#E1E5ED",
         "showgrid": false,
         "tickfont": {
          "color": "#4D5663"
         },
         "title": {
          "font": {
           "color": "#4D5663"
          },
          "text": ""
         },
         "zerolinecolor": "#E1E5ED"
        },
        "yaxis5": {
         "anchor": "x5",
         "domain": [
          0.535,
          0.7325
         ],
         "gridcolor": "#E1E5ED",
         "showgrid": false,
         "tickfont": {
          "color": "#4D5663"
         },
         "title": {
          "font": {
           "color": "#4D5663"
          },
          "text": ""
         },
         "zerolinecolor": "#E1E5ED"
        },
        "yaxis6": {
         "anchor": "x6",
         "domain": [
          0.535,
          0.7325
         ],
         "gridcolor": "#E1E5ED",
         "showgrid": false,
         "tickfont": {
          "color": "#4D5663"
         },
         "title": {
          "font": {
           "color": "#4D5663"
          },
          "text": ""
         },
         "zerolinecolor": "#E1E5ED"
        },
        "yaxis7": {
         "anchor": "x7",
         "domain": [
          0.535,
          0.7325
         ],
         "gridcolor": "#E1E5ED",
         "showgrid": false,
         "tickfont": {
          "color": "#4D5663"
         },
         "title": {
          "font": {
           "color": "#4D5663"
          },
          "text": ""
         },
         "zerolinecolor": "#E1E5ED"
        },
        "yaxis8": {
         "anchor": "x8",
         "domain": [
          0.535,
          0.7325
         ],
         "gridcolor": "#E1E5ED",
         "showgrid": false,
         "tickfont": {
          "color": "#4D5663"
         },
         "title": {
          "font": {
           "color": "#4D5663"
          },
          "text": ""
         },
         "zerolinecolor": "#E1E5ED"
        },
        "yaxis9": {
         "anchor": "x9",
         "domain": [
          0.2675,
          0.465
         ],
         "gridcolor": "#E1E5ED",
         "showgrid": false,
         "tickfont": {
          "color": "#4D5663"
         },
         "title": {
          "font": {
           "color": "#4D5663"
          },
          "text": ""
         },
         "zerolinecolor": "#E1E5ED"
        }
       }
      },
      "text/html": [
       "<div>                            <div id=\"bb6e0843-57bd-4e2f-bcd0-9b25fd465009\" class=\"plotly-graph-div\" style=\"height:525px; width:100%;\"></div>            <script type=\"text/javascript\">                require([\"plotly\"], function(Plotly) {                    window.PLOTLYENV=window.PLOTLYENV || {};\n",
       "                    window.PLOTLYENV.BASE_URL='https://plot.ly';                                    if (document.getElementById(\"bb6e0843-57bd-4e2f-bcd0-9b25fd465009\")) {                    Plotly.newPlot(                        \"bb6e0843-57bd-4e2f-bcd0-9b25fd465009\",                        [{\"histfunc\":\"count\",\"histnorm\":\"\",\"marker\":{\"color\":\"rgba(255, 153, 51, 1.0)\",\"line\":{\"color\":\"#4D5663\",\"width\":1.3}},\"name\":\"A\",\"nbinsx\":10,\"opacity\":0.8,\"orientation\":\"v\",\"x\":[-0.07455973164460492,0.10684607028138204,0.05174438274182425,1.8834582400552635,-0.7394873566653477,-0.20509986347008477,-0.03414545421950641,-0.6213525131646722,0.571263033821104,1.180464181279357,-0.203734605785186,0.7347661916372418,0.2859474736202656,0.04076517450424396,-0.9575891661839521,-1.4309383761629788,2.2550368651025283,-0.9940639812563287,0.799337873179283,-1.257878293181983,0.4179499111762863,0.3002148423464334,-1.1504058019430792,0.08143088735081103,0.48039194150290004,-0.6650657342765216,1.1156620567673445,1.6819828126747252,0.3100427456611766,-0.35556202725992564,0.5734972173901176,0.32590737332398945,0.26434526538445485,-0.28767952859901297,0.46220729582394343,-0.5818941295153186,1.285059720736958,1.5048915259613318,-0.6639248043990625,0.7636007895359088,-0.6463548675362586,0.4119553800931602,-0.41800965879757407,-0.9291745756491012,0.5941812800033995,0.6495415877446266,0.1446736681969964,0.26828186676311594,0.13889888661810415,-0.6067198644564883,-0.5830985850290649,-0.44261895162747866,-0.16593121692532206,1.5766366939770549,-0.9488282786185461,-0.47334557392170873,-2.9681775620277215,-0.25029734336535486,-1.1711717647996238,-0.6639685633213962,-1.5666336819385447,-0.8675551693083899,0.9365429397079991,0.15072665081471726,1.1852234520751472,-0.08290956220307087,-1.1017174229562567,-0.5198271089769748,0.37018057099191115,0.6484073753005931,-0.1590182089390411,-1.2123900485249766,-0.2362259963300999,-0.9316538839457773,-0.7702588740652273,1.4701363779831127,1.7874391009354653,0.24616432107668124,-1.182643305480476,0.35443322915141356,-0.4842531774514151,-0.44909134669233536,-0.5668275896818619,0.4175639632896596,-1.2611360990304046,-0.008206696883240246,-0.10979708777038237,0.49243560590286795,0.8213310947530663,-0.267726403403628,-1.2515625109561188,0.630999102938369,0.1713145260658875,-1.3560217445320064,-1.1258620552644414,1.095337440779493,1.7240614552766635,0.18149760823613265,-0.33113981029074463,-0.7243911418227783],\"xaxis\":\"x\",\"yaxis\":\"y\",\"type\":\"histogram\"},{\"line\":{\"color\":\"rgba(128, 128, 128, 1.0)\",\"dash\":\"solid\",\"shape\":\"linear\",\"width\":1.3},\"marker\":{\"size\":2,\"symbol\":\"circle\"},\"mode\":\"markers\",\"name\":\"A\",\"text\":\"\",\"x\":[0.20695886201338964,2.2267140798834366,2.0606705606804248,-0.47751358803428084,-0.8265999208195308,0.3683847538936354,-0.9215058882049292,0.2010981971926559,-2.612024672660992,1.994860248642683,0.6474845780135272,-1.4695376336420343,0.25329507946952484,-0.8847748430992944,0.01108872266051941,-1.1635524981707588,-0.16334248185299458,0.37081708914041467,-0.3744953167142966,0.25997366036222974,0.6587716974050809,-1.153664670868084,-1.697491236131132,0.7995087387377215,1.051287349057648,0.26519966512043014,0.16665172934102204,-0.9207235935854554,0.19392919045612925,0.30514185806513633,1.153170562731266,0.6444165797703777,0.10095403561272143,-1.3779799142755011,1.0886785013466902,0.4207240802224743,1.1386223070602004,-0.41875441978934674,1.1045931338539758,0.6514247563808732,-1.5404052766834295,-0.07015676241255123,0.34211903144043065,-0.18534612927812716,-1.8520443646410083,1.4319920389190104,1.1387925527034235,0.2698880956788044,0.1878047757021268,1.7741986146424833,0.22768156026066996,-0.20014286651396568,2.059179137491171,0.35223369637447816,0.05263010640213276,1.7322067881044543,-0.7745478394440942,2.0680320286556824,-0.6321155047266144,1.2659416243146926,0.4722821822143342,1.642169097988724,-1.7521377798815267,0.3727959530975647,-1.965263310446799,-1.0712504506589524,0.5342752099185382,-1.1298074723535294,-0.5580156206841335,0.823614953289078,-0.5479781763338187,-1.6514759368126157,-0.2328958270228804,1.4625741873716016,0.3342124737309676,1.3772224066244865,0.20175951418821808,0.2501868306006938,0.32303507776168344,0.5721589323589801,-1.3176653867942356,0.2393598296204175,0.929162936792238,0.43767400300848264,-0.08169926569148139,0.4789983045336972,-0.5059754539470817,0.46797344213078973,-0.7757631159400264,-1.4756298170780817,1.1509293631614974,0.6429496420266005,-0.4212609077669692,-0.4359617643911458,0.6020198623608694,-1.0543687019171408,-1.2676827628690235,0.14146548854024957,-0.5593082511505357,0.3558988051040138],\"xaxis\":\"x2\",\"y\":[-0.07455973164460492,0.10684607028138204,0.05174438274182425,1.8834582400552635,-0.7394873566653477,-0.20509986347008477,-0.03414545421950641,-0.6213525131646722,0.571263033821104,1.180464181279357,-0.203734605785186,0.7347661916372418,0.2859474736202656,0.04076517450424396,-0.9575891661839521,-1.4309383761629788,2.2550368651025283,-0.9940639812563287,0.799337873179283,-1.257878293181983,0.4179499111762863,0.3002148423464334,-1.1504058019430792,0.08143088735081103,0.48039194150290004,-0.6650657342765216,1.1156620567673445,1.6819828126747252,0.3100427456611766,-0.35556202725992564,0.5734972173901176,0.32590737332398945,0.26434526538445485,-0.28767952859901297,0.46220729582394343,-0.5818941295153186,1.285059720736958,1.5048915259613318,-0.6639248043990625,0.7636007895359088,-0.6463548675362586,0.4119553800931602,-0.41800965879757407,-0.9291745756491012,0.5941812800033995,0.6495415877446266,0.1446736681969964,0.26828186676311594,0.13889888661810415,-0.6067198644564883,-0.5830985850290649,-0.44261895162747866,-0.16593121692532206,1.5766366939770549,-0.9488282786185461,-0.47334557392170873,-2.9681775620277215,-0.25029734336535486,-1.1711717647996238,-0.6639685633213962,-1.5666336819385447,-0.8675551693083899,0.9365429397079991,0.15072665081471726,1.1852234520751472,-0.08290956220307087,-1.1017174229562567,-0.5198271089769748,0.37018057099191115,0.6484073753005931,-0.1590182089390411,-1.2123900485249766,-0.2362259963300999,-0.9316538839457773,-0.7702588740652273,1.4701363779831127,1.7874391009354653,0.24616432107668124,-1.182643305480476,0.35443322915141356,-0.4842531774514151,-0.44909134669233536,-0.5668275896818619,0.4175639632896596,-1.2611360990304046,-0.008206696883240246,-0.10979708777038237,0.49243560590286795,0.8213310947530663,-0.267726403403628,-1.2515625109561188,0.630999102938369,0.1713145260658875,-1.3560217445320064,-1.1258620552644414,1.095337440779493,1.7240614552766635,0.18149760823613265,-0.33113981029074463,-0.7243911418227783],\"yaxis\":\"y2\",\"type\":\"scatter\"},{\"line\":{\"color\":\"rgba(128, 128, 128, 1.0)\",\"dash\":\"solid\",\"shape\":\"linear\",\"width\":1.3},\"marker\":{\"size\":2,\"symbol\":\"circle\"},\"mode\":\"markers\",\"name\":\"A\",\"text\":\"\",\"x\":[-1.081269945135512,1.4994251562217111,-0.3119790245764006,-0.5700454804125089,-0.807023809252038,-0.5799702673215373,-0.09435532278377927,-0.31608968822404326,0.18299585804559182,0.3091374615684443,0.18201094779020607,-2.345641909923838,-0.13252030691115732,0.13238668905978415,1.1817837329912397,2.264407928958368,-0.8472059592401834,-1.3313848084966844,-0.08922639782092631,-1.4710730962481993,-0.6869991971293106,1.4778045441065182,1.1846977951460802,0.6607245948496702,0.1837760942987446,0.13627332908572537,-0.9257935097369108,-0.3631151365640535,-0.6530648937591993,0.007354264774219916,-0.8419688962869191,-1.7490095299427195,0.6203734953047744,1.1391677148048978,-0.3021498266477652,-0.2937454543805988,-1.3444898920202757,2.118046703207983,-0.743988751474283,-0.06963261339083487,-0.7996020752935274,-1.005798935187391,0.6701806296993339,-0.6113273408094672,1.8289686346629874,-1.3394559641761112,-0.15407754183638855,0.025477647925172372,0.22286592407597883,0.3586554102522154,-2.2207179594666115,-0.40609938632199105,0.8094387812022237,-0.409573014214997,-0.8624321442746868,-1.9900524733870248,-1.0621179123329199,0.17986964017037582,1.0936096630745618,-0.9569389898844811,-1.562862175503904,-0.011921576470930798,1.3255715669392727,-1.382966569593766,0.38060846600902815,0.023047012426766652,-0.10277895493911231,1.5766710606284269,1.0583807147051052,-0.028171066628308445,-0.7937277667327526,0.057974528758083864,0.45368708403810293,2.6283832133335965,1.0962176916034292,-0.1151122014513563,0.6066877991292793,-0.2496558126535614,0.7409857518887422,0.050310440543480495,1.1876527493678348,-0.32420002066467346,-0.7981078819489894,-0.11361464678331062,0.5705180150672012,-0.4653425859355932,1.2342526285328859,0.2674674107633959,-1.016193485761706,1.0469501273664463,0.06132106469109561,-0.3323035531320329,-1.4426210871023315,-0.6653133214293154,-0.4366264762884827,-1.2677628403645937,0.7813374855286151,0.49900218669676677,0.06659306844027807,2.4936858180276675],\"xaxis\":\"x3\",\"y\":[-0.07455973164460492,0.10684607028138204,0.05174438274182425,1.8834582400552635,-0.7394873566653477,-0.20509986347008477,-0.03414545421950641,-0.6213525131646722,0.571263033821104,1.180464181279357,-0.203734605785186,0.7347661916372418,0.2859474736202656,0.04076517450424396,-0.9575891661839521,-1.4309383761629788,2.2550368651025283,-0.9940639812563287,0.799337873179283,-1.257878293181983,0.4179499111762863,0.3002148423464334,-1.1504058019430792,0.08143088735081103,0.48039194150290004,-0.6650657342765216,1.1156620567673445,1.6819828126747252,0.3100427456611766,-0.35556202725992564,0.5734972173901176,0.32590737332398945,0.26434526538445485,-0.28767952859901297,0.46220729582394343,-0.5818941295153186,1.285059720736958,1.5048915259613318,-0.6639248043990625,0.7636007895359088,-0.6463548675362586,0.4119553800931602,-0.41800965879757407,-0.9291745756491012,0.5941812800033995,0.6495415877446266,0.1446736681969964,0.26828186676311594,0.13889888661810415,-0.6067198644564883,-0.5830985850290649,-0.44261895162747866,-0.16593121692532206,1.5766366939770549,-0.9488282786185461,-0.47334557392170873,-2.9681775620277215,-0.25029734336535486,-1.1711717647996238,-0.6639685633213962,-1.5666336819385447,-0.8675551693083899,0.9365429397079991,0.15072665081471726,1.1852234520751472,-0.08290956220307087,-1.1017174229562567,-0.5198271089769748,0.37018057099191115,0.6484073753005931,-0.1590182089390411,-1.2123900485249766,-0.2362259963300999,-0.9316538839457773,-0.7702588740652273,1.4701363779831127,1.7874391009354653,0.24616432107668124,-1.182643305480476,0.35443322915141356,-0.4842531774514151,-0.44909134669233536,-0.5668275896818619,0.4175639632896596,-1.2611360990304046,-0.008206696883240246,-0.10979708777038237,0.49243560590286795,0.8213310947530663,-0.267726403403628,-1.2515625109561188,0.630999102938369,0.1713145260658875,-1.3560217445320064,-1.1258620552644414,1.095337440779493,1.7240614552766635,0.18149760823613265,-0.33113981029074463,-0.7243911418227783],\"yaxis\":\"y3\",\"type\":\"scatter\"},{\"line\":{\"color\":\"rgba(128, 128, 128, 1.0)\",\"dash\":\"solid\",\"shape\":\"linear\",\"width\":1.3},\"marker\":{\"size\":2,\"symbol\":\"circle\"},\"mode\":\"markers\",\"name\":\"A\",\"text\":\"\",\"x\":[-0.8530464835686923,-0.9777211704949056,0.3671196294852984,0.7863072630984241,-1.0253861618314224,-0.4696397181389764,-0.6754239467268804,-0.3525284257974691,0.35479805241940754,-0.7083751409954576,1.0404062935691023,0.7232705225139738,-0.9458574170779152,-1.0937615085377304,0.6756009722227514,0.6754446860653938,-0.1540404335992706,-0.141838683385397,-1.9892866572395724,0.3262877045144788,-0.060912459662740503,0.7845234308016186,-0.8242176129734604,-0.696438279410444,1.3817725610609137,0.35013877794633497,0.7050803261791581,-0.313775937565349,-2.0822056554745427,-0.10495537796933573,0.4636166809545198,-0.4459029690784089,0.8292241120612767,1.2498512054626933,-0.49676866730921915,0.13572952910264804,-1.113134522240766,2.288876218225101,-0.027811988637406377,-0.014057354296969091,0.5941968980230878,0.7322196570655919,1.1376483490535065,-0.8061223662897936,1.0326704363100077,-1.0187555953747782,-0.7936986024875148,1.7250128752515284,-0.6907202876570452,1.1900466223571298,1.9829040794618682,-0.05518654612497724,-1.2732888394215272,-1.2033601621334395,-0.5077914994901958,-0.43038293124055405,-0.3088363031248792,0.02943936309552351,-1.2048038000864694,0.30210575820803937,-0.06400315095343355,-0.15176022595000632,0.4368484734463497,-0.5662310539363955,-0.9447988089482128,-0.6540711251538077,1.7793433754351027,0.23298373678295095,-1.280767886637018,-0.7754852937075334,-0.10400263262798473,-1.1157701073521156,0.22097666363929264,2.7024387581477134,-1.4309695428736593,0.876814390353818,-0.6273886791946258,-2.031881987131689,-1.0275083360189055,1.0592819257519337,-2.1620664985606393,0.27275525695182595,-0.447319165016932,0.4136715494169879,-2.288296945942758,-0.8127296548244415,-1.1266256532788121,-0.8215384686469209,-0.4872430165453182,-0.022574262627463378,-0.5843216053975311,0.011099364916450943,-0.5373376805509293,-2.2805091631118457,0.2922998628626371,-0.7207546091003253,0.39648514446519356,-0.8340295828931642,0.17768328109566717,0.9023490222152702],\"xaxis\":\"x4\",\"y\":[-0.07455973164460492,0.10684607028138204,0.05174438274182425,1.8834582400552635,-0.7394873566653477,-0.20509986347008477,-0.03414545421950641,-0.6213525131646722,0.571263033821104,1.180464181279357,-0.203734605785186,0.7347661916372418,0.2859474736202656,0.04076517450424396,-0.9575891661839521,-1.4309383761629788,2.2550368651025283,-0.9940639812563287,0.799337873179283,-1.257878293181983,0.4179499111762863,0.3002148423464334,-1.1504058019430792,0.08143088735081103,0.48039194150290004,-0.6650657342765216,1.1156620567673445,1.6819828126747252,0.3100427456611766,-0.35556202725992564,0.5734972173901176,0.32590737332398945,0.26434526538445485,-0.28767952859901297,0.46220729582394343,-0.5818941295153186,1.285059720736958,1.5048915259613318,-0.6639248043990625,0.7636007895359088,-0.6463548675362586,0.4119553800931602,-0.41800965879757407,-0.9291745756491012,0.5941812800033995,0.6495415877446266,0.1446736681969964,0.26828186676311594,0.13889888661810415,-0.6067198644564883,-0.5830985850290649,-0.44261895162747866,-0.16593121692532206,1.5766366939770549,-0.9488282786185461,-0.47334557392170873,-2.9681775620277215,-0.25029734336535486,-1.1711717647996238,-0.6639685633213962,-1.5666336819385447,-0.8675551693083899,0.9365429397079991,0.15072665081471726,1.1852234520751472,-0.08290956220307087,-1.1017174229562567,-0.5198271089769748,0.37018057099191115,0.6484073753005931,-0.1590182089390411,-1.2123900485249766,-0.2362259963300999,-0.9316538839457773,-0.7702588740652273,1.4701363779831127,1.7874391009354653,0.24616432107668124,-1.182643305480476,0.35443322915141356,-0.4842531774514151,-0.44909134669233536,-0.5668275896818619,0.4175639632896596,-1.2611360990304046,-0.008206696883240246,-0.10979708777038237,0.49243560590286795,0.8213310947530663,-0.267726403403628,-1.2515625109561188,0.630999102938369,0.1713145260658875,-1.3560217445320064,-1.1258620552644414,1.095337440779493,1.7240614552766635,0.18149760823613265,-0.33113981029074463,-0.7243911418227783],\"yaxis\":\"y4\",\"type\":\"scatter\"},{\"line\":{\"color\":\"rgba(128, 128, 128, 1.0)\",\"dash\":\"solid\",\"shape\":\"linear\",\"width\":1.3},\"marker\":{\"size\":2,\"symbol\":\"circle\"},\"mode\":\"markers\",\"name\":\"B\",\"text\":\"\",\"x\":[-0.07455973164460492,0.10684607028138204,0.05174438274182425,1.8834582400552635,-0.7394873566653477,-0.20509986347008477,-0.03414545421950641,-0.6213525131646722,0.571263033821104,1.180464181279357,-0.203734605785186,0.7347661916372418,0.2859474736202656,0.04076517450424396,-0.9575891661839521,-1.4309383761629788,2.2550368651025283,-0.9940639812563287,0.799337873179283,-1.257878293181983,0.4179499111762863,0.3002148423464334,-1.1504058019430792,0.08143088735081103,0.48039194150290004,-0.6650657342765216,1.1156620567673445,1.6819828126747252,0.3100427456611766,-0.35556202725992564,0.5734972173901176,0.32590737332398945,0.26434526538445485,-0.28767952859901297,0.46220729582394343,-0.5818941295153186,1.285059720736958,1.5048915259613318,-0.6639248043990625,0.7636007895359088,-0.6463548675362586,0.4119553800931602,-0.41800965879757407,-0.9291745756491012,0.5941812800033995,0.6495415877446266,0.1446736681969964,0.26828186676311594,0.13889888661810415,-0.6067198644564883,-0.5830985850290649,-0.44261895162747866,-0.16593121692532206,1.5766366939770549,-0.9488282786185461,-0.47334557392170873,-2.9681775620277215,-0.25029734336535486,-1.1711717647996238,-0.6639685633213962,-1.5666336819385447,-0.8675551693083899,0.9365429397079991,0.15072665081471726,1.1852234520751472,-0.08290956220307087,-1.1017174229562567,-0.5198271089769748,0.37018057099191115,0.6484073753005931,-0.1590182089390411,-1.2123900485249766,-0.2362259963300999,-0.9316538839457773,-0.7702588740652273,1.4701363779831127,1.7874391009354653,0.24616432107668124,-1.182643305480476,0.35443322915141356,-0.4842531774514151,-0.44909134669233536,-0.5668275896818619,0.4175639632896596,-1.2611360990304046,-0.008206696883240246,-0.10979708777038237,0.49243560590286795,0.8213310947530663,-0.267726403403628,-1.2515625109561188,0.630999102938369,0.1713145260658875,-1.3560217445320064,-1.1258620552644414,1.095337440779493,1.7240614552766635,0.18149760823613265,-0.33113981029074463,-0.7243911418227783],\"xaxis\":\"x5\",\"y\":[0.20695886201338964,2.2267140798834366,2.0606705606804248,-0.47751358803428084,-0.8265999208195308,0.3683847538936354,-0.9215058882049292,0.2010981971926559,-2.612024672660992,1.994860248642683,0.6474845780135272,-1.4695376336420343,0.25329507946952484,-0.8847748430992944,0.01108872266051941,-1.1635524981707588,-0.16334248185299458,0.37081708914041467,-0.3744953167142966,0.25997366036222974,0.6587716974050809,-1.153664670868084,-1.697491236131132,0.7995087387377215,1.051287349057648,0.26519966512043014,0.16665172934102204,-0.9207235935854554,0.19392919045612925,0.30514185806513633,1.153170562731266,0.6444165797703777,0.10095403561272143,-1.3779799142755011,1.0886785013466902,0.4207240802224743,1.1386223070602004,-0.41875441978934674,1.1045931338539758,0.6514247563808732,-1.5404052766834295,-0.07015676241255123,0.34211903144043065,-0.18534612927812716,-1.8520443646410083,1.4319920389190104,1.1387925527034235,0.2698880956788044,0.1878047757021268,1.7741986146424833,0.22768156026066996,-0.20014286651396568,2.059179137491171,0.35223369637447816,0.05263010640213276,1.7322067881044543,-0.7745478394440942,2.0680320286556824,-0.6321155047266144,1.2659416243146926,0.4722821822143342,1.642169097988724,-1.7521377798815267,0.3727959530975647,-1.965263310446799,-1.0712504506589524,0.5342752099185382,-1.1298074723535294,-0.5580156206841335,0.823614953289078,-0.5479781763338187,-1.6514759368126157,-0.2328958270228804,1.4625741873716016,0.3342124737309676,1.3772224066244865,0.20175951418821808,0.2501868306006938,0.32303507776168344,0.5721589323589801,-1.3176653867942356,0.2393598296204175,0.929162936792238,0.43767400300848264,-0.08169926569148139,0.4789983045336972,-0.5059754539470817,0.46797344213078973,-0.7757631159400264,-1.4756298170780817,1.1509293631614974,0.6429496420266005,-0.4212609077669692,-0.4359617643911458,0.6020198623608694,-1.0543687019171408,-1.2676827628690235,0.14146548854024957,-0.5593082511505357,0.3558988051040138],\"yaxis\":\"y5\",\"type\":\"scatter\"},{\"histfunc\":\"count\",\"histnorm\":\"\",\"marker\":{\"color\":\"rgba(55, 128, 191, 1.0)\",\"line\":{\"color\":\"#4D5663\",\"width\":1.3}},\"name\":\"B\",\"nbinsx\":10,\"opacity\":0.8,\"orientation\":\"v\",\"x\":[0.20695886201338964,2.2267140798834366,2.0606705606804248,-0.47751358803428084,-0.8265999208195308,0.3683847538936354,-0.9215058882049292,0.2010981971926559,-2.612024672660992,1.994860248642683,0.6474845780135272,-1.4695376336420343,0.25329507946952484,-0.8847748430992944,0.01108872266051941,-1.1635524981707588,-0.16334248185299458,0.37081708914041467,-0.3744953167142966,0.25997366036222974,0.6587716974050809,-1.153664670868084,-1.697491236131132,0.7995087387377215,1.051287349057648,0.26519966512043014,0.16665172934102204,-0.9207235935854554,0.19392919045612925,0.30514185806513633,1.153170562731266,0.6444165797703777,0.10095403561272143,-1.3779799142755011,1.0886785013466902,0.4207240802224743,1.1386223070602004,-0.41875441978934674,1.1045931338539758,0.6514247563808732,-1.5404052766834295,-0.07015676241255123,0.34211903144043065,-0.18534612927812716,-1.8520443646410083,1.4319920389190104,1.1387925527034235,0.2698880956788044,0.1878047757021268,1.7741986146424833,0.22768156026066996,-0.20014286651396568,2.059179137491171,0.35223369637447816,0.05263010640213276,1.7322067881044543,-0.7745478394440942,2.0680320286556824,-0.6321155047266144,1.2659416243146926,0.4722821822143342,1.642169097988724,-1.7521377798815267,0.3727959530975647,-1.965263310446799,-1.0712504506589524,0.5342752099185382,-1.1298074723535294,-0.5580156206841335,0.823614953289078,-0.5479781763338187,-1.6514759368126157,-0.2328958270228804,1.4625741873716016,0.3342124737309676,1.3772224066244865,0.20175951418821808,0.2501868306006938,0.32303507776168344,0.5721589323589801,-1.3176653867942356,0.2393598296204175,0.929162936792238,0.43767400300848264,-0.08169926569148139,0.4789983045336972,-0.5059754539470817,0.46797344213078973,-0.7757631159400264,-1.4756298170780817,1.1509293631614974,0.6429496420266005,-0.4212609077669692,-0.4359617643911458,0.6020198623608694,-1.0543687019171408,-1.2676827628690235,0.14146548854024957,-0.5593082511505357,0.3558988051040138],\"xaxis\":\"x6\",\"yaxis\":\"y6\",\"type\":\"histogram\"},{\"line\":{\"color\":\"rgba(128, 128, 128, 1.0)\",\"dash\":\"solid\",\"shape\":\"linear\",\"width\":1.3},\"marker\":{\"size\":2,\"symbol\":\"circle\"},\"mode\":\"markers\",\"name\":\"B\",\"text\":\"\",\"x\":[-1.081269945135512,1.4994251562217111,-0.3119790245764006,-0.5700454804125089,-0.807023809252038,-0.5799702673215373,-0.09435532278377927,-0.31608968822404326,0.18299585804559182,0.3091374615684443,0.18201094779020607,-2.345641909923838,-0.13252030691115732,0.13238668905978415,1.1817837329912397,2.264407928958368,-0.8472059592401834,-1.3313848084966844,-0.08922639782092631,-1.4710730962481993,-0.6869991971293106,1.4778045441065182,1.1846977951460802,0.6607245948496702,0.1837760942987446,0.13627332908572537,-0.9257935097369108,-0.3631151365640535,-0.6530648937591993,0.007354264774219916,-0.8419688962869191,-1.7490095299427195,0.6203734953047744,1.1391677148048978,-0.3021498266477652,-0.2937454543805988,-1.3444898920202757,2.118046703207983,-0.743988751474283,-0.06963261339083487,-0.7996020752935274,-1.005798935187391,0.6701806296993339,-0.6113273408094672,1.8289686346629874,-1.3394559641761112,-0.15407754183638855,0.025477647925172372,0.22286592407597883,0.3586554102522154,-2.2207179594666115,-0.40609938632199105,0.8094387812022237,-0.409573014214997,-0.8624321442746868,-1.9900524733870248,-1.0621179123329199,0.17986964017037582,1.0936096630745618,-0.9569389898844811,-1.562862175503904,-0.011921576470930798,1.3255715669392727,-1.382966569593766,0.38060846600902815,0.023047012426766652,-0.10277895493911231,1.5766710606284269,1.0583807147051052,-0.028171066628308445,-0.7937277667327526,0.057974528758083864,0.45368708403810293,2.6283832133335965,1.0962176916034292,-0.1151122014513563,0.6066877991292793,-0.2496558126535614,0.7409857518887422,0.050310440543480495,1.1876527493678348,-0.32420002066467346,-0.7981078819489894,-0.11361464678331062,0.5705180150672012,-0.4653425859355932,1.2342526285328859,0.2674674107633959,-1.016193485761706,1.0469501273664463,0.06132106469109561,-0.3323035531320329,-1.4426210871023315,-0.6653133214293154,-0.4366264762884827,-1.2677628403645937,0.7813374855286151,0.49900218669676677,0.06659306844027807,2.4936858180276675],\"xaxis\":\"x7\",\"y\":[0.20695886201338964,2.2267140798834366,2.0606705606804248,-0.47751358803428084,-0.8265999208195308,0.3683847538936354,-0.9215058882049292,0.2010981971926559,-2.612024672660992,1.994860248642683,0.6474845780135272,-1.4695376336420343,0.25329507946952484,-0.8847748430992944,0.01108872266051941,-1.1635524981707588,-0.16334248185299458,0.37081708914041467,-0.3744953167142966,0.25997366036222974,0.6587716974050809,-1.153664670868084,-1.697491236131132,0.7995087387377215,1.051287349057648,0.26519966512043014,0.16665172934102204,-0.9207235935854554,0.19392919045612925,0.30514185806513633,1.153170562731266,0.6444165797703777,0.10095403561272143,-1.3779799142755011,1.0886785013466902,0.4207240802224743,1.1386223070602004,-0.41875441978934674,1.1045931338539758,0.6514247563808732,-1.5404052766834295,-0.07015676241255123,0.34211903144043065,-0.18534612927812716,-1.8520443646410083,1.4319920389190104,1.1387925527034235,0.2698880956788044,0.1878047757021268,1.7741986146424833,0.22768156026066996,-0.20014286651396568,2.059179137491171,0.35223369637447816,0.05263010640213276,1.7322067881044543,-0.7745478394440942,2.0680320286556824,-0.6321155047266144,1.2659416243146926,0.4722821822143342,1.642169097988724,-1.7521377798815267,0.3727959530975647,-1.965263310446799,-1.0712504506589524,0.5342752099185382,-1.1298074723535294,-0.5580156206841335,0.823614953289078,-0.5479781763338187,-1.6514759368126157,-0.2328958270228804,1.4625741873716016,0.3342124737309676,1.3772224066244865,0.20175951418821808,0.2501868306006938,0.32303507776168344,0.5721589323589801,-1.3176653867942356,0.2393598296204175,0.929162936792238,0.43767400300848264,-0.08169926569148139,0.4789983045336972,-0.5059754539470817,0.46797344213078973,-0.7757631159400264,-1.4756298170780817,1.1509293631614974,0.6429496420266005,-0.4212609077669692,-0.4359617643911458,0.6020198623608694,-1.0543687019171408,-1.2676827628690235,0.14146548854024957,-0.5593082511505357,0.3558988051040138],\"yaxis\":\"y7\",\"type\":\"scatter\"},{\"line\":{\"color\":\"rgba(128, 128, 128, 1.0)\",\"dash\":\"solid\",\"shape\":\"linear\",\"width\":1.3},\"marker\":{\"size\":2,\"symbol\":\"circle\"},\"mode\":\"markers\",\"name\":\"B\",\"text\":\"\",\"x\":[-0.8530464835686923,-0.9777211704949056,0.3671196294852984,0.7863072630984241,-1.0253861618314224,-0.4696397181389764,-0.6754239467268804,-0.3525284257974691,0.35479805241940754,-0.7083751409954576,1.0404062935691023,0.7232705225139738,-0.9458574170779152,-1.0937615085377304,0.6756009722227514,0.6754446860653938,-0.1540404335992706,-0.141838683385397,-1.9892866572395724,0.3262877045144788,-0.060912459662740503,0.7845234308016186,-0.8242176129734604,-0.696438279410444,1.3817725610609137,0.35013877794633497,0.7050803261791581,-0.313775937565349,-2.0822056554745427,-0.10495537796933573,0.4636166809545198,-0.4459029690784089,0.8292241120612767,1.2498512054626933,-0.49676866730921915,0.13572952910264804,-1.113134522240766,2.288876218225101,-0.027811988637406377,-0.014057354296969091,0.5941968980230878,0.7322196570655919,1.1376483490535065,-0.8061223662897936,1.0326704363100077,-1.0187555953747782,-0.7936986024875148,1.7250128752515284,-0.6907202876570452,1.1900466223571298,1.9829040794618682,-0.05518654612497724,-1.2732888394215272,-1.2033601621334395,-0.5077914994901958,-0.43038293124055405,-0.3088363031248792,0.02943936309552351,-1.2048038000864694,0.30210575820803937,-0.06400315095343355,-0.15176022595000632,0.4368484734463497,-0.5662310539363955,-0.9447988089482128,-0.6540711251538077,1.7793433754351027,0.23298373678295095,-1.280767886637018,-0.7754852937075334,-0.10400263262798473,-1.1157701073521156,0.22097666363929264,2.7024387581477134,-1.4309695428736593,0.876814390353818,-0.6273886791946258,-2.031881987131689,-1.0275083360189055,1.0592819257519337,-2.1620664985606393,0.27275525695182595,-0.447319165016932,0.4136715494169879,-2.288296945942758,-0.8127296548244415,-1.1266256532788121,-0.8215384686469209,-0.4872430165453182,-0.022574262627463378,-0.5843216053975311,0.011099364916450943,-0.5373376805509293,-2.2805091631118457,0.2922998628626371,-0.7207546091003253,0.39648514446519356,-0.8340295828931642,0.17768328109566717,0.9023490222152702],\"xaxis\":\"x8\",\"y\":[0.20695886201338964,2.2267140798834366,2.0606705606804248,-0.47751358803428084,-0.8265999208195308,0.3683847538936354,-0.9215058882049292,0.2010981971926559,-2.612024672660992,1.994860248642683,0.6474845780135272,-1.4695376336420343,0.25329507946952484,-0.8847748430992944,0.01108872266051941,-1.1635524981707588,-0.16334248185299458,0.37081708914041467,-0.3744953167142966,0.25997366036222974,0.6587716974050809,-1.153664670868084,-1.697491236131132,0.7995087387377215,1.051287349057648,0.26519966512043014,0.16665172934102204,-0.9207235935854554,0.19392919045612925,0.30514185806513633,1.153170562731266,0.6444165797703777,0.10095403561272143,-1.3779799142755011,1.0886785013466902,0.4207240802224743,1.1386223070602004,-0.41875441978934674,1.1045931338539758,0.6514247563808732,-1.5404052766834295,-0.07015676241255123,0.34211903144043065,-0.18534612927812716,-1.8520443646410083,1.4319920389190104,1.1387925527034235,0.2698880956788044,0.1878047757021268,1.7741986146424833,0.22768156026066996,-0.20014286651396568,2.059179137491171,0.35223369637447816,0.05263010640213276,1.7322067881044543,-0.7745478394440942,2.0680320286556824,-0.6321155047266144,1.2659416243146926,0.4722821822143342,1.642169097988724,-1.7521377798815267,0.3727959530975647,-1.965263310446799,-1.0712504506589524,0.5342752099185382,-1.1298074723535294,-0.5580156206841335,0.823614953289078,-0.5479781763338187,-1.6514759368126157,-0.2328958270228804,1.4625741873716016,0.3342124737309676,1.3772224066244865,0.20175951418821808,0.2501868306006938,0.32303507776168344,0.5721589323589801,-1.3176653867942356,0.2393598296204175,0.929162936792238,0.43767400300848264,-0.08169926569148139,0.4789983045336972,-0.5059754539470817,0.46797344213078973,-0.7757631159400264,-1.4756298170780817,1.1509293631614974,0.6429496420266005,-0.4212609077669692,-0.4359617643911458,0.6020198623608694,-1.0543687019171408,-1.2676827628690235,0.14146548854024957,-0.5593082511505357,0.3558988051040138],\"yaxis\":\"y8\",\"type\":\"scatter\"},{\"line\":{\"color\":\"rgba(128, 128, 128, 1.0)\",\"dash\":\"solid\",\"shape\":\"linear\",\"width\":1.3},\"marker\":{\"size\":2,\"symbol\":\"circle\"},\"mode\":\"markers\",\"name\":\"C\",\"text\":\"\",\"x\":[-0.07455973164460492,0.10684607028138204,0.05174438274182425,1.8834582400552635,-0.7394873566653477,-0.20509986347008477,-0.03414545421950641,-0.6213525131646722,0.571263033821104,1.180464181279357,-0.203734605785186,0.7347661916372418,0.2859474736202656,0.04076517450424396,-0.9575891661839521,-1.4309383761629788,2.2550368651025283,-0.9940639812563287,0.799337873179283,-1.257878293181983,0.4179499111762863,0.3002148423464334,-1.1504058019430792,0.08143088735081103,0.48039194150290004,-0.6650657342765216,1.1156620567673445,1.6819828126747252,0.3100427456611766,-0.35556202725992564,0.5734972173901176,0.32590737332398945,0.26434526538445485,-0.28767952859901297,0.46220729582394343,-0.5818941295153186,1.285059720736958,1.5048915259613318,-0.6639248043990625,0.7636007895359088,-0.6463548675362586,0.4119553800931602,-0.41800965879757407,-0.9291745756491012,0.5941812800033995,0.6495415877446266,0.1446736681969964,0.26828186676311594,0.13889888661810415,-0.6067198644564883,-0.5830985850290649,-0.44261895162747866,-0.16593121692532206,1.5766366939770549,-0.9488282786185461,-0.47334557392170873,-2.9681775620277215,-0.25029734336535486,-1.1711717647996238,-0.6639685633213962,-1.5666336819385447,-0.8675551693083899,0.9365429397079991,0.15072665081471726,1.1852234520751472,-0.08290956220307087,-1.1017174229562567,-0.5198271089769748,0.37018057099191115,0.6484073753005931,-0.1590182089390411,-1.2123900485249766,-0.2362259963300999,-0.9316538839457773,-0.7702588740652273,1.4701363779831127,1.7874391009354653,0.24616432107668124,-1.182643305480476,0.35443322915141356,-0.4842531774514151,-0.44909134669233536,-0.5668275896818619,0.4175639632896596,-1.2611360990304046,-0.008206696883240246,-0.10979708777038237,0.49243560590286795,0.8213310947530663,-0.267726403403628,-1.2515625109561188,0.630999102938369,0.1713145260658875,-1.3560217445320064,-1.1258620552644414,1.095337440779493,1.7240614552766635,0.18149760823613265,-0.33113981029074463,-0.7243911418227783],\"xaxis\":\"x9\",\"y\":[-1.081269945135512,1.4994251562217111,-0.3119790245764006,-0.5700454804125089,-0.807023809252038,-0.5799702673215373,-0.09435532278377927,-0.31608968822404326,0.18299585804559182,0.3091374615684443,0.18201094779020607,-2.345641909923838,-0.13252030691115732,0.13238668905978415,1.1817837329912397,2.264407928958368,-0.8472059592401834,-1.3313848084966844,-0.08922639782092631,-1.4710730962481993,-0.6869991971293106,1.4778045441065182,1.1846977951460802,0.6607245948496702,0.1837760942987446,0.13627332908572537,-0.9257935097369108,-0.3631151365640535,-0.6530648937591993,0.007354264774219916,-0.8419688962869191,-1.7490095299427195,0.6203734953047744,1.1391677148048978,-0.3021498266477652,-0.2937454543805988,-1.3444898920202757,2.118046703207983,-0.743988751474283,-0.06963261339083487,-0.7996020752935274,-1.005798935187391,0.6701806296993339,-0.6113273408094672,1.8289686346629874,-1.3394559641761112,-0.15407754183638855,0.025477647925172372,0.22286592407597883,0.3586554102522154,-2.2207179594666115,-0.40609938632199105,0.8094387812022237,-0.409573014214997,-0.8624321442746868,-1.9900524733870248,-1.0621179123329199,0.17986964017037582,1.0936096630745618,-0.9569389898844811,-1.562862175503904,-0.011921576470930798,1.3255715669392727,-1.382966569593766,0.38060846600902815,0.023047012426766652,-0.10277895493911231,1.5766710606284269,1.0583807147051052,-0.028171066628308445,-0.7937277667327526,0.057974528758083864,0.45368708403810293,2.6283832133335965,1.0962176916034292,-0.1151122014513563,0.6066877991292793,-0.2496558126535614,0.7409857518887422,0.050310440543480495,1.1876527493678348,-0.32420002066467346,-0.7981078819489894,-0.11361464678331062,0.5705180150672012,-0.4653425859355932,1.2342526285328859,0.2674674107633959,-1.016193485761706,1.0469501273664463,0.06132106469109561,-0.3323035531320329,-1.4426210871023315,-0.6653133214293154,-0.4366264762884827,-1.2677628403645937,0.7813374855286151,0.49900218669676677,0.06659306844027807,2.4936858180276675],\"yaxis\":\"y9\",\"type\":\"scatter\"},{\"line\":{\"color\":\"rgba(128, 128, 128, 1.0)\",\"dash\":\"solid\",\"shape\":\"linear\",\"width\":1.3},\"marker\":{\"size\":2,\"symbol\":\"circle\"},\"mode\":\"markers\",\"name\":\"C\",\"text\":\"\",\"x\":[0.20695886201338964,2.2267140798834366,2.0606705606804248,-0.47751358803428084,-0.8265999208195308,0.3683847538936354,-0.9215058882049292,0.2010981971926559,-2.612024672660992,1.994860248642683,0.6474845780135272,-1.4695376336420343,0.25329507946952484,-0.8847748430992944,0.01108872266051941,-1.1635524981707588,-0.16334248185299458,0.37081708914041467,-0.3744953167142966,0.25997366036222974,0.6587716974050809,-1.153664670868084,-1.697491236131132,0.7995087387377215,1.051287349057648,0.26519966512043014,0.16665172934102204,-0.9207235935854554,0.19392919045612925,0.30514185806513633,1.153170562731266,0.6444165797703777,0.10095403561272143,-1.3779799142755011,1.0886785013466902,0.4207240802224743,1.1386223070602004,-0.41875441978934674,1.1045931338539758,0.6514247563808732,-1.5404052766834295,-0.07015676241255123,0.34211903144043065,-0.18534612927812716,-1.8520443646410083,1.4319920389190104,1.1387925527034235,0.2698880956788044,0.1878047757021268,1.7741986146424833,0.22768156026066996,-0.20014286651396568,2.059179137491171,0.35223369637447816,0.05263010640213276,1.7322067881044543,-0.7745478394440942,2.0680320286556824,-0.6321155047266144,1.2659416243146926,0.4722821822143342,1.642169097988724,-1.7521377798815267,0.3727959530975647,-1.965263310446799,-1.0712504506589524,0.5342752099185382,-1.1298074723535294,-0.5580156206841335,0.823614953289078,-0.5479781763338187,-1.6514759368126157,-0.2328958270228804,1.4625741873716016,0.3342124737309676,1.3772224066244865,0.20175951418821808,0.2501868306006938,0.32303507776168344,0.5721589323589801,-1.3176653867942356,0.2393598296204175,0.929162936792238,0.43767400300848264,-0.08169926569148139,0.4789983045336972,-0.5059754539470817,0.46797344213078973,-0.7757631159400264,-1.4756298170780817,1.1509293631614974,0.6429496420266005,-0.4212609077669692,-0.4359617643911458,0.6020198623608694,-1.0543687019171408,-1.2676827628690235,0.14146548854024957,-0.5593082511505357,0.3558988051040138],\"xaxis\":\"x10\",\"y\":[-1.081269945135512,1.4994251562217111,-0.3119790245764006,-0.5700454804125089,-0.807023809252038,-0.5799702673215373,-0.09435532278377927,-0.31608968822404326,0.18299585804559182,0.3091374615684443,0.18201094779020607,-2.345641909923838,-0.13252030691115732,0.13238668905978415,1.1817837329912397,2.264407928958368,-0.8472059592401834,-1.3313848084966844,-0.08922639782092631,-1.4710730962481993,-0.6869991971293106,1.4778045441065182,1.1846977951460802,0.6607245948496702,0.1837760942987446,0.13627332908572537,-0.9257935097369108,-0.3631151365640535,-0.6530648937591993,0.007354264774219916,-0.8419688962869191,-1.7490095299427195,0.6203734953047744,1.1391677148048978,-0.3021498266477652,-0.2937454543805988,-1.3444898920202757,2.118046703207983,-0.743988751474283,-0.06963261339083487,-0.7996020752935274,-1.005798935187391,0.6701806296993339,-0.6113273408094672,1.8289686346629874,-1.3394559641761112,-0.15407754183638855,0.025477647925172372,0.22286592407597883,0.3586554102522154,-2.2207179594666115,-0.40609938632199105,0.8094387812022237,-0.409573014214997,-0.8624321442746868,-1.9900524733870248,-1.0621179123329199,0.17986964017037582,1.0936096630745618,-0.9569389898844811,-1.562862175503904,-0.011921576470930798,1.3255715669392727,-1.382966569593766,0.38060846600902815,0.023047012426766652,-0.10277895493911231,1.5766710606284269,1.0583807147051052,-0.028171066628308445,-0.7937277667327526,0.057974528758083864,0.45368708403810293,2.6283832133335965,1.0962176916034292,-0.1151122014513563,0.6066877991292793,-0.2496558126535614,0.7409857518887422,0.050310440543480495,1.1876527493678348,-0.32420002066467346,-0.7981078819489894,-0.11361464678331062,0.5705180150672012,-0.4653425859355932,1.2342526285328859,0.2674674107633959,-1.016193485761706,1.0469501273664463,0.06132106469109561,-0.3323035531320329,-1.4426210871023315,-0.6653133214293154,-0.4366264762884827,-1.2677628403645937,0.7813374855286151,0.49900218669676677,0.06659306844027807,2.4936858180276675],\"yaxis\":\"y10\",\"type\":\"scatter\"},{\"histfunc\":\"count\",\"histnorm\":\"\",\"marker\":{\"color\":\"rgba(50, 171, 96, 1.0)\",\"line\":{\"color\":\"#4D5663\",\"width\":1.3}},\"name\":\"C\",\"nbinsx\":10,\"opacity\":0.8,\"orientation\":\"v\",\"x\":[-1.081269945135512,1.4994251562217111,-0.3119790245764006,-0.5700454804125089,-0.807023809252038,-0.5799702673215373,-0.09435532278377927,-0.31608968822404326,0.18299585804559182,0.3091374615684443,0.18201094779020607,-2.345641909923838,-0.13252030691115732,0.13238668905978415,1.1817837329912397,2.264407928958368,-0.8472059592401834,-1.3313848084966844,-0.08922639782092631,-1.4710730962481993,-0.6869991971293106,1.4778045441065182,1.1846977951460802,0.6607245948496702,0.1837760942987446,0.13627332908572537,-0.9257935097369108,-0.3631151365640535,-0.6530648937591993,0.007354264774219916,-0.8419688962869191,-1.7490095299427195,0.6203734953047744,1.1391677148048978,-0.3021498266477652,-0.2937454543805988,-1.3444898920202757,2.118046703207983,-0.743988751474283,-0.06963261339083487,-0.7996020752935274,-1.005798935187391,0.6701806296993339,-0.6113273408094672,1.8289686346629874,-1.3394559641761112,-0.15407754183638855,0.025477647925172372,0.22286592407597883,0.3586554102522154,-2.2207179594666115,-0.40609938632199105,0.8094387812022237,-0.409573014214997,-0.8624321442746868,-1.9900524733870248,-1.0621179123329199,0.17986964017037582,1.0936096630745618,-0.9569389898844811,-1.562862175503904,-0.011921576470930798,1.3255715669392727,-1.382966569593766,0.38060846600902815,0.023047012426766652,-0.10277895493911231,1.5766710606284269,1.0583807147051052,-0.028171066628308445,-0.7937277667327526,0.057974528758083864,0.45368708403810293,2.6283832133335965,1.0962176916034292,-0.1151122014513563,0.6066877991292793,-0.2496558126535614,0.7409857518887422,0.050310440543480495,1.1876527493678348,-0.32420002066467346,-0.7981078819489894,-0.11361464678331062,0.5705180150672012,-0.4653425859355932,1.2342526285328859,0.2674674107633959,-1.016193485761706,1.0469501273664463,0.06132106469109561,-0.3323035531320329,-1.4426210871023315,-0.6653133214293154,-0.4366264762884827,-1.2677628403645937,0.7813374855286151,0.49900218669676677,0.06659306844027807,2.4936858180276675],\"xaxis\":\"x11\",\"yaxis\":\"y11\",\"type\":\"histogram\"},{\"line\":{\"color\":\"rgba(128, 128, 128, 1.0)\",\"dash\":\"solid\",\"shape\":\"linear\",\"width\":1.3},\"marker\":{\"size\":2,\"symbol\":\"circle\"},\"mode\":\"markers\",\"name\":\"C\",\"text\":\"\",\"x\":[-0.8530464835686923,-0.9777211704949056,0.3671196294852984,0.7863072630984241,-1.0253861618314224,-0.4696397181389764,-0.6754239467268804,-0.3525284257974691,0.35479805241940754,-0.7083751409954576,1.0404062935691023,0.7232705225139738,-0.9458574170779152,-1.0937615085377304,0.6756009722227514,0.6754446860653938,-0.1540404335992706,-0.141838683385397,-1.9892866572395724,0.3262877045144788,-0.060912459662740503,0.7845234308016186,-0.8242176129734604,-0.696438279410444,1.3817725610609137,0.35013877794633497,0.7050803261791581,-0.313775937565349,-2.0822056554745427,-0.10495537796933573,0.4636166809545198,-0.4459029690784089,0.8292241120612767,1.2498512054626933,-0.49676866730921915,0.13572952910264804,-1.113134522240766,2.288876218225101,-0.027811988637406377,-0.014057354296969091,0.5941968980230878,0.7322196570655919,1.1376483490535065,-0.8061223662897936,1.0326704363100077,-1.0187555953747782,-0.7936986024875148,1.7250128752515284,-0.6907202876570452,1.1900466223571298,1.9829040794618682,-0.05518654612497724,-1.2732888394215272,-1.2033601621334395,-0.5077914994901958,-0.43038293124055405,-0.3088363031248792,0.02943936309552351,-1.2048038000864694,0.30210575820803937,-0.06400315095343355,-0.15176022595000632,0.4368484734463497,-0.5662310539363955,-0.9447988089482128,-0.6540711251538077,1.7793433754351027,0.23298373678295095,-1.280767886637018,-0.7754852937075334,-0.10400263262798473,-1.1157701073521156,0.22097666363929264,2.7024387581477134,-1.4309695428736593,0.876814390353818,-0.6273886791946258,-2.031881987131689,-1.0275083360189055,1.0592819257519337,-2.1620664985606393,0.27275525695182595,-0.447319165016932,0.4136715494169879,-2.288296945942758,-0.8127296548244415,-1.1266256532788121,-0.8215384686469209,-0.4872430165453182,-0.022574262627463378,-0.5843216053975311,0.011099364916450943,-0.5373376805509293,-2.2805091631118457,0.2922998628626371,-0.7207546091003253,0.39648514446519356,-0.8340295828931642,0.17768328109566717,0.9023490222152702],\"xaxis\":\"x12\",\"y\":[-1.081269945135512,1.4994251562217111,-0.3119790245764006,-0.5700454804125089,-0.807023809252038,-0.5799702673215373,-0.09435532278377927,-0.31608968822404326,0.18299585804559182,0.3091374615684443,0.18201094779020607,-2.345641909923838,-0.13252030691115732,0.13238668905978415,1.1817837329912397,2.264407928958368,-0.8472059592401834,-1.3313848084966844,-0.08922639782092631,-1.4710730962481993,-0.6869991971293106,1.4778045441065182,1.1846977951460802,0.6607245948496702,0.1837760942987446,0.13627332908572537,-0.9257935097369108,-0.3631151365640535,-0.6530648937591993,0.007354264774219916,-0.8419688962869191,-1.7490095299427195,0.6203734953047744,1.1391677148048978,-0.3021498266477652,-0.2937454543805988,-1.3444898920202757,2.118046703207983,-0.743988751474283,-0.06963261339083487,-0.7996020752935274,-1.005798935187391,0.6701806296993339,-0.6113273408094672,1.8289686346629874,-1.3394559641761112,-0.15407754183638855,0.025477647925172372,0.22286592407597883,0.3586554102522154,-2.2207179594666115,-0.40609938632199105,0.8094387812022237,-0.409573014214997,-0.8624321442746868,-1.9900524733870248,-1.0621179123329199,0.17986964017037582,1.0936096630745618,-0.9569389898844811,-1.562862175503904,-0.011921576470930798,1.3255715669392727,-1.382966569593766,0.38060846600902815,0.023047012426766652,-0.10277895493911231,1.5766710606284269,1.0583807147051052,-0.028171066628308445,-0.7937277667327526,0.057974528758083864,0.45368708403810293,2.6283832133335965,1.0962176916034292,-0.1151122014513563,0.6066877991292793,-0.2496558126535614,0.7409857518887422,0.050310440543480495,1.1876527493678348,-0.32420002066467346,-0.7981078819489894,-0.11361464678331062,0.5705180150672012,-0.4653425859355932,1.2342526285328859,0.2674674107633959,-1.016193485761706,1.0469501273664463,0.06132106469109561,-0.3323035531320329,-1.4426210871023315,-0.6653133214293154,-0.4366264762884827,-1.2677628403645937,0.7813374855286151,0.49900218669676677,0.06659306844027807,2.4936858180276675],\"yaxis\":\"y12\",\"type\":\"scatter\"},{\"line\":{\"color\":\"rgba(128, 128, 128, 1.0)\",\"dash\":\"solid\",\"shape\":\"linear\",\"width\":1.3},\"marker\":{\"size\":2,\"symbol\":\"circle\"},\"mode\":\"markers\",\"name\":\"D\",\"text\":\"\",\"x\":[-0.07455973164460492,0.10684607028138204,0.05174438274182425,1.8834582400552635,-0.7394873566653477,-0.20509986347008477,-0.03414545421950641,-0.6213525131646722,0.571263033821104,1.180464181279357,-0.203734605785186,0.7347661916372418,0.2859474736202656,0.04076517450424396,-0.9575891661839521,-1.4309383761629788,2.2550368651025283,-0.9940639812563287,0.799337873179283,-1.257878293181983,0.4179499111762863,0.3002148423464334,-1.1504058019430792,0.08143088735081103,0.48039194150290004,-0.6650657342765216,1.1156620567673445,1.6819828126747252,0.3100427456611766,-0.35556202725992564,0.5734972173901176,0.32590737332398945,0.26434526538445485,-0.28767952859901297,0.46220729582394343,-0.5818941295153186,1.285059720736958,1.5048915259613318,-0.6639248043990625,0.7636007895359088,-0.6463548675362586,0.4119553800931602,-0.41800965879757407,-0.9291745756491012,0.5941812800033995,0.6495415877446266,0.1446736681969964,0.26828186676311594,0.13889888661810415,-0.6067198644564883,-0.5830985850290649,-0.44261895162747866,-0.16593121692532206,1.5766366939770549,-0.9488282786185461,-0.47334557392170873,-2.9681775620277215,-0.25029734336535486,-1.1711717647996238,-0.6639685633213962,-1.5666336819385447,-0.8675551693083899,0.9365429397079991,0.15072665081471726,1.1852234520751472,-0.08290956220307087,-1.1017174229562567,-0.5198271089769748,0.37018057099191115,0.6484073753005931,-0.1590182089390411,-1.2123900485249766,-0.2362259963300999,-0.9316538839457773,-0.7702588740652273,1.4701363779831127,1.7874391009354653,0.24616432107668124,-1.182643305480476,0.35443322915141356,-0.4842531774514151,-0.44909134669233536,-0.5668275896818619,0.4175639632896596,-1.2611360990304046,-0.008206696883240246,-0.10979708777038237,0.49243560590286795,0.8213310947530663,-0.267726403403628,-1.2515625109561188,0.630999102938369,0.1713145260658875,-1.3560217445320064,-1.1258620552644414,1.095337440779493,1.7240614552766635,0.18149760823613265,-0.33113981029074463,-0.7243911418227783],\"xaxis\":\"x13\",\"y\":[-0.8530464835686923,-0.9777211704949056,0.3671196294852984,0.7863072630984241,-1.0253861618314224,-0.4696397181389764,-0.6754239467268804,-0.3525284257974691,0.35479805241940754,-0.7083751409954576,1.0404062935691023,0.7232705225139738,-0.9458574170779152,-1.0937615085377304,0.6756009722227514,0.6754446860653938,-0.1540404335992706,-0.141838683385397,-1.9892866572395724,0.3262877045144788,-0.060912459662740503,0.7845234308016186,-0.8242176129734604,-0.696438279410444,1.3817725610609137,0.35013877794633497,0.7050803261791581,-0.313775937565349,-2.0822056554745427,-0.10495537796933573,0.4636166809545198,-0.4459029690784089,0.8292241120612767,1.2498512054626933,-0.49676866730921915,0.13572952910264804,-1.113134522240766,2.288876218225101,-0.027811988637406377,-0.014057354296969091,0.5941968980230878,0.7322196570655919,1.1376483490535065,-0.8061223662897936,1.0326704363100077,-1.0187555953747782,-0.7936986024875148,1.7250128752515284,-0.6907202876570452,1.1900466223571298,1.9829040794618682,-0.05518654612497724,-1.2732888394215272,-1.2033601621334395,-0.5077914994901958,-0.43038293124055405,-0.3088363031248792,0.02943936309552351,-1.2048038000864694,0.30210575820803937,-0.06400315095343355,-0.15176022595000632,0.4368484734463497,-0.5662310539363955,-0.9447988089482128,-0.6540711251538077,1.7793433754351027,0.23298373678295095,-1.280767886637018,-0.7754852937075334,-0.10400263262798473,-1.1157701073521156,0.22097666363929264,2.7024387581477134,-1.4309695428736593,0.876814390353818,-0.6273886791946258,-2.031881987131689,-1.0275083360189055,1.0592819257519337,-2.1620664985606393,0.27275525695182595,-0.447319165016932,0.4136715494169879,-2.288296945942758,-0.8127296548244415,-1.1266256532788121,-0.8215384686469209,-0.4872430165453182,-0.022574262627463378,-0.5843216053975311,0.011099364916450943,-0.5373376805509293,-2.2805091631118457,0.2922998628626371,-0.7207546091003253,0.39648514446519356,-0.8340295828931642,0.17768328109566717,0.9023490222152702],\"yaxis\":\"y13\",\"type\":\"scatter\"},{\"line\":{\"color\":\"rgba(128, 128, 128, 1.0)\",\"dash\":\"solid\",\"shape\":\"linear\",\"width\":1.3},\"marker\":{\"size\":2,\"symbol\":\"circle\"},\"mode\":\"markers\",\"name\":\"D\",\"text\":\"\",\"x\":[0.20695886201338964,2.2267140798834366,2.0606705606804248,-0.47751358803428084,-0.8265999208195308,0.3683847538936354,-0.9215058882049292,0.2010981971926559,-2.612024672660992,1.994860248642683,0.6474845780135272,-1.4695376336420343,0.25329507946952484,-0.8847748430992944,0.01108872266051941,-1.1635524981707588,-0.16334248185299458,0.37081708914041467,-0.3744953167142966,0.25997366036222974,0.6587716974050809,-1.153664670868084,-1.697491236131132,0.7995087387377215,1.051287349057648,0.26519966512043014,0.16665172934102204,-0.9207235935854554,0.19392919045612925,0.30514185806513633,1.153170562731266,0.6444165797703777,0.10095403561272143,-1.3779799142755011,1.0886785013466902,0.4207240802224743,1.1386223070602004,-0.41875441978934674,1.1045931338539758,0.6514247563808732,-1.5404052766834295,-0.07015676241255123,0.34211903144043065,-0.18534612927812716,-1.8520443646410083,1.4319920389190104,1.1387925527034235,0.2698880956788044,0.1878047757021268,1.7741986146424833,0.22768156026066996,-0.20014286651396568,2.059179137491171,0.35223369637447816,0.05263010640213276,1.7322067881044543,-0.7745478394440942,2.0680320286556824,-0.6321155047266144,1.2659416243146926,0.4722821822143342,1.642169097988724,-1.7521377798815267,0.3727959530975647,-1.965263310446799,-1.0712504506589524,0.5342752099185382,-1.1298074723535294,-0.5580156206841335,0.823614953289078,-0.5479781763338187,-1.6514759368126157,-0.2328958270228804,1.4625741873716016,0.3342124737309676,1.3772224066244865,0.20175951418821808,0.2501868306006938,0.32303507776168344,0.5721589323589801,-1.3176653867942356,0.2393598296204175,0.929162936792238,0.43767400300848264,-0.08169926569148139,0.4789983045336972,-0.5059754539470817,0.46797344213078973,-0.7757631159400264,-1.4756298170780817,1.1509293631614974,0.6429496420266005,-0.4212609077669692,-0.4359617643911458,0.6020198623608694,-1.0543687019171408,-1.2676827628690235,0.14146548854024957,-0.5593082511505357,0.3558988051040138],\"xaxis\":\"x14\",\"y\":[-0.8530464835686923,-0.9777211704949056,0.3671196294852984,0.7863072630984241,-1.0253861618314224,-0.4696397181389764,-0.6754239467268804,-0.3525284257974691,0.35479805241940754,-0.7083751409954576,1.0404062935691023,0.7232705225139738,-0.9458574170779152,-1.0937615085377304,0.6756009722227514,0.6754446860653938,-0.1540404335992706,-0.141838683385397,-1.9892866572395724,0.3262877045144788,-0.060912459662740503,0.7845234308016186,-0.8242176129734604,-0.696438279410444,1.3817725610609137,0.35013877794633497,0.7050803261791581,-0.313775937565349,-2.0822056554745427,-0.10495537796933573,0.4636166809545198,-0.4459029690784089,0.8292241120612767,1.2498512054626933,-0.49676866730921915,0.13572952910264804,-1.113134522240766,2.288876218225101,-0.027811988637406377,-0.014057354296969091,0.5941968980230878,0.7322196570655919,1.1376483490535065,-0.8061223662897936,1.0326704363100077,-1.0187555953747782,-0.7936986024875148,1.7250128752515284,-0.6907202876570452,1.1900466223571298,1.9829040794618682,-0.05518654612497724,-1.2732888394215272,-1.2033601621334395,-0.5077914994901958,-0.43038293124055405,-0.3088363031248792,0.02943936309552351,-1.2048038000864694,0.30210575820803937,-0.06400315095343355,-0.15176022595000632,0.4368484734463497,-0.5662310539363955,-0.9447988089482128,-0.6540711251538077,1.7793433754351027,0.23298373678295095,-1.280767886637018,-0.7754852937075334,-0.10400263262798473,-1.1157701073521156,0.22097666363929264,2.7024387581477134,-1.4309695428736593,0.876814390353818,-0.6273886791946258,-2.031881987131689,-1.0275083360189055,1.0592819257519337,-2.1620664985606393,0.27275525695182595,-0.447319165016932,0.4136715494169879,-2.288296945942758,-0.8127296548244415,-1.1266256532788121,-0.8215384686469209,-0.4872430165453182,-0.022574262627463378,-0.5843216053975311,0.011099364916450943,-0.5373376805509293,-2.2805091631118457,0.2922998628626371,-0.7207546091003253,0.39648514446519356,-0.8340295828931642,0.17768328109566717,0.9023490222152702],\"yaxis\":\"y14\",\"type\":\"scatter\"},{\"line\":{\"color\":\"rgba(128, 128, 128, 1.0)\",\"dash\":\"solid\",\"shape\":\"linear\",\"width\":1.3},\"marker\":{\"size\":2,\"symbol\":\"circle\"},\"mode\":\"markers\",\"name\":\"D\",\"text\":\"\",\"x\":[-1.081269945135512,1.4994251562217111,-0.3119790245764006,-0.5700454804125089,-0.807023809252038,-0.5799702673215373,-0.09435532278377927,-0.31608968822404326,0.18299585804559182,0.3091374615684443,0.18201094779020607,-2.345641909923838,-0.13252030691115732,0.13238668905978415,1.1817837329912397,2.264407928958368,-0.8472059592401834,-1.3313848084966844,-0.08922639782092631,-1.4710730962481993,-0.6869991971293106,1.4778045441065182,1.1846977951460802,0.6607245948496702,0.1837760942987446,0.13627332908572537,-0.9257935097369108,-0.3631151365640535,-0.6530648937591993,0.007354264774219916,-0.8419688962869191,-1.7490095299427195,0.6203734953047744,1.1391677148048978,-0.3021498266477652,-0.2937454543805988,-1.3444898920202757,2.118046703207983,-0.743988751474283,-0.06963261339083487,-0.7996020752935274,-1.005798935187391,0.6701806296993339,-0.6113273408094672,1.8289686346629874,-1.3394559641761112,-0.15407754183638855,0.025477647925172372,0.22286592407597883,0.3586554102522154,-2.2207179594666115,-0.40609938632199105,0.8094387812022237,-0.409573014214997,-0.8624321442746868,-1.9900524733870248,-1.0621179123329199,0.17986964017037582,1.0936096630745618,-0.9569389898844811,-1.562862175503904,-0.011921576470930798,1.3255715669392727,-1.382966569593766,0.38060846600902815,0.023047012426766652,-0.10277895493911231,1.5766710606284269,1.0583807147051052,-0.028171066628308445,-0.7937277667327526,0.057974528758083864,0.45368708403810293,2.6283832133335965,1.0962176916034292,-0.1151122014513563,0.6066877991292793,-0.2496558126535614,0.7409857518887422,0.050310440543480495,1.1876527493678348,-0.32420002066467346,-0.7981078819489894,-0.11361464678331062,0.5705180150672012,-0.4653425859355932,1.2342526285328859,0.2674674107633959,-1.016193485761706,1.0469501273664463,0.06132106469109561,-0.3323035531320329,-1.4426210871023315,-0.6653133214293154,-0.4366264762884827,-1.2677628403645937,0.7813374855286151,0.49900218669676677,0.06659306844027807,2.4936858180276675],\"xaxis\":\"x15\",\"y\":[-0.8530464835686923,-0.9777211704949056,0.3671196294852984,0.7863072630984241,-1.0253861618314224,-0.4696397181389764,-0.6754239467268804,-0.3525284257974691,0.35479805241940754,-0.7083751409954576,1.0404062935691023,0.7232705225139738,-0.9458574170779152,-1.0937615085377304,0.6756009722227514,0.6754446860653938,-0.1540404335992706,-0.141838683385397,-1.9892866572395724,0.3262877045144788,-0.060912459662740503,0.7845234308016186,-0.8242176129734604,-0.696438279410444,1.3817725610609137,0.35013877794633497,0.7050803261791581,-0.313775937565349,-2.0822056554745427,-0.10495537796933573,0.4636166809545198,-0.4459029690784089,0.8292241120612767,1.2498512054626933,-0.49676866730921915,0.13572952910264804,-1.113134522240766,2.288876218225101,-0.027811988637406377,-0.014057354296969091,0.5941968980230878,0.7322196570655919,1.1376483490535065,-0.8061223662897936,1.0326704363100077,-1.0187555953747782,-0.7936986024875148,1.7250128752515284,-0.6907202876570452,1.1900466223571298,1.9829040794618682,-0.05518654612497724,-1.2732888394215272,-1.2033601621334395,-0.5077914994901958,-0.43038293124055405,-0.3088363031248792,0.02943936309552351,-1.2048038000864694,0.30210575820803937,-0.06400315095343355,-0.15176022595000632,0.4368484734463497,-0.5662310539363955,-0.9447988089482128,-0.6540711251538077,1.7793433754351027,0.23298373678295095,-1.280767886637018,-0.7754852937075334,-0.10400263262798473,-1.1157701073521156,0.22097666363929264,2.7024387581477134,-1.4309695428736593,0.876814390353818,-0.6273886791946258,-2.031881987131689,-1.0275083360189055,1.0592819257519337,-2.1620664985606393,0.27275525695182595,-0.447319165016932,0.4136715494169879,-2.288296945942758,-0.8127296548244415,-1.1266256532788121,-0.8215384686469209,-0.4872430165453182,-0.022574262627463378,-0.5843216053975311,0.011099364916450943,-0.5373376805509293,-2.2805091631118457,0.2922998628626371,-0.7207546091003253,0.39648514446519356,-0.8340295828931642,0.17768328109566717,0.9023490222152702],\"yaxis\":\"y15\",\"type\":\"scatter\"},{\"histfunc\":\"count\",\"histnorm\":\"\",\"marker\":{\"color\":\"rgba(128, 0, 128, 1.0)\",\"line\":{\"color\":\"#4D5663\",\"width\":1.3}},\"name\":\"D\",\"nbinsx\":10,\"opacity\":0.8,\"orientation\":\"v\",\"x\":[-0.8530464835686923,-0.9777211704949056,0.3671196294852984,0.7863072630984241,-1.0253861618314224,-0.4696397181389764,-0.6754239467268804,-0.3525284257974691,0.35479805241940754,-0.7083751409954576,1.0404062935691023,0.7232705225139738,-0.9458574170779152,-1.0937615085377304,0.6756009722227514,0.6754446860653938,-0.1540404335992706,-0.141838683385397,-1.9892866572395724,0.3262877045144788,-0.060912459662740503,0.7845234308016186,-0.8242176129734604,-0.696438279410444,1.3817725610609137,0.35013877794633497,0.7050803261791581,-0.313775937565349,-2.0822056554745427,-0.10495537796933573,0.4636166809545198,-0.4459029690784089,0.8292241120612767,1.2498512054626933,-0.49676866730921915,0.13572952910264804,-1.113134522240766,2.288876218225101,-0.027811988637406377,-0.014057354296969091,0.5941968980230878,0.7322196570655919,1.1376483490535065,-0.8061223662897936,1.0326704363100077,-1.0187555953747782,-0.7936986024875148,1.7250128752515284,-0.6907202876570452,1.1900466223571298,1.9829040794618682,-0.05518654612497724,-1.2732888394215272,-1.2033601621334395,-0.5077914994901958,-0.43038293124055405,-0.3088363031248792,0.02943936309552351,-1.2048038000864694,0.30210575820803937,-0.06400315095343355,-0.15176022595000632,0.4368484734463497,-0.5662310539363955,-0.9447988089482128,-0.6540711251538077,1.7793433754351027,0.23298373678295095,-1.280767886637018,-0.7754852937075334,-0.10400263262798473,-1.1157701073521156,0.22097666363929264,2.7024387581477134,-1.4309695428736593,0.876814390353818,-0.6273886791946258,-2.031881987131689,-1.0275083360189055,1.0592819257519337,-2.1620664985606393,0.27275525695182595,-0.447319165016932,0.4136715494169879,-2.288296945942758,-0.8127296548244415,-1.1266256532788121,-0.8215384686469209,-0.4872430165453182,-0.022574262627463378,-0.5843216053975311,0.011099364916450943,-0.5373376805509293,-2.2805091631118457,0.2922998628626371,-0.7207546091003253,0.39648514446519356,-0.8340295828931642,0.17768328109566717,0.9023490222152702],\"xaxis\":\"x16\",\"yaxis\":\"y16\",\"type\":\"histogram\"}],                        {\"bargap\":0.02,\"legend\":{\"bgcolor\":\"#F5F6F9\",\"font\":{\"color\":\"#4D5663\"}},\"paper_bgcolor\":\"#F5F6F9\",\"plot_bgcolor\":\"#F5F6F9\",\"showlegend\":false,\"template\":{\"data\":{\"barpolar\":[{\"marker\":{\"line\":{\"color\":\"#E5ECF6\",\"width\":0.5},\"pattern\":{\"fillmode\":\"overlay\",\"size\":10,\"solidity\":0.2}},\"type\":\"barpolar\"}],\"bar\":[{\"error_x\":{\"color\":\"#2a3f5f\"},\"error_y\":{\"color\":\"#2a3f5f\"},\"marker\":{\"line\":{\"color\":\"#E5ECF6\",\"width\":0.5},\"pattern\":{\"fillmode\":\"overlay\",\"size\":10,\"solidity\":0.2}},\"type\":\"bar\"}],\"carpet\":[{\"aaxis\":{\"endlinecolor\":\"#2a3f5f\",\"gridcolor\":\"white\",\"linecolor\":\"white\",\"minorgridcolor\":\"white\",\"startlinecolor\":\"#2a3f5f\"},\"baxis\":{\"endlinecolor\":\"#2a3f5f\",\"gridcolor\":\"white\",\"linecolor\":\"white\",\"minorgridcolor\":\"white\",\"startlinecolor\":\"#2a3f5f\"},\"type\":\"carpet\"}],\"choropleth\":[{\"colorbar\":{\"outlinewidth\":0,\"ticks\":\"\"},\"type\":\"choropleth\"}],\"contourcarpet\":[{\"colorbar\":{\"outlinewidth\":0,\"ticks\":\"\"},\"type\":\"contourcarpet\"}],\"contour\":[{\"colorbar\":{\"outlinewidth\":0,\"ticks\":\"\"},\"colorscale\":[[0.0,\"#0d0887\"],[0.1111111111111111,\"#46039f\"],[0.2222222222222222,\"#7201a8\"],[0.3333333333333333,\"#9c179e\"],[0.4444444444444444,\"#bd3786\"],[0.5555555555555556,\"#d8576b\"],[0.6666666666666666,\"#ed7953\"],[0.7777777777777778,\"#fb9f3a\"],[0.8888888888888888,\"#fdca26\"],[1.0,\"#f0f921\"]],\"type\":\"contour\"}],\"heatmapgl\":[{\"colorbar\":{\"outlinewidth\":0,\"ticks\":\"\"},\"colorscale\":[[0.0,\"#0d0887\"],[0.1111111111111111,\"#46039f\"],[0.2222222222222222,\"#7201a8\"],[0.3333333333333333,\"#9c179e\"],[0.4444444444444444,\"#bd3786\"],[0.5555555555555556,\"#d8576b\"],[0.6666666666666666,\"#ed7953\"],[0.7777777777777778,\"#fb9f3a\"],[0.8888888888888888,\"#fdca26\"],[1.0,\"#f0f921\"]],\"type\":\"heatmapgl\"}],\"heatmap\":[{\"colorbar\":{\"outlinewidth\":0,\"ticks\":\"\"},\"colorscale\":[[0.0,\"#0d0887\"],[0.1111111111111111,\"#46039f\"],[0.2222222222222222,\"#7201a8\"],[0.3333333333333333,\"#9c179e\"],[0.4444444444444444,\"#bd3786\"],[0.5555555555555556,\"#d8576b\"],[0.6666666666666666,\"#ed7953\"],[0.7777777777777778,\"#fb9f3a\"],[0.8888888888888888,\"#fdca26\"],[1.0,\"#f0f921\"]],\"type\":\"heatmap\"}],\"histogram2dcontour\":[{\"colorbar\":{\"outlinewidth\":0,\"ticks\":\"\"},\"colorscale\":[[0.0,\"#0d0887\"],[0.1111111111111111,\"#46039f\"],[0.2222222222222222,\"#7201a8\"],[0.3333333333333333,\"#9c179e\"],[0.4444444444444444,\"#bd3786\"],[0.5555555555555556,\"#d8576b\"],[0.6666666666666666,\"#ed7953\"],[0.7777777777777778,\"#fb9f3a\"],[0.8888888888888888,\"#fdca26\"],[1.0,\"#f0f921\"]],\"type\":\"histogram2dcontour\"}],\"histogram2d\":[{\"colorbar\":{\"outlinewidth\":0,\"ticks\":\"\"},\"colorscale\":[[0.0,\"#0d0887\"],[0.1111111111111111,\"#46039f\"],[0.2222222222222222,\"#7201a8\"],[0.3333333333333333,\"#9c179e\"],[0.4444444444444444,\"#bd3786\"],[0.5555555555555556,\"#d8576b\"],[0.6666666666666666,\"#ed7953\"],[0.7777777777777778,\"#fb9f3a\"],[0.8888888888888888,\"#fdca26\"],[1.0,\"#f0f921\"]],\"type\":\"histogram2d\"}],\"histogram\":[{\"marker\":{\"pattern\":{\"fillmode\":\"overlay\",\"size\":10,\"solidity\":0.2}},\"type\":\"histogram\"}],\"mesh3d\":[{\"colorbar\":{\"outlinewidth\":0,\"ticks\":\"\"},\"type\":\"mesh3d\"}],\"parcoords\":[{\"line\":{\"colorbar\":{\"outlinewidth\":0,\"ticks\":\"\"}},\"type\":\"parcoords\"}],\"pie\":[{\"automargin\":true,\"type\":\"pie\"}],\"scatter3d\":[{\"line\":{\"colorbar\":{\"outlinewidth\":0,\"ticks\":\"\"}},\"marker\":{\"colorbar\":{\"outlinewidth\":0,\"ticks\":\"\"}},\"type\":\"scatter3d\"}],\"scattercarpet\":[{\"marker\":{\"colorbar\":{\"outlinewidth\":0,\"ticks\":\"\"}},\"type\":\"scattercarpet\"}],\"scattergeo\":[{\"marker\":{\"colorbar\":{\"outlinewidth\":0,\"ticks\":\"\"}},\"type\":\"scattergeo\"}],\"scattergl\":[{\"marker\":{\"colorbar\":{\"outlinewidth\":0,\"ticks\":\"\"}},\"type\":\"scattergl\"}],\"scattermapbox\":[{\"marker\":{\"colorbar\":{\"outlinewidth\":0,\"ticks\":\"\"}},\"type\":\"scattermapbox\"}],\"scatterpolargl\":[{\"marker\":{\"colorbar\":{\"outlinewidth\":0,\"ticks\":\"\"}},\"type\":\"scatterpolargl\"}],\"scatterpolar\":[{\"marker\":{\"colorbar\":{\"outlinewidth\":0,\"ticks\":\"\"}},\"type\":\"scatterpolar\"}],\"scatter\":[{\"fillpattern\":{\"fillmode\":\"overlay\",\"size\":10,\"solidity\":0.2},\"type\":\"scatter\"}],\"scatterternary\":[{\"marker\":{\"colorbar\":{\"outlinewidth\":0,\"ticks\":\"\"}},\"type\":\"scatterternary\"}],\"surface\":[{\"colorbar\":{\"outlinewidth\":0,\"ticks\":\"\"},\"colorscale\":[[0.0,\"#0d0887\"],[0.1111111111111111,\"#46039f\"],[0.2222222222222222,\"#7201a8\"],[0.3333333333333333,\"#9c179e\"],[0.4444444444444444,\"#bd3786\"],[0.5555555555555556,\"#d8576b\"],[0.6666666666666666,\"#ed7953\"],[0.7777777777777778,\"#fb9f3a\"],[0.8888888888888888,\"#fdca26\"],[1.0,\"#f0f921\"]],\"type\":\"surface\"}],\"table\":[{\"cells\":{\"fill\":{\"color\":\"#EBF0F8\"},\"line\":{\"color\":\"white\"}},\"header\":{\"fill\":{\"color\":\"#C8D4E3\"},\"line\":{\"color\":\"white\"}},\"type\":\"table\"}]},\"layout\":{\"annotationdefaults\":{\"arrowcolor\":\"#2a3f5f\",\"arrowhead\":0,\"arrowwidth\":1},\"autotypenumbers\":\"strict\",\"coloraxis\":{\"colorbar\":{\"outlinewidth\":0,\"ticks\":\"\"}},\"colorscale\":{\"diverging\":[[0,\"#8e0152\"],[0.1,\"#c51b7d\"],[0.2,\"#de77ae\"],[0.3,\"#f1b6da\"],[0.4,\"#fde0ef\"],[0.5,\"#f7f7f7\"],[0.6,\"#e6f5d0\"],[0.7,\"#b8e186\"],[0.8,\"#7fbc41\"],[0.9,\"#4d9221\"],[1,\"#276419\"]],\"sequential\":[[0.0,\"#0d0887\"],[0.1111111111111111,\"#46039f\"],[0.2222222222222222,\"#7201a8\"],[0.3333333333333333,\"#9c179e\"],[0.4444444444444444,\"#bd3786\"],[0.5555555555555556,\"#d8576b\"],[0.6666666666666666,\"#ed7953\"],[0.7777777777777778,\"#fb9f3a\"],[0.8888888888888888,\"#fdca26\"],[1.0,\"#f0f921\"]],\"sequentialminus\":[[0.0,\"#0d0887\"],[0.1111111111111111,\"#46039f\"],[0.2222222222222222,\"#7201a8\"],[0.3333333333333333,\"#9c179e\"],[0.4444444444444444,\"#bd3786\"],[0.5555555555555556,\"#d8576b\"],[0.6666666666666666,\"#ed7953\"],[0.7777777777777778,\"#fb9f3a\"],[0.8888888888888888,\"#fdca26\"],[1.0,\"#f0f921\"]]},\"colorway\":[\"#636efa\",\"#EF553B\",\"#00cc96\",\"#ab63fa\",\"#FFA15A\",\"#19d3f3\",\"#FF6692\",\"#B6E880\",\"#FF97FF\",\"#FECB52\"],\"font\":{\"color\":\"#2a3f5f\"},\"geo\":{\"bgcolor\":\"white\",\"lakecolor\":\"white\",\"landcolor\":\"#E5ECF6\",\"showlakes\":true,\"showland\":true,\"subunitcolor\":\"white\"},\"hoverlabel\":{\"align\":\"left\"},\"hovermode\":\"closest\",\"mapbox\":{\"style\":\"light\"},\"paper_bgcolor\":\"white\",\"plot_bgcolor\":\"#E5ECF6\",\"polar\":{\"angularaxis\":{\"gridcolor\":\"white\",\"linecolor\":\"white\",\"ticks\":\"\"},\"bgcolor\":\"#E5ECF6\",\"radialaxis\":{\"gridcolor\":\"white\",\"linecolor\":\"white\",\"ticks\":\"\"}},\"scene\":{\"xaxis\":{\"backgroundcolor\":\"#E5ECF6\",\"gridcolor\":\"white\",\"gridwidth\":2,\"linecolor\":\"white\",\"showbackground\":true,\"ticks\":\"\",\"zerolinecolor\":\"white\"},\"yaxis\":{\"backgroundcolor\":\"#E5ECF6\",\"gridcolor\":\"white\",\"gridwidth\":2,\"linecolor\":\"white\",\"showbackground\":true,\"ticks\":\"\",\"zerolinecolor\":\"white\"},\"zaxis\":{\"backgroundcolor\":\"#E5ECF6\",\"gridcolor\":\"white\",\"gridwidth\":2,\"linecolor\":\"white\",\"showbackground\":true,\"ticks\":\"\",\"zerolinecolor\":\"white\"}},\"shapedefaults\":{\"line\":{\"color\":\"#2a3f5f\"}},\"ternary\":{\"aaxis\":{\"gridcolor\":\"white\",\"linecolor\":\"white\",\"ticks\":\"\"},\"baxis\":{\"gridcolor\":\"white\",\"linecolor\":\"white\",\"ticks\":\"\"},\"bgcolor\":\"#E5ECF6\",\"caxis\":{\"gridcolor\":\"white\",\"linecolor\":\"white\",\"ticks\":\"\"}},\"title\":{\"x\":0.05},\"xaxis\":{\"automargin\":true,\"gridcolor\":\"white\",\"linecolor\":\"white\",\"ticks\":\"\",\"title\":{\"standoff\":15},\"zerolinecolor\":\"white\",\"zerolinewidth\":2},\"yaxis\":{\"automargin\":true,\"gridcolor\":\"white\",\"linecolor\":\"white\",\"ticks\":\"\",\"title\":{\"standoff\":15},\"zerolinecolor\":\"white\",\"zerolinewidth\":2}}},\"title\":{\"font\":{\"color\":\"#4D5663\"}},\"xaxis\":{\"anchor\":\"y\",\"domain\":[0.0,0.2125],\"gridcolor\":\"#E1E5ED\",\"showgrid\":false,\"tickfont\":{\"color\":\"#4D5663\"},\"title\":{\"font\":{\"color\":\"#4D5663\"},\"text\":\"\"},\"zerolinecolor\":\"#E1E5ED\"},\"yaxis\":{\"anchor\":\"x\",\"domain\":[0.8025,1.0],\"gridcolor\":\"#E1E5ED\",\"showgrid\":false,\"tickfont\":{\"color\":\"#4D5663\"},\"title\":{\"font\":{\"color\":\"#4D5663\"},\"text\":\"\"},\"zerolinecolor\":\"#E1E5ED\"},\"xaxis2\":{\"anchor\":\"y2\",\"domain\":[0.2625,0.475],\"gridcolor\":\"#E1E5ED\",\"showgrid\":false,\"tickfont\":{\"color\":\"#4D5663\"},\"title\":{\"font\":{\"color\":\"#4D5663\"},\"text\":\"\"},\"zerolinecolor\":\"#E1E5ED\"},\"yaxis2\":{\"anchor\":\"x2\",\"domain\":[0.8025,1.0],\"gridcolor\":\"#E1E5ED\",\"showgrid\":false,\"tickfont\":{\"color\":\"#4D5663\"},\"title\":{\"font\":{\"color\":\"#4D5663\"},\"text\":\"\"},\"zerolinecolor\":\"#E1E5ED\"},\"xaxis3\":{\"anchor\":\"y3\",\"domain\":[0.525,0.7375],\"gridcolor\":\"#E1E5ED\",\"showgrid\":false,\"tickfont\":{\"color\":\"#4D5663\"},\"title\":{\"font\":{\"color\":\"#4D5663\"},\"text\":\"\"},\"zerolinecolor\":\"#E1E5ED\"},\"yaxis3\":{\"anchor\":\"x3\",\"domain\":[0.8025,1.0],\"gridcolor\":\"#E1E5ED\",\"showgrid\":false,\"tickfont\":{\"color\":\"#4D5663\"},\"title\":{\"font\":{\"color\":\"#4D5663\"},\"text\":\"\"},\"zerolinecolor\":\"#E1E5ED\"},\"xaxis4\":{\"anchor\":\"y4\",\"domain\":[0.7875,1.0],\"gridcolor\":\"#E1E5ED\",\"showgrid\":false,\"tickfont\":{\"color\":\"#4D5663\"},\"title\":{\"font\":{\"color\":\"#4D5663\"},\"text\":\"\"},\"zerolinecolor\":\"#E1E5ED\"},\"yaxis4\":{\"anchor\":\"x4\",\"domain\":[0.8025,1.0],\"gridcolor\":\"#E1E5ED\",\"showgrid\":false,\"tickfont\":{\"color\":\"#4D5663\"},\"title\":{\"font\":{\"color\":\"#4D5663\"},\"text\":\"\"},\"zerolinecolor\":\"#E1E5ED\"},\"xaxis5\":{\"anchor\":\"y5\",\"domain\":[0.0,0.2125],\"gridcolor\":\"#E1E5ED\",\"showgrid\":false,\"tickfont\":{\"color\":\"#4D5663\"},\"title\":{\"font\":{\"color\":\"#4D5663\"},\"text\":\"\"},\"zerolinecolor\":\"#E1E5ED\"},\"yaxis5\":{\"anchor\":\"x5\",\"domain\":[0.535,0.7325],\"gridcolor\":\"#E1E5ED\",\"showgrid\":false,\"tickfont\":{\"color\":\"#4D5663\"},\"title\":{\"font\":{\"color\":\"#4D5663\"},\"text\":\"\"},\"zerolinecolor\":\"#E1E5ED\"},\"xaxis6\":{\"anchor\":\"y6\",\"domain\":[0.2625,0.475],\"gridcolor\":\"#E1E5ED\",\"showgrid\":false,\"tickfont\":{\"color\":\"#4D5663\"},\"title\":{\"font\":{\"color\":\"#4D5663\"},\"text\":\"\"},\"zerolinecolor\":\"#E1E5ED\"},\"yaxis6\":{\"anchor\":\"x6\",\"domain\":[0.535,0.7325],\"gridcolor\":\"#E1E5ED\",\"showgrid\":false,\"tickfont\":{\"color\":\"#4D5663\"},\"title\":{\"font\":{\"color\":\"#4D5663\"},\"text\":\"\"},\"zerolinecolor\":\"#E1E5ED\"},\"xaxis7\":{\"anchor\":\"y7\",\"domain\":[0.525,0.7375],\"gridcolor\":\"#E1E5ED\",\"showgrid\":false,\"tickfont\":{\"color\":\"#4D5663\"},\"title\":{\"font\":{\"color\":\"#4D5663\"},\"text\":\"\"},\"zerolinecolor\":\"#E1E5ED\"},\"yaxis7\":{\"anchor\":\"x7\",\"domain\":[0.535,0.7325],\"gridcolor\":\"#E1E5ED\",\"showgrid\":false,\"tickfont\":{\"color\":\"#4D5663\"},\"title\":{\"font\":{\"color\":\"#4D5663\"},\"text\":\"\"},\"zerolinecolor\":\"#E1E5ED\"},\"xaxis8\":{\"anchor\":\"y8\",\"domain\":[0.7875,1.0],\"gridcolor\":\"#E1E5ED\",\"showgrid\":false,\"tickfont\":{\"color\":\"#4D5663\"},\"title\":{\"font\":{\"color\":\"#4D5663\"},\"text\":\"\"},\"zerolinecolor\":\"#E1E5ED\"},\"yaxis8\":{\"anchor\":\"x8\",\"domain\":[0.535,0.7325],\"gridcolor\":\"#E1E5ED\",\"showgrid\":false,\"tickfont\":{\"color\":\"#4D5663\"},\"title\":{\"font\":{\"color\":\"#4D5663\"},\"text\":\"\"},\"zerolinecolor\":\"#E1E5ED\"},\"xaxis9\":{\"anchor\":\"y9\",\"domain\":[0.0,0.2125],\"gridcolor\":\"#E1E5ED\",\"showgrid\":false,\"tickfont\":{\"color\":\"#4D5663\"},\"title\":{\"font\":{\"color\":\"#4D5663\"},\"text\":\"\"},\"zerolinecolor\":\"#E1E5ED\"},\"yaxis9\":{\"anchor\":\"x9\",\"domain\":[0.2675,0.465],\"gridcolor\":\"#E1E5ED\",\"showgrid\":false,\"tickfont\":{\"color\":\"#4D5663\"},\"title\":{\"font\":{\"color\":\"#4D5663\"},\"text\":\"\"},\"zerolinecolor\":\"#E1E5ED\"},\"xaxis10\":{\"anchor\":\"y10\",\"domain\":[0.2625,0.475],\"gridcolor\":\"#E1E5ED\",\"showgrid\":false,\"tickfont\":{\"color\":\"#4D5663\"},\"title\":{\"font\":{\"color\":\"#4D5663\"},\"text\":\"\"},\"zerolinecolor\":\"#E1E5ED\"},\"yaxis10\":{\"anchor\":\"x10\",\"domain\":[0.2675,0.465],\"gridcolor\":\"#E1E5ED\",\"showgrid\":false,\"tickfont\":{\"color\":\"#4D5663\"},\"title\":{\"font\":{\"color\":\"#4D5663\"},\"text\":\"\"},\"zerolinecolor\":\"#E1E5ED\"},\"xaxis11\":{\"anchor\":\"y11\",\"domain\":[0.525,0.7375],\"gridcolor\":\"#E1E5ED\",\"showgrid\":false,\"tickfont\":{\"color\":\"#4D5663\"},\"title\":{\"font\":{\"color\":\"#4D5663\"},\"text\":\"\"},\"zerolinecolor\":\"#E1E5ED\"},\"yaxis11\":{\"anchor\":\"x11\",\"domain\":[0.2675,0.465],\"gridcolor\":\"#E1E5ED\",\"showgrid\":false,\"tickfont\":{\"color\":\"#4D5663\"},\"title\":{\"font\":{\"color\":\"#4D5663\"},\"text\":\"\"},\"zerolinecolor\":\"#E1E5ED\"},\"xaxis12\":{\"anchor\":\"y12\",\"domain\":[0.7875,1.0],\"gridcolor\":\"#E1E5ED\",\"showgrid\":false,\"tickfont\":{\"color\":\"#4D5663\"},\"title\":{\"font\":{\"color\":\"#4D5663\"},\"text\":\"\"},\"zerolinecolor\":\"#E1E5ED\"},\"yaxis12\":{\"anchor\":\"x12\",\"domain\":[0.2675,0.465],\"gridcolor\":\"#E1E5ED\",\"showgrid\":false,\"tickfont\":{\"color\":\"#4D5663\"},\"title\":{\"font\":{\"color\":\"#4D5663\"},\"text\":\"\"},\"zerolinecolor\":\"#E1E5ED\"},\"xaxis13\":{\"anchor\":\"y13\",\"domain\":[0.0,0.2125],\"gridcolor\":\"#E1E5ED\",\"showgrid\":false,\"tickfont\":{\"color\":\"#4D5663\"},\"title\":{\"font\":{\"color\":\"#4D5663\"},\"text\":\"\"},\"zerolinecolor\":\"#E1E5ED\"},\"yaxis13\":{\"anchor\":\"x13\",\"domain\":[0.0,0.1975],\"gridcolor\":\"#E1E5ED\",\"showgrid\":false,\"tickfont\":{\"color\":\"#4D5663\"},\"title\":{\"font\":{\"color\":\"#4D5663\"},\"text\":\"\"},\"zerolinecolor\":\"#E1E5ED\"},\"xaxis14\":{\"anchor\":\"y14\",\"domain\":[0.2625,0.475],\"gridcolor\":\"#E1E5ED\",\"showgrid\":false,\"tickfont\":{\"color\":\"#4D5663\"},\"title\":{\"font\":{\"color\":\"#4D5663\"},\"text\":\"\"},\"zerolinecolor\":\"#E1E5ED\"},\"yaxis14\":{\"anchor\":\"x14\",\"domain\":[0.0,0.1975],\"gridcolor\":\"#E1E5ED\",\"showgrid\":false,\"tickfont\":{\"color\":\"#4D5663\"},\"title\":{\"font\":{\"color\":\"#4D5663\"},\"text\":\"\"},\"zerolinecolor\":\"#E1E5ED\"},\"xaxis15\":{\"anchor\":\"y15\",\"domain\":[0.525,0.7375],\"gridcolor\":\"#E1E5ED\",\"showgrid\":false,\"tickfont\":{\"color\":\"#4D5663\"},\"title\":{\"font\":{\"color\":\"#4D5663\"},\"text\":\"\"},\"zerolinecolor\":\"#E1E5ED\"},\"yaxis15\":{\"anchor\":\"x15\",\"domain\":[0.0,0.1975],\"gridcolor\":\"#E1E5ED\",\"showgrid\":false,\"tickfont\":{\"color\":\"#4D5663\"},\"title\":{\"font\":{\"color\":\"#4D5663\"},\"text\":\"\"},\"zerolinecolor\":\"#E1E5ED\"},\"xaxis16\":{\"anchor\":\"y16\",\"domain\":[0.7875,1.0],\"gridcolor\":\"#E1E5ED\",\"showgrid\":false,\"tickfont\":{\"color\":\"#4D5663\"},\"title\":{\"font\":{\"color\":\"#4D5663\"},\"text\":\"\"},\"zerolinecolor\":\"#E1E5ED\"},\"yaxis16\":{\"anchor\":\"x16\",\"domain\":[0.0,0.1975],\"gridcolor\":\"#E1E5ED\",\"showgrid\":false,\"tickfont\":{\"color\":\"#4D5663\"},\"title\":{\"font\":{\"color\":\"#4D5663\"},\"text\":\"\"},\"zerolinecolor\":\"#E1E5ED\"}},                        {\"showLink\": true, \"linkText\": \"Export to plot.ly\", \"plotlyServerURL\": \"https://plot.ly\", \"responsive\": true}                    ).then(function(){\n",
       "                            \n",
       "var gd = document.getElementById('bb6e0843-57bd-4e2f-bcd0-9b25fd465009');\n",
       "var x = new MutationObserver(function (mutations, observer) {{\n",
       "        var display = window.getComputedStyle(gd).display;\n",
       "        if (!display || display === 'none') {{\n",
       "            console.log([gd, 'removed!']);\n",
       "            Plotly.purge(gd);\n",
       "            observer.disconnect();\n",
       "        }}\n",
       "}});\n",
       "\n",
       "// Listen for the removal of the full notebook cells\n",
       "var notebookContainer = gd.closest('#notebook-container');\n",
       "if (notebookContainer) {{\n",
       "    x.observe(notebookContainer, {childList: true});\n",
       "}}\n",
       "\n",
       "// Listen for the clearing of the current output cell\n",
       "var outputEl = gd.closest('.output');\n",
       "if (outputEl) {{\n",
       "    x.observe(outputEl, {childList: true});\n",
       "}}\n",
       "\n",
       "                        })                };                });            </script>        </div>"
      ]
     },
     "metadata": {},
     "output_type": "display_data"
    }
   ],
   "source": [
    "df.scatter_matrix()"
   ]
  },
  {
   "cell_type": "markdown",
   "metadata": {
    "collapsed": true
   },
   "source": [
    "# Great Job!"
   ]
  }
 ],
 "metadata": {
  "kernelspec": {
   "display_name": "Python 3 (ipykernel)",
   "language": "python",
   "name": "python3"
  },
  "language_info": {
   "codemirror_mode": {
    "name": "ipython",
    "version": 3
   },
   "file_extension": ".py",
   "mimetype": "text/x-python",
   "name": "python",
   "nbconvert_exporter": "python",
   "pygments_lexer": "ipython3",
   "version": "3.9.13"
  }
 },
 "nbformat": 4,
 "nbformat_minor": 1
}
